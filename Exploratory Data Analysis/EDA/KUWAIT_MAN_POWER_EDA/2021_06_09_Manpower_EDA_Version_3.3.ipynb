{
 "cells": [
  {
   "cell_type": "markdown",
   "id": "95131fae",
   "metadata": {},
   "source": [
    "# \"Manpower EDA Version: 3.3\"\n",
    "> \"50 New Insights and Analysis based on Manpower Data Version: 2.0\"\n",
    "\n",
    "- toc: true\n",
    "- comments: false\n",
    "- categories: [Kuwait, Man-power, Analysis]\n",
    "- image: /images/MACHINE%20THINKING.png\n",
    "- hide: false\n",
    "- search_exclude: true\n",
    "- metadata_key1: version-3.3"
   ]
  },
  {
   "cell_type": "code",
   "execution_count": null,
   "id": "c66d003c",
   "metadata": {
    "colab": {
     "base_uri": "https://localhost:8080/"
    },
    "id": "d526315f",
    "jupyter": {
     "source_hidden": true
    },
    "outputId": "3abf3698-52c1-4a6a-ff0e-90e97fad7ba2"
   },
   "outputs": [],
   "source": [
    "#hide_input\n",
    "!pip install pyreadstat\n",
    "!pip install --upgrade plotly"
   ]
  },
  {
   "cell_type": "code",
   "execution_count": null,
   "id": "68bf16ed",
   "metadata": {
    "id": "4237e72f",
    "jupyter": {
     "source_hidden": true
    }
   },
   "outputs": [],
   "source": [
    "#hide_input\n",
    "\n",
    "import operator\n",
    "import pandas as pd\n",
    "import numpy as np\n",
    "from datetime import datetime, date\n",
    "from pandas_profiling import ProfileReport\n",
    "\n",
    "import warnings\n",
    "warnings.filterwarnings('ignore')\n",
    "\n",
    "import matplotlib.pyplot as plt\n",
    "import seaborn as sns\n",
    "import plotly.express as px\n",
    "import plotly.graph_objects as go\n",
    "from plotly.subplots import make_subplots\n",
    "%matplotlib inline"
   ]
  },
  {
   "cell_type": "code",
   "execution_count": null,
   "id": "15cf6506",
   "metadata": {
    "id": "d2a9247b",
    "jupyter": {
     "source_hidden": true
    }
   },
   "outputs": [],
   "source": [
    "#hide_input\n",
    "\n",
    "#Replacing df with data read from pickle file\n",
    "#Start all other version from this cell, \n",
    "\n",
    "data = pd.read_pickle(\"DataManPowerV2.pkl\")\n",
    "\n",
    "data.columns"
   ]
  },
  {
   "cell_type": "code",
   "execution_count": null,
   "id": "08df4f93",
   "metadata": {},
   "outputs": [],
   "source": [
    "#hide_input\n",
    "\n",
    "print(\"Total Unique Nationalities : \",len(data['Nationality'].unique()))"
   ]
  },
  {
   "cell_type": "code",
   "execution_count": null,
   "id": "da48fcb4",
   "metadata": {},
   "outputs": [],
   "source": [
    "#hide_input\n",
    "\n",
    "print(\"Total Unique Occupation : \",len(data['Occupation'].unique()))"
   ]
  },
  {
   "cell_type": "code",
   "execution_count": null,
   "id": "0e643043",
   "metadata": {},
   "outputs": [],
   "source": [
    "#hide_input\n",
    "\n",
    "print(\"Total Unique Companies : \",len(data['Company'].unique()))"
   ]
  },
  {
   "cell_type": "code",
   "execution_count": null,
   "id": "5686920a",
   "metadata": {},
   "outputs": [],
   "source": [
    "#hide_input\n",
    "\n",
    "data.dtypes"
   ]
  },
  {
   "cell_type": "markdown",
   "id": "9544c797",
   "metadata": {
    "id": "d5d10eed"
   },
   "source": [
    "## Insight 1 - Top 20 Kuwaiti Workforce Nationalities"
   ]
  },
  {
   "cell_type": "code",
   "execution_count": null,
   "id": "9454bb0f",
   "metadata": {
    "jupyter": {
     "source_hidden": true
    }
   },
   "outputs": [],
   "source": [
    "#hide_input\n",
    "\n",
    "a = dict(data['Nationality'].value_counts())\n",
    "insight1 = pd.DataFrame()\n",
    "a = dict(sorted(a.items(), key=operator.itemgetter(1), reverse=True)[:20])\n",
    "insight1['Nationality'] = a.keys()\n",
    "insight1['Total Count'] = a.values()\n",
    "insight1['Percentage'] = ((insight1['Total Count'] / 1574040)*100).round(2)\n",
    "insight1 = insight1.sort_values(\"Nationality\")\n",
    "insight1['Percentage'] = insight1['Percentage'].astype(str) + '%'\n",
    "insight1.style.background_gradient(cmap='Reds')"
   ]
  },
  {
   "cell_type": "code",
   "execution_count": null,
   "id": "2d0677a0",
   "metadata": {
    "jupyter": {
     "source_hidden": true
    }
   },
   "outputs": [],
   "source": [
    "#hide_input\n",
    "\n",
    "fig = px.treemap(insight1, path=['Nationality','Percentage'], values='Total Count',\n",
    "                 title=\"Top 20 Kuwaiti Workforce Nationalities\")\n",
    "fig.show()"
   ]
  },
  {
   "cell_type": "markdown",
   "id": "7670969c",
   "metadata": {},
   "source": [
    "# Insight 2 : Workforce by Category"
   ]
  },
  {
   "cell_type": "code",
   "execution_count": null,
   "id": "be3dafa9",
   "metadata": {},
   "outputs": [],
   "source": [
    "#hide_input\n",
    "\n",
    "insight2 = pd.DataFrame()\n",
    "b = dict(data.groupby(\"Category\")['Category'].count())\n",
    "insight2['Category'] = b.keys()\n",
    "insight2['Total Count'] = b.values()\n",
    "insight2['Percentage'] = ((insight2['Total Count'] / 1574040)*100).round(2) \n",
    "insight2['Percentage'] = insight2['Percentage'].astype(str) + '%'\n",
    "insight2.style.background_gradient(cmap='Reds')"
   ]
  },
  {
   "cell_type": "code",
   "execution_count": null,
   "id": "bcd38dd2",
   "metadata": {},
   "outputs": [],
   "source": [
    "#hide_input\n",
    "\n",
    "fig = px.bar(insight2, x=\"Category\", y=\"Total Count\", title =\"Workforce by Category\", color = \"Category\", text = \"Percentage\")\n",
    "fig.update_traces(textposition='outside')\n",
    "fig.show()"
   ]
  },
  {
   "cell_type": "markdown",
   "id": "40302c59",
   "metadata": {},
   "source": [
    "# Insight 3 : Top 20 Workforce Occupation"
   ]
  },
  {
   "cell_type": "code",
   "execution_count": null,
   "id": "6b25a4f7",
   "metadata": {},
   "outputs": [],
   "source": [
    "#hide_input\n",
    "\n",
    "insight3 = pd.DataFrame()\n",
    "c = dict(data.groupby(\"Occupation\")['Occupation'].count())\n",
    "insight3['Occupation'] = c.keys()\n",
    "insight3['Total Count'] = c.values()\n",
    "insight3['Percentage'] = ((insight3['Total Count'] / 1574040)*100).round(2) \n",
    "insight3['Percentage'] = insight3['Percentage'].astype(str) + '%'\n",
    "insight3 = insight3.nlargest(20,'Total Count')\n",
    "insight3 = insight3.sort_values(\"Occupation\")\n",
    "insight3 = insight3.set_index(\"Occupation\")\n",
    "insight3.style.background_gradient(cmap='Reds')"
   ]
  },
  {
   "cell_type": "code",
   "execution_count": null,
   "id": "9306cdbd",
   "metadata": {},
   "outputs": [],
   "source": [
    "#hide_input\n",
    "\n",
    "fig = px.bar(insight3, x=insight3.index, y=\"Total Count\",title =\"Top 20 Workforce Occupation\",color = insight3.index,\n",
    "             text = \"Percentage\")\n",
    "fig.update_traces(textposition='outside')\n",
    "fig.show()"
   ]
  },
  {
   "cell_type": "markdown",
   "id": "02be2a88",
   "metadata": {},
   "source": [
    "# Insight 4 : Workforce Occupation by Category\n",
    "\n",
    "KUWAITI VS NON-KUWAITI"
   ]
  },
  {
   "cell_type": "code",
   "execution_count": null,
   "id": "e2984ad7",
   "metadata": {},
   "outputs": [],
   "source": [
    "#hide_input\n",
    "\n",
    "data['COUNTER'] = 1\n",
    "insight4 = data.groupby(['Occupation','Category'])['COUNTER'].agg(['count'])\n",
    "insight4['Percentage'] = ((insight4['count'] / 1574040)*100).round(2) \n",
    "insight4['Percentage'] = insight4['Percentage'].astype(str) + '%'\n",
    "insight4 = insight4.sort_values('Occupation')\n",
    "insight4.style.background_gradient(cmap='Reds')"
   ]
  },
  {
   "cell_type": "code",
   "execution_count": null,
   "id": "90b222ca",
   "metadata": {},
   "outputs": [],
   "source": [
    "#hide_input\n",
    "\n",
    "insight4 = insight4.reset_index(\"Category\")\n",
    "kuwait_df = insight4[insight4['Category'] == 'Kuwaiti']\n",
    "kuwait_df = kuwait_df.nlargest(10,'count')\n",
    "kuwait_df.style.background_gradient(cmap='Reds')"
   ]
  },
  {
   "cell_type": "code",
   "execution_count": null,
   "id": "969a346c",
   "metadata": {},
   "outputs": [],
   "source": [
    "#hide_input\n",
    "\n",
    "fig = px.bar(kuwait_df,x=kuwait_df.index, y=\"count\", hover_data = kuwait_df.columns,color=kuwait_df.index,text=\"Percentage\",\n",
    "             title = \"Kuwaitis Top 10 Occupation\")\n",
    "fig.show()"
   ]
  },
  {
   "cell_type": "code",
   "execution_count": null,
   "id": "4b39567b",
   "metadata": {},
   "outputs": [],
   "source": [
    "#hide_input\n",
    "\n",
    "non_kuwait_df = insight4[insight4['Category'] == 'Non-Kuwaiti']\n",
    "non_kuwait_df = non_kuwait_df.nlargest(10,'count')\n",
    "non_kuwait_df.style.background_gradient(cmap='Reds')"
   ]
  },
  {
   "cell_type": "code",
   "execution_count": null,
   "id": "b264fa1f",
   "metadata": {},
   "outputs": [],
   "source": [
    "#hide_input\n",
    "\n",
    "fig = px.bar(kuwait_df,x=non_kuwait_df.index, y=\"count\", hover_data = non_kuwait_df.columns,color=non_kuwait_df.index,\n",
    "             title = \"Non-Kuwaitis Top 10 Occupation\",text=\"Percentage\")\n",
    "fig.show()"
   ]
  },
  {
   "cell_type": "markdown",
   "id": "87f372d5",
   "metadata": {},
   "source": [
    "## Insight 5 - Top 20 Occupations by Nationality"
   ]
  },
  {
   "cell_type": "code",
   "execution_count": null,
   "id": "af8c55e1",
   "metadata": {
    "jupyter": {
     "source_hidden": true
    }
   },
   "outputs": [],
   "source": [
    "#hide_input\n",
    "\n",
    "data['COUNTER'] = 1 #initially, set that counter to 1.\n",
    "insight5 = data.groupby(['Occupation','Nationality'])['COUNTER'].agg(['count'])\n",
    "insight5['Percentage'] = ((insight5['count'] / 1574040)*100).round(2)\n",
    "insight5['Percentage'] = insight5['Percentage'].astype(str) + '%'\n",
    "insight5 = insight5.nlargest(20,'count')\n",
    "insight5.style.background_gradient(cmap='Reds')"
   ]
  },
  {
   "cell_type": "code",
   "execution_count": null,
   "id": "4816526e",
   "metadata": {
    "jupyter": {
     "source_hidden": true
    }
   },
   "outputs": [],
   "source": [
    "#hide_input\n",
    "\n",
    "insight5 = insight5.sort_values(by=['Percentage', 'Occupation', 'Nationality'])\n",
    "insight5 = insight5.reset_index()"
   ]
  },
  {
   "cell_type": "code",
   "execution_count": null,
   "id": "ed255ac1",
   "metadata": {
    "jupyter": {
     "source_hidden": true
    }
   },
   "outputs": [],
   "source": [
    "#hide_input\n",
    "\n",
    "fig = px.bar(insight5, text=\"Percentage\",x=\"Occupation\", y=\"count\", color='Nationality',\n",
    "             title = \"Top 20 Occupations by Nationality\")\n",
    "fig.show()"
   ]
  },
  {
   "cell_type": "markdown",
   "id": "c32d3dea",
   "metadata": {},
   "source": [
    "# Insight 6 : Top 20 Age Group by Occupation"
   ]
  },
  {
   "cell_type": "code",
   "execution_count": null,
   "id": "8592abe8",
   "metadata": {},
   "outputs": [],
   "source": [
    "#hide_input\n",
    "\n",
    "data['COUNTER'] = 1\n",
    "insight6 = data.groupby(['Occupation','Age Group'])['COUNTER'].agg(['count'])\n",
    "insight6['Percentage'] = ((insight6['count'] / 1574040)*100).round(2) \n",
    "insight6['Percentage'] = insight6['Percentage'].astype(str) + '%'\n",
    "insight6 = insight6.reset_index(\"Occupation\")\n",
    "insight6 = insight6.sort_values('Occupation')\n",
    "insight6 = insight6.nlargest(20,'count')\n",
    "insight6"
   ]
  },
  {
   "cell_type": "code",
   "execution_count": null,
   "id": "c78bc854",
   "metadata": {},
   "outputs": [],
   "source": [
    "#hide_input\n",
    "\n",
    "fig = px.bar(insight6, text=\"Percentage\", x=\"Occupation\", y=\"count\", color=insight6.index, barmode='group',\n",
    "             title = \"Top 20 Age Group by Occupation\")\n",
    "\n",
    "fig.show()"
   ]
  },
  {
   "cell_type": "markdown",
   "id": "6d461082",
   "metadata": {},
   "source": [
    "# Insight 7 : Top 20 Occupation by Educational Level"
   ]
  },
  {
   "cell_type": "code",
   "execution_count": null,
   "id": "569469d9",
   "metadata": {},
   "outputs": [],
   "source": [
    "#hide_input\n",
    "\n",
    "data['COUNTER'] = 1\n",
    "insight7 = data.groupby(['Occupation','Educational Level'])['COUNTER'].agg(['count'])\n",
    "insight7['Percentage'] = ((insight7['count'] / 1574040)*100).round(2) \n",
    "insight7['Percentage'] = insight7['Percentage'].astype(str) + '%'\n",
    "insight7 = insight7.reset_index(\"Educational Level\")\n",
    "insight7 = insight7.nlargest(20,'count')\n",
    "insight7"
   ]
  },
  {
   "cell_type": "code",
   "execution_count": null,
   "id": "291a66c9",
   "metadata": {},
   "outputs": [],
   "source": [
    "#hide_input\n",
    "\n",
    "fig = px.bar(insight7, x=\"Educational Level\", y=\"count\", color=insight7.index,barmode='group', text=\"Percentage\",\n",
    "             title = \"Top 20 Occupation by Educational Level\")\n",
    "fig.show()"
   ]
  },
  {
   "cell_type": "markdown",
   "id": "ec4176d6",
   "metadata": {},
   "source": [
    "# Insight 8: Work Force by Age Group"
   ]
  },
  {
   "cell_type": "code",
   "execution_count": null,
   "id": "12e24b0f",
   "metadata": {},
   "outputs": [],
   "source": [
    "#hide_input\n",
    "\n",
    "a = dict(data['Age Group'].value_counts())\n",
    "insight8 = pd.DataFrame()\n",
    "a = dict(sorted(a.items(), key=operator.itemgetter(1), reverse=True)[:20])\n",
    "insight8['Age Group'] = a.keys()\n",
    "insight8['Total Count'] = a.values()\n",
    "insight8['Percentage'] = ((insight8['Total Count'] / 1574040)*100).round(2) \n",
    "insight8['Percentage'] = insight8['Percentage'].astype(str) + '%'\n",
    "insight8 = insight8.sort_values(\"Age Group\")\n",
    "insight8.style.background_gradient(cmap='Reds')"
   ]
  },
  {
   "cell_type": "code",
   "execution_count": null,
   "id": "b9317b1a",
   "metadata": {},
   "outputs": [],
   "source": [
    "#hide_input\n",
    "\n",
    "fig = px.histogram(insight8, x=\"Age Group\", y= \"Total Count\",title =\"Work Froce by Age group\")\n",
    "fig.show()"
   ]
  },
  {
   "cell_type": "markdown",
   "id": "b2b30a94",
   "metadata": {},
   "source": [
    "# Insight 9 : Top 20 Age Group by Nationality"
   ]
  },
  {
   "cell_type": "code",
   "execution_count": null,
   "id": "0efaf4ac",
   "metadata": {},
   "outputs": [],
   "source": [
    "#hide_input\n",
    "\n",
    "data['COUNTER'] = 1\n",
    "insight9 = data.groupby(['Nationality','Age Group'])['COUNTER'].agg(['count'])\n",
    "insight9['Percentage'] = ((insight9['count'] / 1574040)*100).round(2) \n",
    "insight9['Percentage'] = insight9['Percentage'].astype(str) + '%'\n",
    "insight9 = insight9.reset_index([\"Nationality\"])\n",
    "insight9 = insight9.nlargest(20,'count')\n",
    "insight9"
   ]
  },
  {
   "cell_type": "code",
   "execution_count": null,
   "id": "6c3367a9",
   "metadata": {},
   "outputs": [],
   "source": [
    "\n",
    "#hide_input\n",
    "\n",
    "fig = px.bar(insight9,x=\"Nationality\", y=\"count\", color=insight9.index,barmode='group', text=\"Percentage\", \n",
    "             title = \"Top 20 Age Group by Nationality\")\n",
    "fig.show()"
   ]
  },
  {
   "cell_type": "markdown",
   "id": "65db54cb",
   "metadata": {},
   "source": [
    "# Insight 10 : Top 20 Age Group by Educational Level"
   ]
  },
  {
   "cell_type": "code",
   "execution_count": null,
   "id": "6673980d",
   "metadata": {},
   "outputs": [],
   "source": [
    "#hide_input\n",
    "\n",
    "data['COUNTER'] = 1\n",
    "insight10 = data.groupby(['Educational Level','Age Group'])['COUNTER'].agg(['count'])\n",
    "insight10['Percentage'] = ((insight10['count'] / 1574040)*100).round(2) \n",
    "insight10['Percentage'] = insight10['Percentage'].astype(str) + '%'\n",
    "insight10 = insight10.reset_index([\"Educational Level\"])\n",
    "insight10 = insight10.nlargest(20,'count')\n",
    "insight10"
   ]
  },
  {
   "cell_type": "code",
   "execution_count": null,
   "id": "b77a433a",
   "metadata": {},
   "outputs": [],
   "source": [
    "#hide_input\n",
    "\n",
    "fig = px.bar(insight10,x=\"Educational Level\", y=\"count\", color=insight10.index,barmode='group', text = \"Percentage\",\n",
    "             title = \"Top 20 Age Group by Educational Level\")\n",
    "fig.show()"
   ]
  },
  {
   "cell_type": "markdown",
   "id": "6353d758",
   "metadata": {},
   "source": [
    "# Insight 11 : Top 20 Age Group by Marital Status"
   ]
  },
  {
   "cell_type": "code",
   "execution_count": null,
   "id": "ebcf5869",
   "metadata": {},
   "outputs": [],
   "source": [
    "#hide_input\n",
    "\n",
    "data['COUNTER'] = 1\n",
    "insight11 = data.groupby(['Marital Status','Age Group'])['COUNTER'].agg(['count'])\n",
    "insight11['Percentage'] = ((insight11['count'] / 1574040)*100).round(2) \n",
    "insight11['Percentage'] = insight11['Percentage'].astype(str) + '%'\n",
    "insight11 = insight11.reset_index([\"Marital Status\"])\n",
    "insight11 = insight11.nlargest(20,'count')\n",
    "insight11"
   ]
  },
  {
   "cell_type": "code",
   "execution_count": null,
   "id": "7da6d55e",
   "metadata": {},
   "outputs": [],
   "source": [
    "#hide_input\n",
    "\n",
    "fig = px.bar(insight11,x=\"Marital Status\", y=\"count\", color=insight11.index,barmode='group', text = \"Percentage\",\n",
    "             title = \"Top 20 Age Group by Marital Status\")\n",
    "fig.show()"
   ]
  },
  {
   "cell_type": "markdown",
   "id": "3730210c",
   "metadata": {},
   "source": [
    "# Insight 12 : Top 20 Age Group by Companies"
   ]
  },
  {
   "cell_type": "code",
   "execution_count": null,
   "id": "fc6febc8",
   "metadata": {},
   "outputs": [],
   "source": [
    "#hide_input\n",
    "\n",
    "data['COUNTER'] = 1\n",
    "insight12 = data.groupby(['Company','Age Group'])['COUNTER'].agg(['count'])\n",
    "insight12['Percentage'] = ((insight12['count'] / 1574040)*100).round(2) \n",
    "insight12['Percentage'] = insight12['Percentage'].astype(str) + '%'\n",
    "insight12 = insight12.reset_index([\"Company\"])\n",
    "insight12 = insight12.nlargest(20,'count')\n",
    "insight12"
   ]
  },
  {
   "cell_type": "code",
   "execution_count": null,
   "id": "5214f392",
   "metadata": {},
   "outputs": [],
   "source": [
    "#hide_input\n",
    "\n",
    "fig = px.bar(insight12,x=\"Company\", y=\"count\", color=insight12.index,barmode='group',text=\"Percentage\",\n",
    "             title = \"Top 20 Age Group by Company\")\n",
    "fig.show()"
   ]
  },
  {
   "cell_type": "markdown",
   "id": "b8f4fbf8",
   "metadata": {},
   "source": [
    "# Insight 13 : Top 20 Nationalities by Educational Level"
   ]
  },
  {
   "cell_type": "code",
   "execution_count": null,
   "id": "7c3c487d",
   "metadata": {},
   "outputs": [],
   "source": [
    "#hide_input\n",
    "\n",
    "data['COUNTER'] = 1\n",
    "insight13 = data.groupby(['Nationality','Educational Level'])['COUNTER'].agg(['count'])\n",
    "insight13['Percentage'] = ((insight13['count'] / 1574040)*100).round(2) \n",
    "insight13['Percentage'] = insight13['Percentage'].astype(str) + '%'\n",
    "insight13 = insight13.reset_index(\"Educational Level\")\n",
    "insight13 = insight13.nlargest(20,'count')\n",
    "insight13"
   ]
  },
  {
   "cell_type": "code",
   "execution_count": null,
   "id": "240f5216",
   "metadata": {},
   "outputs": [],
   "source": [
    "#hide_input\n",
    "\n",
    "fig = px.bar(insight13,x=\"Educational Level\", y=\"count\", color=insight13.index,barmode='group', text=\"Percentage\",\n",
    "             title = \"Top 20 Nationalities by Educational Level\")\n",
    "fig.show()"
   ]
  },
  {
   "cell_type": "markdown",
   "id": "c9655627",
   "metadata": {},
   "source": [
    "# Insight 14 : Top 10 Nationalities by Companies"
   ]
  },
  {
   "cell_type": "code",
   "execution_count": null,
   "id": "4800e4cc",
   "metadata": {},
   "outputs": [],
   "source": [
    "#hide_input\n",
    "\n",
    "data['COUNTER'] = 1\n",
    "insight14 = data.groupby(['Nationality','Company'])['COUNTER'].agg(['count'])\n",
    "insight14['Percentage'] = ((insight14['count'] / 1574040)*100).round(2) \n",
    "insight14['Percentage'] = insight14['Percentage'].astype(str) + '%'\n",
    "insight14 = insight14.reset_index(\"Company\")\n",
    "insight14 = insight14.nlargest(10,'count')\n",
    "insight14"
   ]
  },
  {
   "cell_type": "code",
   "execution_count": null,
   "id": "b425b239",
   "metadata": {},
   "outputs": [],
   "source": [
    "#hide_input\n",
    "\n",
    "fig = px.bar(insight14,x=insight14.index, y=\"count\", color=\"Company\",barmode='group',text = \"Percentage\",\n",
    "             title = \"Top 10 Nationalities by Educational Level\")\n",
    "fig.show()"
   ]
  },
  {
   "cell_type": "markdown",
   "id": "5b0bcc7a",
   "metadata": {},
   "source": [
    "# Insight 15: Top 10 Workforce Companies"
   ]
  },
  {
   "cell_type": "code",
   "execution_count": null,
   "id": "6a066aaf",
   "metadata": {},
   "outputs": [],
   "source": [
    "#hide_input\n",
    "\n",
    "a = dict(data['Company'].value_counts())\n",
    "insight15 = pd.DataFrame()\n",
    "a = dict(sorted(a.items(), key=operator.itemgetter(1), reverse=True)[:10])\n",
    "insight15['Company'] = a.keys()\n",
    "insight15['Total Count'] = a.values()\n",
    "insight15['Percentage'] = ((insight15['Total Count'] / 1574040)*100).round(2) \n",
    "insight15['Percentage'] = insight15['Percentage'].astype(str) + '%'\n",
    "insight15 = insight15.sort_values(\"Company\")\n",
    "insight15 = insight15.set_index(\"Company\")\n",
    "insight15.style.background_gradient(cmap='Reds')"
   ]
  },
  {
   "cell_type": "code",
   "execution_count": null,
   "id": "bf60d4f7",
   "metadata": {},
   "outputs": [],
   "source": [
    "#hide_input\n",
    "\n",
    "fig = px.bar(insight15, text=\"Percentage\",x=insight15.index, y=\"Total Count\",title = \"Top 10 Workforce Companies\")\n",
    "fig.show()"
   ]
  },
  {
   "cell_type": "markdown",
   "id": "9ca9748b",
   "metadata": {
    "id": "3fbc7f7e"
   },
   "source": [
    "## Insight 16 - Top 20 Age Group by Occupation and Nationality"
   ]
  },
  {
   "cell_type": "code",
   "execution_count": null,
   "id": "84a03ce8",
   "metadata": {},
   "outputs": [],
   "source": [
    "#hide_input\n",
    "\n",
    "insight16 = data.groupby(['Occupation', 'Nationality', 'Age Group']).size().unstack(level=2, fill_value=0)"
   ]
  },
  {
   "cell_type": "code",
   "execution_count": null,
   "id": "9422924a",
   "metadata": {},
   "outputs": [],
   "source": [
    "#hide_input\n",
    "\n",
    "insight16 = (insight16.stack().reset_index(name='Total Count').rename(columns={'level_2': 'Age Group'}))"
   ]
  },
  {
   "cell_type": "code",
   "execution_count": null,
   "id": "8804dfba",
   "metadata": {},
   "outputs": [],
   "source": [
    "#hide_input\n",
    "\n",
    "pd.crosstab([insight16['Occupation'], insight16['Total Count']],[insight16['Age Group']],margins=True)"
   ]
  },
  {
   "cell_type": "code",
   "execution_count": null,
   "id": "9ebd95c4",
   "metadata": {},
   "outputs": [],
   "source": [
    "#hide_input\n",
    "\n",
    "insight16['Percentage'] = ((insight16['Total Count'] / 1574040)*100).round(2)\n",
    "insight16['Percentage'] = insight16['Percentage'].astype(str) + '%'"
   ]
  },
  {
   "cell_type": "code",
   "execution_count": null,
   "id": "e9f82b71",
   "metadata": {},
   "outputs": [],
   "source": [
    "#hide_input\n",
    "\n",
    "insight16 = insight16.nlargest(20,'Total Count')\n",
    "\n",
    "insight16.set_index(\"Age Group\")"
   ]
  },
  {
   "cell_type": "code",
   "execution_count": null,
   "id": "c821cbfe",
   "metadata": {},
   "outputs": [],
   "source": [
    "#hide_input\n",
    "\n",
    "fig = px.bar(insight16,x=\"Occupation\", y=\"Total Count\", color='Nationality',barmode='group',text=\"Percentage\",\n",
    "            hover_data = ['Age Group','Nationality','Occupation','Total Count','Percentage'], \n",
    "            title = \"Top 20 Age Group by Occupation and Nationality\")\n",
    "\n",
    "fig.show()"
   ]
  },
  {
   "cell_type": "markdown",
   "id": "5a2db01f",
   "metadata": {
    "id": "a66e6da1"
   },
   "source": [
    "## Insight  17 - Top 20 Age Groups by Educational Level & Nationalities"
   ]
  },
  {
   "cell_type": "code",
   "execution_count": null,
   "id": "5d6d2754",
   "metadata": {},
   "outputs": [],
   "source": [
    "#hide_input\n",
    "\n",
    "insight17 = data.groupby(['Educational Level', 'Nationality', 'Age Group']).size().unstack(level=2, fill_value=0)"
   ]
  },
  {
   "cell_type": "code",
   "execution_count": null,
   "id": "fdde1153",
   "metadata": {},
   "outputs": [],
   "source": [
    "\n",
    "#hide_input\n",
    "\n",
    "insight17 = (insight17.stack().reset_index(name='Total Count').rename(columns={'level_2': 'Age Group'}))"
   ]
  },
  {
   "cell_type": "code",
   "execution_count": null,
   "id": "e7f7232b",
   "metadata": {},
   "outputs": [],
   "source": [
    "#hide_input\n",
    "\n",
    "pd.crosstab([insight17['Educational Level'], insight17['Total Count']],[insight17['Age Group']],margins=True)"
   ]
  },
  {
   "cell_type": "code",
   "execution_count": null,
   "id": "f0333593",
   "metadata": {},
   "outputs": [],
   "source": [
    "#hide_input\n",
    "\n",
    "pd.crosstab([insight17['Nationality'], insight17['Total Count']],[insight17['Age Group']],margins=True)"
   ]
  },
  {
   "cell_type": "code",
   "execution_count": null,
   "id": "8b095864",
   "metadata": {},
   "outputs": [],
   "source": [
    "#hide_input\n",
    "\n",
    "insight17['Percentage'] = ((insight17['Total Count'] / 1574040)*100).round(2)\n",
    "insight17['Percentage'] = insight17['Percentage'].astype(str) + '%'\n",
    "insight17 = insight17.nlargest(20,'Total Count')\n",
    "insight17.set_index(\"Age Group\")"
   ]
  },
  {
   "cell_type": "code",
   "execution_count": null,
   "id": "144ad59f",
   "metadata": {},
   "outputs": [],
   "source": [
    "#hide_input\n",
    "\n",
    "fig = px.bar(insight17,x=\"Educational Level\", y=\"Total Count\", color='Nationality',barmode='group',text=\"Percentage\",\n",
    "hover_data = ['Age Group','Nationality','Educational Level','Total Count','Percentage'], \n",
    "             title = \"Top 20 Age Group by Educational Level and Nationality\")\n",
    "fig.show()"
   ]
  },
  {
   "cell_type": "markdown",
   "id": "404fd77c",
   "metadata": {
    "id": "cdce4e18"
   },
   "source": [
    "## Insight 18 - Top 20 Age Gruops by Marital Status & Nationality"
   ]
  },
  {
   "cell_type": "code",
   "execution_count": null,
   "id": "7de2dc16",
   "metadata": {},
   "outputs": [],
   "source": [
    "#hide_input\n",
    "\n",
    "insight18 = data.groupby(['Marital Status', 'Nationality', 'Age Group']).size().unstack(level=2, fill_value=0)"
   ]
  },
  {
   "cell_type": "code",
   "execution_count": null,
   "id": "fbb1c62a",
   "metadata": {},
   "outputs": [],
   "source": [
    "#hide_input\n",
    "\n",
    "insight18 = (insight18.stack().reset_index(name='Total Count'))"
   ]
  },
  {
   "cell_type": "code",
   "execution_count": null,
   "id": "56935d1c",
   "metadata": {},
   "outputs": [],
   "source": [
    "#hide_input\n",
    "\n",
    "pd.crosstab([insight18['Marital Status'], insight18['Total Count']],[insight18['Age Group']],margins=True)"
   ]
  },
  {
   "cell_type": "code",
   "execution_count": null,
   "id": "2934e644",
   "metadata": {},
   "outputs": [],
   "source": [
    "#hide_input\n",
    "\n",
    "pd.crosstab([insight18['Nationality'], insight18['Total Count']],[insight18['Age Group']],margins=True)"
   ]
  },
  {
   "cell_type": "code",
   "execution_count": null,
   "id": "4b60019f",
   "metadata": {},
   "outputs": [],
   "source": [
    "#hide_input\n",
    "\n",
    "insight18['Percentage'] = ((insight18['Total Count'] / 1574040)*100).round(2)\n",
    "insight18['Percentage'] = insight18['Percentage'].astype(str) + '%'\n",
    "insight18 = insight18.nlargest(20,'Total Count')\n",
    "insight18.set_index(\"Age Group\")"
   ]
  },
  {
   "cell_type": "code",
   "execution_count": null,
   "id": "16b37c6f",
   "metadata": {},
   "outputs": [],
   "source": [
    "#hide_input\n",
    "\n",
    "fig = px.bar(insight18,x=\"Marital Status\", y=\"Total Count\", color='Nationality',barmode='group', text=\"Percentage\",\n",
    "            hover_data = ['Age Group','Nationality','Marital Status','Total Count','Percentage'], \n",
    "            title = \"Top 20 Age Group by Marital Status and Nationality\")\n",
    "fig.show()"
   ]
  },
  {
   "cell_type": "markdown",
   "id": "c362ad93",
   "metadata": {
    "id": "31cf1565"
   },
   "source": [
    "### Insight 19 - Occupations by Nationality, Educational Level\n",
    "\n",
    "#### Kuwaiti Vs Non-Kuwaiti"
   ]
  },
  {
   "cell_type": "code",
   "execution_count": null,
   "id": "b96a83b9",
   "metadata": {},
   "outputs": [],
   "source": [
    "#hide_input\n",
    "\n",
    "insight19 = data.groupby(['Occupation', 'Nationality', 'Educational Level','Category']).size().unstack(level=3, fill_value=0)"
   ]
  },
  {
   "cell_type": "code",
   "execution_count": null,
   "id": "5222e18d",
   "metadata": {},
   "outputs": [],
   "source": [
    "#hide_input\n",
    "\n",
    "insight19 = (insight19.stack().reset_index(name='Total Count'))"
   ]
  },
  {
   "cell_type": "code",
   "execution_count": null,
   "id": "1e2f3f17",
   "metadata": {},
   "outputs": [],
   "source": [
    "#hide_input\n",
    "\n",
    "pd.crosstab([insight19['Occupation'], insight19['Total Count']],[insight19['Educational Level']],margins=True)"
   ]
  },
  {
   "cell_type": "code",
   "execution_count": null,
   "id": "95d2086e",
   "metadata": {},
   "outputs": [],
   "source": [
    "#hide_input\n",
    "\n",
    "pd.crosstab([insight19['Nationality'], insight19['Total Count']],[insight19['Educational Level']],margins=True)"
   ]
  },
  {
   "cell_type": "code",
   "execution_count": null,
   "id": "887f3e6f",
   "metadata": {},
   "outputs": [],
   "source": [
    "#hide_input\n",
    "\n",
    "kuwait_df = insight19[insight19['Category'] == 'Kuwaiti'] \n",
    "pd.crosstab([kuwait_df['Occupation'], kuwait_df['Total Count']],[kuwait_df['Educational Level']],margins=True)"
   ]
  },
  {
   "cell_type": "code",
   "execution_count": null,
   "id": "9c76f27d",
   "metadata": {},
   "outputs": [],
   "source": [
    "#hide_input\n",
    "\n",
    "non_kuwait_df = insight19[insight19['Category'] == 'Non-Kuwaiti'] \n",
    "pd.crosstab([non_kuwait_df['Occupation'], non_kuwait_df['Total Count']],[non_kuwait_df['Educational Level']],margins=True)"
   ]
  },
  {
   "cell_type": "code",
   "execution_count": null,
   "id": "9b484fda",
   "metadata": {},
   "outputs": [],
   "source": [
    "#hide_input\n",
    "\n",
    "kuwait_df['Percentage'] = ((kuwait_df['Total Count'] / 1574040)*100).round(2)\n",
    "kuwait_df['Percentage'] = kuwait_df['Percentage'].astype(str) + '%'\n",
    "kuwait_df = kuwait_df.nlargest(20,'Total Count')\n",
    "kuwait_df.set_index(\"Nationality\")"
   ]
  },
  {
   "cell_type": "code",
   "execution_count": null,
   "id": "9329f172",
   "metadata": {},
   "outputs": [],
   "source": [
    "#hide_input\n",
    "\n",
    "fig = px.bar(kuwait_df,x=\"Educational Level\", y=\"Total Count\", hover_data = kuwait_df.columns,color=\"Occupation\",\n",
    "             barmode='group',text=\"Percentage\",title = \"Kuwaitis Top 20 Occupation by Educational Level\")\n",
    "fig.show()"
   ]
  },
  {
   "cell_type": "code",
   "execution_count": null,
   "id": "f5374b9d",
   "metadata": {},
   "outputs": [],
   "source": [
    "#hide_input\n",
    "\n",
    "non_kuwait_df['Percentage'] = ((non_kuwait_df['Total Count'] / 1574040)*100).round(2)\n",
    "non_kuwait_df['Percentage'] = non_kuwait_df['Percentage'].astype(str) + '%'\n",
    "non_kuwait_df = non_kuwait_df.nlargest(20,'Total Count')\n",
    "non_kuwait_df.set_index(\"Nationality\")"
   ]
  },
  {
   "cell_type": "code",
   "execution_count": null,
   "id": "747cfec1",
   "metadata": {},
   "outputs": [],
   "source": [
    "#hide_input\n",
    "\n",
    "fig = px.bar(non_kuwait_df,x=\"Educational Level\", y=\"Total Count\", hover_data = kuwait_df.columns,color=\"Occupation\",\n",
    "            text = \"Percentage\",barmode='group',title = \"Non-Kuwaitis Top 20 Occupation by Educational Level and Nationalities\")\n",
    "fig.show()"
   ]
  },
  {
   "cell_type": "markdown",
   "id": "49f3ddbe",
   "metadata": {
    "id": "ba50c4c8"
   },
   "source": [
    "### Insight 20 - Occupations by all other Nationalities, Age Group\n",
    "\n",
    "#### Compared to Kuwaiti having same Occupation"
   ]
  },
  {
   "cell_type": "code",
   "execution_count": null,
   "id": "a50e2a18",
   "metadata": {},
   "outputs": [],
   "source": [
    "#hide_input\n",
    "\n",
    "insight20 = data.groupby(['Occupation', 'Category','Age Group']).size().unstack(level=2, fill_value=0)"
   ]
  },
  {
   "cell_type": "code",
   "execution_count": null,
   "id": "39800743",
   "metadata": {},
   "outputs": [],
   "source": [
    "#hide_input\n",
    "\n",
    "insight20  = (insight20.stack().reset_index(name='Total Count'))"
   ]
  },
  {
   "cell_type": "code",
   "execution_count": null,
   "id": "a83582ec",
   "metadata": {},
   "outputs": [],
   "source": [
    "#hide_input\n",
    "\n",
    "pd.crosstab([insight20['Occupation'], insight20['Total Count']],[insight20['Age Group']],margins=True)"
   ]
  },
  {
   "cell_type": "code",
   "execution_count": null,
   "id": "777f6190",
   "metadata": {},
   "outputs": [],
   "source": [
    "#hide_input\n",
    "\n",
    "kuwait_df = insight20[insight20['Category'] == 'Kuwaiti'] \n",
    "#pd.crosstab([kuwait_df['Occupation'], kuwait_df['Total Count']],[kuwait_df['Age Group']],margins=True)"
   ]
  },
  {
   "cell_type": "code",
   "execution_count": null,
   "id": "0559e6b7",
   "metadata": {},
   "outputs": [],
   "source": [
    "#hide_input\n",
    "\n",
    "non_kuwait_df = insight20[insight20['Category'] == 'Non-Kuwaiti'] \n",
    "#pd.crosstab([non_kuwait_df['Occupation'], non_kuwait_df['Total Count']],[non_kuwait_df['Age Group']],margins=True)"
   ]
  },
  {
   "cell_type": "code",
   "execution_count": null,
   "id": "4718c303",
   "metadata": {},
   "outputs": [],
   "source": [
    "#hide_input\n",
    "\n",
    "kuwait_df['Percentage'] = ((kuwait_df['Total Count'] / 1574040)*100).round(2)\n",
    "kuwait_df['Percentage'] = kuwait_df['Percentage'].astype(str) + '%'\n",
    "kuwait = kuwait_df.nlargest(20,'Total Count')\n",
    "kuwait.set_index(\"Age Group\")"
   ]
  },
  {
   "cell_type": "code",
   "execution_count": null,
   "id": "8d76fcc0",
   "metadata": {},
   "outputs": [],
   "source": [
    "#hide_input\n",
    "\n",
    "fig = px.bar(kuwait,x=\"Occupation\", y=\"Total Count\", hover_data = kuwait.columns, text=\"Percentage\",color =\"Age Group\",\n",
    "             barmode='group',title = \"Top 20 Kuwaiti's Age Group by Occupation\")\n",
    "fig.show()"
   ]
  },
  {
   "cell_type": "code",
   "execution_count": null,
   "id": "ac89daa5",
   "metadata": {},
   "outputs": [],
   "source": [
    "#hide_input\n",
    "\n",
    "non_kuwait_df['Percentage'] = ((non_kuwait_df['Total Count'] / 1574040)*100).round(2)\n",
    "non_kuwait_df['Percentage'] = non_kuwait_df['Percentage'].astype(str) + '%'\n",
    "non_kuwait = non_kuwait_df.nlargest(20,'Total Count')\n",
    "non_kuwait.set_index(\"Age Group\")"
   ]
  },
  {
   "cell_type": "code",
   "execution_count": null,
   "id": "063f24aa",
   "metadata": {},
   "outputs": [],
   "source": [
    "#hide_input\n",
    "\n",
    "fig = px.bar(non_kuwait, x=\"Occupation\", y=\"Total Count\", hover_data = non_kuwait_df.columns,color =\"Age Group\", \n",
    "             text=\"Percentage\", barmode='group',title = \"Top 20 Non-Kuwaiti's Age Group by Occupation\")\n",
    "fig.show()"
   ]
  },
  {
   "cell_type": "markdown",
   "id": "754c194c",
   "metadata": {},
   "source": [
    "**Checking for Non-Kuwaitis Occupation that are same as Kuwaitis**"
   ]
  },
  {
   "cell_type": "code",
   "execution_count": null,
   "id": "3f8d6309",
   "metadata": {},
   "outputs": [],
   "source": [
    "#hide_input\n",
    "\n",
    "rslt = non_kuwait_df[non_kuwait_df['Occupation'].isin(kuwait_df['Occupation'])]\n",
    "rslt1 = rslt.nlargest(20,'Total Count')\n",
    "rslt1.set_index('Age Group')"
   ]
  },
  {
   "cell_type": "code",
   "execution_count": null,
   "id": "6633203d",
   "metadata": {},
   "outputs": [],
   "source": [
    "#hide_input\n",
    "\n",
    "fig = px.bar(rslt1, x=\"Occupation\", y=\"Total Count\",barmode='group',\n",
    "             title =\"Top 20 Age Groups by Occupations that are same as Kuwaitis\",color = \"Age Group\",text = \"Percentage\")\n",
    "fig.show()"
   ]
  },
  {
   "cell_type": "code",
   "execution_count": null,
   "id": "7e715d15",
   "metadata": {},
   "outputs": [],
   "source": [
    "#hide_input\n",
    "\n",
    "a = rslt['Occupation'].unique()\n",
    "print(\"\\n Number of Unique No-Kuwaitis Occupation that are same as Kuwaitis:  \",len(a))\n",
    "print(\"\\n\\n\\n 1000 Non - Kuwaitis Occupations that are same as Kuwaitis\\n\\n\")\n",
    "a[0:1000]"
   ]
  },
  {
   "cell_type": "markdown",
   "id": "758ebb4f",
   "metadata": {
    "id": "7d9d5b7e"
   },
   "source": [
    "### INSIGHT 21 - OCCUPATIONS BY ALL OTHER NATIONALITIES, EDUCATION LEVEL\n",
    "\n",
    "#### COMPARED TO KUWAITI NOT HAVING SAME OCCUPATION"
   ]
  },
  {
   "cell_type": "code",
   "execution_count": null,
   "id": "546e3a69",
   "metadata": {},
   "outputs": [],
   "source": [
    "#hide_input\n",
    "\n",
    "data['COUNTER'] = 1\n",
    "insight21 = data.groupby([\"Category\",\"Occupation\",\"Nationality\",\"Educational Level\"])['COUNTER'].agg(['count'])\n",
    "insight21['Percentage'] = ((insight21['count'] / 1574040)*100).round(2) \n",
    "insight21['Percentage'] = insight21['Percentage'].astype(str) + '%'\n",
    "insight21 = insight21.reset_index([\"Category\",\"Occupation\",\"Nationality\",\"Educational Level\"])"
   ]
  },
  {
   "cell_type": "code",
   "execution_count": null,
   "id": "28c90b37",
   "metadata": {},
   "outputs": [],
   "source": [
    "#hide_input\n",
    "\n",
    "kuwait_df = insight21[insight21['Category'] == \"Kuwaiti\"]"
   ]
  },
  {
   "cell_type": "code",
   "execution_count": null,
   "id": "ba6ec84e",
   "metadata": {},
   "outputs": [],
   "source": [
    "#hide_input\n",
    "\n",
    "non_kuwait_df = insight21[insight21['Category'] == \"Non-Kuwaiti\"]"
   ]
  },
  {
   "cell_type": "code",
   "execution_count": null,
   "id": "9f7b5faf",
   "metadata": {},
   "outputs": [],
   "source": [
    "#hide_input\n",
    "\n",
    "rslt = non_kuwait_df[~ non_kuwait_df['Occupation'].isin(kuwait_df['Occupation'])]"
   ]
  },
  {
   "cell_type": "code",
   "execution_count": null,
   "id": "38bb6f6b",
   "metadata": {},
   "outputs": [],
   "source": [
    "#hide_input\n",
    "\n",
    "pd.crosstab([rslt['Occupation'], rslt['count']],[rslt['Educational Level']],margins=True)"
   ]
  },
  {
   "cell_type": "code",
   "execution_count": null,
   "id": "adbc6f87",
   "metadata": {},
   "outputs": [],
   "source": [
    "#hide_input\n",
    "\n",
    "rslt = non_kuwait_df[~non_kuwait_df['Occupation'].isin(kuwait_df['Occupation'])]\n",
    "rslt1= rslt.nlargest(20,'count')\n",
    "rslt1.set_index(\"Nationality\")"
   ]
  },
  {
   "cell_type": "code",
   "execution_count": null,
   "id": "9321941f",
   "metadata": {},
   "outputs": [],
   "source": [
    "#hide_input\n",
    "\n",
    "fig = px.bar(rslt1,x=\"Nationality\", y=\"count\", hover_data = kuwait_df.columns,color=\"Occupation\",text=\"Percentage\",\n",
    "            barmode='group',title = \"Top 20 Occupation by Nationalities that are not same as Kuwaitis\")\n",
    "fig.show()"
   ]
  },
  {
   "cell_type": "code",
   "execution_count": null,
   "id": "7ac24ee7",
   "metadata": {},
   "outputs": [],
   "source": [
    "#hide_input\n",
    "\n",
    "a = rslt['Occupation'].unique()\n",
    "print(\"\\n Number of Unique No-Kuwaitis Occupation that are not same as Kuwaitis:  \",len(a))\n",
    "\n",
    "print(\"\\n\\n\\n 1000 Non - Kuwaitis Occupations that are not same as Kuwaitis\\n\\n\")\n",
    "a[0:1000]"
   ]
  },
  {
   "cell_type": "markdown",
   "id": "3a593a96",
   "metadata": {
    "id": "a5746003"
   },
   "source": [
    "### Insight 22 - Occupations by all other Nationalities,Marital Status\n",
    "\n",
    "#### Kuwaiti Vs Non-Kuwaiti"
   ]
  },
  {
   "cell_type": "code",
   "execution_count": null,
   "id": "12a1a794",
   "metadata": {
    "id": "769b1823"
   },
   "outputs": [],
   "source": [
    "#hide_input\n",
    "\n",
    "insight22 = data.groupby(['Occupation', 'Marital Status','Category']).size().unstack(level=2, fill_value=0)"
   ]
  },
  {
   "cell_type": "code",
   "execution_count": null,
   "id": "437bebb4",
   "metadata": {},
   "outputs": [],
   "source": [
    "#hide_input\n",
    "\n",
    "insight22 = (insight22.stack().reset_index(name='Total Count'))"
   ]
  },
  {
   "cell_type": "code",
   "execution_count": null,
   "id": "900463b1",
   "metadata": {},
   "outputs": [],
   "source": [
    "#hide_input\n",
    "\n",
    "kuwait_df = insight22[insight22['Category'] == 'Kuwaiti'] \n"
   ]
  },
  {
   "cell_type": "code",
   "execution_count": null,
   "id": "7265d2ec",
   "metadata": {},
   "outputs": [],
   "source": [
    "#hide_input\n",
    "\n",
    "non_kuwait_df = insight22[insight22['Category'] == 'Non-Kuwaiti'] \n"
   ]
  },
  {
   "cell_type": "code",
   "execution_count": null,
   "id": "192d3de3",
   "metadata": {},
   "outputs": [],
   "source": [
    "#hide_input\n",
    "\n",
    "kuwait_df['Percentage'] = ((kuwait_df['Total Count'] / 1574040)*100).round(2)\n",
    "kuwait_df['Percentage'] = kuwait_df['Percentage'].astype(str) + '%'\n",
    "kuwait_df = kuwait_df.nlargest(10,'Total Count')\n",
    "kuwait_df.set_index(\"Occupation\")"
   ]
  },
  {
   "cell_type": "code",
   "execution_count": null,
   "id": "4b6aff46",
   "metadata": {},
   "outputs": [],
   "source": [
    "#hide_input\n",
    "\n",
    "fig = px.bar(kuwait_df,x=\"Marital Status\", y=\"Total Count\", hover_data = kuwait_df.columns,color=\"Occupation\",barmode='group',\n",
    "             title = \"Kuwaitis Top 10 Occupation by Marital Status\",text=\"Percentage\")\n",
    "fig.show()"
   ]
  },
  {
   "cell_type": "code",
   "execution_count": null,
   "id": "2720a401",
   "metadata": {
    "id": "e9aa7629"
   },
   "outputs": [],
   "source": [
    "#hide_input\n",
    "\n",
    "non_kuwait_df['Percentage'] = ((non_kuwait_df['Total Count'] / 1574040)*100).round(2)\n",
    "non_kuwait_df['Percentage'] = non_kuwait_df['Percentage'].astype(str) + '%'\n",
    "non_kuwait_df = non_kuwait_df.nlargest(10,'Total Count')\n",
    "non_kuwait_df.set_index(\"Occupation\")"
   ]
  },
  {
   "cell_type": "code",
   "execution_count": null,
   "id": "749a68f9",
   "metadata": {},
   "outputs": [],
   "source": [
    "#hide_input\n",
    "\n",
    "fig = px.bar(non_kuwait_df,x=\"Marital Status\", y=\"Total Count\", hover_data = non_kuwait_df.columns,color=\"Occupation\",barmode='group',\n",
    "             title = \"Non-Kuwaitis Top 20 Occupations by Marital Status\",text=\"Percentage\")\n",
    "fig.show()"
   ]
  },
  {
   "cell_type": "markdown",
   "id": "81c5d063",
   "metadata": {
    "id": "67561319"
   },
   "source": [
    "### Insight 23 :  Total work force by Different Parameters"
   ]
  },
  {
   "cell_type": "code",
   "execution_count": null,
   "id": "0d27a591",
   "metadata": {
    "id": "d7ba3597"
   },
   "outputs": [],
   "source": [
    "#hide_input\n",
    "\n",
    "e = dict(data['Educational Level'].value_counts())\n",
    "insight14 = pd.DataFrame()\n",
    "e = dict(sorted(e.items(), key=operator.itemgetter(1), reverse=True)[:15])\n",
    "insight14['Educational Level'] = e.keys()\n",
    "insight14['Educational Level'] = insight14['Educational Level'].replace(r'^\\s*$', \"--\", regex=True)\n",
    "insight14['Total Count'] = e.values()\n",
    "insight14['Percentage'] = ((insight14['Total Count'] / 1574040)*100).round(2)\n",
    "insight14['Percentage'] = insight14['Percentage'].astype(str) + '%'\n",
    "fig5 = px.treemap(insight14, path=['Educational Level','Percentage'], values='Total Count',title = \"Total Workfoce by Educational Level\")\n",
    "fig5.show()\n",
    "\n",
    "f = dict(data['Governorate'].value_counts())\n",
    "insight15 = pd.DataFrame()\n",
    "f = dict(sorted(f.items(), key=operator.itemgetter(1), reverse=True)[:7])\n",
    "insight15['Governorate'] = f.keys()\n",
    "insight15['Total Count'] = f.values()\n",
    "insight15['Ranking'] = insight15.index+1\n",
    "insight15['Percentage'] = ((insight15['Total Count'] / 1574040)*100).round(2)\n",
    "insight15['Percentage'] = insight15['Percentage'].astype(str) + '%'\n",
    "fig = px.bar(insight15,x=\"Governorate\",y=\"Total Count\",color=\"Ranking\",text=\"Percentage\",title = \"Total Workfoce by Governorate\")\n",
    "fig.show()"
   ]
  },
  {
   "cell_type": "code",
   "execution_count": null,
   "id": "995c4d18",
   "metadata": {
    "id": "5600f6d2"
   },
   "outputs": [],
   "source": [
    "#hide_input\n",
    "\n",
    "h = dict(data['Company'].value_counts())\n",
    "insight17 = pd.DataFrame()\n",
    "h = dict(sorted(h.items(), key=operator.itemgetter(1), reverse=True)[:10])\n",
    "insight17['Company'] = h.keys()\n",
    "insight17['Total Count'] = h.values()\n",
    "insight17['Ranking'] = insight17.index+1\n",
    "insight17['Percentage'] = ((insight17['Total Count'] / 1574040)*100).round(2)\n",
    "insight17['Percentage'] = insight17['Percentage'].astype(str) + '%'\n",
    "fig8 = px.bar(insight17,x=\"Company\",y=\"Total Count\",color=\"Ranking\",text=\"Percentage\",title = \"Total Workforce By Companies\")\n",
    "fig8.show()\n",
    "\n",
    "top_5_HIRE_DATE = data['Hire Date'].value_counts().head(5)\n",
    "fig9 = px.bar(top_5_HIRE_DATE, title = 'Total Workforce by Hiring Months',color=top_5_HIRE_DATE)\n",
    "fig9.show()"
   ]
  },
  {
   "cell_type": "code",
   "execution_count": null,
   "id": "986ee591",
   "metadata": {
    "id": "9e120227"
   },
   "outputs": [],
   "source": [
    "#hide_input\n",
    "\n",
    "l = dict(data['Gender'].value_counts())\n",
    "insight20 = pd.DataFrame()\n",
    "l = dict(sorted(l.items(), key=operator.itemgetter(1), reverse=True)[:2])\n",
    "insight20['Gender'] = l.keys()\n",
    "insight20['Total Count'] = l.values()\n",
    "insight20['Percentage'] = ((insight20['Total Count'] / 1574040)*100).round(2)\n",
    "insight20['Percentage'] = insight20['Percentage'].astype(str) + '%'\n",
    "fig21 = px.bar(insight20,x=\"Gender\",y=\"Total Count\",color=\"Gender\",text=\"Percentage\",title = \"Total Workfoce by Gender\")\n",
    "fig21.show()\n",
    "\n",
    "\n",
    "g = dict(data['Marital Status'].value_counts())\n",
    "insight16 = pd.DataFrame()\n",
    "g = dict(sorted(g.items(), key=operator.itemgetter(1), reverse=True)[:6])\n",
    "insight16['Marital Status'] = g.keys()\n",
    "#insight16['Marital Status'] = insight16['Marital Status'].replace(r'^\\s*$', \" -- \", regex=True)\n",
    "insight16['Total Count'] = g.values()\n",
    "insight16['Percentage'] = ((insight16['Total Count'] / 1574040)*100).round(2)\n",
    "insight16['Percentage'] = insight16['Percentage'].astype(str) + '%'\n",
    "fig7 = px.bar(insight16,x=\"Marital Status\",y=\"Total Count\",color=\"Marital Status\",text=\"Percentage\",title = \"Total Workfoce by Marital Status\")\n",
    "fig7.show()"
   ]
  },
  {
   "cell_type": "markdown",
   "id": "b763d575",
   "metadata": {},
   "source": [
    "# Insight 24: Workforce by Salary"
   ]
  },
  {
   "cell_type": "code",
   "execution_count": null,
   "id": "3748c76a",
   "metadata": {},
   "outputs": [],
   "source": [
    "#hide_input\n",
    "\n",
    "bins = [0,201,301,401,501,1001,2001,3001,4001, 5001, 10000, 15000, 20000, 25000, 25001] \n",
    "labels = ['0-200','201-300','301-400','401-500','501-100','1001-2000','2001-3000','3001-4000','4001-5000','5001-10000','10001-15000', '15001-20000', '20001-25000', 'Above 25000']\n",
    "data['Salary Range'] = pd.cut(data.Salary, bins, labels = labels)"
   ]
  },
  {
   "cell_type": "code",
   "execution_count": null,
   "id": "ac391f44",
   "metadata": {},
   "outputs": [],
   "source": [
    "#hide_input\n",
    "\n",
    "a = dict(data['Salary Range'].value_counts())\n",
    "insight24 = pd.DataFrame()\n",
    "a = dict(sorted(a.items(), key=operator.itemgetter(1), reverse=True)[:20])\n",
    "insight24['Salary Range'] = a.keys()\n",
    "insight24['Total Count'] = a.values()\n",
    "insight24['Percentage'] = ((insight24['Total Count'] / 1574040)*100).round(2) \n",
    "insight24['Percentage'] = insight24['Percentage'].astype(str) + '%'\n",
    "insight24.style.background_gradient(cmap='Reds')"
   ]
  },
  {
   "cell_type": "code",
   "execution_count": null,
   "id": "4d3f109e",
   "metadata": {},
   "outputs": [],
   "source": [
    "#hide_input\n",
    "\n",
    "fig = px.histogram(insight24, x=\"Salary Range\", y= \"Total Count\",title =\"Work Force by Salary\")\n",
    "fig.show()"
   ]
  },
  {
   "cell_type": "markdown",
   "id": "f5451318",
   "metadata": {},
   "source": [
    "# Insight 25: Workforce Salary by Category"
   ]
  },
  {
   "cell_type": "code",
   "execution_count": null,
   "id": "d703c412",
   "metadata": {},
   "outputs": [],
   "source": [
    "#hide_input\n",
    "\n",
    "data['COUNTER'] = 1\n",
    "insight25 = data.groupby(['Salary Range','Category'])['COUNTER'].agg(['count'])\n",
    "insight25['Percentage'] = ((insight25['count'] / 1574040)*100).round(2) \n",
    "insight25['Percentage'] = insight25['Percentage'].astype(str) + '%'\n",
    "insight25.style.background_gradient(cmap='Reds')"
   ]
  },
  {
   "cell_type": "code",
   "execution_count": null,
   "id": "2f6bedbc",
   "metadata": {},
   "outputs": [],
   "source": [
    "#hide_input\n",
    "\n",
    "insight25 = insight25.reset_index(\"Category\")\n",
    "kuwait_df = insight25[insight25['Category'] == 'Kuwaiti']\n",
    "\n",
    "kuwait_df.style.background_gradient(cmap='Reds')"
   ]
  },
  {
   "cell_type": "code",
   "execution_count": null,
   "id": "1af61ee6",
   "metadata": {},
   "outputs": [],
   "source": [
    "#hide_input\n",
    "\n",
    "fig = px.bar(kuwait_df,x=kuwait_df.index, y=\"count\", hover_data = kuwait_df.columns,color=kuwait_df.index,text=\"Percentage\",\n",
    "             title = \"Kuwaitis Salary Range\")\n",
    "fig.show()"
   ]
  },
  {
   "cell_type": "code",
   "execution_count": null,
   "id": "76f2c003",
   "metadata": {},
   "outputs": [],
   "source": [
    "#hide_input\n",
    "\n",
    "non_kuwait_df = insight25[insight25['Category'] == 'Non-Kuwaiti']\n",
    "non_kuwait_df.style.background_gradient(cmap='Reds')"
   ]
  },
  {
   "cell_type": "code",
   "execution_count": null,
   "id": "2c38a74d",
   "metadata": {},
   "outputs": [],
   "source": [
    "#hide_input\n",
    "\n",
    "fig = px.bar(non_kuwait_df,x=non_kuwait_df.index, y=\"count\", hover_data = non_kuwait_df.columns,color=non_kuwait_df.index,\n",
    "             text=\"Percentage\", title = \"Non - Kuwaitis Salary Range\")\n",
    "fig.show()"
   ]
  },
  {
   "cell_type": "markdown",
   "id": "963bd9f6",
   "metadata": {
    "id": "c1c8f03b"
   },
   "source": [
    "### Insight 26 : What are the Occupations that are held by Non-Kuwaitis those will be reaching the age of 60 in next 5 Years which can be replaced by Kuwaitis"
   ]
  },
  {
   "cell_type": "code",
   "execution_count": null,
   "id": "4e49ab76",
   "metadata": {},
   "outputs": [],
   "source": [
    "#hide_input\n",
    "\n",
    "data['COUNTER'] = 1\n",
    "insight26 = data.groupby([\"Category\",\"Occupation\",\"Educational Level\",\"Age\"])['COUNTER'].agg(['count'])\n",
    "insight26['Percentage'] = ((insight26['count'] / 1574040)*100).round(2) \n",
    "insight26['Percentage'] = insight26['Percentage'].astype(str) + '%'\n",
    "insight26 = insight26.reset_index([\"Category\",\"Occupation\",\"Educational Level\",\"Age\"])"
   ]
  },
  {
   "cell_type": "code",
   "execution_count": null,
   "id": "484f8e4d",
   "metadata": {},
   "outputs": [],
   "source": [
    "#hide_input\n",
    "\n",
    "kuwait_df = insight26[insight26['Category'] == 'Kuwaiti']\n"
   ]
  },
  {
   "cell_type": "code",
   "execution_count": null,
   "id": "5bf4d426",
   "metadata": {},
   "outputs": [],
   "source": [
    "#hide_input\n",
    "\n",
    "non_kuwait_df = insight26[insight26['Category'] == 'Non-Kuwaiti']"
   ]
  },
  {
   "cell_type": "code",
   "execution_count": null,
   "id": "04627380",
   "metadata": {},
   "outputs": [],
   "source": [
    "#hide_input\n",
    "\n",
    "x = non_kuwait_df[(non_kuwait_df['Occupation'].isin(kuwait_df['Occupation']))] \n",
    "y = non_kuwait_df[(non_kuwait_df['Educational Level'].isin(kuwait_df['Educational Level']))] \n"
   ]
  },
  {
   "cell_type": "code",
   "execution_count": null,
   "id": "3c828cdf",
   "metadata": {},
   "outputs": [],
   "source": [
    "rslt_df = x.merge(y, how = 'inner' ,indicator=False)\n"
   ]
  },
  {
   "cell_type": "code",
   "execution_count": null,
   "id": "d5f8d48c",
   "metadata": {},
   "outputs": [],
   "source": [
    "rslt_df['Percentage'] = ((rslt_df['count'] / 1574040)*100).round(2)\n"
   ]
  },
  {
   "cell_type": "code",
   "execution_count": null,
   "id": "00d99859",
   "metadata": {},
   "outputs": [],
   "source": [
    "rslt_df['Percentage'] = rslt_df['Percentage'].astype(str) + '%'\n"
   ]
  },
  {
   "cell_type": "code",
   "execution_count": null,
   "id": "2b457912",
   "metadata": {},
   "outputs": [],
   "source": [
    "#hide_input\n",
    "five_years_to_be_sixty = rslt_df[rslt_df['Age'] == 55]\n",
    "five_to_sixty = len(five_years_to_be_sixty)\n",
    "pd.crosstab([five_years_to_be_sixty['Occupation'], five_years_to_be_sixty['count']],[five_years_to_be_sixty['Educational Level']],margins=True)"
   ]
  },
  {
   "cell_type": "code",
   "execution_count": null,
   "id": "aa424404",
   "metadata": {},
   "outputs": [],
   "source": [
    "#hide_input\n",
    "\n",
    "four_years_to_be_sixty = rslt_df[rslt_df['Age'] == 56]\n",
    "four_to_sixty = len(five_years_to_be_sixty)\n",
    "pd.crosstab([four_years_to_be_sixty['Occupation'], four_years_to_be_sixty['count']],[four_years_to_be_sixty['Educational Level']],margins=True)"
   ]
  },
  {
   "cell_type": "code",
   "execution_count": null,
   "id": "376a0021",
   "metadata": {},
   "outputs": [],
   "source": [
    "#hide_input\n",
    "\n",
    "three_years_to_be_sixty = rslt_df[rslt_df['Age'] == 57] \n",
    "three_to_sixty = len(three_years_to_be_sixty)\n",
    "pd.crosstab([three_years_to_be_sixty['Occupation'], three_years_to_be_sixty['count']],[three_years_to_be_sixty['Educational Level']],margins=True)\n"
   ]
  },
  {
   "cell_type": "code",
   "execution_count": null,
   "id": "467c6731",
   "metadata": {},
   "outputs": [],
   "source": [
    "#hide_input\n",
    "\n",
    "two_years_to_be_sixty = rslt_df[rslt_df['Age'] == 58]\n",
    "two_to_sixty = len(two_years_to_be_sixty)\n",
    "pd.crosstab([two_years_to_be_sixty['Occupation'], two_years_to_be_sixty['count']],[two_years_to_be_sixty['Educational Level']],margins=True)\n"
   ]
  },
  {
   "cell_type": "code",
   "execution_count": null,
   "id": "67b1f1bb",
   "metadata": {},
   "outputs": [],
   "source": [
    "#hide_input\n",
    "\n",
    "one_year_to_be_sixty = rslt_df[rslt_df['Age'] == 59]\n",
    "one_to_sixty = len(one_year_to_be_sixty)\n",
    "pd.crosstab([one_year_to_be_sixty['Occupation'], one_year_to_be_sixty['count']],[one_year_to_be_sixty['Educational Level']],margins=True)\n"
   ]
  },
  {
   "cell_type": "code",
   "execution_count": null,
   "id": "3f5f22af",
   "metadata": {},
   "outputs": [],
   "source": [
    "#hide_input\n",
    "\n",
    "sixty_years = rslt_df[rslt_df['Age'] == 60]\n",
    "exact_sixty_years = len(sixty_years)\n",
    "pd.crosstab([sixty_years['Occupation'], sixty_years['count']],[sixty_years['Educational Level']],margins=True)"
   ]
  },
  {
   "cell_type": "code",
   "execution_count": null,
   "id": "317d2f5a",
   "metadata": {},
   "outputs": [],
   "source": [
    "#hide_input\n",
    "\n",
    "#Performing calcualtions on the above dataframes\n",
    "total_people = five_to_sixty + four_to_sixty + three_to_sixty + two_to_sixty + one_to_sixty + exact_sixty_years\n",
    "\n",
    "f_to_sixty = (five_to_sixty / total_people)*100\n",
    "fo_to_sixty = (four_to_sixty / total_people)*100\n",
    "t_to_sixty = (three_to_sixty / total_people)*100\n",
    "tw_to_sixty = (two_to_sixty / total_people)*100\n",
    "o_to_sixty = (one_to_sixty / total_people)*100\n",
    "sixty = (exact_sixty_years / total_people)*100\n",
    "\n",
    "total = [five_to_sixty,four_to_sixty,three_to_sixty,two_to_sixty,one_to_sixty,exact_sixty_years]\n",
    "percentage = [f_to_sixty,fo_to_sixty,t_to_sixty,tw_to_sixty,o_to_sixty,sixty]\n",
    "\n",
    "resultant = pd.concat([five_years_to_be_sixty,four_years_to_be_sixty,three_years_to_be_sixty,two_years_to_be_sixty,one_year_to_be_sixty,sixty_years], axis=0)\n",
    "resultant"
   ]
  },
  {
   "cell_type": "code",
   "execution_count": null,
   "id": "0cb369b2",
   "metadata": {},
   "outputs": [],
   "source": [
    "#hide_input\n",
    "\n",
    "resultant1 = resultant.nlargest(20,'count')\n",
    "pd.crosstab([resultant['Occupation'], resultant['count']],[resultant['Age']],margins=True)"
   ]
  },
  {
   "cell_type": "code",
   "execution_count": null,
   "id": "6f6b7438",
   "metadata": {},
   "outputs": [],
   "source": [
    "#hide_input\n",
    "\n",
    "insight38 = pd.DataFrame()\n",
    "insight38['Year'] = ['2021','2022','2023','2024','2025','2026']\n",
    "insight38['Total Count'] = total\n",
    "insight38['Percentage'] = percentage\n",
    "insight38['Percentage'] = insight38['Percentage'].round(2)\n",
    "insight38['Percentage'] = insight38['Percentage'].astype(str) + '%'\n",
    "insight38"
   ]
  },
  {
   "cell_type": "code",
   "execution_count": null,
   "id": "9204ab9e",
   "metadata": {},
   "outputs": [],
   "source": [
    "#hide_input\n",
    "fig = px.bar(insight38,x=\"Year\", y=\"Total Count\", hover_data = insight38.columns, color=\"Year\",\n",
    "            text = \"Percentage\",title = \"Workforce distribution reaching age 60 in next 5 years\")\n",
    "fig.show()"
   ]
  },
  {
   "cell_type": "code",
   "execution_count": null,
   "id": "a360518f",
   "metadata": {},
   "outputs": [],
   "source": [
    "#hide_input \n",
    "\n",
    "a = resultant['Occupation'].unique()\n",
    "print(\"\\nOccupations held by Non-Kuwaitis those will be reaching the age of 60 in next 5 Years can be replaced by Kuwaitis:  \",len(a))\n",
    "a[0:753]"
   ]
  },
  {
   "cell_type": "markdown",
   "id": "88019874",
   "metadata": {
    "id": "eea91b8c"
   },
   "source": [
    "### Insight 27: What/Who are the Employers Those who hire most of the Non-Kuwaitis and can be replaced by Kuwaitis"
   ]
  },
  {
   "cell_type": "code",
   "execution_count": null,
   "id": "3d84e277",
   "metadata": {},
   "outputs": [],
   "source": [
    "#hide_input\n",
    "\n",
    "insight26 = data.groupby(['Company','Category','Age Group']).size().unstack(level=2, fill_value=0)"
   ]
  },
  {
   "cell_type": "code",
   "execution_count": null,
   "id": "a65ce0dc",
   "metadata": {},
   "outputs": [],
   "source": [
    "#hide_input\n",
    "\n",
    "insight26 = (insight26.stack().reset_index(name='Total Count'))"
   ]
  },
  {
   "cell_type": "code",
   "execution_count": null,
   "id": "44cfc6e1",
   "metadata": {},
   "outputs": [],
   "source": [
    "#hide_input\n",
    "\n",
    "kuwait_df = insight26[insight26['Category'] == 'Kuwaiti']"
   ]
  },
  {
   "cell_type": "code",
   "execution_count": null,
   "id": "74017f70",
   "metadata": {},
   "outputs": [],
   "source": [
    "#hide_input\n",
    "\n",
    "kuwait_df['Percentage'] = ((kuwait_df['Total Count'] / 1574040)*100).round(2)\n",
    "kuwait_df['Percentage'] = kuwait_df['Percentage'].astype(str) + '%'\n",
    "kuwait = kuwait_df.nlargest(20,'Total Count')\n",
    "kuwait.set_index(\"Age Group\")"
   ]
  },
  {
   "cell_type": "code",
   "execution_count": null,
   "id": "5b3da1f2",
   "metadata": {},
   "outputs": [],
   "source": [
    "#hide_input\n",
    "\n",
    "fig = px.bar(kuwait,x=\"Company\", y=\"Total Count\", hover_data = kuwait.columns, text=\"Percentage\",color = \"Total Count\",\n",
    "             barmode='group',title = \"Top 20 Kuwaiti's Age Group by Company\")\n",
    "fig.show()"
   ]
  },
  {
   "cell_type": "code",
   "execution_count": null,
   "id": "f48c4b61",
   "metadata": {},
   "outputs": [],
   "source": [
    "#hide_input\n",
    "\n",
    "non_kuwait_df = insight26[insight26['Category'] == 'Non-Kuwaiti']"
   ]
  },
  {
   "cell_type": "code",
   "execution_count": null,
   "id": "6e041e0f",
   "metadata": {},
   "outputs": [],
   "source": [
    "#hide_input\n",
    "\n",
    "non_kuwait_df['Percentage'] = ((non_kuwait_df['Total Count'] / 1574040)*100).round(2)\n",
    "non_kuwait_df['Percentage'] = non_kuwait_df['Percentage'].astype(str) + '%'\n",
    "non_kuwait = non_kuwait_df.nlargest(20,'Total Count')\n",
    "non_kuwait.set_index(\"Age Group\")"
   ]
  },
  {
   "cell_type": "code",
   "execution_count": null,
   "id": "8522ccc6",
   "metadata": {},
   "outputs": [],
   "source": [
    "#hide_input\n",
    "\n",
    "fig = px.bar(non_kuwait,x=\"Company\", y=\"Total Count\", hover_data = non_kuwait_df.columns,color=\"Total Count\", text=\"Percentage\",\n",
    "             barmode='group',title = \"Top 20 Non-Kuwaiti's Age Group by Company\")\n",
    "fig.show()"
   ]
  },
  {
   "cell_type": "code",
   "execution_count": null,
   "id": "b95112a5",
   "metadata": {},
   "outputs": [],
   "source": [
    "#hide_input\n",
    "\n",
    "rslt = non_kuwait_df[non_kuwait_df['Company'].isin(kuwait_df['Company'])]\n",
    "rslt1 = rslt.nlargest(10,'Total Count')\n",
    "rslt1.set_index('Age Group')"
   ]
  },
  {
   "cell_type": "code",
   "execution_count": null,
   "id": "05ff4c24",
   "metadata": {},
   "outputs": [],
   "source": [
    "#hide_input\n",
    "\n",
    "fig = px.bar(rslt1, x=\"Company\", y=\"Total Count\",barmode='group',text=\"Percentage\",color=\"Total Count\",\n",
    "             title =\"Top 10 Companies who hire most of the Non-Kuwaitis and can be replaced by Kuwaitis\")\n",
    "fig.show()"
   ]
  },
  {
   "cell_type": "code",
   "execution_count": null,
   "id": "cdd66f1d",
   "metadata": {},
   "outputs": [],
   "source": [
    "#hide_input\n",
    "\n",
    "a = rslt['Company'].unique()\n",
    "print(\"\\n Number of Unique Companies that hire most of the Non-Kuwaitis :  \",len(a))\n",
    "\n",
    "print(\"\\n\\n\\n 1000 Companies that hire most of the Non-Kuwaitis \\n\\n\")\n",
    "a[0:1000]"
   ]
  },
  {
   "cell_type": "code",
   "execution_count": null,
   "id": "5d621d7c",
   "metadata": {},
   "outputs": [],
   "source": []
  },
  {
   "cell_type": "code",
   "execution_count": null,
   "id": "c78e4e19",
   "metadata": {},
   "outputs": [],
   "source": []
  }
 ],
 "metadata": {
  "colab": {
   "name": "2021-06-04-Manpower-EDA-Version 3.0.ipynb",
   "provenance": []
  },
  "kernelspec": {
   "display_name": "Python 3",
   "language": "python",
   "name": "python3"
  },
  "language_info": {
   "codemirror_mode": {
    "name": "ipython",
    "version": 3
   },
   "file_extension": ".py",
   "mimetype": "text/x-python",
   "name": "python",
   "nbconvert_exporter": "python",
   "pygments_lexer": "ipython3",
   "version": "3.8.8"
  }
 },
 "nbformat": 4,
 "nbformat_minor": 5
}
