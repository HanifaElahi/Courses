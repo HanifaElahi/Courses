{
 "cells": [
  {
   "cell_type": "code",
   "execution_count": null,
   "id": "26bbe831",
   "metadata": {
    "colab": {
     "base_uri": "https://localhost:8080/"
    },
    "id": "d526315f",
    "outputId": "3abf3698-52c1-4a6a-ff0e-90e97fad7ba2"
   },
   "outputs": [],
   "source": [
    "#hide\n",
    "!pip install pyreadstat\n",
    "!pip install --upgrade plotly"
   ]
  },
  {
   "cell_type": "code",
   "execution_count": 1,
   "id": "faabeabe",
   "metadata": {
    "id": "4237e72f"
   },
   "outputs": [],
   "source": [
    "#hide\n",
    "\n",
    "import operator\n",
    "import pandas as pd\n",
    "import numpy as np\n",
    "from datetime import datetime, date\n",
    "from pandas_profiling import ProfileReport\n",
    "\n",
    "import warnings\n",
    "warnings.filterwarnings('ignore')\n",
    "\n",
    "import matplotlib.pyplot as plt\n",
    "import seaborn as sns\n",
    "import plotly.express as px\n",
    "import plotly.graph_objects as go\n",
    "from plotly.subplots import make_subplots\n",
    "%matplotlib inline"
   ]
  },
  {
   "cell_type": "code",
   "execution_count": null,
   "id": "b5930da0",
   "metadata": {
    "id": "d2a9247b"
   },
   "outputs": [],
   "source": [
    "#hide\n",
    "\n",
    "#Replacing df with data read from pickle file\n",
    "#Start all other version from this cell, \n",
    "\n",
    "data = pd.read_pickle(\"DataManPowerV2.pkl\")\n",
    "\n",
    "data.columns"
   ]
  },
  {
   "cell_type": "code",
   "execution_count": null,
   "id": "495ce6ad",
   "metadata": {},
   "outputs": [],
   "source": [
    "#hide\n",
    "\n",
    "data['Birth Date'].unique()"
   ]
  },
  {
   "cell_type": "code",
   "execution_count": null,
   "id": "ed914fc7",
   "metadata": {
    "id": "a45db337"
   },
   "outputs": [],
   "source": [
    "#hide\n",
    "\n",
    "data['Nationality'].unique()"
   ]
  },
  {
   "cell_type": "code",
   "execution_count": null,
   "id": "71d70d45",
   "metadata": {
    "id": "e251db02"
   },
   "outputs": [],
   "source": [
    "#hide\n",
    "\n",
    "data['Gender'].unique()"
   ]
  },
  {
   "cell_type": "code",
   "execution_count": null,
   "id": "b85f9a09",
   "metadata": {
    "id": "cdf48be1"
   },
   "outputs": [],
   "source": [
    "#hide\n",
    "\n",
    "data['Religion'].unique()"
   ]
  },
  {
   "cell_type": "code",
   "execution_count": null,
   "id": "a9f0a484",
   "metadata": {
    "id": "91760a99"
   },
   "outputs": [],
   "source": [
    "#hide\n",
    "\n",
    "data['Occupation'].unique()"
   ]
  },
  {
   "cell_type": "code",
   "execution_count": null,
   "id": "99bfcd42",
   "metadata": {
    "id": "c5323003"
   },
   "outputs": [],
   "source": [
    "#hide\n",
    "\n",
    "data['Economic Act'].unique()"
   ]
  },
  {
   "cell_type": "code",
   "execution_count": null,
   "id": "44d88253",
   "metadata": {
    "id": "1e52eee0"
   },
   "outputs": [],
   "source": [
    "#hide\n",
    "data['Educational Level'].unique()"
   ]
  },
  {
   "cell_type": "code",
   "execution_count": null,
   "id": "22aeeaf2",
   "metadata": {
    "id": "2f04cf7e"
   },
   "outputs": [],
   "source": [
    "#hide\n",
    "\n",
    "data['Salary'].unique()"
   ]
  },
  {
   "cell_type": "code",
   "execution_count": null,
   "id": "3ea64cef",
   "metadata": {
    "id": "cc4bb7b0"
   },
   "outputs": [],
   "source": [
    "#hide\n",
    "\n",
    "data['Governorate'].unique()"
   ]
  },
  {
   "cell_type": "code",
   "execution_count": null,
   "id": "eeecbfc3",
   "metadata": {},
   "outputs": [],
   "source": [
    "#hide\n",
    "\n",
    "data['Marital Status'].unique()"
   ]
  },
  {
   "cell_type": "code",
   "execution_count": null,
   "id": "2809e17c",
   "metadata": {},
   "outputs": [],
   "source": [
    "#hide\n",
    "\n",
    "data['Company'].unique()"
   ]
  },
  {
   "cell_type": "code",
   "execution_count": null,
   "id": "03adaec8",
   "metadata": {},
   "outputs": [],
   "source": [
    "#hide\n",
    "\n",
    "data['Age'].unique()"
   ]
  },
  {
   "cell_type": "code",
   "execution_count": null,
   "id": "9865e435",
   "metadata": {
    "id": "2d9a7056"
   },
   "outputs": [],
   "source": [
    "#hide\n",
    "\n",
    "data['Category'].unique()"
   ]
  },
  {
   "cell_type": "code",
   "execution_count": null,
   "id": "cd458f2a",
   "metadata": {
    "id": "59df4d77"
   },
   "outputs": [],
   "source": [
    "#hide\n",
    "\n",
    "data['Hire Date'].unique()"
   ]
  },
  {
   "cell_type": "code",
   "execution_count": null,
   "id": "7df4252a",
   "metadata": {
    "id": "3f574195"
   },
   "outputs": [],
   "source": [
    "#hide\n",
    "\n",
    "data['Age Group'].unique()"
   ]
  },
  {
   "cell_type": "markdown",
   "id": "8cbe12bd",
   "metadata": {
    "id": "d5d10eed"
   },
   "source": [
    "# Insight 1 : Top 10 Nationalities Employeed"
   ]
  },
  {
   "cell_type": "code",
   "execution_count": null,
   "id": "e21e3a7a",
   "metadata": {
    "id": "d03b81ed"
   },
   "outputs": [],
   "source": [
    "#hide_input\n",
    "a = dict(data['Nationality'].value_counts())\n",
    "insight1 = pd.DataFrame()\n",
    "a = dict(sorted(a.items(), key=operator.itemgetter(1), reverse=True)[:10])\n",
    "insight1['Nationalities'] = a.keys()\n",
    "insight1['Total Count'] = a.values()\n",
    "insight1['Percentage'] = ((insight1['Total Count'] / 1574040)*100).round(2) \n",
    "insight1['Percentage'] = insight1['Percentage'].astype(str) + '%'\n",
    "\n",
    "insight1 = insight1.sort_values('Nationalities') #sorting in alphabetical order\n",
    "insight1"
   ]
  },
  {
   "cell_type": "code",
   "execution_count": null,
   "id": "3a265e6c",
   "metadata": {
    "id": "7e77f41d"
   },
   "outputs": [],
   "source": [
    "#hide_input\n",
    "fig = px.treemap(insight1, path=['Nationalities','Percentage'], values='Total Count',title=\"Top 10 Nationalities Employeed\")\n",
    "fig.show()"
   ]
  },
  {
   "cell_type": "markdown",
   "id": "8d6b352b",
   "metadata": {
    "id": "3fbc7f7e"
   },
   "source": [
    "# Insight 2 : Top 10 Occupations by Nationalities, Age"
   ]
  },
  {
   "cell_type": "code",
   "execution_count": null,
   "id": "fbb6050a",
   "metadata": {
    "id": "f4e657eb"
   },
   "outputs": [],
   "source": [
    "#hide_input\n",
    "\n",
    "insight2 = pd.DataFrame()\n",
    "insight2_1 = pd.DataFrame()\n",
    "insight2 = data.groupby([\"Occupation\",\"Nationality\"])['Age'].mean().astype(int)\n",
    "insight2 = insight2.reset_index(\"Nationality\")\n",
    "insight2 = insight2.reset_index(\"Occupation\")\n",
    "insight2_1 = insight2.nlargest(10,'Age')\n",
    "insight2_1 = insight2_1.sort_values(by=[\"Occupation\", \"Nationality\"])[[\"Occupation\", \"Nationality\",\"Age\"]]\n",
    "insight2_1"
   ]
  },
  {
   "cell_type": "code",
   "execution_count": null,
   "id": "f94a64d6",
   "metadata": {},
   "outputs": [],
   "source": [
    "fig = px.sunburst(insight2_1, path=['Occupation', 'Nationality','Age'], values='Age',title = 'Occupations by Nationalities, Age')\n",
    "fig.show()"
   ]
  },
  {
   "cell_type": "code",
   "execution_count": null,
   "id": "e44c9d86",
   "metadata": {},
   "outputs": [],
   "source": [
    "a = dict(insight2['Occupation'].value_counts())\n",
    "insight2 = pd.DataFrame()\n",
    "a = dict(sorted(a.items(), key=operator.itemgetter(1), reverse=True)[:10])\n",
    "insight2['Occupation'] = a.keys()\n",
    "insight2['Total Count'] = a.values()\n",
    "insight2['Percentage'] = ((insight2['Total Count'] / 122189)*100).round(2) \n",
    "insight2['Percentage'] = insight2['Percentage'].astype(str) + '%'\n",
    "insight2 = insight2.sort_values(\"Occupation\")\n",
    "insight2"
   ]
  },
  {
   "cell_type": "code",
   "execution_count": null,
   "id": "57d3aee7",
   "metadata": {},
   "outputs": [],
   "source": [
    "fig = px.bar(insight2,x=\"Occupation\",y=\"Total Count\",color=\"Occupation\",text=\"Percentage\",title = \"Top 10 Occupations\")\n",
    "fig.show()"
   ]
  },
  {
   "cell_type": "markdown",
   "id": "9a54ce07",
   "metadata": {
    "id": "a66e6da1"
   },
   "source": [
    "# Insight  3 : Top 10 Educational Level By Nationalities, Age"
   ]
  },
  {
   "cell_type": "code",
   "execution_count": null,
   "id": "4e3fdd91",
   "metadata": {
    "id": "631fbd23"
   },
   "outputs": [],
   "source": [
    "#hide_input\n",
    "\n",
    "insight3 = pd.DataFrame()\n",
    "insight3_1 = pd.DataFrame()\n",
    "insight3 = data.groupby([\"Educational Level\",\"Nationality\"])['Age'].mean().astype(int)\n",
    "insight3 = insight3.reset_index(\"Nationality\")\n",
    "insight3 = insight3.reset_index(\"Educational Level\")\n",
    "insight3 = insight3.nlargest(10,'Age')\n",
    "insight3_1 = insight3.sort_values(by=[\"Educational Level\", \"Nationality\"])[[\"Educational Level\", \"Nationality\",\"Age\"]]\n",
    "insight3_1"
   ]
  },
  {
   "cell_type": "code",
   "execution_count": null,
   "id": "3e5326a8",
   "metadata": {
    "id": "c44a300a"
   },
   "outputs": [],
   "source": [
    "#hide_input\n",
    "\n",
    "fig = px.treemap(insight3_1, path=['Educational Level', 'Nationality', 'Age'], values='Age',title=\" Occupations by Educational Level, Age\")\n",
    "fig.show()"
   ]
  },
  {
   "cell_type": "code",
   "execution_count": null,
   "id": "4834ce8b",
   "metadata": {},
   "outputs": [],
   "source": [
    "a = dict(insight3['Educational Level'].value_counts())\n",
    "insight3 = pd.DataFrame()\n",
    "a = dict(sorted(a.items(), key=operator.itemgetter(1), reverse=True)[:10])\n",
    "insight3['Educational Level'] = a.keys()\n",
    "insight3['Total Count'] = a.values()\n",
    "insight3['Percentage'] = ((insight3['Total Count'] / 10)*100).round(2) \n",
    "insight3['Percentage'] = insight3['Percentage'].astype(str) + '%'\n",
    "insight3 = insight3.sort_values(\"Educational Level\")\n",
    "insight3"
   ]
  },
  {
   "cell_type": "code",
   "execution_count": null,
   "id": "43e95bf3",
   "metadata": {},
   "outputs": [],
   "source": [
    "fig = px.bar(insight3,x=\"Educational Level\",y=\"Total Count\",color=\"Educational Level\",text=\"Percentage\",title = \"Top Educational Level\")\n",
    "fig.show()"
   ]
  },
  {
   "cell_type": "markdown",
   "id": "b29f0df3",
   "metadata": {
    "id": "cdce4e18"
   },
   "source": [
    "# Insight 4 : Top 10 Marital Status by Nationality ,Age"
   ]
  },
  {
   "cell_type": "code",
   "execution_count": null,
   "id": "22f1986f",
   "metadata": {
    "id": "5445abfb"
   },
   "outputs": [],
   "source": [
    "#hide_input\n",
    "\n",
    "insight4 = pd.DataFrame()\n",
    "insight4 = data.groupby([\"Nationality\",\"Marital Status\"])['Age'].mean().astype(int)\n",
    "insight4 = insight4.reset_index(\"Marital Status\")\n",
    "insight4 = insight4.reset_index(\"Nationality\")\n",
    "insight4_1 = pd.DataFrame()\n",
    "insight4_1 = insight4.nlargest(10,'Age')\n",
    "insight4_1 = insight4_1.sort_values(by=[\"Marital Status\", \"Nationality\"])[[\"Marital Status\", \"Nationality\",\"Age\"]]\n",
    "insight4_1"
   ]
  },
  {
   "cell_type": "code",
   "execution_count": null,
   "id": "fcd0cd73",
   "metadata": {
    "id": "82ebf2ea"
   },
   "outputs": [],
   "source": [
    "#hide_input\n",
    "\n",
    "fig = px.sunburst(insight4_1, path=['Marital Status','Nationality','Age'], values='Age',title = 'Marital Status by Nationality, Age')\n",
    "fig.show()"
   ]
  },
  {
   "cell_type": "code",
   "execution_count": null,
   "id": "a9d5d2ca",
   "metadata": {},
   "outputs": [],
   "source": [
    "a = dict(insight4['Marital Status'].value_counts())\n",
    "insight4 = pd.DataFrame()\n",
    "a = dict(sorted(a.items(), key=operator.itemgetter(1), reverse=True)[:10])\n",
    "insight4['Marital Status'] = a.keys()\n",
    "insight4['Total Count'] = a.values()\n",
    "insight4['Percentage'] = ((insight4['Total Count'] / 423)*100).round(2) \n",
    "insight4['Percentage'] = insight4['Percentage'].astype(str) + '%'\n",
    "insight4 = insight4.sort_values(\"Marital Status\")\n",
    "insight4"
   ]
  },
  {
   "cell_type": "code",
   "execution_count": null,
   "id": "64659a0f",
   "metadata": {},
   "outputs": [],
   "source": [
    "fig = px.bar(insight4,x=\"Marital Status\",y=\"Total Count\",color=\"Marital Status\",text=\"Percentage\",title = \"Top Marital Status\")\n",
    "fig.show()"
   ]
  },
  {
   "cell_type": "markdown",
   "id": "846b13bc",
   "metadata": {
    "id": "31cf1565"
   },
   "source": [
    "### Insight 5 : Occupations by Nationality, Educational Level, Age\n",
    "\n",
    "#### Kuwaiti Vs Non-Kuwaiti"
   ]
  },
  {
   "cell_type": "code",
   "execution_count": null,
   "id": "73f4c2f0",
   "metadata": {
    "id": "88020b20"
   },
   "outputs": [],
   "source": [
    "#hide_input\n",
    "\n",
    "insight5 = pd.DataFrame()\n",
    "insight5 = data.groupby([\"Category\",\"Educational Level\",\"Nationality\",\"Occupation\"])['Age'].mean().astype(int)\n",
    "insight5 = insight5.reset_index(\"Category\")\n",
    "insight5 = insight5.reset_index(\"Educational Level\")\n",
    "insight5 = insight5.reset_index(\"Nationality\")\n",
    "insight5 = insight5.reset_index(\"Occupation\")\n",
    "#required dataframe with params : Nationality, Occupation,Educational Level Age\n",
    "insight5 = insight5.sort_values(by=[\"Occupation\", \"Nationality\",\"Category\"])[[\"Occupation\", \"Nationality\",\"Category\",\"Age\"]]\n",
    "insight5"
   ]
  },
  {
   "cell_type": "code",
   "execution_count": null,
   "id": "7b84e628",
   "metadata": {},
   "outputs": [],
   "source": [
    "kuwait_df = insight5[insight5['Category'] == \"Kuwaiti\"]  #separating kuwaitis\n",
    "#print(len(kuwait_df))\n",
    "kuwait_df_plot = kuwait_df.nlargest(10,'Age')\n",
    "kuwait_df_plot = kuwait_df_plot.sort_values(by=[\"Occupation\", \"Nationality\",\"Category\"])[[\"Occupation\", \"Nationality\",\"Category\",\"Age\"]]\n",
    "kuwait_df_plot \n",
    "\n",
    "#taking top 10 values with respect to age"
   ]
  },
  {
   "cell_type": "code",
   "execution_count": null,
   "id": "64442479",
   "metadata": {},
   "outputs": [],
   "source": [
    "non_kuwait_df = insight5[insight5['Category'] == \"Non-Kuwaiti\"] #separating non-kuwitis\n",
    "#print(len(non_kuwait_df))\n",
    "non_kuwait_df_plot = non_kuwait_df.nlargest(10,'Age')\n",
    "non_kuwait_df_plot = non_kuwait_df_plot.sort_values(by=[\"Occupation\", \"Nationality\",\"Category\"])[[\"Occupation\", \"Nationality\",\"Category\",\"Age\"]]\n",
    "non_kuwait_df_plot\n",
    "#taking top 10 values with respect to age"
   ]
  },
  {
   "cell_type": "code",
   "execution_count": null,
   "id": "1b38360b",
   "metadata": {
    "id": "ba24b8fd",
    "scrolled": false
   },
   "outputs": [],
   "source": [
    "#hide_input\n",
    "\n",
    "fig1 = px.treemap(kuwait_df_plot, path=['Occupation','Nationality'], values='Age',title=\"Occupations by Nationaities, Educational Level, Age by Kuwaiti\")\n",
    "fig1.show()\n",
    "fig2 = px.treemap(non_kuwait_df_plot, path=['Occupation','Nationality'], values='Age',title=\"Occupations by Nationaities, Educational Level, Age by Non-Kuwaiti\")\n",
    "fig2.show()"
   ]
  },
  {
   "cell_type": "code",
   "execution_count": null,
   "id": "8f8cd654",
   "metadata": {},
   "outputs": [],
   "source": [
    "#hide_input\n",
    "a = dict(kuwait_df['Occupation'].value_counts())\n",
    "insight1 = pd.DataFrame()\n",
    "a = dict(sorted(a.items(), key=operator.itemgetter(1), reverse=True)[:10])\n",
    "insight1['Kuwaitis Occupation'] = a.keys()\n",
    "insight1['Total Count'] = a.values()\n",
    "insight1['Percentage'] = ((insight1['Total Count'] / 1224)*100).round(2) \n",
    "insight1['Percentage'] = insight1['Percentage'].astype(str) + '%'\n",
    "insight1 = insight1.sort_values(\"Kuwaitis Occupation\")\n",
    "insight1"
   ]
  },
  {
   "cell_type": "code",
   "execution_count": null,
   "id": "3807128c",
   "metadata": {},
   "outputs": [],
   "source": [
    "#hide_input\n",
    "b = dict(non_kuwait_df['Occupation'].value_counts())\n",
    "insight2 = pd.DataFrame()\n",
    "b = dict(sorted(b.items(), key=operator.itemgetter(1), reverse=True)[:10])\n",
    "insight2['Non-Kuwaitis Occupation'] = a.keys()\n",
    "insight2['Total Count'] = a.values()\n",
    "insight2['Percentage'] = ((insight2['Total Count'] / 46796)*100).round(2) \n",
    "insight2['Percentage'] = insight2['Percentage'].astype(str) + '%' \n",
    "insight2 = insight2.sort_values(\"Non-Kuwaitis Occupation\")\n",
    "insight2"
   ]
  },
  {
   "cell_type": "code",
   "execution_count": null,
   "id": "7ca79fac",
   "metadata": {},
   "outputs": [],
   "source": [
    "fig1 = px.bar(insight1,x=\"Kuwaitis Occupation\",y=\"Total Count\",color=\"Kuwaitis Occupation\",text=\"Percentage\",title = \"Top 10 Kuwaitis Occupations\")\n",
    "fig1.show()\n",
    "fig2 = px.bar(insight2,x=\"Non-Kuwaitis Occupation\",y=\"Total Count\",color=\"Non-Kuwaitis Occupation\",text=\"Percentage\",title = \"Top 10 Non-Kuwaitis Occupations\")\n",
    "fig2.show()"
   ]
  },
  {
   "cell_type": "markdown",
   "id": "94cf6d41",
   "metadata": {
    "id": "ba50c4c8"
   },
   "source": [
    "### Insight 6 : Occupations by all other nationalities, Educational Level , Age\n",
    "\n",
    "#### Compared to Kuwaiti having same Occupation"
   ]
  },
  {
   "cell_type": "code",
   "execution_count": null,
   "id": "78d1ca33",
   "metadata": {
    "id": "2c37e35f"
   },
   "outputs": [],
   "source": [
    "#hide_input\n",
    "\n",
    "insight6 = pd.DataFrame()\n",
    "insight6 = data.groupby([\"Occupation\",\"Nationality\",\"Educational Level\",\"Category\"])['Age'].mean().astype(int)\n",
    "insight6 = insight6.reset_index(\"Category\")\n",
    "insight6 = insight6.reset_index(\"Educational Level\")\n",
    "insight6 = insight6.reset_index(\"Nationality\")\n",
    "insight6 = insight6.reset_index(\"Occupation\")\n",
    "insight6 = insight6.sort_values(by=[\"Occupation\", \"Nationality\",\"Category\"])[[\"Occupation\", \"Nationality\",\"Category\",\"Age\"]]\n",
    "insight6 \n",
    "#required dataframe with params: Education, Nationality, Occupation, Age"
   ]
  },
  {
   "cell_type": "code",
   "execution_count": null,
   "id": "4db045a6",
   "metadata": {},
   "outputs": [],
   "source": [
    "kuwait_df = insight5[insight5['Category'] == \"Kuwaiti\"] #separating Kuwaiti\n",
    "kuwait_df = kuwait_df.sort_values(by=[\"Occupation\", \"Nationality\",\"Category\"])[[\"Occupation\", \"Nationality\",\"Category\",\"Age\"]]\n",
    "kuwait_df"
   ]
  },
  {
   "cell_type": "code",
   "execution_count": null,
   "id": "577d8eb4",
   "metadata": {},
   "outputs": [],
   "source": [
    "non_kuwait_df = insight5[insight5['Category'] == \"Non-Kuwaiti\"] #separating non-kuwaiti\n",
    "non_kuwait_df_plot = non_kuwait_df.sort_values(by=[\"Occupation\", \"Nationality\",\"Category\"])[[\"Occupation\", \"Nationality\",\"Category\",\"Age\"]]\n",
    "non_kuwait_df"
   ]
  },
  {
   "cell_type": "code",
   "execution_count": null,
   "id": "28def546",
   "metadata": {},
   "outputs": [],
   "source": [
    "x = non_kuwait_df[non_kuwait_df['Occupation'].isin(kuwait_df['Occupation'])] \n",
    "# comparing occupations : if occupation in non-kuwaitis dataframe is also present in kuwaitis dataframe\n",
    "x = x.sort_values(by=[\"Occupation\", \"Nationality\",\"Category\"])[[\"Occupation\", \"Nationality\",\"Category\",\"Age\"]]\n",
    "x"
   ]
  },
  {
   "cell_type": "code",
   "execution_count": null,
   "id": "3fc3e06d",
   "metadata": {},
   "outputs": [],
   "source": [
    "x = x.groupby([\"Occupation\",\"Nationality\"])['Age'].mean().round(2)#groupping occupations for simplification\n",
    "\n",
    "x = x.reset_index(\"Nationality\")\n",
    "x = x.reset_index(\"Occupation\")\n",
    "y = x.head(10)\n",
    "y = y.sort_values(by=[\"Occupation\", \"Nationality\"])[[\"Occupation\", \"Nationality\",\"Age\"]]\n",
    "y"
   ]
  },
  {
   "cell_type": "code",
   "execution_count": null,
   "id": "2dda95eb",
   "metadata": {
    "id": "a7864233"
   },
   "outputs": [],
   "source": [
    "#hide_input\n",
    "\n",
    "fig = px.treemap(y, path=['Nationality','Occupation'], values='Age',title=\"10 Occupations by all other Nationalities Compared to Kuwaiti having same Occupation\")\n",
    "fig.show()"
   ]
  },
  {
   "cell_type": "code",
   "execution_count": null,
   "id": "a3236bd1",
   "metadata": {},
   "outputs": [],
   "source": [
    "#hide_input\n",
    "a = dict(x['Occupation'].value_counts())\n",
    "insight1 = pd.DataFrame()\n",
    "a = dict(sorted(a.items(), key=operator.itemgetter(1), reverse=True)[:10])\n",
    "insight1['Occupation'] = a.keys()\n",
    "insight1['Total Count'] = a.values()\n",
    "insight1['Percentage'] = ((insight1['Total Count'] / 15287)*100).round(2) \n",
    "insight1['Percentage'] = insight1['Percentage'].astype(str) + '%'\n",
    "\n",
    "insight1 = insight1.sort_values('Occupation') #sorting in alphabetical order\n",
    "insight1"
   ]
  },
  {
   "cell_type": "code",
   "execution_count": null,
   "id": "3b39e2fb",
   "metadata": {},
   "outputs": [],
   "source": [
    "fig1 = px.bar(insight1,x=\"Occupation\",y=\"Total Count\",color=\"Occupation\",text=\"Percentage\",title = \"Top 10 Non-kuwaitis Occupation similar to Kuwaitis Occupations\")\n",
    "fig1.show()"
   ]
  },
  {
   "cell_type": "markdown",
   "id": "4261fc5f",
   "metadata": {
    "id": "7d9d5b7e"
   },
   "source": [
    "### INSIGHT 7 : OCCUPATIONS BY ALL OTHER NATIONALITIES, EDUCATION LEVEL, AGE\n",
    "\n",
    "#### COMPARED TO KUWAITI NOT HAVING SAME OCCUPATION"
   ]
  },
  {
   "cell_type": "code",
   "execution_count": null,
   "id": "bab29bb6",
   "metadata": {
    "id": "9de11148",
    "scrolled": false
   },
   "outputs": [],
   "source": [
    "#hide_input\n",
    "\n",
    "insight7 = pd.DataFrame()\n",
    "insight7 = data.groupby([\"Category\",\"Occupation\",\"Nationality\",\"Educational Level\"])['Age'].mean().astype(int)\n",
    "insight7 = insight7.reset_index(\"Category\")\n",
    "insight7 = insight7.reset_index(\"Educational Level\")\n",
    "insight7 = insight7.reset_index(\"Nationality\")\n",
    "insight7 = insight7.reset_index(\"Occupation\")\n",
    "insight7 = insight7.sort_values(by=[\"Occupation\", \"Nationality\",\"Educational Level\",\"Category\"])[[\"Occupation\", \"Nationality\",\"Educational Level\",\"Category\",\"Age\"]]\n",
    "insight7\n",
    "#required dataframe with params: Education, NAtionality, Occupation, Age\n"
   ]
  },
  {
   "cell_type": "code",
   "execution_count": null,
   "id": "92b43851",
   "metadata": {},
   "outputs": [],
   "source": [
    "kuwait_df = insight7[insight7['Category'] == \"Kuwaiti\"]\n",
    "kuwait_df = kuwait_df.sort_values(by=[\"Occupation\", \"Nationality\",\"Educational Level\",\"Category\"])[[\"Occupation\", \"Nationality\",\"Educational Level\",\"Category\",\"Age\"]]\n",
    "kuwait_df\n"
   ]
  },
  {
   "cell_type": "code",
   "execution_count": null,
   "id": "11d9796e",
   "metadata": {},
   "outputs": [],
   "source": [
    "non_kuwait_df = insight7[insight7['Category'] == \"Non-Kuwaiti\"]\n",
    "non_kuwait_df = non_kuwait_df.sort_values(by=[\"Occupation\", \"Nationality\",\"Educational Level\",\"Category\"])[[\"Occupation\", \"Nationality\",\"Educational Level\",\"Category\",\"Age\"]]\n",
    "non_kuwait_df"
   ]
  },
  {
   "cell_type": "code",
   "execution_count": null,
   "id": "736d04df",
   "metadata": {},
   "outputs": [],
   "source": [
    "rslt = non_kuwait_df[~ non_kuwait_df['Occupation'].isin(kuwait_df['Occupation'])]\n",
    "rslt = rslt.sort_values(by=[\"Occupation\", \"Nationality\",\"Educational Level\",\"Category\"])[[\"Occupation\", \"Nationality\",\"Educational Level\",\"Category\",\"Age\"]]\n",
    "rslt\n",
    "# finding occupations from non-kuwaitis dataframe tnat are not present in kuwaitis dataframe \n"
   ]
  },
  {
   "cell_type": "code",
   "execution_count": null,
   "id": "7d1c81d6",
   "metadata": {},
   "outputs": [],
   "source": [
    "y = rslt.groupby([\"Occupation\",\"Nationality\"])['Age'].mean().round(2)#groupping occupations for simplification\n",
    "y = y.reset_index(\"Nationality\")\n",
    "y = y.reset_index(\"Occupation\")\n",
    "z = y.head(10)\n",
    "z = z.sort_values(by=[\"Occupation\", \"Nationality\"])[[\"Occupation\", \"Nationality\",\"Age\"]]\n",
    "z"
   ]
  },
  {
   "cell_type": "code",
   "execution_count": null,
   "id": "de7c7971",
   "metadata": {
    "id": "6d7d9efd"
   },
   "outputs": [],
   "source": [
    "#hide_input\n",
    "\n",
    "fig = px.sunburst(z, path=['Occupation','Nationality'], values='Age',title = \"Occupations by Nationalities  Compared to Kuwaiti not having same Occupation\")\n",
    "fig.show()"
   ]
  },
  {
   "cell_type": "code",
   "execution_count": null,
   "id": "3df53e22",
   "metadata": {},
   "outputs": [],
   "source": [
    "#hide_input\n",
    "a = dict(y['Occupation'].value_counts())\n",
    "insight1 = pd.DataFrame()\n",
    "a = dict(sorted(a.items(), key=operator.itemgetter(1), reverse=True)[:10])\n",
    "insight1['Occupation'] = a.keys()\n",
    "insight1['Total Count'] = a.values()\n",
    "insight1['Percentage'] = ((insight1['Total Count'] / 15287)*100).round(2) \n",
    "insight1['Percentage'] = insight1['Percentage'].astype(str) + '%'\n",
    "\n",
    "insight1 = insight1.sort_values('Occupation')\n",
    "insight1#sorting in alphabetical order"
   ]
  },
  {
   "cell_type": "code",
   "execution_count": null,
   "id": "14b95004",
   "metadata": {},
   "outputs": [],
   "source": [
    "fig1 = px.bar(insight1,x=\"Occupation\",y=\"Total Count\",color=\"Occupation\",text=\"Percentage\",title = \"Top 10 Non-kuwaitis Occupation not similar to Kuwaitis Occupations\")\n",
    "fig1.show()"
   ]
  },
  {
   "cell_type": "markdown",
   "id": "058999ff",
   "metadata": {
    "id": "79bdadf8"
   },
   "source": [
    "### Insight 8 : Occupations by all other Nationalities, Education Level, Age\n",
    "\n",
    "#### Reaching Age of 60 in Next 5 Years"
   ]
  },
  {
   "cell_type": "code",
   "execution_count": null,
   "id": "9c4b729c",
   "metadata": {},
   "outputs": [],
   "source": [
    "#hide_input\n",
    "\n",
    "insight8 = pd.DataFrame()\n",
    "insight8 = data.groupby([\"Category\",\"Occupation\",\"Educational Level\"])['Age'].mean().astype(int)\n",
    "insight8 = insight8.reset_index(\"Category\")\n",
    "insight8 = insight8.reset_index(\"Educational Level\")\n",
    "insight8 = insight8.reset_index(\"Occupation\")\n",
    "insight8 = insight8.sort_values(by=[\"Occupation\", \"Educational Level\",\"Category\"])[[\"Occupation\", \"Educational Level\",\"Category\",\"Age\"]]\n",
    "insight8 \n",
    "#Required df with params: Nationality,Occupation, Age, Education"
   ]
  },
  {
   "cell_type": "code",
   "execution_count": null,
   "id": "2d1149b9",
   "metadata": {
    "id": "a62ee582"
   },
   "outputs": [],
   "source": [
    "##separating Kuwaitis: listing their Occupation, Educational Level and Mean age\n",
    "kuwait_df = insight8[insight8['Category'] == \"Kuwaiti\"] \n",
    "kuwait_df = kuwait_df.sort_values(by=[\"Occupation\", \"Educational Level\",\"Category\"])[[\"Occupation\", \"Educational Level\",\"Category\",\"Age\"]]\n",
    "kuwait_df"
   ]
  },
  {
   "cell_type": "code",
   "execution_count": null,
   "id": "199ef9ad",
   "metadata": {},
   "outputs": [],
   "source": [
    "#separating Non-Kuwaitis: listing their Occupation, Educational Level and Mean age\n",
    "non_kuwait_df = insight8[insight8['Category'] == \"Non-Kuwaiti\"] #creating a separate df for kuwaitis\n",
    "non_kuwait_df = non_kuwait_df.sort_values(by=[\"Occupation\", \"Educational Level\",\"Category\"])[[\"Occupation\", \"Educational Level\",\"Category\",\"Age\"]]\n",
    "non_kuwait_df"
   ]
  },
  {
   "cell_type": "code",
   "execution_count": null,
   "id": "6cca5234",
   "metadata": {
    "id": "468f4153"
   },
   "outputs": [],
   "source": [
    "x = non_kuwait_df[(non_kuwait_df['Occupation'].isin(kuwait_df['Occupation']))] \n",
    "x = x.sort_values(by=[\"Occupation\", \"Educational Level\",\"Category\"])[[\"Occupation\", \"Educational Level\",\"Category\",\"Age\"]]\n",
    "x\n",
    "# finding non-kuwaits occupations that are same as kuwaitis occupation"
   ]
  },
  {
   "cell_type": "code",
   "execution_count": null,
   "id": "3a7cdaba",
   "metadata": {},
   "outputs": [],
   "source": [
    "y = non_kuwait_df[(non_kuwait_df['Educational Level'].isin(kuwait_df['Educational Level']))] \n",
    "# finding Educational Level of Non-Kuwaitis that is same as Kuwaitis\n",
    "y = y.sort_values(by=[\"Occupation\", \"Educational Level\",\"Category\"])[[\"Occupation\", \"Educational Level\",\"Category\",\"Age\"]]\n",
    "y"
   ]
  },
  {
   "cell_type": "code",
   "execution_count": null,
   "id": "13451791",
   "metadata": {},
   "outputs": [],
   "source": [
    "#finding common rows between the two dfs:\n",
    "#non-kuwaitis that have same occupation as kuwaitis and same educational level as kuwaitis could be replaced in the future\n",
    "\n",
    "rslt_df = x.merge(y, how = 'inner' ,indicator=False)\n",
    "rslt_df = rslt_df.groupby([\"Occupation\",\"Educational Level\"])[\"Age\"].mean().astype(int)\n",
    "rslt_df = rslt_df.reset_index([\"Occupation\",\"Educational Level\"])\n",
    "rslt_df = rslt_df.sort_values(by=[\"Occupation\", \"Educational Level\"])[[\"Occupation\", \"Educational Level\",\"Age\"]]\n",
    "rslt_df"
   ]
  },
  {
   "cell_type": "markdown",
   "id": "84899778",
   "metadata": {},
   "source": [
    "The resultant dataframe shows occupation, educational level and mean age of the non-kuwaitis that could be replaced by Kuwaitis"
   ]
  },
  {
   "cell_type": "code",
   "execution_count": null,
   "id": "774b146b",
   "metadata": {},
   "outputs": [],
   "source": [
    "#hide_input\n",
    "\n",
    "five_years_to_be_sixty = rslt_df[rslt_df['Age'] == 55]\n",
    "five_to_sixty = len(five_years_to_be_sixty)\n",
    "five_years_to_be_sixty"
   ]
  },
  {
   "cell_type": "code",
   "execution_count": null,
   "id": "ff485b83",
   "metadata": {},
   "outputs": [],
   "source": [
    "#hide\n",
    "four_years_to_be_sixty = rslt_df[rslt_df['Age'] == 56]\n",
    "four_to_sixty = len(five_years_to_be_sixty)\n",
    "four_years_to_be_sixty"
   ]
  },
  {
   "cell_type": "code",
   "execution_count": null,
   "id": "6f944a79",
   "metadata": {},
   "outputs": [],
   "source": [
    "#hide\n",
    "three_years_to_be_sixty = rslt_df[rslt_df['Age'] == 57] \n",
    "three_to_sixty = len(three_years_to_be_sixty)\n",
    "three_years_to_be_sixty"
   ]
  },
  {
   "cell_type": "code",
   "execution_count": null,
   "id": "f44c8d82",
   "metadata": {},
   "outputs": [],
   "source": [
    "#hide\n",
    "two_years_to_be_sixty = rslt_df[rslt_df['Age'] == 58]\n",
    "two_to_sixty = len(two_years_to_be_sixty)\n",
    "two_years_to_be_sixty"
   ]
  },
  {
   "cell_type": "code",
   "execution_count": null,
   "id": "e22474bd",
   "metadata": {},
   "outputs": [],
   "source": [
    "#hide\n",
    "one_year_to_be_sixty = rslt_df[rslt_df['Age'] == 59]\n",
    "one_to_sixty = len(one_year_to_be_sixty)\n",
    "one_year_to_be_sixty"
   ]
  },
  {
   "cell_type": "code",
   "execution_count": null,
   "id": "200f6b1b",
   "metadata": {},
   "outputs": [],
   "source": [
    "#hide\n",
    "sixty_years = rslt_df[rslt_df['Age'] == 60]\n",
    "exact_sixty_years = len(sixty_years)\n",
    "sixty_years"
   ]
  },
  {
   "cell_type": "code",
   "execution_count": null,
   "id": "f5c69e95",
   "metadata": {},
   "outputs": [],
   "source": [
    "#hide_input\n",
    "\n",
    "#Performing calcualtions on the above dataframes\n",
    "total_people = five_to_sixty + four_to_sixty + three_to_sixty + two_to_sixty + one_to_sixty + exact_sixty_years\n",
    "\n",
    "f_to_sixty = (five_to_sixty / total_people)*100\n",
    "fo_to_sixty = (four_to_sixty / total_people)*100\n",
    "t_to_sixty = (three_to_sixty / total_people)*100\n",
    "tw_to_sixty = (two_to_sixty / total_people)*100\n",
    "o_to_sixty = (one_to_sixty / total_people)*100\n",
    "sixty = (exact_sixty_years / total_people)*100\n",
    "\n",
    "total = [five_to_sixty,four_to_sixty,three_to_sixty,two_to_sixty,one_to_sixty,exact_sixty_years]\n",
    "percentage = [f_to_sixty,fo_to_sixty,t_to_sixty,tw_to_sixty,o_to_sixty,sixty]"
   ]
  },
  {
   "cell_type": "code",
   "execution_count": null,
   "id": "36aef82a",
   "metadata": {},
   "outputs": [],
   "source": [
    "#hide_input\n",
    "resultant = pd.concat([five_years_to_be_sixty,four_years_to_be_sixty,three_years_to_be_sixty,two_years_to_be_sixty,one_year_to_be_sixty,sixty_years], axis=0)\n",
    "resultant"
   ]
  },
  {
   "cell_type": "code",
   "execution_count": null,
   "id": "5b23a9f7",
   "metadata": {},
   "outputs": [],
   "source": [
    "#hide_input\n",
    "resultant = resultant[0:10]\n",
    "fig = px.treemap(resultant, path=['Occupation','Educational Level','Age'], values='Age',title=\"Occupation by Non-Kuwaitis Reaching the Age of 60 in Next 5 YEARS Replaced by Kuwaitis\")\n",
    "fig.show()"
   ]
  },
  {
   "cell_type": "code",
   "execution_count": null,
   "id": "e099dc12",
   "metadata": {},
   "outputs": [],
   "source": [
    "total = [five_to_sixty,four_to_sixty,three_to_sixty,two_to_sixty,one_to_sixty,exact_sixty_years]\n",
    "percentage = [f_to_sixty,fo_to_sixty,t_to_sixty,tw_to_sixty,o_to_sixty,sixty]\n",
    "\n",
    "a = len(five_years_to_be_sixty['Occupation'].unique())\n",
    "b = len(four_years_to_be_sixty['Occupation'].unique())\n",
    "c = len(three_years_to_be_sixty['Occupation'].unique())\n",
    "d = len(two_years_to_be_sixty['Occupation'].unique())\n",
    "e = len(one_year_to_be_sixty['Occupation'].unique())\n",
    "f = len(sixty_years['Occupation'].unique())\n",
    "\n",
    "x = [a,b,c,d,e,f]\n",
    "\n",
    "insight38 = pd.DataFrame()\n",
    "insight38['Year'] = ['2021','2022','2023','2024','2025','2026']\n",
    "insight38['Total Count'] = total\n",
    "insight38['Percentage'] = percentage\n",
    "insight38['Percentage'] = insight38['Percentage'].round(2)\n",
    "insight38['Percentage'] = insight38['Percentage'].astype(str) + '%'\n",
    "insight38['Unique Occuaptions'] = x\n",
    "insight38"
   ]
  },
  {
   "cell_type": "code",
   "execution_count": null,
   "id": "74d95f4c",
   "metadata": {},
   "outputs": [],
   "source": [
    "#hide_input\n",
    "\n",
    "fig = px.funnel(insight38,x=\"Year\",y=\"Total Count\",color=\"Percentage\",text=\"Percentage\",title = \"Reaching age of 60 in Year\")\n",
    "fig.show()"
   ]
  },
  {
   "cell_type": "markdown",
   "id": "3f1b0e1b",
   "metadata": {
    "id": "a5746003"
   },
   "source": [
    "### Insight 9 : Occupations by all other Nationalities, Salary,Marital Status,  Age\n",
    "\n",
    "#### Kuwaiti Vs Non-Kuwaiti"
   ]
  },
  {
   "cell_type": "code",
   "execution_count": null,
   "id": "1150e4d0",
   "metadata": {
    "id": "769b1823"
   },
   "outputs": [],
   "source": [
    "#hide_input\n",
    "\n",
    "insight9 = pd.DataFrame()\n",
    "insight9 = data.groupby([\"Occupation\",\"Nationality\",\"Educational Level\",\"Marital Status\",\"Category\"])['Age'].mean()\n",
    "insight9 = insight9.reset_index(\"Category\")\n",
    "insight9 = insight9.reset_index(\"Marital Status\")\n",
    "insight9 = insight9.reset_index(\"Educational Level\")\n",
    "insight9 = insight9.reset_index(\"Nationality\")\n",
    "insight9 = insight9.reset_index(\"Occupation\")\n",
    "insight9 = insight9.sort_values(by=[\"Occupation\", \"Nationality\",\"Educational Level\",\"Marital Status\",\"Category\"])[[\"Occupation\", \"Nationality\",\"Educational Level\",\"Marital Status\",\"Category\",\"Age\"]]\n",
    "insight9\n",
    "#Creating dataframe of params : Education, NAtionality, Occupation, MArital Status \n",
    "\n"
   ]
  },
  {
   "cell_type": "code",
   "execution_count": null,
   "id": "7ae59c2e",
   "metadata": {},
   "outputs": [],
   "source": [
    "kuwait_df = insight9[insight9['Category'] == \"Kuwaiti\"] #separating Kuwaitis\n",
    "kuwait_df = kuwait_df.nlargest(10,'Age')#top 10\n",
    "kuwait_df = kuwait_df.sort_values(by=[\"Occupation\", \"Nationality\",\"Educational Level\",\"Marital Status\",\"Category\"])[[\"Occupation\", \"Nationality\",\"Educational Level\",\"Marital Status\",\"Category\",\"Age\"]]\n",
    "kuwait_df\n"
   ]
  },
  {
   "cell_type": "code",
   "execution_count": null,
   "id": "4356a69f",
   "metadata": {},
   "outputs": [],
   "source": [
    "non_kuwait_df = insight9[insight9['Category'] == \"Non-Kuwaiti\"] #separating Non-Kuwaitis\n",
    "non_kuwait_df = non_kuwait_df.nlargest(10,'Age')#top 10\n",
    "non_kuwait_df = non_kuwait_df.sort_values(by=[\"Occupation\", \"Nationality\",\"Educational Level\",\"Marital Status\",\"Category\"])[[\"Occupation\", \"Nationality\",\"Educational Level\",\"Marital Status\",\"Category\",\"Age\"]]\n",
    "non_kuwait_df"
   ]
  },
  {
   "cell_type": "code",
   "execution_count": null,
   "id": "dab00cae",
   "metadata": {
    "id": "cc1ad3a1"
   },
   "outputs": [],
   "source": [
    "#hide_input\n",
    "\n",
    "fig1 = px.sunburst(kuwait_df,title=\"Kuwaiti\",path=['Occupation','Nationality','Marital Status'], values='Age',color='Age', \n",
    "    hover_data=['Category','Occupation','Educational Level','Marital Status','Age'],color_continuous_scale='RdBu')\n",
    "\n",
    "fig1.show()\n",
    "\n",
    "fig2 = px.sunburst(non_kuwait_df,title=\"Non-Kuwaiti\",path=['Occupation','Nationality','Marital Status'], values='Age',color='Age', \n",
    "    hover_data=['Category','Occupation','Educational Level','Marital Status','Age'],color_continuous_scale='RdBu')\n",
    "\n",
    "fig2.show()"
   ]
  },
  {
   "cell_type": "code",
   "execution_count": null,
   "id": "2b677a61",
   "metadata": {
    "id": "e9aa7629"
   },
   "outputs": [],
   "source": []
  },
  {
   "cell_type": "markdown",
   "id": "7216c96a",
   "metadata": {
    "id": "b9cc7127"
   },
   "source": [
    "# BUSINESS PROBLEMS"
   ]
  },
  {
   "cell_type": "markdown",
   "id": "af0b14cc",
   "metadata": {
    "id": "67561319"
   },
   "source": [
    "### a: Total work force by Different Parameters"
   ]
  },
  {
   "cell_type": "code",
   "execution_count": null,
   "id": "adff5e3b",
   "metadata": {
    "id": "a6d5ae45"
   },
   "outputs": [],
   "source": [
    "#hide_input\n",
    "\n",
    "a = dict(data['Nationality'].value_counts())\n",
    "insight10 = pd.DataFrame()\n",
    "a = dict(sorted(a.items(), key=operator.itemgetter(1), reverse=True)[:10])\n",
    "insight10['Nationality'] = a.keys()\n",
    "insight10['Total Count'] = a.values()\n",
    "insight10['Percentage'] = ((insight10['Total Count'] / 1574040)*100).round(2) \n",
    "insight10['Percentage'] = insight10['Percentage'].astype(str) + '%'\n",
    "fig1 = px.treemap(insight10, path=['Nationality', 'Percentage'], values='Total Count',title=\"Total Workforce by Nationality\")\n",
    "fig1.show()\n",
    "\n",
    "k = dict(data['Category'].value_counts())\n",
    "insight20 = pd.DataFrame()\n",
    "k = dict(sorted(k.items(), key=operator.itemgetter(1), reverse=True)[:10])\n",
    "insight20['Category'] = k.keys()\n",
    "insight20['Total Count'] = k.values()\n",
    "insight20['Ranking'] = insight20.index+1\n",
    "insight20['Percentage'] = ((insight20['Total Count'] / 1574040)*100).round(2)\n",
    "insight20['Percentage'] = insight20['Percentage'].astype(str) + '%'\n",
    "fig12 = px.bar(insight20,x=\"Category\",y=\"Total Count\",color=\"Ranking\",text=\"Percentage\",title = \"TOTAL WORKFORCE BY CATEGORY\")\n",
    "fig12.show()\n",
    "\n",
    "c = dict(data['Occupation'].value_counts())\n",
    "insight12 = pd.DataFrame()\n",
    "c = dict(sorted(c.items(), key=operator.itemgetter(1), reverse=True)[:10])\n",
    "insight12['Occupation'] = c.keys()\n",
    "insight12['Total Count'] = c.values()\n",
    "insight12['Percentage'] = ((insight12['Total Count'] / 1574040)*100).round(2)\n",
    "insight12['Percentage'] = insight12['Percentage'].astype(str) + '%'\n",
    "fig3 = px.funnel(insight12, x='Occupation', y='Total Count',color=\"Occupation\",text=\"Percentage\", title = \"Total Workforce by Occupation\")\n",
    "fig3.show()"
   ]
  },
  {
   "cell_type": "code",
   "execution_count": null,
   "id": "e57c6483",
   "metadata": {
    "id": "d7ba3597"
   },
   "outputs": [],
   "source": [
    "#hide_input\n",
    "\n",
    "\n",
    "e = dict(data['Educational Level'].value_counts())\n",
    "insight14 = pd.DataFrame()\n",
    "e = dict(sorted(e.items(), key=operator.itemgetter(1), reverse=True)[:15])\n",
    "insight14['Educational Level'] = e.keys()\n",
    "insight14['Educational Level'] = insight14['Educational Level'].replace(r'^\\s*$', \"--\", regex=True)\n",
    "insight14['Total Count'] = e.values()\n",
    "insight14['Percentage'] = ((insight14['Total Count'] / 1574040)*100).round(2)\n",
    "insight14['Percentage'] = insight14['Percentage'].astype(str) + '%'\n",
    "fig5 = px.treemap(insight14, path=['Educational Level','Percentage'], values='Total Count',title = \"Total Workfoce by Educational Level\")\n",
    "fig5.show()\n",
    "\n",
    "f = dict(data['Governorate'].value_counts())\n",
    "insight15 = pd.DataFrame()\n",
    "f = dict(sorted(f.items(), key=operator.itemgetter(1), reverse=True)[:7])\n",
    "insight15['Governorate'] = f.keys()\n",
    "insight15['Total Count'] = f.values()\n",
    "insight15['Ranking'] = insight15.index+1\n",
    "insight15['Percentage'] = ((insight15['Total Count'] / 1574040)*100).round(2)\n",
    "insight15['Percentage'] = insight15['Percentage'].astype(str) + '%'\n",
    "fig = px.bar(insight15,x=\"Governorate\",y=\"Total Count\",color=\"Ranking\",text=\"Percentage\",title = \"Total Workfoce by Governorate\")\n",
    "fig.show()"
   ]
  },
  {
   "cell_type": "code",
   "execution_count": null,
   "id": "ef0d3f79",
   "metadata": {
    "id": "5600f6d2"
   },
   "outputs": [],
   "source": [
    "#hide_input\n",
    "h = dict(data['Company'].value_counts())\n",
    "insight17 = pd.DataFrame()\n",
    "h = dict(sorted(h.items(), key=operator.itemgetter(1), reverse=True)[:10])\n",
    "insight17['Company'] = h.keys()\n",
    "insight17['Total Count'] = h.values()\n",
    "insight17['Ranking'] = insight17.index+1\n",
    "insight17['Percentage'] = ((insight17['Total Count'] / 1574040)*100).round(2)\n",
    "insight17['Percentage'] = insight17['Percentage'].astype(str) + '%'\n",
    "fig8 = px.bar(insight17,x=\"Company\",y=\"Total Count\",color=\"Ranking\",text=\"Percentage\",title = \"Total Workforce By Companies\")\n",
    "fig8.show()\n",
    "\n",
    "top_5_HIRE_DATE = data['Hire Date'].value_counts().head(5)\n",
    "fig9 = px.bar(top_5_HIRE_DATE, title = 'Total Workforce by Hiring Months',color=top_5_HIRE_DATE)\n",
    "fig9.show()"
   ]
  },
  {
   "cell_type": "code",
   "execution_count": null,
   "id": "bed78956",
   "metadata": {
    "id": "bb9dc9fa"
   },
   "outputs": [],
   "source": [
    "#hide_input\n",
    "\n",
    "i = dict(data['Age'].value_counts())\n",
    "insight18 = pd.DataFrame()\n",
    "i = dict(sorted(i.items(), key=operator.itemgetter(1), reverse=True)[:25])\n",
    "insight18['Age'] = i.keys()\n",
    "insight18['Total Count'] = i.values()\n",
    "insight18['Percentage'] = ((insight18['Total Count'] / 1574040)*100).round(2)\n",
    "insight18['Percentage'] = insight18['Percentage'].astype(str) + '%'\n",
    "fig10 = px.bar(insight18,x=\"Age\",y=\"Total Count\",color=\"Age\",text=\"Percentage\",title = \"Total Workforce By Age\")\n",
    "fig10.show()\n",
    "\n",
    "i = dict(data['Age Group'].value_counts())\n",
    "insight18 = pd.DataFrame()\n",
    "i = dict(sorted(i.items(), key=operator.itemgetter(1), reverse=True)[:25])\n",
    "insight18['Age'] = i.keys()\n",
    "insight18['Total Count'] = i.values()\n",
    "insight18['Percentage'] = ((insight18['Total Count'] / 1574040)*100).round(2)\n",
    "insight18['Percentage'] = insight18['Percentage'].astype(str) + '%'\n",
    "fig10 = px.bar(insight18,x=\"Age\",y=\"Total Count\",color=\"Age\",text=\"Percentage\",title = \"Total Workforce By Age Group\")\n",
    "fig10.show()\n",
    "\n"
   ]
  },
  {
   "cell_type": "code",
   "execution_count": null,
   "id": "030e5b19",
   "metadata": {},
   "outputs": [],
   "source": [
    "j = dict(data['Salary'].value_counts())\n",
    "insight19 = pd.DataFrame()\n",
    "j = dict(sorted(j.items(), key=operator.itemgetter(1), reverse=True)[:10])\n",
    "insight19['Salary'] = j.keys()\n",
    "insight19['Total Count'] = j.values()\n",
    "insight19['Percentage'] = ((insight19['Total Count'] / 1574040)*100).round(2)\n",
    "insight19['Percentage'] = insight19['Percentage'].astype(str) + '%'\n",
    "fig11 = px.bar(insight19,x=\"Salary\",y=\"Total Count\",color=\"Salary\",text=\"Percentage\",title = \"Total Workforce By Salary\")\n",
    "fig11.show()"
   ]
  },
  {
   "cell_type": "code",
   "execution_count": null,
   "id": "dd068208",
   "metadata": {
    "id": "9e120227"
   },
   "outputs": [],
   "source": [
    "#hide_input\n",
    "\n",
    "l = dict(data['Gender'].value_counts())\n",
    "insight20 = pd.DataFrame()\n",
    "l = dict(sorted(l.items(), key=operator.itemgetter(1), reverse=True)[:2])\n",
    "insight20['Gender'] = l.keys()\n",
    "insight20['Total Count'] = l.values()\n",
    "insight20['Percentage'] = ((insight20['Total Count'] / 1574040)*100).round(2)\n",
    "insight20['Percentage'] = insight20['Percentage'].astype(str) + '%'\n",
    "fig21 = px.bar(insight20,x=\"Gender\",y=\"Total Count\",color=\"Gender\",text=\"Percentage\",title = \"Total Workfoce by Gender\")\n",
    "fig21.show()\n",
    "\n",
    "\n",
    "g = dict(data['Marital Status'].value_counts())\n",
    "insight16 = pd.DataFrame()\n",
    "g = dict(sorted(g.items(), key=operator.itemgetter(1), reverse=True)[:6])\n",
    "insight16['Marital Status'] = g.keys()\n",
    "#insight16['Marital Status'] = insight16['Marital Status'].replace(r'^\\s*$', \" -- \", regex=True)\n",
    "insight16['Total Count'] = g.values()\n",
    "insight16['Percentage'] = ((insight16['Total Count'] / 1574040)*100).round(2)\n",
    "insight16['Percentage'] = insight16['Percentage'].astype(str) + '%'\n",
    "fig7 = px.bar(insight16,x=\"Marital Status\",y=\"Total Count\",color=\"Marital Status\",text=\"Percentage\",title = \"Total Workfoce by Marital Status\")\n",
    "fig7.show()"
   ]
  },
  {
   "cell_type": "markdown",
   "id": "cb7696a5",
   "metadata": {
    "id": "c4e75a3b"
   },
   "source": [
    "#### b: What are the Occupations That are held by  Non-Kuwaitis and can be replaced by Kuwaitis "
   ]
  },
  {
   "cell_type": "code",
   "execution_count": null,
   "id": "73707c1d",
   "metadata": {
    "id": "46fb009e"
   },
   "outputs": [],
   "source": [
    "#hide_input\n",
    "insight21 = pd.DataFrame()\n",
    "insight21 = data.groupby([\"Category\",\"Occupation\",\"Educational Level\"])['Age'].mean().astype(int)\n",
    "insight21 = insight21.reset_index(\"Category\")\n",
    "insight21 = insight21.reset_index(\"Educational Level\")\n",
    "insight21 = insight21.reset_index(\"Occupation\")\n",
    "insight21 = insight21.sort_values(by=[\"Occupation\", \"Educational Level\",\"Category\"])[[\"Occupation\", \"Educational Level\",\"Category\",\"Age\"]]\n",
    "insight21\n",
    "#Required df with params: Nationality,Occupation, Age, Education"
   ]
  },
  {
   "cell_type": "code",
   "execution_count": null,
   "id": "53222afc",
   "metadata": {},
   "outputs": [],
   "source": [
    "#separating Kuwaitis: listing their Occupation, Educational Level and Mean age\n",
    "kuwait_df = insight21[insight21['Category'] == \"Kuwaiti\"] \n",
    "kuwait_df = kuwait_df.sort_values(by=[\"Occupation\", \"Educational Level\",\"Category\"])[[\"Occupation\", \"Educational Level\",\"Category\",\"Age\"]]\n",
    "kuwait_df"
   ]
  },
  {
   "cell_type": "code",
   "execution_count": null,
   "id": "9b7f5601",
   "metadata": {},
   "outputs": [],
   "source": [
    "#separating Non - kuwaitis: listing their Occupation, Educational Level and Mean age\n",
    "non_kuwait_df = insight21[insight21['Category'] == \"Non-Kuwaiti\"] \n",
    "non_kuwait_df = non_kuwait_df.sort_values(by=[\"Occupation\", \"Educational Level\",\"Category\"])[[\"Occupation\", \"Educational Level\",\"Category\",\"Age\"]]\n",
    "non_kuwait_df"
   ]
  },
  {
   "cell_type": "code",
   "execution_count": null,
   "id": "4caac4d0",
   "metadata": {},
   "outputs": [],
   "source": [
    "x = non_kuwait_df[(non_kuwait_df['Occupation'].isin(kuwait_df['Occupation']))] \n",
    "# finding non-kuwaits occupations that are same as kuwaitis occupation\n",
    "x = x.sort_values(by=[\"Occupation\", \"Educational Level\",\"Category\"])[[\"Occupation\", \"Educational Level\",\"Category\",\"Age\"]]\n",
    "x"
   ]
  },
  {
   "cell_type": "code",
   "execution_count": null,
   "id": "82f36da3",
   "metadata": {},
   "outputs": [],
   "source": [
    "y = non_kuwait_df[(non_kuwait_df['Educational Level'].isin(kuwait_df['Educational Level']))] \n",
    "# finding Educational Level of Non-Kuwaitis that is same as Kuwaitis in order to match level for replacement\n",
    "y = y.sort_values(by=[\"Occupation\", \"Educational Level\",\"Category\"])[[\"Occupation\", \"Educational Level\",\"Category\",\"Age\"]]\n",
    "y"
   ]
  },
  {
   "cell_type": "code",
   "execution_count": null,
   "id": "67969439",
   "metadata": {},
   "outputs": [],
   "source": [
    "#finding common rows between the two dfs:\n",
    "#non-kuwaitis that have same occupation as kuwaitis and same educational level as kuwaitis could be replaced in the future\n",
    "\n",
    "rslt_df = x.merge(y, how = 'inner' ,indicator=False)\n",
    "rslt_df = rslt_df.groupby([\"Occupation\",\"Educational Level\"])[\"Age\"].mean().astype(int)\n",
    "rslt_df = rslt_df.reset_index([\"Occupation\",\"Educational Level\"])\n",
    "rslt_df = rslt_df.sort_values(by=[\"Occupation\", \"Educational Level\"])[[\"Occupation\", \"Educational Level\",\"Age\"]]\n",
    "rslt_df"
   ]
  },
  {
   "cell_type": "markdown",
   "id": "eeed6821",
   "metadata": {
    "id": "474cb9a2"
   },
   "source": [
    "**The resultant dataframe shows occupation, educational level and mean age of the non-kuwaitis that could be replaced by Kuwaitis** \n",
    "\n",
    " "
   ]
  },
  {
   "cell_type": "code",
   "execution_count": null,
   "id": "f2f781d0",
   "metadata": {
    "id": "51b71997"
   },
   "outputs": [],
   "source": [
    "#hide_input\n",
    "#finding top 10 occupations\n",
    "print(\"Number of Unique Occupations : \",len(rslt_df['Occupation'].unique()))\n",
    "m = dict(rslt_df['Occupation'].value_counts())\n",
    "insight21 = pd.DataFrame()\n",
    "m = dict(sorted(m.items(), key=operator.itemgetter(1), reverse=True)[:10])\n",
    "insight21['Occupations'] = m.keys()\n",
    "insight21['Total Count'] = m.values()\n",
    "insight21['Percentage'] = ((insight21['Total Count'] / 3443)*100).round(2) \n",
    "insight21['Percentage'] = insight21['Percentage'].astype(str) + '%'\n",
    "insight21.sort_values('Occupations')"
   ]
  },
  {
   "cell_type": "code",
   "execution_count": null,
   "id": "9bb13cfa",
   "metadata": {
    "id": "9d0f0dba"
   },
   "outputs": [],
   "source": [
    "#hide_input\n",
    "\n",
    "fig = px.pie(insight21, values='Total Count', names='Occupations',hole=0.4,title = \"Occupations that are held by Non-Kuwaitis and can be replaced by Kuwaitis\")\n",
    "fig.update_traces(textposition='inside', textinfo='value+percent')\n",
    "fig.show()"
   ]
  },
  {
   "cell_type": "code",
   "execution_count": null,
   "id": "43d97a40",
   "metadata": {},
   "outputs": [],
   "source": []
  },
  {
   "cell_type": "markdown",
   "id": "8269d30a",
   "metadata": {
    "id": "c1c8f03b"
   },
   "source": [
    "### c: What are the Occupations that are held by Non-Kuwaitis those will be reaching the age of 60 in next 5 Years which can be replaced by Kuwaitis"
   ]
  },
  {
   "cell_type": "code",
   "execution_count": null,
   "id": "280206f5",
   "metadata": {
    "id": "c11b8fb6"
   },
   "outputs": [],
   "source": [
    "#hide_input\n",
    "\n",
    "insight23 = pd.DataFrame()\n",
    "insight23 = data.groupby([\"Category\",\"Occupation\",\"Educational Level\"])['Age'].mean().astype(int)\n",
    "insight23 = insight23.reset_index(\"Category\")\n",
    "insight23 = insight23.reset_index(\"Educational Level\")\n",
    "insight23 = insight23.reset_index(\"Occupation\")\n",
    "insight23 = insight23.sort_values(by=[\"Occupation\", \"Educational Level\",\"Category\"])[[\"Occupation\", \"Educational Level\",\"Category\",\"Age\"]]\n",
    "insight23 \n",
    "#Required df with params: Nationality,Occupation, Age, Education"
   ]
  },
  {
   "cell_type": "code",
   "execution_count": null,
   "id": "f28e3fc9",
   "metadata": {},
   "outputs": [],
   "source": [
    "#separating Kuwaitis: listing their Occupation, Educational Level and Mean age\n",
    "kuwait_df = insight23[insight23['Category'] == \"Kuwaiti\"] \n",
    "kuwait_df = kuwait_df.sort_values(by=[\"Occupation\", \"Educational Level\",\"Category\"])[[\"Occupation\", \"Educational Level\",\"Category\",\"Age\"]]\n",
    "kuwait_df\n"
   ]
  },
  {
   "cell_type": "code",
   "execution_count": null,
   "id": "815df357",
   "metadata": {},
   "outputs": [],
   "source": [
    "#separating Non-Kuwaitis: listing their Occupation, Educational Level and Mean age\n",
    "non_kuwait_df = insight23[insight23['Category'] == \"Non-Kuwaiti\"] #creating a separate df for kuwaitis\n",
    "non_kuwait_df = non_kuwait_df.sort_values(by=[\"Occupation\", \"Educational Level\",\"Category\"])[[\"Occupation\", \"Educational Level\",\"Category\",\"Age\"]]\n",
    "non_kuwait_df\n"
   ]
  },
  {
   "cell_type": "code",
   "execution_count": null,
   "id": "9462f960",
   "metadata": {},
   "outputs": [],
   "source": [
    "x = non_kuwait_df[(non_kuwait_df['Occupation'].isin(kuwait_df['Occupation']))] \n",
    "x = x.sort_values(by=[\"Occupation\", \"Educational Level\",\"Category\"])[[\"Occupation\", \"Educational Level\",\"Category\",\"Age\"]]\n",
    "x\n",
    "# finding non-kuwaits occupations that are same as kuwaitis occupation \n"
   ]
  },
  {
   "cell_type": "code",
   "execution_count": null,
   "id": "cc5aade0",
   "metadata": {},
   "outputs": [],
   "source": [
    "y = non_kuwait_df[(non_kuwait_df['Educational Level'].isin(kuwait_df['Educational Level']))] \n",
    "# finding Educational Level of Non-Kuwaitis that is same as Kuwaitis\n",
    "y = y.sort_values(by=[\"Occupation\", \"Educational Level\",\"Category\"])[[\"Occupation\", \"Educational Level\",\"Category\",\"Age\"]]\n",
    "y\n"
   ]
  },
  {
   "cell_type": "code",
   "execution_count": null,
   "id": "228732d9",
   "metadata": {},
   "outputs": [],
   "source": [
    "#finding common rows between the two dfs:\n",
    "#non-kuwaitis that have same occupation as kuwaitis and same educational level as kuwaitis could be replaced in the future\n",
    "\n",
    "rslt_df = x.merge(y, how = 'inner' ,indicator=False)\n",
    "rslt_df = rslt_df.groupby([\"Occupation\",\"Educational Level\"])[\"Age\"].mean().astype(int)\n",
    "rslt_df = rslt_df.reset_index([\"Occupation\",\"Educational Level\"])\n",
    "rslt_df = rslt_df.sort_values(by=[\"Occupation\", \"Educational Level\"])[[\"Occupation\", \"Educational Level\",\"Age\"]]\n",
    "rslt_df"
   ]
  },
  {
   "cell_type": "markdown",
   "id": "c2e8afc7",
   "metadata": {},
   "source": [
    "**The resultant dataframe shows occupation, educational level and mean age of the non-kuwaitis that could be replaced by Kuwaitis**"
   ]
  },
  {
   "cell_type": "code",
   "execution_count": null,
   "id": "8bad0397",
   "metadata": {
    "id": "f9eba684"
   },
   "outputs": [],
   "source": [
    "#hide\n",
    "\n",
    "five_years_to_be_sixty = rslt_df[rslt_df['Age'] == 55]\n",
    "five_to_sixty = len(five_years_to_be_sixty)\n",
    "five_years_to_be_sixty"
   ]
  },
  {
   "cell_type": "code",
   "execution_count": null,
   "id": "ead1b804",
   "metadata": {},
   "outputs": [],
   "source": [
    "#hide\n",
    "four_years_to_be_sixty = rslt_df[rslt_df['Age'] == 56]\n",
    "four_to_sixty = len(five_years_to_be_sixty)\n",
    "four_years_to_be_sixty\n"
   ]
  },
  {
   "cell_type": "code",
   "execution_count": null,
   "id": "f02e167d",
   "metadata": {},
   "outputs": [],
   "source": [
    "#hide\n",
    "three_years_to_be_sixty = rslt_df[rslt_df['Age'] == 57] \n",
    "three_to_sixty = len(three_years_to_be_sixty)\n",
    "three_years_to_be_sixty\n"
   ]
  },
  {
   "cell_type": "code",
   "execution_count": null,
   "id": "2a739a6f",
   "metadata": {},
   "outputs": [],
   "source": [
    "#hide\n",
    "two_years_to_be_sixty = rslt_df[rslt_df['Age'] == 58]\n",
    "two_to_sixty = len(two_years_to_be_sixty)\n",
    "two_years_to_be_sixty\n"
   ]
  },
  {
   "cell_type": "code",
   "execution_count": null,
   "id": "4f76ecbd",
   "metadata": {},
   "outputs": [],
   "source": [
    "#hide\n",
    "one_year_to_be_sixty = rslt_df[rslt_df['Age'] == 59]\n",
    "one_to_sixty = len(one_year_to_be_sixty)\n",
    "one_year_to_be_sixty\n"
   ]
  },
  {
   "cell_type": "code",
   "execution_count": null,
   "id": "6ce30c5f",
   "metadata": {},
   "outputs": [],
   "source": [
    "#hide\n",
    "sixty_years = rslt_df[rslt_df['Age'] == 60]\n",
    "exact_sixty_years = len(sixty_years)\n",
    "sixty_years\n"
   ]
  },
  {
   "cell_type": "code",
   "execution_count": null,
   "id": "d29a29e9",
   "metadata": {
    "id": "acf44dc8"
   },
   "outputs": [],
   "source": [
    "#hide\n",
    "\n",
    "#Performing calcualtions on the above dataframes\n",
    "total_people = five_to_sixty + four_to_sixty + three_to_sixty + two_to_sixty + one_to_sixty + exact_sixty_years\n",
    "\n",
    "f_to_sixty = (five_to_sixty / total_people)*100\n",
    "fo_to_sixty = (four_to_sixty / total_people)*100\n",
    "t_to_sixty = (three_to_sixty / total_people)*100\n",
    "tw_to_sixty = (two_to_sixty / total_people)*100\n",
    "o_to_sixty = (one_to_sixty / total_people)*100\n",
    "sixty = (exact_sixty_years / total_people)*100\n",
    "\n",
    "total = [five_to_sixty,four_to_sixty,three_to_sixty,two_to_sixty,one_to_sixty,exact_sixty_years]\n",
    "percentage = [f_to_sixty,fo_to_sixty,t_to_sixty,tw_to_sixty,o_to_sixty,sixty]"
   ]
  },
  {
   "cell_type": "code",
   "execution_count": null,
   "id": "9020adaa",
   "metadata": {
    "id": "6bb8cf81"
   },
   "outputs": [],
   "source": [
    "#hide_input\n",
    "resultant = pd.concat([five_years_to_be_sixty,four_years_to_be_sixty,three_years_to_be_sixty,two_years_to_be_sixty,one_year_to_be_sixty,sixty_years], axis=0)\n",
    "resultant"
   ]
  },
  {
   "cell_type": "code",
   "execution_count": null,
   "id": "c462db80",
   "metadata": {
    "id": "b55f4a24",
    "scrolled": false
   },
   "outputs": [],
   "source": [
    "#hide_input\n",
    "resultant = resultant[0:10]\n",
    "fig = px.treemap(resultant, path=['Occupation','Educational Level','Age'], values='Age',title=\"Occupation by Non-Kuwaitis Reaching the Age of 60 in Next 5 YEARS Replaced by Kuwaitis\")\n",
    "fig.show()"
   ]
  },
  {
   "cell_type": "code",
   "execution_count": null,
   "id": "123bb818",
   "metadata": {},
   "outputs": [],
   "source": [
    "total = [five_to_sixty,four_to_sixty,three_to_sixty,two_to_sixty,one_to_sixty,exact_sixty_years]\n",
    "percentage = [f_to_sixty,fo_to_sixty,t_to_sixty,tw_to_sixty,o_to_sixty,sixty]\n",
    "\n",
    "a = len(five_years_to_be_sixty['Occupation'].unique())\n",
    "b = len(four_years_to_be_sixty['Occupation'].unique())\n",
    "c = len(three_years_to_be_sixty['Occupation'].unique())\n",
    "d = len(two_years_to_be_sixty['Occupation'].unique())\n",
    "e = len(one_year_to_be_sixty['Occupation'].unique())\n",
    "f = len(sixty_years['Occupation'].unique())\n",
    "\n",
    "x = [a,b,c,d,e,f]\n",
    "\n",
    "insight38 = pd.DataFrame()\n",
    "insight38['Year'] = ['2021','2022','2023','2024','2025','2026']\n",
    "insight38['Total Count'] = total\n",
    "insight38['Percentage'] = percentage\n",
    "insight38['Percentage'] = insight38['Percentage'].round(2)\n",
    "insight38['Percentage'] = insight38['Percentage'].astype(str) + '%'\n",
    "insight38['Unique Occuaptions'] = x\n",
    "insight38"
   ]
  },
  {
   "cell_type": "code",
   "execution_count": null,
   "id": "72f738d0",
   "metadata": {},
   "outputs": [],
   "source": [
    "#hide_input\n",
    "\n",
    "fig = px.funnel(insight38,x=\"Year\",y=\"Total Count\",color=\"Percentage\",text=\"Percentage\",title = \"Reaching age of 60 in Year\")\n",
    "fig.show()"
   ]
  },
  {
   "cell_type": "code",
   "execution_count": null,
   "id": "29cc830a",
   "metadata": {},
   "outputs": [],
   "source": [
    "y = [five_to_sixty,five_to_sixty-four_to_sixty,four_to_sixty-three_to_sixty,three_to_sixty-two_to_sixty,two_to_sixty-one_to_sixty,one_to_sixty-exact_sixty_years]\n",
    "fig = go.Figure(go.Waterfall(\n",
    "    name = \"20\", orientation = \"v\",\n",
    "    measure = [\"relative\", \"relative\", \"relative\", \"relative\", \"relative\", \"relative\"],\n",
    "    x = insight38['Year'],\n",
    "    textposition = \"outside\",\n",
    "    text = y,\n",
    "    y = y,\n",
    "    connector = {\"line\":{\"color\":\"rgb(63, 63, 63)\"}},\n",
    "))\n",
    "\n",
    "fig.update_layout(\n",
    "        title = \"Difference Chart For 5 Years\",\n",
    "        showlegend = True\n",
    ")\n",
    "\n",
    "fig.show()"
   ]
  },
  {
   "cell_type": "markdown",
   "id": "52665636",
   "metadata": {
    "id": "eea91b8c"
   },
   "source": [
    "### d: What/Who are the Employers Those who hire most of the Non-Kuwaitis and can be replaced by Kuwaitis"
   ]
  },
  {
   "cell_type": "code",
   "execution_count": null,
   "id": "5c08a482",
   "metadata": {
    "id": "eb437105"
   },
   "outputs": [],
   "source": [
    "#hide_input\n",
    "\n",
    "insight22 = pd.DataFrame()\n",
    "insight22 = data.groupby([\"Occupation\",\"Company\",\"Educational Level\",\"Category\"])['Age'].mean().round(2)\n",
    "insight22 = insight22.reset_index(\"Category\")\n",
    "insight22 = insight22.reset_index(\"Educational Level\")\n",
    "insight22 = insight22.reset_index(\"Occupation\")\n",
    "insight22 = insight22.reset_index(\"Company\")\n",
    "insight22 = insight22.sort_values(by=[\"Company\",\"Occupation\", \"Educational Level\",\"Category\"])[[\"Company\",\"Occupation\", \"Educational Level\",\"Category\",\"Age\"]]\n",
    "insight22 \n",
    "####### Required df with params: Company,Nationality,Occupation, Age, Education\n"
   ]
  },
  {
   "cell_type": "code",
   "execution_count": null,
   "id": "dad17cd1",
   "metadata": {},
   "outputs": [],
   "source": [
    "kuwait_df = insight22[insight22['Category'] == \"Kuwaiti\"] #creating a separate df for kuwaitis \n",
    "kuwait_df\n"
   ]
  },
  {
   "cell_type": "code",
   "execution_count": null,
   "id": "89930984",
   "metadata": {},
   "outputs": [],
   "source": [
    "non_kuwait_df = insight22[insight22['Category'] == \"Non-Kuwaiti\"] #creating a separate df for non -kuwaitis\n",
    "non_kuwait_df\n"
   ]
  },
  {
   "cell_type": "code",
   "execution_count": null,
   "id": "1182889a",
   "metadata": {},
   "outputs": [],
   "source": [
    "x = non_kuwait_df[(non_kuwait_df['Occupation'].isin(kuwait_df['Occupation']))] \n",
    "# finding non-kuwaits occupations that are same as kuwaitis occupation \n",
    "x\n"
   ]
  },
  {
   "cell_type": "code",
   "execution_count": null,
   "id": "8b62e9d1",
   "metadata": {},
   "outputs": [],
   "source": [
    "y = non_kuwait_df[(non_kuwait_df['Educational Level'].isin(kuwait_df['Educational Level']))] # finding Educational Level of Non-Kuwaitis that is same as Kuwaitis\n",
    "y"
   ]
  },
  {
   "cell_type": "code",
   "execution_count": null,
   "id": "db56bf45",
   "metadata": {},
   "outputs": [],
   "source": [
    "z = non_kuwait_df[(non_kuwait_df['Company'].isin(kuwait_df['Company']))]# finding Company of Non-Kuwaitis that is same as Kuwaitis\n",
    "\n",
    "z"
   ]
  },
  {
   "cell_type": "code",
   "execution_count": null,
   "id": "5ad87213",
   "metadata": {},
   "outputs": [],
   "source": [
    "\n",
    "rslt_df = x.merge(z, how = 'inner' ,indicator=False) #first finding common rows on the basis of similar occupation + company\n",
    "rslt_df1 = x.merge(y, how = 'inner' ,indicator=False)#first finding common rows on the basis of similar occupation + educational level\n",
    "rslt_df1 = rslt_df1.merge(rslt_df, how = 'inner' ,indicator=False)\n",
    "rslt_df1"
   ]
  },
  {
   "cell_type": "markdown",
   "id": "04f71444",
   "metadata": {
    "id": "95756547"
   },
   "source": [
    "**The resultant dataframe shows the company,occupation,nationality, educational level and mean age of the non-kuwaits** \n",
    "\n"
   ]
  },
  {
   "cell_type": "code",
   "execution_count": null,
   "id": "61f5497b",
   "metadata": {
    "id": "79eb9e3d"
   },
   "outputs": [],
   "source": [
    "#hide_input\n",
    "#finding top 10 companies \n",
    "print(\"Number of UNIQUE Companies : \",len(rslt_df1['Company'].unique()))\n",
    "n = dict(rslt_df1['Company'].value_counts())\n",
    "insight22 = pd.DataFrame()\n",
    "n = dict(sorted(n.items(), key=operator.itemgetter(1), reverse=True)[:10])\n",
    "insight22['Company'] = n.keys()\n",
    "insight22['Total Count'] = n.values()\n",
    "insight22['Percentage'] = ((insight22['Total Count'] / 22999)*100).round(2) \n",
    "insight22['Percentage'] = insight22['Percentage'].astype(str) + '%'\n",
    "insight22"
   ]
  },
  {
   "cell_type": "code",
   "execution_count": null,
   "id": "fcbe4d17",
   "metadata": {
    "id": "67f7837b"
   },
   "outputs": [],
   "source": [
    "#hide_input\n",
    "fig = px.pie(insight22, values='Total Count', names='Company',hole=0.4,title = \"Employers who hire most of the Non-Kuwaitis and can be replaced by Kuwaitis\")\n",
    "fig.update_traces(textposition='inside', textinfo='value+percent')\n",
    "fig.show()"
   ]
  },
  {
   "cell_type": "code",
   "execution_count": null,
   "id": "31b94e59",
   "metadata": {},
   "outputs": [],
   "source": []
  },
  {
   "cell_type": "code",
   "execution_count": null,
   "id": "e00e6276",
   "metadata": {},
   "outputs": [],
   "source": []
  },
  {
   "cell_type": "markdown",
   "id": "616056ca",
   "metadata": {},
   "source": [
    "# Age Group Distribution"
   ]
  },
  {
   "cell_type": "code",
   "execution_count": null,
   "id": "d71ad452",
   "metadata": {},
   "outputs": [],
   "source": []
  },
  {
   "cell_type": "code",
   "execution_count": null,
   "id": "3c5102d7",
   "metadata": {},
   "outputs": [],
   "source": [
    "#hide_input\n",
    "a = dict(data['Age Group'].value_counts())\n",
    "insight1 = pd.DataFrame()\n",
    "a = dict(sorted(a.items(), key=operator.itemgetter(1), reverse=True)[:10])\n",
    "insight1['Age Group'] = a.keys()\n",
    "insight1['Total Count'] = a.values()\n",
    "insight1['Percentage'] = ((insight1['Total Count'] / 1574040)*100).round(2) \n",
    "insight1['Percentage'] = insight1['Percentage'].astype(str) + '%'\n",
    "insight1['Ranking'] = insight1.index+1\n",
    "insight1 = insight1.sort_values('Age Group') #sorting in alphabetical order\n",
    "insight1"
   ]
  },
  {
   "cell_type": "code",
   "execution_count": null,
   "id": "e05b0943",
   "metadata": {},
   "outputs": [],
   "source": [
    "#hide_input\n",
    "fig = px.bar(insight1,x=\"Age Group\",y=\"Total Count\",color=\"Ranking\",text=\"Percentage\",title = \"Age Groups Distribution\")\n",
    "fig.show()"
   ]
  },
  {
   "cell_type": "markdown",
   "id": "e5e66312",
   "metadata": {},
   "source": [
    "# Age Groups by Gender"
   ]
  },
  {
   "cell_type": "code",
   "execution_count": null,
   "id": "d9b658b5",
   "metadata": {},
   "outputs": [],
   "source": [
    "insight = pd.DataFrame()\n",
    "insight['Age Group'] = data['Age Group']\n",
    "insight['Gender'] = data['Gender']"
   ]
  },
  {
   "cell_type": "code",
   "execution_count": null,
   "id": "a21a56e1",
   "metadata": {},
   "outputs": [],
   "source": [
    "female_df = insight[insight['Gender'] == \"انثى\"] \n",
    "female_df = female_df.groupby(['Age Group']).Gender.agg('count').to_frame('Total Count').reset_index()\n",
    "female_df['Percentage'] = ((female_df['Total Count']/167880)*100).round(2)\n",
    "female_df['Percentage'] = female_df['Percentage'].astype(str) + '%'\n",
    "female_df\n"
   ]
  },
  {
   "cell_type": "code",
   "execution_count": null,
   "id": "94e841ea",
   "metadata": {},
   "outputs": [],
   "source": [
    "fig = px.bar(female_df,x=\"Age Group\",y=\"Total Count\",color=\"Age Group\",text=\"Percentage\",title = \"Female Distribution by age Groups\")\n",
    "fig.show()"
   ]
  },
  {
   "cell_type": "code",
   "execution_count": null,
   "id": "bd1d6805",
   "metadata": {},
   "outputs": [],
   "source": [
    "fig = go.Figure(go.Waterfall(\n",
    "    measure = [\"relative\", \"relative\", \"relative\", \"relative\", \"relative\", \"relative\",\"relative\", \"relative\", \n",
    "                              \"relative\", \"relative\", \"relative\", \"relative\", \"relative\", \"relative\"],\n",
    "    y = female_df['Total Count'],\n",
    "    x = female_df['Age Group'],\n",
    "    connector = {\"mode\":\"between\", \"line\":{\"width\":4, \"color\":\"rgb(0, 0, 0)\", \"dash\":\"solid\"}}\n",
    "))\n",
    "\n",
    "fig.update_layout(title = \"Age Groups\")\n",
    "\n",
    "fig.show()"
   ]
  },
  {
   "cell_type": "code",
   "execution_count": null,
   "id": "682f7ccf",
   "metadata": {},
   "outputs": [],
   "source": [
    "male_df = insight[insight['Gender'] == \"ذكر\"] \n",
    "male_df = male_df.groupby(['Age Group']).Gender.agg('count').to_frame('Total Count').reset_index()\n",
    "male_df['Percentage'] = ((male_df['Total Count']/1406082)*100).round(2)\n",
    "male_df['Percentage'] = male_df['Percentage'].astype(str) + '%'\n",
    "male_df"
   ]
  },
  {
   "cell_type": "code",
   "execution_count": null,
   "id": "03ffd607",
   "metadata": {},
   "outputs": [],
   "source": [
    "fig = px.bar(male_df,x=\"Age Group\",y=\"Total Count\",color=\"Age Group\",text=\"Percentage\",title = \"Male Distribution by age Groups\")\n",
    "fig.show()"
   ]
  },
  {
   "cell_type": "code",
   "execution_count": null,
   "id": "794f1d32",
   "metadata": {},
   "outputs": [],
   "source": [
    "fig = go.Figure(go.Waterfall(\n",
    "    measure = [\"relative\", \"relative\", \"relative\", \"relative\", \"relative\", \"relative\",\"relative\", \"relative\", \n",
    "                              \"relative\", \"relative\", \"relative\", \"relative\", \"relative\", \"relative\"],\n",
    "    y = male_df['Total Count'],\n",
    "    x = male_df['Age Group'],\n",
    "    connector = {\"mode\":\"between\", \"line\":{\"width\":4, \"color\":\"rgb(0, 0, 0)\", \"dash\":\"solid\"}}\n",
    "))\n",
    "\n",
    "fig.update_layout(title = \"Age Groups\")\n",
    "\n",
    "fig.show()"
   ]
  },
  {
   "cell_type": "code",
   "execution_count": null,
   "id": "a3b1939f",
   "metadata": {},
   "outputs": [],
   "source": []
  }
 ],
 "metadata": {
  "colab": {
   "name": "2021-06-04-Manpower-EDA-Version 3.0.ipynb",
   "provenance": []
  },
  "kernelspec": {
   "display_name": "Python 3",
   "language": "python",
   "name": "python3"
  },
  "language_info": {
   "codemirror_mode": {
    "name": "ipython",
    "version": 3
   },
   "file_extension": ".py",
   "mimetype": "text/x-python",
   "name": "python",
   "nbconvert_exporter": "python",
   "pygments_lexer": "ipython3",
   "version": "3.8.8"
  }
 },
 "nbformat": 4,
 "nbformat_minor": 5
}
