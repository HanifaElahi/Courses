{
 "cells": [
  {
   "cell_type": "markdown",
   "id": "8791eb25",
   "metadata": {},
   "source": [
    "### Importing libraries and dependencies"
   ]
  },
  {
   "cell_type": "code",
   "execution_count": 1,
   "id": "6b9ef69b",
   "metadata": {},
   "outputs": [
    {
     "name": "stderr",
     "output_type": "stream",
     "text": [
      "/opt/anaconda3/lib/python3.8/site-packages/gensim/similarities/__init__.py:15: UserWarning: The gensim.similarities.levenshtein submodule is disabled, because the optional Levenshtein package <https://pypi.org/project/python-Levenshtein/> is unavailable. Install Levenhstein (e.g. `pip install python-Levenshtein`) to suppress this warning.\n",
      "  warnings.warn(msg)\n"
     ]
    }
   ],
   "source": [
    "import re\n",
    "\n",
    "import nltk\n",
    "from nltk.corpus import stopwords\n",
    "from nltk.stem import PorterStemmer, WordNetLemmatizer\n",
    "from sklearn.feature_extraction.text import TfidfVectorizer\n",
    "from gensim.models import Word2Vec"
   ]
  },
  {
   "cell_type": "code",
   "execution_count": 2,
   "id": "5b82197c",
   "metadata": {},
   "outputs": [],
   "source": [
    "import warnings\n",
    "warnings.filterwarnings('ignore')"
   ]
  },
  {
   "cell_type": "markdown",
   "id": "931b4e53",
   "metadata": {},
   "source": [
    "### Specifying Paragraph"
   ]
  },
  {
   "cell_type": "code",
   "execution_count": 3,
   "id": "ac1c0d72",
   "metadata": {},
   "outputs": [],
   "source": [
    "paragraph = \"Artificial intelligence (AI) is intelligence demonstrated by machines, as opposed to natural intelligence displayed by animals including humans. Leading AI textbooks define the field as the study of intelligent agents: any system that perceivesits environment and takes actions that maximize its chance of achieving its goals.Some popular accounts use the term artificial intelligence to describe machines that mimic cognitive functions that humans associate with the human mind, such as learning and problem solving.AI applications include advanced web search engines (e.g., Google), recommendation systems (used by YouTube, Amazon and Netflix), understanding  human speech (such as Siri and Alexa), self-driving cars (e.g., Tesla), automated decision-making and competing at the highest level in strategic game systems (such as chess and Go). As machines become increasingly capable, tasks considered to require intelligence are often removed from the definition of AI, a phenomenon known as the AI effect.For instance, optical character recognition is frequently excluded from things considered to be AI, having become a routine technology.Artificial intelligence was founded as an academic discipline in 1956, and in the years since has experienced several waves of optimism,followed by disappointment and the loss of funding (known as an AI winter),followed by new approaches, success and renewed funding.AI research has tried and discarded many different approaches since its founding, including simulating the brain, modeling human problem solving, formal logic, large databases of knowledge and imitating animal behavior. In the first decades of the 21st century, highly mathematical statistical machine learning has dominated the field,and this technique has proved highly successful, helping to solve many challenging problems throughout industry and academia.The various sub-fields of AI research are centered around particular goals and the use of particular tools. The traditional goals of AI research include reasoning, knowledge representation, planning, learning, natural language processing,perception, and the ability to move and manipulate objects. General intelligence (the ability to solve an arbitrary problem)is among the fields long-term goals.To solve these problems, AI researchers have adapted and integrated a wide range of problem-solving techniques—including search and mathematical optimization, formal logic, artificial neural networksand methods based on statistics, probability and economics. AI also draws upon computer science, psychology, linguistics,philosophy, and many other fields.The field was founded on the assumption that human intelligence can be so precisely described that a machine can be made to imulate it. This raises philosophical arguments about the mind and the ethics of creating artificial beings endowed with  human -like intelligence. These issues have been explored by myth, fiction, and philosophy since antiquity.  Science fiction and futurology have also suggested that, with its enormous potential and power, AI may become an existential risk to humanity.\""
   ]
  },
  {
   "cell_type": "code",
   "execution_count": 4,
   "id": "b62be9c1",
   "metadata": {},
   "outputs": [
    {
     "data": {
      "text/plain": [
       "'Artificial intelligence (AI) is intelligence demonstrated by machines, as opposed to natural intelligence displayed by animals including humans. Leading AI textbooks define the field as the study of intelligent agents: any system that perceivesits environment and takes actions that maximize its chance of achieving its goals.Some popular accounts use the term artificial intelligence to describe machines that mimic cognitive functions that humans associate with the human mind, such as learning and problem solving.AI applications include advanced web search engines (e.g., Google), recommendation systems (used by YouTube, Amazon and Netflix), understanding  human speech (such as Siri and Alexa), self-driving cars (e.g., Tesla), automated decision-making and competing at the highest level in strategic game systems (such as chess and Go). As machines become increasingly capable, tasks considered to require intelligence are often removed from the definition of AI, a phenomenon known as the AI effect.For instance, optical character recognition is frequently excluded from things considered to be AI, having become a routine technology.Artificial intelligence was founded as an academic discipline in 1956, and in the years since has experienced several waves of optimism,followed by disappointment and the loss of funding (known as an AI winter),followed by new approaches, success and renewed funding.AI research has tried and discarded many different approaches since its founding, including simulating the brain, modeling human problem solving, formal logic, large databases of knowledge and imitating animal behavior. In the first decades of the 21st century, highly mathematical statistical machine learning has dominated the field,and this technique has proved highly successful, helping to solve many challenging problems throughout industry and academia.The various sub-fields of AI research are centered around particular goals and the use of particular tools. The traditional goals of AI research include reasoning, knowledge representation, planning, learning, natural language processing,perception, and the ability to move and manipulate objects. General intelligence (the ability to solve an arbitrary problem)is among the fields long-term goals.To solve these problems, AI researchers have adapted and integrated a wide range of problem-solving techniques—including search and mathematical optimization, formal logic, artificial neural networksand methods based on statistics, probability and economics. AI also draws upon computer science, psychology, linguistics,philosophy, and many other fields.The field was founded on the assumption that human intelligence can be so precisely described that a machine can be made to imulate it. This raises philosophical arguments about the mind and the ethics of creating artificial beings endowed with  human -like intelligence. These issues have been explored by myth, fiction, and philosophy since antiquity.  Science fiction and futurology have also suggested that, with its enormous potential and power, AI may become an existential risk to humanity.'"
      ]
     },
     "execution_count": 4,
     "metadata": {},
     "output_type": "execute_result"
    }
   ],
   "source": [
    "paragraph"
   ]
  },
  {
   "cell_type": "markdown",
   "id": "60e302ef",
   "metadata": {},
   "source": [
    "### Preprocessing Paragraph"
   ]
  },
  {
   "cell_type": "code",
   "execution_count": 5,
   "id": "28924284",
   "metadata": {},
   "outputs": [],
   "source": [
    "text = re.sub('[^a-zA-Z]',' ', paragraph)"
   ]
  },
  {
   "cell_type": "code",
   "execution_count": 6,
   "id": "2d8954c5",
   "metadata": {},
   "outputs": [],
   "source": [
    "text = re.sub(r'\\s+',' ', text)"
   ]
  },
  {
   "cell_type": "code",
   "execution_count": 7,
   "id": "bed7f174",
   "metadata": {},
   "outputs": [],
   "source": [
    "text = text.lower()"
   ]
  },
  {
   "cell_type": "code",
   "execution_count": 8,
   "id": "fdd51126",
   "metadata": {},
   "outputs": [],
   "source": [
    "text = re.sub(r'\\d',' ', text)"
   ]
  },
  {
   "cell_type": "code",
   "execution_count": 9,
   "id": "9ebaa27b",
   "metadata": {},
   "outputs": [
    {
     "data": {
      "text/plain": [
       "'artificial intelligence ai is intelligence demonstrated by machines as opposed to natural intelligence displayed by animals including humans leading ai textbooks define the field as the study of intelligent agents any system that perceivesits environment and takes actions that maximize its chance of achieving its goals some popular accounts use the term artificial intelligence to describe machines that mimic cognitive functions that humans associate with the human mind such as learning and problem solving ai applications include advanced web search engines e g google recommendation systems used by youtube amazon and netflix understanding human speech such as siri and alexa self driving cars e g tesla automated decision making and competing at the highest level in strategic game systems such as chess and go as machines become increasingly capable tasks considered to require intelligence are often removed from the definition of ai a phenomenon known as the ai effect for instance optical character recognition is frequently excluded from things considered to be ai having become a routine technology artificial intelligence was founded as an academic discipline in and in the years since has experienced several waves of optimism followed by disappointment and the loss of funding known as an ai winter followed by new approaches success and renewed funding ai research has tried and discarded many different approaches since its founding including simulating the brain modeling human problem solving formal logic large databases of knowledge and imitating animal behavior in the first decades of the st century highly mathematical statistical machine learning has dominated the field and this technique has proved highly successful helping to solve many challenging problems throughout industry and academia the various sub fields of ai research are centered around particular goals and the use of particular tools the traditional goals of ai research include reasoning knowledge representation planning learning natural language processing perception and the ability to move and manipulate objects general intelligence the ability to solve an arbitrary problem is among the fields long term goals to solve these problems ai researchers have adapted and integrated a wide range of problem solving techniques including search and mathematical optimization formal logic artificial neural networksand methods based on statistics probability and economics ai also draws upon computer science psychology linguistics philosophy and many other fields the field was founded on the assumption that human intelligence can be so precisely described that a machine can be made to imulate it this raises philosophical arguments about the mind and the ethics of creating artificial beings endowed with human like intelligence these issues have been explored by myth fiction and philosophy since antiquity science fiction and futurology have also suggested that with its enormous potential and power ai may become an existential risk to humanity '"
      ]
     },
     "execution_count": 9,
     "metadata": {},
     "output_type": "execute_result"
    }
   ],
   "source": [
    "text"
   ]
  },
  {
   "cell_type": "markdown",
   "id": "14094132",
   "metadata": {},
   "source": [
    "### Tokenization "
   ]
  },
  {
   "cell_type": "code",
   "execution_count": 10,
   "id": "8d37bcbf",
   "metadata": {},
   "outputs": [],
   "source": [
    "sentences = nltk.sent_tokenize(paragraph)"
   ]
  },
  {
   "cell_type": "code",
   "execution_count": 11,
   "id": "ea657412",
   "metadata": {},
   "outputs": [],
   "source": [
    "sentences = [nltk.word_tokenize(sentence) for sentence in sentences]"
   ]
  },
  {
   "cell_type": "code",
   "execution_count": 12,
   "id": "e31f774c",
   "metadata": {},
   "outputs": [],
   "source": [
    "for i in range(len(sentences)):\n",
    "    sentences[i] = [word for word in sentences[i] if word not in stopwords.words(\"english\")]"
   ]
  },
  {
   "cell_type": "markdown",
   "id": "c85e89a9",
   "metadata": {},
   "source": [
    "# Word2Vec"
   ]
  },
  {
   "cell_type": "code",
   "execution_count": 13,
   "id": "6439c77b",
   "metadata": {},
   "outputs": [],
   "source": [
    "model = Word2Vec(sentences, min_count=1) #if the word is present one time keep it"
   ]
  },
  {
   "cell_type": "code",
   "execution_count": 14,
   "id": "206ea45f",
   "metadata": {},
   "outputs": [
    {
     "data": {
      "text/plain": [
       "236"
      ]
     },
     "execution_count": 14,
     "metadata": {},
     "output_type": "execute_result"
    }
   ],
   "source": [
    "vocab_len = len(model.wv)\n",
    "vocab_len"
   ]
  },
  {
   "cell_type": "markdown",
   "id": "4264f9bb",
   "metadata": {},
   "source": [
    "### Finding Word Vector"
   ]
  },
  {
   "cell_type": "code",
   "execution_count": 15,
   "id": "5779daa6",
   "metadata": {},
   "outputs": [
    {
     "data": {
      "text/plain": [
       "3"
      ]
     },
     "execution_count": 15,
     "metadata": {},
     "output_type": "execute_result"
    }
   ],
   "source": [
    "intelligence_idx = model.wv.key_to_index[\"intelligence\"]\n",
    "intelligence_idx"
   ]
  },
  {
   "cell_type": "markdown",
   "id": "6895fcac",
   "metadata": {},
   "source": [
    "### Finding Similar Words"
   ]
  },
  {
   "cell_type": "code",
   "execution_count": 16,
   "id": "181f7828",
   "metadata": {},
   "outputs": [
    {
     "data": {
      "text/plain": [
       "[('optical', 0.34899815917015076),\n",
       " ('popular', 0.294883668422699),\n",
       " ('funding', 0.2461341768503189),\n",
       " ('tools', 0.23803000152111053),\n",
       " ('solving.AI', 0.2366441935300827),\n",
       " ('textbooks', 0.21049100160598755),\n",
       " ('researchers', 0.2048029601573944),\n",
       " ('discarded', 0.20390687882900238),\n",
       " ('often', 0.1879747211933136),\n",
       " ('In', 0.17154136300086975)]"
      ]
     },
     "execution_count": 16,
     "metadata": {},
     "output_type": "execute_result"
    }
   ],
   "source": [
    "model.wv.similar_by_vector(\"science\")"
   ]
  },
  {
   "cell_type": "code",
   "execution_count": 17,
   "id": "5db5bf6e",
   "metadata": {},
   "outputs": [
    {
     "data": {
      "text/plain": [
       "[('dominated', 0.29681462049484253),\n",
       " ('issues', 0.2719259560108185),\n",
       " ('computer', 0.25572752952575684),\n",
       " ('industry', 0.2376081347465515),\n",
       " ('throughout', 0.22530093789100647),\n",
       " ('assumption', 0.22252318263053894),\n",
       " ('solving', 0.2168123424053192),\n",
       " ('1956', 0.20528438687324524),\n",
       " ('YouTube', 0.18501248955726624),\n",
       " ('machines', 0.17784813046455383)]"
      ]
     },
     "execution_count": 17,
     "metadata": {},
     "output_type": "execute_result"
    }
   ],
   "source": [
    "model.wv.most_similar(\"intelligence\")"
   ]
  }
 ],
 "metadata": {
  "kernelspec": {
   "display_name": "Python 3 (ipykernel)",
   "language": "python",
   "name": "python3"
  },
  "language_info": {
   "codemirror_mode": {
    "name": "ipython",
    "version": 3
   },
   "file_extension": ".py",
   "mimetype": "text/x-python",
   "name": "python",
   "nbconvert_exporter": "python",
   "pygments_lexer": "ipython3",
   "version": "3.10.0"
  }
 },
 "nbformat": 4,
 "nbformat_minor": 5
}
