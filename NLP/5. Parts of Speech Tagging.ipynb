{
 "cells": [
  {
   "cell_type": "markdown",
   "id": "4bbd9a17",
   "metadata": {},
   "source": [
    "Part of speech is a grammatical term that deals with the roles words play when you use them together in sentences. \n",
    "\n",
    "Tagging parts of speech, or POS tagging, is the task of labeling the words in your text according to their part of speech."
   ]
  },
  {
   "cell_type": "markdown",
   "id": "01cff73d",
   "metadata": {},
   "source": [
    "<img src = \"https://miro.medium.com/max/1400/1*qZELwIpKeEQ-j3EnRF-CrQ.jpeg\">"
   ]
  },
  {
   "cell_type": "markdown",
   "id": "f722c7aa",
   "metadata": {},
   "source": [
    "- **Noun (N)** — John, London, Table, Teacher, Pen, City, Happiness, Hope\n",
    "- **Pronoun(PRO)** — I, We, They, You, He, She, It, Me, Us, Them, Him, Her, This, That\n",
    "- **Verb (V)** — Read, Eat, Go, Speak, Run, Play, Live, Have, Like, Are, Is\n",
    "- **Adverb(ADV)** — Slowly, Quietly, Very, Always, Never, Too, Well, Tomorrow\n",
    "- **Adjective(ADJ)** — Big, Happy, Green, Young, Fun, Crazy, Three\n",
    "- **Preposition (P)** — At, On, In, From, With, Near, Between, About, Under\n",
    "- **Conjunction (CON)** — And, Or,But, Because, So, Yet, Unless, Since, If\n",
    "- **Interjection (INT)** — Ouch! Wow! Great! Help! Oh! Hey! Hi!"
   ]
  },
  {
   "cell_type": "markdown",
   "id": "963e9abd",
   "metadata": {},
   "source": [
    "### Importing libraries and dependencies"
   ]
  },
  {
   "cell_type": "code",
   "execution_count": 1,
   "id": "92f3a36a",
   "metadata": {},
   "outputs": [],
   "source": [
    "import nltk\n",
    "from nltk.tokenize import word_tokenize"
   ]
  },
  {
   "cell_type": "markdown",
   "id": "5654aaa3",
   "metadata": {},
   "source": [
    "### Specifying Sentences"
   ]
  },
  {
   "cell_type": "code",
   "execution_count": 2,
   "id": "392d4593",
   "metadata": {},
   "outputs": [],
   "source": [
    "sentence = \"Artificial intelligence is intelligence demonstrated by machines as opposed to natural intelligence displayed by animals including humans\""
   ]
  },
  {
   "cell_type": "markdown",
   "id": "ddb90d81",
   "metadata": {},
   "source": [
    "# POS Tagging"
   ]
  },
  {
   "cell_type": "code",
   "execution_count": 3,
   "id": "249473fb",
   "metadata": {},
   "outputs": [],
   "source": [
    "words_in_sentence = word_tokenize(sentence)"
   ]
  },
  {
   "cell_type": "code",
   "execution_count": 4,
   "id": "8b978dd7",
   "metadata": {},
   "outputs": [
    {
     "data": {
      "text/plain": [
       "[('Artificial', 'JJ'),\n",
       " ('intelligence', 'NN'),\n",
       " ('is', 'VBZ'),\n",
       " ('intelligence', 'RB'),\n",
       " ('demonstrated', 'VBN'),\n",
       " ('by', 'IN'),\n",
       " ('machines', 'NNS'),\n",
       " ('as', 'IN'),\n",
       " ('opposed', 'VBN'),\n",
       " ('to', 'TO'),\n",
       " ('natural', 'JJ'),\n",
       " ('intelligence', 'NN'),\n",
       " ('displayed', 'VBN'),\n",
       " ('by', 'IN'),\n",
       " ('animals', 'NNS'),\n",
       " ('including', 'VBG'),\n",
       " ('humans', 'NNS')]"
      ]
     },
     "execution_count": 4,
     "metadata": {},
     "output_type": "execute_result"
    }
   ],
   "source": [
    "nltk.pos_tag(words_in_sentence)"
   ]
  }
 ],
 "metadata": {
  "kernelspec": {
   "display_name": "Python 3 (ipykernel)",
   "language": "python",
   "name": "python3"
  },
  "language_info": {
   "codemirror_mode": {
    "name": "ipython",
    "version": 3
   },
   "file_extension": ".py",
   "mimetype": "text/x-python",
   "name": "python",
   "nbconvert_exporter": "python",
   "pygments_lexer": "ipython3",
   "version": "3.10.0"
  }
 },
 "nbformat": 4,
 "nbformat_minor": 5
}
