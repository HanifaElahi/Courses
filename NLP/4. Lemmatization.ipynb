{
 "cells": [
  {
   "cell_type": "markdown",
   "id": "32852537",
   "metadata": {},
   "source": [
    "### Importing Libraries and dependencies"
   ]
  },
  {
   "cell_type": "code",
   "execution_count": 1,
   "id": "9e533c67",
   "metadata": {},
   "outputs": [],
   "source": [
    "import nltk\n",
    "from nltk.corpus import stopwords\n",
    "from nltk.stem import WordNetLemmatizer"
   ]
  },
  {
   "cell_type": "markdown",
   "id": "9efc72a5",
   "metadata": {},
   "source": [
    "### Specifying Paragraph"
   ]
  },
  {
   "cell_type": "code",
   "execution_count": 2,
   "id": "62f8ec92",
   "metadata": {},
   "outputs": [],
   "source": [
    "paragraph = \"Artificial intelligence (AI) is intelligence demonstrated by machines, as opposed to natural intelligence displayed by animals including humans. Leading AI textbooks define the field as the study of intelligent agents: any system that perceivesits environment and takes actions that maximize its chance of achieving its goals.Some popular accounts use the term artificial intelligence to describe machines that mimic cognitive functions that humans associate with the human mind, such as learning and problem solving.AI applications include advanced web search engines (e.g., Google), recommendation systems (used by YouTube, Amazon and Netflix), understanding  human speech (such as Siri and Alexa), self-driving cars (e.g., Tesla), automated decision-making and competing at the highest level in strategic game systems (such as chess and Go). As machines become increasingly capable, tasks considered to require intelligence are often removed from the definition of AI, a phenomenon known as the AI effect.For instance, optical character recognition is frequently excluded from things considered to be AI, having become a routine technology.Artificial intelligence was founded as an academic discipline in 1956, and in the years since has experienced several waves of optimism,followed by disappointment and the loss of funding (known as an AI winter),followed by new approaches, success and renewed funding.AI research has tried and discarded many different approaches since its founding, including simulating the brain, modeling human problem solving, formal logic, large databases of knowledge and imitating animal behavior. In the first decades of the 21st century, highly mathematical statistical machine learning has dominated the field,and this technique has proved highly successful, helping to solve many challenging problems throughout industry and academia.The various sub-fields of AI research are centered around particular goals and the use of particular tools. The traditional goals of AI research include reasoning, knowledge representation, planning, learning, natural language processing,perception, and the ability to move and manipulate objects. General intelligence (the ability to solve an arbitrary problem)is among the fields long-term goals.To solve these problems, AI researchers have adapted and integrated a wide range of problem-solving techniques—including search and mathematical optimization, formal logic, artificial neural networksand methods based on statistics, probability and economics. AI also draws upon computer science, psychology, linguistics,philosophy, and many other fields.The field was founded on the assumption that human intelligence can be so precisely described that a machine can be made to imulate it. This raises philosophical arguments about the mind and the ethics of creating artificial beings endowed with  human -like intelligence. These issues have been explored by myth, fiction, and philosophy since antiquity.  Science fiction and futurology have also suggested that, with its enormous potential and power, AI may become an existential risk to humanity.\""
   ]
  },
  {
   "cell_type": "code",
   "execution_count": 3,
   "id": "d1a96ce7",
   "metadata": {},
   "outputs": [
    {
     "data": {
      "text/plain": [
       "'Artificial intelligence (AI) is intelligence demonstrated by machines, as opposed to natural intelligence displayed by animals including humans. Leading AI textbooks define the field as the study of intelligent agents: any system that perceivesits environment and takes actions that maximize its chance of achieving its goals.Some popular accounts use the term artificial intelligence to describe machines that mimic cognitive functions that humans associate with the human mind, such as learning and problem solving.AI applications include advanced web search engines (e.g., Google), recommendation systems (used by YouTube, Amazon and Netflix), understanding  human speech (such as Siri and Alexa), self-driving cars (e.g., Tesla), automated decision-making and competing at the highest level in strategic game systems (such as chess and Go). As machines become increasingly capable, tasks considered to require intelligence are often removed from the definition of AI, a phenomenon known as the AI effect.For instance, optical character recognition is frequently excluded from things considered to be AI, having become a routine technology.Artificial intelligence was founded as an academic discipline in 1956, and in the years since has experienced several waves of optimism,followed by disappointment and the loss of funding (known as an AI winter),followed by new approaches, success and renewed funding.AI research has tried and discarded many different approaches since its founding, including simulating the brain, modeling human problem solving, formal logic, large databases of knowledge and imitating animal behavior. In the first decades of the 21st century, highly mathematical statistical machine learning has dominated the field,and this technique has proved highly successful, helping to solve many challenging problems throughout industry and academia.The various sub-fields of AI research are centered around particular goals and the use of particular tools. The traditional goals of AI research include reasoning, knowledge representation, planning, learning, natural language processing,perception, and the ability to move and manipulate objects. General intelligence (the ability to solve an arbitrary problem)is among the fields long-term goals.To solve these problems, AI researchers have adapted and integrated a wide range of problem-solving techniques—including search and mathematical optimization, formal logic, artificial neural networksand methods based on statistics, probability and economics. AI also draws upon computer science, psychology, linguistics,philosophy, and many other fields.The field was founded on the assumption that human intelligence can be so precisely described that a machine can be made to imulate it. This raises philosophical arguments about the mind and the ethics of creating artificial beings endowed with  human -like intelligence. These issues have been explored by myth, fiction, and philosophy since antiquity.  Science fiction and futurology have also suggested that, with its enormous potential and power, AI may become an existential risk to humanity.'"
      ]
     },
     "execution_count": 3,
     "metadata": {},
     "output_type": "execute_result"
    }
   ],
   "source": [
    "paragraph"
   ]
  },
  {
   "cell_type": "markdown",
   "id": "9ddb1d4d",
   "metadata": {},
   "source": [
    "# Lemmatization"
   ]
  },
  {
   "cell_type": "code",
   "execution_count": 4,
   "id": "8a20119c",
   "metadata": {},
   "outputs": [
    {
     "name": "stdout",
     "output_type": "stream",
     "text": [
      "Sentences before Lemmatization and Stopwords Removal\n",
      "---------------------------------------------------------------------------------------------------------------------------\n"
     ]
    },
    {
     "data": {
      "text/plain": [
       "['Artificial intelligence (AI) is intelligence demonstrated by machines, as opposed to natural intelligence displayed by animals including humans.',\n",
       " 'Leading AI textbooks define the field as the study of intelligent agents: any system that perceivesits environment and takes actions that maximize its chance of achieving its goals.Some popular accounts use the term artificial intelligence to describe machines that mimic cognitive functions that humans associate with the human mind, such as learning and problem solving.AI applications include advanced web search engines (e.g., Google), recommendation systems (used by YouTube, Amazon and Netflix), understanding  human speech (such as Siri and Alexa), self-driving cars (e.g., Tesla), automated decision-making and competing at the highest level in strategic game systems (such as chess and Go).',\n",
       " 'As machines become increasingly capable, tasks considered to require intelligence are often removed from the definition of AI, a phenomenon known as the AI effect.For instance, optical character recognition is frequently excluded from things considered to be AI, having become a routine technology.Artificial intelligence was founded as an academic discipline in 1956, and in the years since has experienced several waves of optimism,followed by disappointment and the loss of funding (known as an AI winter),followed by new approaches, success and renewed funding.AI research has tried and discarded many different approaches since its founding, including simulating the brain, modeling human problem solving, formal logic, large databases of knowledge and imitating animal behavior.',\n",
       " 'In the first decades of the 21st century, highly mathematical statistical machine learning has dominated the field,and this technique has proved highly successful, helping to solve many challenging problems throughout industry and academia.The various sub-fields of AI research are centered around particular goals and the use of particular tools.',\n",
       " 'The traditional goals of AI research include reasoning, knowledge representation, planning, learning, natural language processing,perception, and the ability to move and manipulate objects.',\n",
       " 'General intelligence (the ability to solve an arbitrary problem)is among the fields long-term goals.To solve these problems, AI researchers have adapted and integrated a wide range of problem-solving techniques—including search and mathematical optimization, formal logic, artificial neural networksand methods based on statistics, probability and economics.',\n",
       " 'AI also draws upon computer science, psychology, linguistics,philosophy, and many other fields.The field was founded on the assumption that human intelligence can be so precisely described that a machine can be made to imulate it.',\n",
       " 'This raises philosophical arguments about the mind and the ethics of creating artificial beings endowed with  human -like intelligence.',\n",
       " 'These issues have been explored by myth, fiction, and philosophy since antiquity.',\n",
       " 'Science fiction and futurology have also suggested that, with its enormous potential and power, AI may become an existential risk to humanity.']"
      ]
     },
     "execution_count": 4,
     "metadata": {},
     "output_type": "execute_result"
    }
   ],
   "source": [
    "#Performing Sentence Tokenization\n",
    "sentences = nltk.sent_tokenize(paragraph)\n",
    "print(\"Sentences before Lemmatization and Stopwords Removal\\n\" + \"-\"*123)\n",
    "sentences"
   ]
  },
  {
   "cell_type": "code",
   "execution_count": 5,
   "id": "89492b0f",
   "metadata": {},
   "outputs": [],
   "source": [
    "#initialization -> Creating an object of WordNet Lemmatizer\n",
    "lemmatizer = WordNetLemmatizer()"
   ]
  },
  {
   "cell_type": "code",
   "execution_count": 6,
   "id": "51ce592e",
   "metadata": {},
   "outputs": [],
   "source": [
    "#Lemmmatization\n",
    "for i in range(len(sentences)):\n",
    "    #Performing Word Tokenization (list of words)\n",
    "    words = nltk.word_tokenize(sentences[i])\n",
    "    #Lemmmatize tokenized words if word is not in stopword of English Language\n",
    "    words = [lemmatizer.lemmatize(word) for word in words if word not in set(stopwords.words('english'))] #set -> unique\n",
    "    #join words and convert it into sentences\n",
    "    sentences[i] = ' '.join(words)"
   ]
  },
  {
   "cell_type": "code",
   "execution_count": 7,
   "id": "78b45e4b",
   "metadata": {},
   "outputs": [
    {
     "name": "stdout",
     "output_type": "stream",
     "text": [
      "Sentences after Lemmmatization and Stopwords Removal\n",
      "---------------------------------------------------------------------------------------------------------------------------\n"
     ]
    },
    {
     "data": {
      "text/plain": [
       "['Artificial intelligence ( AI ) intelligence demonstrated machine , opposed natural intelligence displayed animal including human .',\n",
       " 'Leading AI textbook define field study intelligent agent : system perceivesits environment take action maximize chance achieving goals.Some popular account use term artificial intelligence describe machine mimic cognitive function human associate human mind , learning problem solving.AI application include advanced web search engine ( e.g. , Google ) , recommendation system ( used YouTube , Amazon Netflix ) , understanding human speech ( Siri Alexa ) , self-driving car ( e.g. , Tesla ) , automated decision-making competing highest level strategic game system ( chess Go ) .',\n",
       " 'As machine become increasingly capable , task considered require intelligence often removed definition AI , phenomenon known AI effect.For instance , optical character recognition frequently excluded thing considered AI , become routine technology.Artificial intelligence founded academic discipline 1956 , year since experienced several wave optimism , followed disappointment loss funding ( known AI winter ) , followed new approach , success renewed funding.AI research tried discarded many different approach since founding , including simulating brain , modeling human problem solving , formal logic , large database knowledge imitating animal behavior .',\n",
       " 'In first decade 21st century , highly mathematical statistical machine learning dominated field , technique proved highly successful , helping solve many challenging problem throughout industry academia.The various sub-fields AI research centered around particular goal use particular tool .',\n",
       " 'The traditional goal AI research include reasoning , knowledge representation , planning , learning , natural language processing , perception , ability move manipulate object .',\n",
       " 'General intelligence ( ability solve arbitrary problem ) among field long-term goals.To solve problem , AI researcher adapted integrated wide range problem-solving techniques—including search mathematical optimization , formal logic , artificial neural networksand method based statistic , probability economics .',\n",
       " 'AI also draw upon computer science , psychology , linguistics , philosophy , many fields.The field founded assumption human intelligence precisely described machine made imulate .',\n",
       " 'This raise philosophical argument mind ethic creating artificial being endowed human -like intelligence .',\n",
       " 'These issue explored myth , fiction , philosophy since antiquity .',\n",
       " 'Science fiction futurology also suggested , enormous potential power , AI may become existential risk humanity .']"
      ]
     },
     "execution_count": 7,
     "metadata": {},
     "output_type": "execute_result"
    }
   ],
   "source": [
    "print(\"Sentences after Lemmmatization and Stopwords Removal\\n\" + \"-\"*123)\n",
    "sentences"
   ]
  }
 ],
 "metadata": {
  "kernelspec": {
   "display_name": "Python 3 (ipykernel)",
   "language": "python",
   "name": "python3"
  },
  "language_info": {
   "codemirror_mode": {
    "name": "ipython",
    "version": 3
   },
   "file_extension": ".py",
   "mimetype": "text/x-python",
   "name": "python",
   "nbconvert_exporter": "python",
   "pygments_lexer": "ipython3",
   "version": "3.10.0"
  }
 },
 "nbformat": 4,
 "nbformat_minor": 5
}
