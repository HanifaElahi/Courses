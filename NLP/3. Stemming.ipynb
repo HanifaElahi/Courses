{
 "cells": [
  {
   "cell_type": "markdown",
   "id": "32852537",
   "metadata": {},
   "source": [
    "### Importing Libraries and dependencies"
   ]
  },
  {
   "cell_type": "code",
   "execution_count": 1,
   "id": "9e533c67",
   "metadata": {},
   "outputs": [],
   "source": [
    "import nltk\n",
    "from nltk.corpus import stopwords\n",
    "from nltk.stem import PorterStemmer"
   ]
  },
  {
   "cell_type": "markdown",
   "id": "9efc72a5",
   "metadata": {},
   "source": [
    "### Specifying Paragraph"
   ]
  },
  {
   "cell_type": "code",
   "execution_count": 2,
   "id": "62f8ec92",
   "metadata": {},
   "outputs": [],
   "source": [
    "paragraph = \"Artificial intelligence (AI) is intelligence demonstrated by machines, as opposed to natural intelligence displayed by animals including humans. Leading AI textbooks define the field as the study of intelligent agents: any system that perceivesits environment and takes actions that maximize its chance of achieving its goals.Some popular accounts use the term artificial intelligence to describe machines that mimic cognitive functions that humans associate with the human mind, such as learning and problem solving.AI applications include advanced web search engines (e.g., Google), recommendation systems (used by YouTube, Amazon and Netflix), understanding  human speech (such as Siri and Alexa), self-driving cars (e.g., Tesla), automated decision-making and competing at the highest level in strategic game systems (such as chess and Go). As machines become increasingly capable, tasks considered to require intelligence are often removed from the definition of AI, a phenomenon known as the AI effect.For instance, optical character recognition is frequently excluded from things considered to be AI, having become a routine technology.Artificial intelligence was founded as an academic discipline in 1956, and in the years since has experienced several waves of optimism,followed by disappointment and the loss of funding (known as an AI winter),followed by new approaches, success and renewed funding.AI research has tried and discarded many different approaches since its founding, including simulating the brain, modeling human problem solving, formal logic, large databases of knowledge and imitating animal behavior. In the first decades of the 21st century, highly mathematical statistical machine learning has dominated the field,and this technique has proved highly successful, helping to solve many challenging problems throughout industry and academia.The various sub-fields of AI research are centered around particular goals and the use of particular tools. The traditional goals of AI research include reasoning, knowledge representation, planning, learning, natural language processing,perception, and the ability to move and manipulate objects. General intelligence (the ability to solve an arbitrary problem)is among the fields long-term goals.To solve these problems, AI researchers have adapted and integrated a wide range of problem-solving techniques—including search and mathematical optimization, formal logic, artificial neural networksand methods based on statistics, probability and economics. AI also draws upon computer science, psychology, linguistics,philosophy, and many other fields.The field was founded on the assumption that human intelligence can be so precisely described that a machine can be made to imulate it. This raises philosophical arguments about the mind and the ethics of creating artificial beings endowed with  human -like intelligence. These issues have been explored by myth, fiction, and philosophy since antiquity.  Science fiction and futurology have also suggested that, with its enormous potential and power, AI may become an existential risk to humanity.\""
   ]
  },
  {
   "cell_type": "code",
   "execution_count": 3,
   "id": "d1a96ce7",
   "metadata": {},
   "outputs": [
    {
     "data": {
      "text/plain": [
       "'Artificial intelligence (AI) is intelligence demonstrated by machines, as opposed to natural intelligence displayed by animals including humans. Leading AI textbooks define the field as the study of intelligent agents: any system that perceivesits environment and takes actions that maximize its chance of achieving its goals.Some popular accounts use the term artificial intelligence to describe machines that mimic cognitive functions that humans associate with the human mind, such as learning and problem solving.AI applications include advanced web search engines (e.g., Google), recommendation systems (used by YouTube, Amazon and Netflix), understanding  human speech (such as Siri and Alexa), self-driving cars (e.g., Tesla), automated decision-making and competing at the highest level in strategic game systems (such as chess and Go). As machines become increasingly capable, tasks considered to require intelligence are often removed from the definition of AI, a phenomenon known as the AI effect.For instance, optical character recognition is frequently excluded from things considered to be AI, having become a routine technology.Artificial intelligence was founded as an academic discipline in 1956, and in the years since has experienced several waves of optimism,followed by disappointment and the loss of funding (known as an AI winter),followed by new approaches, success and renewed funding.AI research has tried and discarded many different approaches since its founding, including simulating the brain, modeling human problem solving, formal logic, large databases of knowledge and imitating animal behavior. In the first decades of the 21st century, highly mathematical statistical machine learning has dominated the field,and this technique has proved highly successful, helping to solve many challenging problems throughout industry and academia.The various sub-fields of AI research are centered around particular goals and the use of particular tools. The traditional goals of AI research include reasoning, knowledge representation, planning, learning, natural language processing,perception, and the ability to move and manipulate objects. General intelligence (the ability to solve an arbitrary problem)is among the fields long-term goals.To solve these problems, AI researchers have adapted and integrated a wide range of problem-solving techniques—including search and mathematical optimization, formal logic, artificial neural networksand methods based on statistics, probability and economics. AI also draws upon computer science, psychology, linguistics,philosophy, and many other fields.The field was founded on the assumption that human intelligence can be so precisely described that a machine can be made to imulate it. This raises philosophical arguments about the mind and the ethics of creating artificial beings endowed with  human -like intelligence. These issues have been explored by myth, fiction, and philosophy since antiquity.  Science fiction and futurology have also suggested that, with its enormous potential and power, AI may become an existential risk to humanity.'"
      ]
     },
     "execution_count": 3,
     "metadata": {},
     "output_type": "execute_result"
    }
   ],
   "source": [
    "paragraph"
   ]
  },
  {
   "cell_type": "markdown",
   "id": "9ddb1d4d",
   "metadata": {},
   "source": [
    "# Stemming"
   ]
  },
  {
   "cell_type": "code",
   "execution_count": 4,
   "id": "8a20119c",
   "metadata": {},
   "outputs": [
    {
     "name": "stdout",
     "output_type": "stream",
     "text": [
      "Sentences before Stemming and Stopwords Removal\n",
      "---------------------------------------------------------------------------------------------------------------------------\n"
     ]
    },
    {
     "data": {
      "text/plain": [
       "['Artificial intelligence (AI) is intelligence demonstrated by machines, as opposed to natural intelligence displayed by animals including humans.',\n",
       " 'Leading AI textbooks define the field as the study of intelligent agents: any system that perceivesits environment and takes actions that maximize its chance of achieving its goals.Some popular accounts use the term artificial intelligence to describe machines that mimic cognitive functions that humans associate with the human mind, such as learning and problem solving.AI applications include advanced web search engines (e.g., Google), recommendation systems (used by YouTube, Amazon and Netflix), understanding  human speech (such as Siri and Alexa), self-driving cars (e.g., Tesla), automated decision-making and competing at the highest level in strategic game systems (such as chess and Go).',\n",
       " 'As machines become increasingly capable, tasks considered to require intelligence are often removed from the definition of AI, a phenomenon known as the AI effect.For instance, optical character recognition is frequently excluded from things considered to be AI, having become a routine technology.Artificial intelligence was founded as an academic discipline in 1956, and in the years since has experienced several waves of optimism,followed by disappointment and the loss of funding (known as an AI winter),followed by new approaches, success and renewed funding.AI research has tried and discarded many different approaches since its founding, including simulating the brain, modeling human problem solving, formal logic, large databases of knowledge and imitating animal behavior.',\n",
       " 'In the first decades of the 21st century, highly mathematical statistical machine learning has dominated the field,and this technique has proved highly successful, helping to solve many challenging problems throughout industry and academia.The various sub-fields of AI research are centered around particular goals and the use of particular tools.',\n",
       " 'The traditional goals of AI research include reasoning, knowledge representation, planning, learning, natural language processing,perception, and the ability to move and manipulate objects.',\n",
       " 'General intelligence (the ability to solve an arbitrary problem)is among the fields long-term goals.To solve these problems, AI researchers have adapted and integrated a wide range of problem-solving techniques—including search and mathematical optimization, formal logic, artificial neural networksand methods based on statistics, probability and economics.',\n",
       " 'AI also draws upon computer science, psychology, linguistics,philosophy, and many other fields.The field was founded on the assumption that human intelligence can be so precisely described that a machine can be made to imulate it.',\n",
       " 'This raises philosophical arguments about the mind and the ethics of creating artificial beings endowed with  human -like intelligence.',\n",
       " 'These issues have been explored by myth, fiction, and philosophy since antiquity.',\n",
       " 'Science fiction and futurology have also suggested that, with its enormous potential and power, AI may become an existential risk to humanity.']"
      ]
     },
     "execution_count": 4,
     "metadata": {},
     "output_type": "execute_result"
    }
   ],
   "source": [
    "#Performing Sentence Tokenization\n",
    "sentences = nltk.sent_tokenize(paragraph)\n",
    "print(\"Sentences before Stemming and Stopwords Removal\\n\" + \"-\"*123)\n",
    "sentences"
   ]
  },
  {
   "cell_type": "code",
   "execution_count": 5,
   "id": "89492b0f",
   "metadata": {},
   "outputs": [],
   "source": [
    "#initialization -> Creating an object of Porter Stemmer\n",
    "stemmer = PorterStemmer()"
   ]
  },
  {
   "cell_type": "code",
   "execution_count": 6,
   "id": "51ce592e",
   "metadata": {},
   "outputs": [],
   "source": [
    "#Stemming\n",
    "for i in range(len(sentences)):\n",
    "    #Performing Word Tokenization (list of words)\n",
    "    words = nltk.word_tokenize(sentences[i])\n",
    "    #Stemming tokenized words if word is not in stopword of English Language\n",
    "    words = [stemmer.stem(word) for word in words if word not in set(stopwords.words('english'))] #set -> unique\n",
    "    #join words and convert it into sentences\n",
    "    sentences[i] = ' '.join(words)"
   ]
  },
  {
   "cell_type": "code",
   "execution_count": 7,
   "id": "78b45e4b",
   "metadata": {},
   "outputs": [
    {
     "name": "stdout",
     "output_type": "stream",
     "text": [
      "Sentences after Stemming and Stopwords Removal\n",
      "---------------------------------------------------------------------------------------------------------------------------\n"
     ]
    },
    {
     "data": {
      "text/plain": [
       "['artifici intellig ( ai ) intellig demonstr machin , oppos natur intellig display anim includ human .',\n",
       " 'lead ai textbook defin field studi intellig agent : system perceivesit environ take action maxim chanc achiev goals.som popular account use term artifici intellig describ machin mimic cognit function human associ human mind , learn problem solving.ai applic includ advanc web search engin ( e.g. , googl ) , recommend system ( use youtub , amazon netflix ) , understand human speech ( siri alexa ) , self-driv car ( e.g. , tesla ) , autom decision-mak compet highest level strateg game system ( chess go ) .',\n",
       " 'as machin becom increasingli capabl , task consid requir intellig often remov definit ai , phenomenon known ai effect.for instanc , optic charact recognit frequent exclud thing consid ai , becom routin technology.artifici intellig found academ disciplin 1956 , year sinc experienc sever wave optim , follow disappoint loss fund ( known ai winter ) , follow new approach , success renew funding.ai research tri discard mani differ approach sinc found , includ simul brain , model human problem solv , formal logic , larg databas knowledg imit anim behavior .',\n",
       " 'in first decad 21st centuri , highli mathemat statist machin learn domin field , techniqu prove highli success , help solv mani challeng problem throughout industri academia.th variou sub-field ai research center around particular goal use particular tool .',\n",
       " 'the tradit goal ai research includ reason , knowledg represent , plan , learn , natur languag process , percept , abil move manipul object .',\n",
       " 'gener intellig ( abil solv arbitrari problem ) among field long-term goals.to solv problem , ai research adapt integr wide rang problem-solv techniques—includ search mathemat optim , formal logic , artifici neural networksand method base statist , probabl econom .',\n",
       " 'ai also draw upon comput scienc , psycholog , linguist , philosophi , mani fields.th field found assumpt human intellig precis describ machin made imul .',\n",
       " 'thi rais philosoph argument mind ethic creat artifici be endow human -like intellig .',\n",
       " 'these issu explor myth , fiction , philosophi sinc antiqu .',\n",
       " 'scienc fiction futurolog also suggest , enorm potenti power , ai may becom existenti risk human .']"
      ]
     },
     "execution_count": 7,
     "metadata": {},
     "output_type": "execute_result"
    }
   ],
   "source": [
    "print(\"Sentences after Stemming and Stopwords Removal\\n\" + \"-\"*123)\n",
    "sentences"
   ]
  },
  {
   "cell_type": "markdown",
   "id": "7bda7eba",
   "metadata": {},
   "source": [
    "### Problems in Stemming:\n",
    "---\n",
    "\n",
    "**Produced intemediate representation of word may not have any meaning.**"
   ]
  }
 ],
 "metadata": {
  "kernelspec": {
   "display_name": "Python 3 (ipykernel)",
   "language": "python",
   "name": "python3"
  },
  "language_info": {
   "codemirror_mode": {
    "name": "ipython",
    "version": 3
   },
   "file_extension": ".py",
   "mimetype": "text/x-python",
   "name": "python",
   "nbconvert_exporter": "python",
   "pygments_lexer": "ipython3",
   "version": "3.10.0"
  }
 },
 "nbformat": 4,
 "nbformat_minor": 5
}
