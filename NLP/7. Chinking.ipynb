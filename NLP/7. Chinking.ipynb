{
 "cells": [
  {
   "cell_type": "markdown",
   "id": "4bbd9a17",
   "metadata": {},
   "source": [
    "**Chinking** is used together with chunking, but while chunking is used to include a pattern, chinking is used to exclude a pattern."
   ]
  },
  {
   "cell_type": "markdown",
   "id": "963e9abd",
   "metadata": {},
   "source": [
    "### Importing libraries and dependencies"
   ]
  },
  {
   "cell_type": "code",
   "execution_count": 1,
   "id": "92f3a36a",
   "metadata": {},
   "outputs": [],
   "source": [
    "import nltk\n",
    "from nltk.tokenize import word_tokenize"
   ]
  },
  {
   "cell_type": "markdown",
   "id": "5654aaa3",
   "metadata": {},
   "source": [
    "### Specifying Sentences"
   ]
  },
  {
   "cell_type": "code",
   "execution_count": 2,
   "id": "392d4593",
   "metadata": {},
   "outputs": [],
   "source": [
    "sentence = \"Artificial intelligence is intelligence demonstrated by machines as opposed to natural intelligence displayed by animals including humans\""
   ]
  },
  {
   "cell_type": "markdown",
   "id": "ddb90d81",
   "metadata": {},
   "source": [
    "### Word Tokenization"
   ]
  },
  {
   "cell_type": "code",
   "execution_count": 3,
   "id": "249473fb",
   "metadata": {},
   "outputs": [],
   "source": [
    "words_in_sentence = word_tokenize(sentence)"
   ]
  },
  {
   "cell_type": "markdown",
   "id": "d7462df1",
   "metadata": {},
   "source": [
    "### POS Tagging"
   ]
  },
  {
   "cell_type": "code",
   "execution_count": 4,
   "id": "8b978dd7",
   "metadata": {},
   "outputs": [],
   "source": [
    "pos_tag = nltk.pos_tag(words_in_sentence)"
   ]
  },
  {
   "cell_type": "code",
   "execution_count": 5,
   "id": "54110751",
   "metadata": {},
   "outputs": [
    {
     "data": {
      "text/plain": [
       "[('Artificial', 'JJ'),\n",
       " ('intelligence', 'NN'),\n",
       " ('is', 'VBZ'),\n",
       " ('intelligence', 'RB'),\n",
       " ('demonstrated', 'VBN'),\n",
       " ('by', 'IN'),\n",
       " ('machines', 'NNS'),\n",
       " ('as', 'IN'),\n",
       " ('opposed', 'VBN'),\n",
       " ('to', 'TO'),\n",
       " ('natural', 'JJ'),\n",
       " ('intelligence', 'NN'),\n",
       " ('displayed', 'VBN'),\n",
       " ('by', 'IN'),\n",
       " ('animals', 'NNS'),\n",
       " ('including', 'VBG'),\n",
       " ('humans', 'NNS')]"
      ]
     },
     "execution_count": 5,
     "metadata": {},
     "output_type": "execute_result"
    }
   ],
   "source": [
    "pos_tag"
   ]
  },
  {
   "cell_type": "markdown",
   "id": "1e4f7137",
   "metadata": {},
   "source": [
    "### Creating a chunk grammar"
   ]
  },
  {
   "cell_type": "code",
   "execution_count": 6,
   "id": "a092f971",
   "metadata": {},
   "outputs": [],
   "source": [
    "grammar = \"\"\"\n",
    "... Chunk: {<.*>+}\n",
    "...        }<JJ>{\"\"\"\n"
   ]
  },
  {
   "cell_type": "markdown",
   "id": "115fbed8",
   "metadata": {},
   "source": [
    "- (\"\"\") --> more than one rule\n",
    "- First rule of your grammar {<.*>+}.  \n",
    "- curly braces that face inward ({ }) -->  used to determine what patterns you want to include in you chunks. In this case, you want to include everything: <.*>\n",
    "- The second rule of your grammar  }<JJ>{. \n",
    "- curly braces that face outward ( }{ ) because it’s used to determine what patterns you want to exclude in your chunks. In this case, exclude adjectives: <JJ>.\n"
   ]
  },
  {
   "cell_type": "markdown",
   "id": "614c6545",
   "metadata": {},
   "source": [
    "### Chunk Parser"
   ]
  },
  {
   "cell_type": "code",
   "execution_count": 7,
   "id": "14762819",
   "metadata": {},
   "outputs": [],
   "source": [
    "chunk_parser = nltk.RegexpParser(grammar)"
   ]
  },
  {
   "cell_type": "code",
   "execution_count": 8,
   "id": "ace8f23d",
   "metadata": {},
   "outputs": [],
   "source": [
    "tree = chunk_parser.parse(pos_tag)"
   ]
  },
  {
   "cell_type": "code",
   "execution_count": 9,
   "id": "3c73819a",
   "metadata": {},
   "outputs": [],
   "source": [
    "tree.draw()"
   ]
  }
 ],
 "metadata": {
  "kernelspec": {
   "display_name": "Python 3 (ipykernel)",
   "language": "python",
   "name": "python3"
  },
  "language_info": {
   "codemirror_mode": {
    "name": "ipython",
    "version": 3
   },
   "file_extension": ".py",
   "mimetype": "text/x-python",
   "name": "python",
   "nbconvert_exporter": "python",
   "pygments_lexer": "ipython3",
   "version": "3.10.0"
  }
 },
 "nbformat": 4,
 "nbformat_minor": 5
}
