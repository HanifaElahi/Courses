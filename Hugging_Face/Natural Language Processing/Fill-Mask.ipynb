{
 "cells": [
  {
   "cell_type": "markdown",
   "id": "fe8fe93e",
   "metadata": {},
   "source": [
    "# Fill-Mask\n"
   ]
  },
  {
   "cell_type": "markdown",
   "id": "5aaa21d4",
   "metadata": {},
   "source": [
    "### **Masked language modeling** \n",
    "\n",
    "---\n",
    "\n",
    "It is the task of masking some of the words in a sentence and predicting which words should replace those masks. \n",
    "\n",
    "These models are useful when we want to get a statistical understanding of the language in which the model is trained in."
   ]
  },
  {
   "cell_type": "markdown",
   "id": "5b39e6cc",
   "metadata": {},
   "source": [
    "### **Use Cases**\n",
    "\n",
    "--- \n",
    "\n",
    "#### **Domain Adaptation 👩‍⚕️**\n",
    "\n"
   ]
  },
  {
   "cell_type": "markdown",
   "id": "6ba62549",
   "metadata": {},
   "source": [
    "* Masked language models do not require labelled data.\n",
    "\n",
    "* They are trained by masking a couple of words in sentences and the model is expected to guess the masked word. \n",
    "\n",
    "* For example, masked language modeling is used to train large models for domain-specific problems. \n",
    "\n",
    "* If you have to work on a domain-specific task, such as retrieving information from medical research papers, you can train a masked language model using those papers. 📄\n",
    "\n",
    "* The resulting model has a statistical understanding of the language used in medical research papers, and can be further trained in a process called fine-tuning to solve different tasks, such as Text Classification or Question Answering to build a medical research papers information extraction system. \n",
    "\n",
    "* 👩‍⚕️ Pre-training on domain-specific data tends to yield better results."
   ]
  },
  {
   "cell_type": "markdown",
   "id": "96c3ccfd",
   "metadata": {},
   "source": [
    "### **Inference with Fill-Mask Pipeline**\n",
    "\n",
    "---\n",
    "\n",
    "* You can use the 🤗 Transformers library fill-mask pipeline to do inference with masked language models. \n",
    "\n",
    "* If a model name is not provided, the pipeline will be initialized with distilroberta-base. \n",
    "\n",
    "* You can provide masked text and it will return a list of possible mask values ​​ranked according to the score."
   ]
  },
  {
   "cell_type": "markdown",
   "id": "4ea4b56c",
   "metadata": {},
   "source": [
    "### **Metrics for Fill-Mask**\n",
    "\n",
    "---\n",
    "\n",
    "* **cross_entropy** : Cross Entropy is a metric that calculates the difference between two probability distributions. Each probability distribution is the distribution of predicted words.\n",
    "\n",
    "* **perpexility** : Perplexity is the exponential of the cross-entropy loss. It evaluates the probabilities assigned to the next word by the model. Lower perplexity indicates better performance."
   ]
  },
  {
   "cell_type": "markdown",
   "id": "218e9360",
   "metadata": {},
   "source": [
    "---\n",
    "---\n",
    "---"
   ]
  },
  {
   "cell_type": "markdown",
   "id": "489fc73b",
   "metadata": {},
   "source": [
    "##### Importing Transformers"
   ]
  },
  {
   "cell_type": "code",
   "execution_count": 1,
   "id": "0305aa12",
   "metadata": {},
   "outputs": [],
   "source": [
    "from transformers import pipeline"
   ]
  },
  {
   "cell_type": "markdown",
   "id": "7e1cad1a",
   "metadata": {},
   "source": [
    "##### Initilizing Pipeline for Fill-Mask Task"
   ]
  },
  {
   "cell_type": "code",
   "execution_count": 2,
   "id": "478e2a86",
   "metadata": {},
   "outputs": [
    {
     "data": {
      "application/vnd.jupyter.widget-view+json": {
       "model_id": "67b2bf99c20f4a249110fc4805398a2b",
       "version_major": 2,
       "version_minor": 0
      },
      "text/plain": [
       "Downloading:   0%|          | 0.00/480 [00:00<?, ?B/s]"
      ]
     },
     "metadata": {},
     "output_type": "display_data"
    },
    {
     "data": {
      "application/vnd.jupyter.widget-view+json": {
       "model_id": "4bb0d4940b824202886cb31149753284",
       "version_major": 2,
       "version_minor": 0
      },
      "text/plain": [
       "Downloading:   0%|          | 0.00/331M [00:00<?, ?B/s]"
      ]
     },
     "metadata": {},
     "output_type": "display_data"
    },
    {
     "data": {
      "application/vnd.jupyter.widget-view+json": {
       "model_id": "2cdf8baa026047a08821b6557c504842",
       "version_major": 2,
       "version_minor": 0
      },
      "text/plain": [
       "Downloading:   0%|          | 0.00/899k [00:00<?, ?B/s]"
      ]
     },
     "metadata": {},
     "output_type": "display_data"
    },
    {
     "data": {
      "application/vnd.jupyter.widget-view+json": {
       "model_id": "68eda87f5d21465b970a23acabb4dcc8",
       "version_major": 2,
       "version_minor": 0
      },
      "text/plain": [
       "Downloading:   0%|          | 0.00/456k [00:00<?, ?B/s]"
      ]
     },
     "metadata": {},
     "output_type": "display_data"
    },
    {
     "data": {
      "application/vnd.jupyter.widget-view+json": {
       "model_id": "1175ef3770d0492094befc41986f22fa",
       "version_major": 2,
       "version_minor": 0
      },
      "text/plain": [
       "Downloading:   0%|          | 0.00/1.36M [00:00<?, ?B/s]"
      ]
     },
     "metadata": {},
     "output_type": "display_data"
    }
   ],
   "source": [
    "classifier = pipeline(\"fill-mask\")"
   ]
  },
  {
   "cell_type": "markdown",
   "id": "b580a1e6",
   "metadata": {},
   "source": [
    "##### Sample run"
   ]
  },
  {
   "cell_type": "code",
   "execution_count": 3,
   "id": "3005ccd0",
   "metadata": {},
   "outputs": [
    {
     "data": {
      "text/plain": [
       "[{'sequence': 'Paris is the capital of France.',\n",
       "  'score': 0.6790187954902649,\n",
       "  'token': 812,\n",
       "  'token_str': ' capital'},\n",
       " {'sequence': 'Paris is the birthplace of France.',\n",
       "  'score': 0.051779814064502716,\n",
       "  'token': 32357,\n",
       "  'token_str': ' birthplace'},\n",
       " {'sequence': 'Paris is the heart of France.',\n",
       "  'score': 0.03825274854898453,\n",
       "  'token': 1144,\n",
       "  'token_str': ' heart'},\n",
       " {'sequence': 'Paris is the envy of France.',\n",
       "  'score': 0.024349061772227287,\n",
       "  'token': 29778,\n",
       "  'token_str': ' envy'},\n",
       " {'sequence': 'Paris is the Capital of France.',\n",
       "  'score': 0.022851280868053436,\n",
       "  'token': 1867,\n",
       "  'token_str': ' Capital'}]"
      ]
     },
     "execution_count": 3,
     "metadata": {},
     "output_type": "execute_result"
    }
   ],
   "source": [
    "classifier(\"Paris is the <mask> of France.\")"
   ]
  },
  {
   "cell_type": "code",
   "execution_count": 4,
   "id": "fad25f03",
   "metadata": {},
   "outputs": [
    {
     "data": {
      "text/plain": [
       "[{'sequence': 'The goal of life is happiness.',\n",
       "  'score': 0.06897156685590744,\n",
       "  'token': 11098,\n",
       "  'token_str': ' happiness'},\n",
       " {'sequence': 'The goal of life is immortality.',\n",
       "  'score': 0.06554929167032242,\n",
       "  'token': 45075,\n",
       "  'token_str': ' immortality'},\n",
       " {'sequence': 'The goal of life is yours.',\n",
       "  'score': 0.0323575995862484,\n",
       "  'token': 14314,\n",
       "  'token_str': ' yours'},\n",
       " {'sequence': 'The goal of life is liberation.',\n",
       "  'score': 0.024313777685165405,\n",
       "  'token': 22211,\n",
       "  'token_str': ' liberation'},\n",
       " {'sequence': 'The goal of life is simplicity.',\n",
       "  'score': 0.023767927661538124,\n",
       "  'token': 25342,\n",
       "  'token_str': ' simplicity'}]"
      ]
     },
     "execution_count": 4,
     "metadata": {},
     "output_type": "execute_result"
    }
   ],
   "source": [
    "classifier(\"The goal of life is <mask>.\")"
   ]
  },
  {
   "cell_type": "code",
   "execution_count": 5,
   "id": "fba9a98e",
   "metadata": {},
   "outputs": [
    {
     "data": {
      "text/plain": [
       "[{'sequence': 'True love never dies.',\n",
       "  'score': 0.34872037172317505,\n",
       "  'token': 8524,\n",
       "  'token_str': ' dies'},\n",
       " {'sequence': 'True love never fails.',\n",
       "  'score': 0.17603053152561188,\n",
       "  'token': 10578,\n",
       "  'token_str': ' fails'},\n",
       " {'sequence': 'True love never ends.',\n",
       "  'score': 0.11449392884969711,\n",
       "  'token': 3587,\n",
       "  'token_str': ' ends'},\n",
       " {'sequence': 'True love never stops.',\n",
       "  'score': 0.05086619779467583,\n",
       "  'token': 6897,\n",
       "  'token_str': ' stops'},\n",
       " {'sequence': 'True love never sleeps.',\n",
       "  'score': 0.04755270481109619,\n",
       "  'token': 36831,\n",
       "  'token_str': ' sleeps'}]"
      ]
     },
     "execution_count": 5,
     "metadata": {},
     "output_type": "execute_result"
    }
   ],
   "source": [
    "classifier(\"True love never <mask>.\")"
   ]
  },
  {
   "cell_type": "code",
   "execution_count": 7,
   "id": "318d2c41",
   "metadata": {},
   "outputs": [
    {
     "data": {
      "text/plain": [
       "[{'sequence': 'NED University is famous for censorship.',\n",
       "  'score': 0.03990253061056137,\n",
       "  'token': 23915,\n",
       "  'token_str': ' censorship'},\n",
       " {'sequence': 'NED University is famous for diversity.',\n",
       "  'score': 0.02948944829404354,\n",
       "  'token': 5845,\n",
       "  'token_str': ' diversity'},\n",
       " {'sequence': 'NED University is famous for excellence.',\n",
       "  'score': 0.01603603921830654,\n",
       "  'token': 12411,\n",
       "  'token_str': ' excellence'},\n",
       " {'sequence': 'NED University is famous for academics.',\n",
       "  'score': 0.014674575999379158,\n",
       "  'token': 16839,\n",
       "  'token_str': ' academics'},\n",
       " {'sequence': 'NED University is famous for athletics.',\n",
       "  'score': 0.014362143352627754,\n",
       "  'token': 16015,\n",
       "  'token_str': ' athletics'}]"
      ]
     },
     "execution_count": 7,
     "metadata": {},
     "output_type": "execute_result"
    }
   ],
   "source": [
    "classifier(\"NED University is famous for <mask>.\")"
   ]
  },
  {
   "cell_type": "code",
   "execution_count": 9,
   "id": "5931ec33",
   "metadata": {},
   "outputs": [
    {
     "data": {
      "text/plain": [
       "[{'sequence': \"Karachi has the world's largest population.\",\n",
       "  'score': 0.3576110601425171,\n",
       "  'token': 1956,\n",
       "  'token_str': ' population'},\n",
       " {'sequence': \"Karachi has the world's largest airport.\",\n",
       "  'score': 0.09124165773391724,\n",
       "  'token': 3062,\n",
       "  'token_str': ' airport'},\n",
       " {'sequence': \"Karachi has the world's largest mosque.\",\n",
       "  'score': 0.07742006331682205,\n",
       "  'token': 12958,\n",
       "  'token_str': ' mosque'},\n",
       " {'sequence': \"Karachi has the world's largest refinery.\",\n",
       "  'score': 0.027445845305919647,\n",
       "  'token': 13628,\n",
       "  'token_str': ' refinery'},\n",
       " {'sequence': \"Karachi has the world's largest economy.\",\n",
       "  'score': 0.02396676503121853,\n",
       "  'token': 866,\n",
       "  'token_str': ' economy'}]"
      ]
     },
     "execution_count": 9,
     "metadata": {},
     "output_type": "execute_result"
    }
   ],
   "source": [
    "classifier(\"Karachi has the world's largest <mask>.\")"
   ]
  },
  {
   "cell_type": "code",
   "execution_count": 13,
   "id": "07af2bb7",
   "metadata": {},
   "outputs": [
    {
     "data": {
      "text/plain": [
       "[{'sequence': 'Canada is famous for earthquakes.',\n",
       "  'score': 0.023486588150262833,\n",
       "  'token': 20396,\n",
       "  'token_str': ' earthquakes'},\n",
       " {'sequence': 'Canada is famous for diversity.',\n",
       "  'score': 0.02198144793510437,\n",
       "  'token': 5845,\n",
       "  'token_str': ' diversity'},\n",
       " {'sequence': 'Canada is famous for corruption.',\n",
       "  'score': 0.01776721514761448,\n",
       "  'token': 3198,\n",
       "  'token_str': ' corruption'},\n",
       " {'sequence': 'Canada is famous for doping.',\n",
       "  'score': 0.015277360565960407,\n",
       "  'token': 16485,\n",
       "  'token_str': ' doping'},\n",
       " {'sequence': 'Canada is famous for cycling.',\n",
       "  'score': 0.015154481865465641,\n",
       "  'token': 12731,\n",
       "  'token_str': ' cycling'}]"
      ]
     },
     "execution_count": 13,
     "metadata": {},
     "output_type": "execute_result"
    }
   ],
   "source": [
    "classifier(\"Canada is famous for <mask>.\")"
   ]
  },
  {
   "cell_type": "code",
   "execution_count": 14,
   "id": "96db782e",
   "metadata": {},
   "outputs": [
    {
     "data": {
      "text/plain": [
       "[{'sequence': 'Students are very welcome.',\n",
       "  'score': 0.04593575745820999,\n",
       "  'token': 2814,\n",
       "  'token_str': ' welcome'},\n",
       " {'sequence': 'Students are very excited.',\n",
       "  'score': 0.038177426904439926,\n",
       "  'token': 2283,\n",
       "  'token_str': ' excited'},\n",
       " {'sequence': 'Students are very polite.',\n",
       "  'score': 0.03741106018424034,\n",
       "  'token': 24908,\n",
       "  'token_str': ' polite'},\n",
       " {'sequence': 'Students are very supportive.',\n",
       "  'score': 0.030727164819836617,\n",
       "  'token': 8440,\n",
       "  'token_str': ' supportive'},\n",
       " {'sequence': 'Students are very grateful.',\n",
       "  'score': 0.030097436159849167,\n",
       "  'token': 6161,\n",
       "  'token_str': ' grateful'}]"
      ]
     },
     "execution_count": 14,
     "metadata": {},
     "output_type": "execute_result"
    }
   ],
   "source": [
    "classifier(\"Students are very <mask>.\")"
   ]
  },
  {
   "cell_type": "code",
   "execution_count": 16,
   "id": "d31ada93",
   "metadata": {},
   "outputs": [
    {
     "data": {
      "text/plain": [
       "[{'sequence': 'The wolf barked at me.',\n",
       "  'score': 0.098700150847435,\n",
       "  'token': 23255,\n",
       "  'token_str': ' wolf'},\n",
       " {'sequence': 'The dog barked at me.',\n",
       "  'score': 0.08881120383739471,\n",
       "  'token': 2335,\n",
       "  'token_str': ' dog'},\n",
       " {'sequence': 'The cat barked at me.',\n",
       "  'score': 0.06390288472175598,\n",
       "  'token': 4758,\n",
       "  'token_str': ' cat'},\n",
       " {'sequence': 'The fox barked at me.',\n",
       "  'score': 0.04156745225191116,\n",
       "  'token': 23602,\n",
       "  'token_str': ' fox'},\n",
       " {'sequence': 'The owl barked at me.',\n",
       "  'score': 0.027686724439263344,\n",
       "  'token': 37323,\n",
       "  'token_str': ' owl'}]"
      ]
     },
     "execution_count": 16,
     "metadata": {},
     "output_type": "execute_result"
    }
   ],
   "source": [
    "classifier(\"The <mask> barked at me.\")"
   ]
  },
  {
   "cell_type": "markdown",
   "id": "26ec936f",
   "metadata": {},
   "source": [
    "### **Source :**\n",
    "\n",
    "* https://huggingface.co/tasks/fill-mask"
   ]
  }
 ],
 "metadata": {
  "kernelspec": {
   "display_name": "Python 3 (ipykernel)",
   "language": "python",
   "name": "python3"
  },
  "language_info": {
   "codemirror_mode": {
    "name": "ipython",
    "version": 3
   },
   "file_extension": ".py",
   "mimetype": "text/x-python",
   "name": "python",
   "nbconvert_exporter": "python",
   "pygments_lexer": "ipython3",
   "version": "3.8.13"
  }
 },
 "nbformat": 4,
 "nbformat_minor": 5
}
