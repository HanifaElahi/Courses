{
 "cells": [
  {
   "cell_type": "markdown",
   "id": "8ceb8da6",
   "metadata": {
    "id": "8ceb8da6"
   },
   "source": [
    "**Wordcloud** is a popular technique that helps us identify the keywords in a text. \n",
    "\n",
    "In a wordcloud, more frequent words have a larger and bolder font, while less frequent words have smaller or thinner fonts.\n",
    "\n",
    "In Python, you can make simple wordclouds with the wordcloud library and nice-looking wordclouds with the stylecloudlibrary."
   ]
  },
  {
   "cell_type": "markdown",
   "id": "57280b03",
   "metadata": {
    "id": "57280b03"
   },
   "source": [
    "### Installation"
   ]
  },
  {
   "cell_type": "code",
   "execution_count": 1,
   "id": "8c404e02",
   "metadata": {
    "colab": {
     "base_uri": "https://localhost:8080/"
    },
    "id": "8c404e02",
    "outputId": "44fa6080-9e9d-47bf-aca3-78407e44960e"
   },
   "outputs": [
    {
     "name": "stdout",
     "output_type": "stream",
     "text": [
      "Collecting stylecloud\n",
      "  Downloading stylecloud-0.5.2.tar.gz (262 kB)\n",
      "\u001b[K     |████████████████████████████████| 262 kB 5.4 MB/s \n",
      "\u001b[?25hRequirement already satisfied: wordcloud in /usr/local/lib/python3.7/dist-packages (from stylecloud) (1.5.0)\n",
      "Collecting icon-font-to-png\n",
      "  Downloading icon_font_to_png-0.4.1-py2.py3-none-any.whl (161 kB)\n",
      "\u001b[K     |████████████████████████████████| 161 kB 41.6 MB/s \n",
      "\u001b[?25hRequirement already satisfied: palettable in /usr/local/lib/python3.7/dist-packages (from stylecloud) (3.3.0)\n",
      "Collecting fire\n",
      "  Downloading fire-0.4.0.tar.gz (87 kB)\n",
      "\u001b[K     |████████████████████████████████| 87 kB 4.9 MB/s \n",
      "\u001b[?25hRequirement already satisfied: matplotlib in /usr/local/lib/python3.7/dist-packages (from stylecloud) (3.2.2)\n",
      "Requirement already satisfied: six in /usr/local/lib/python3.7/dist-packages (from fire->stylecloud) (1.15.0)\n",
      "Requirement already satisfied: termcolor in /usr/local/lib/python3.7/dist-packages (from fire->stylecloud) (1.1.0)\n",
      "Requirement already satisfied: Pillow>=4.0.0 in /usr/local/lib/python3.7/dist-packages (from icon-font-to-png->stylecloud) (7.1.2)\n",
      "Requirement already satisfied: requests>=2.12.5 in /usr/local/lib/python3.7/dist-packages (from icon-font-to-png->stylecloud) (2.23.0)\n",
      "Collecting tinycss>=0.4\n",
      "  Downloading tinycss-0.4.tar.gz (87 kB)\n",
      "\u001b[K     |████████████████████████████████| 87 kB 3.6 MB/s \n",
      "\u001b[?25hRequirement already satisfied: urllib3!=1.25.0,!=1.25.1,<1.26,>=1.21.1 in /usr/local/lib/python3.7/dist-packages (from requests>=2.12.5->icon-font-to-png->stylecloud) (1.24.3)\n",
      "Requirement already satisfied: chardet<4,>=3.0.2 in /usr/local/lib/python3.7/dist-packages (from requests>=2.12.5->icon-font-to-png->stylecloud) (3.0.4)\n",
      "Requirement already satisfied: idna<3,>=2.5 in /usr/local/lib/python3.7/dist-packages (from requests>=2.12.5->icon-font-to-png->stylecloud) (2.10)\n",
      "Requirement already satisfied: certifi>=2017.4.17 in /usr/local/lib/python3.7/dist-packages (from requests>=2.12.5->icon-font-to-png->stylecloud) (2021.10.8)\n",
      "Requirement already satisfied: kiwisolver>=1.0.1 in /usr/local/lib/python3.7/dist-packages (from matplotlib->stylecloud) (1.3.2)\n",
      "Requirement already satisfied: cycler>=0.10 in /usr/local/lib/python3.7/dist-packages (from matplotlib->stylecloud) (0.11.0)\n",
      "Requirement already satisfied: python-dateutil>=2.1 in /usr/local/lib/python3.7/dist-packages (from matplotlib->stylecloud) (2.8.2)\n",
      "Requirement already satisfied: numpy>=1.11 in /usr/local/lib/python3.7/dist-packages (from matplotlib->stylecloud) (1.19.5)\n",
      "Requirement already satisfied: pyparsing!=2.0.4,!=2.1.2,!=2.1.6,>=2.0.1 in /usr/local/lib/python3.7/dist-packages (from matplotlib->stylecloud) (3.0.7)\n",
      "Building wheels for collected packages: stylecloud, fire, tinycss\n",
      "  Building wheel for stylecloud (setup.py) ... \u001b[?25l\u001b[?25hdone\n",
      "  Created wheel for stylecloud: filename=stylecloud-0.5.2-py3-none-any.whl size=259508 sha256=314d376635625493e736f2e517982a3460e9cc0407185448a4fac01b23afdcef\n",
      "  Stored in directory: /root/.cache/pip/wheels/77/42/7a/f52b5f84c04196fd4c2a3dceeb1bbeaee1c93a4fe271b5eb41\n",
      "  Building wheel for fire (setup.py) ... \u001b[?25l\u001b[?25hdone\n",
      "  Created wheel for fire: filename=fire-0.4.0-py2.py3-none-any.whl size=115942 sha256=76e38b97c6080654d2334e587f5e615bcdd4ba272f85fca87aacc0ef05ada186\n",
      "  Stored in directory: /root/.cache/pip/wheels/8a/67/fb/2e8a12fa16661b9d5af1f654bd199366799740a85c64981226\n",
      "  Building wheel for tinycss (setup.py) ... \u001b[?25l\u001b[?25hdone\n",
      "  Created wheel for tinycss: filename=tinycss-0.4-py3-none-any.whl size=43955 sha256=c66f06398e2dd687afaf5a753b44e99a35874bd5c20b3016cbf3978e876621dc\n",
      "  Stored in directory: /root/.cache/pip/wheels/6c/66/e8/e53d7a476011891fa51a5ee83a2d1852b19b258f975055429b\n",
      "Successfully built stylecloud fire tinycss\n",
      "Installing collected packages: tinycss, icon-font-to-png, fire, stylecloud\n",
      "Successfully installed fire-0.4.0 icon-font-to-png-0.4.1 stylecloud-0.5.2 tinycss-0.4\n"
     ]
    }
   ],
   "source": [
    "!pip install stylecloud"
   ]
  },
  {
   "cell_type": "markdown",
   "id": "342a020f",
   "metadata": {
    "id": "342a020f"
   },
   "source": [
    "### Generating WordCloud"
   ]
  },
  {
   "cell_type": "code",
   "execution_count": 2,
   "id": "95ff844c",
   "metadata": {
    "id": "95ff844c"
   },
   "outputs": [],
   "source": [
    "import stylecloud"
   ]
  },
  {
   "cell_type": "code",
   "execution_count": 4,
   "id": "35b44517",
   "metadata": {
    "id": "35b44517"
   },
   "outputs": [],
   "source": [
    "stylecloud.gen_stylecloud(file_path='SJ-Speech.txt',icon_name= \"fas fa-apple-alt\")"
   ]
  }
 ],
 "metadata": {
  "colab": {
   "collapsed_sections": [],
   "name": " Wordcloud.ipynb",
   "provenance": []
  },
  "kernelspec": {
   "display_name": "Python 3 (ipykernel)",
   "language": "python",
   "name": "python3"
  },
  "language_info": {
   "codemirror_mode": {
    "name": "ipython",
    "version": 3
   },
   "file_extension": ".py",
   "mimetype": "text/x-python",
   "name": "python",
   "nbconvert_exporter": "python",
   "pygments_lexer": "ipython3",
   "version": "3.10.0"
  }
 },
 "nbformat": 4,
 "nbformat_minor": 5
}
