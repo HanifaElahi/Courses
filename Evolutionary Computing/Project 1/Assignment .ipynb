{
 "cells": [
  {
   "cell_type": "markdown",
   "id": "866e419b",
   "metadata": {},
   "source": [
    "# Importing Libraries & Dependencies"
   ]
  },
  {
   "cell_type": "code",
   "execution_count": 1,
   "id": "c93abb27",
   "metadata": {},
   "outputs": [],
   "source": [
    "import random\n",
    "import numpy as np"
   ]
  },
  {
   "cell_type": "markdown",
   "id": "7080b110",
   "metadata": {},
   "source": [
    "# Setting Seed"
   ]
  },
  {
   "cell_type": "code",
   "execution_count": 2,
   "id": "05f64bcc",
   "metadata": {},
   "outputs": [],
   "source": [
    "# Set the random seed\n",
    "random.seed(0)"
   ]
  },
  {
   "cell_type": "markdown",
   "id": "81e8dc99",
   "metadata": {},
   "source": [
    "# Parameters Initialization"
   ]
  },
  {
   "cell_type": "code",
   "execution_count": 3,
   "id": "8de1bae1",
   "metadata": {},
   "outputs": [],
   "source": [
    "N = 30 # population size\n",
    "pc = 0.8 # crossover prob\n",
    "pm = 0.1 # mutation prob\n",
    "max_generations = 50 # Max generations : stopping condition\n",
    "lower_bound = -7.0\n",
    "upper_bound = 4.0\n",
    "num_genes = 3"
   ]
  },
  {
   "cell_type": "markdown",
   "id": "02fbdc35",
   "metadata": {},
   "source": [
    "# Initializing Population\n",
    "\n",
    "---\n",
    "\n",
    "Generate an initial population of N candidate solutions, each with three real values (X1, X2, X3) within the specified interval."
   ]
  },
  {
   "cell_type": "code",
   "execution_count": 4,
   "id": "22e41986",
   "metadata": {},
   "outputs": [],
   "source": [
    "def initialize_population(N, num_genes):\n",
    "    population = []\n",
    "    for i in range(N):\n",
    "        population = [np.array([random.uniform(lower_bound, upper_bound) for _ in range(num_genes)]) for _ in range(N)]\n",
    "    return population"
   ]
  },
  {
   "cell_type": "markdown",
   "id": "9a2d2bb7",
   "metadata": {},
   "source": [
    "# Fitness Evaluation\n",
    "\n",
    "---\n",
    "\n",
    "Evaluate the fitness of each solution by calculating its value for the objective function, f(X1, X2, X3) = X1^2 + X2^2 + X3^2. The goal is to find the solution with the lowest value."
   ]
  },
  {
   "cell_type": "code",
   "execution_count": 5,
   "id": "34844fca",
   "metadata": {},
   "outputs": [],
   "source": [
    "def evaluate_fitness(individual):\n",
    "    X1, X2, X3 = individual\n",
    "    return X1**2 + X2**2 + X3**2"
   ]
  },
  {
   "cell_type": "markdown",
   "id": "beb1c4ce",
   "metadata": {},
   "source": [
    "# Selecting Candidates\n",
    "\n",
    "---\n",
    "\n",
    "Select candidate solutions for reproduction based on their fitness values using proportional selection. This means that solutions with higher fitness are more likely to be selected for reproduction."
   ]
  },
  {
   "cell_type": "code",
   "execution_count": 6,
   "id": "160fbb67",
   "metadata": {},
   "outputs": [],
   "source": [
    "def select_candidates(population, fitness_values, N):\n",
    "    fitness_sum = sum(fitness_values)\n",
    "    probabilities = [fitness/fitness_sum for fitness in fitness_values]\n",
    "    selected_indices = np.random.choice(N, N, p=probabilities, replace=True)\n",
    "    return [population[i] for i in selected_indices]"
   ]
  },
  {
   "cell_type": "markdown",
   "id": "eafef032",
   "metadata": {},
   "source": [
    "# Crossover\n",
    "\n",
    "---\n",
    "\n",
    "Perform single-point crossover on pairs of selected solutions to create offspring. The crossover point is randomly selected, and the genes from one parent are combined with the genes from the other parent to create two new offspring."
   ]
  },
  {
   "cell_type": "code",
   "execution_count": 7,
   "id": "4488bd21",
   "metadata": {},
   "outputs": [],
   "source": [
    "def crossover(candidates, pc):\n",
    "    # Apply single-point crossover\n",
    "    candidates = np.asarray(candidates)\n",
    "    N = len(candidates)\n",
    "    for i in range(0, N-1, 2):\n",
    "        if random.uniform(0, 1) < pc:\n",
    "            crossover_point = random.randint(1, 2)\n",
    "            temp = candidates[i][crossover_point:]\n",
    "            candidates[i][crossover_point:] = candidates[i+1][crossover_point:]\n",
    "            candidates[i+1][crossover_point:] = temp\n",
    "    return candidates"
   ]
  },
  {
   "cell_type": "markdown",
   "id": "8712d3e9",
   "metadata": {},
   "source": [
    "# Mutation\n",
    "\n",
    "---\n",
    "\n",
    "Perform gene-wise mutation on the offspring with a probability of pm = 0.1. This means that each gene in the offspring has a 10% chance of being randomly altered.\n",
    "\n",
    "Repeat steps 2 to 5 for a maximum of 50 generations, or until the stopping condition is met."
   ]
  },
  {
   "cell_type": "code",
   "execution_count": 8,
   "id": "3c816296",
   "metadata": {},
   "outputs": [],
   "source": [
    "def mutation(candidates, pm):\n",
    "    # Apply gene-wise mutation\n",
    "    N, M = candidates.shape\n",
    "    for i in range(N):\n",
    "        for j in range(M):\n",
    "            if random.uniform(0, 1) < pm:\n",
    "                candidates[i][j] = random.uniform(lower_bound, upper_bound)\n",
    "    return candidates"
   ]
  },
  {
   "cell_type": "markdown",
   "id": "937d2bdf",
   "metadata": {},
   "source": [
    "# Genetic Algorithm"
   ]
  },
  {
   "cell_type": "code",
   "execution_count": 9,
   "id": "37544486",
   "metadata": {},
   "outputs": [],
   "source": [
    "def genetic_algorithm_50_runs(N, pc, pm, max_generations, num_genes):\n",
    "    \n",
    "    # Initialize population\n",
    "    population = initialize_population(N, num_genes)\n",
    "    \n",
    "    best_fitnesses = []\n",
    "    average_fitnesses = []\n",
    "    worst_fitnesses = []\n",
    "    \n",
    "    best_of_run = None \n",
    "    best_of_run_fitness = float(\"inf\")\n",
    "    \n",
    "    for generation in range(1, max_generations+1):\n",
    "    \n",
    "        fitness_values = np.array([evaluate_fitness(x) for x in population])\n",
    "        \n",
    "        best_of_gen, best_of_gen_fitness = population[np.argmin(fitness_values)], np.min(fitness_values) # best value\n",
    "        \n",
    "        if best_of_gen_fitness < best_of_run_fitness:\n",
    "            best_of_run = best_of_gen\n",
    "            best_of_run_fitness = best_of_gen_fitness\n",
    "        \n",
    "        average_of_gen_fitness = np.mean(fitness_values) # average value\n",
    "        \n",
    "        worst_of_gen, worst_of_gen_fitness = population[np.argmax(fitness_values)], np.max(fitness_values) # worst fitness value\n",
    "        \n",
    "        if generation % 10 == 0:\n",
    "            print(f\"----------------------------------- Generation: {generation} -----------------------------------\\n\")\n",
    "            print(f\"Best of Generation Fitness: {best_of_gen_fitness}\")\n",
    "            print(f\"Best vector: {best_of_gen}\")\n",
    "            print(f\"Average of Generation Fitness: {average_of_gen_fitness}\")\n",
    "            print(f\"Worst of Generation Fitness: {worst_of_gen_fitness}\")\n",
    "            print(f\"Worst vector: {worst_of_gen}\\n\")\n",
    "        \n",
    "        selected_candidates = select_candidates(population, fitness_values, N)\n",
    "        candidates = crossover(selected_candidates, pc)\n",
    "        candidates = mutation(candidates, pm)\n",
    "        population = candidates\n",
    "    \n",
    "    print(\"######################################################################################\\n\")\n",
    "    print(f\"Best of run fitness: {best_of_run_fitness} \\nBest of run vector: {best_of_run}\")\n",
    "    print(\"\\n######################################################################################\\n\")"
   ]
  },
  {
   "cell_type": "code",
   "execution_count": 10,
   "id": "58d33fb8",
   "metadata": {},
   "outputs": [
    {
     "name": "stdout",
     "output_type": "stream",
     "text": [
      "----------------------------------- Generation: 10 -----------------------------------\n",
      "\n",
      "Best of Generation Fitness: 12.109516639004285\n",
      "Best vector: [ 3.23452842  1.23609958 -0.34554362]\n",
      "Average of Generation Fitness: 98.84476035912583\n",
      "Worst of Generation Fitness: 141.0908759748453\n",
      "Worst vector: [-6.74453995 -6.84051559 -6.98637269]\n",
      "\n",
      "----------------------------------- Generation: 20 -----------------------------------\n",
      "\n",
      "Best of Generation Fitness: 31.150455391518637\n",
      "Best vector: [-5.18758193  0.3327067  -2.0319339 ]\n",
      "Average of Generation Fitness: 97.99600124545229\n",
      "Worst of Generation Fitness: 141.0908759748453\n",
      "Worst vector: [-6.74453995 -6.84051559 -6.98637269]\n",
      "\n",
      "----------------------------------- Generation: 30 -----------------------------------\n",
      "\n",
      "Best of Generation Fitness: 55.78648776823032\n",
      "Best vector: [ 0.59989466 -5.57318474 -4.93621576]\n",
      "Average of Generation Fitness: 107.43618512415523\n",
      "Worst of Generation Fitness: 141.0908759748453\n",
      "Worst vector: [-6.74453995 -6.84051559 -6.98637269]\n",
      "\n",
      "----------------------------------- Generation: 40 -----------------------------------\n",
      "\n",
      "Best of Generation Fitness: 23.770689038393947\n",
      "Best vector: [ 1.93147246  2.8500957  -3.45210916]\n",
      "Average of Generation Fitness: 107.49073637745568\n",
      "Worst of Generation Fitness: 141.0908759748453\n",
      "Worst vector: [-6.74453995 -6.84051559 -6.98637269]\n",
      "\n",
      "----------------------------------- Generation: 50 -----------------------------------\n",
      "\n",
      "Best of Generation Fitness: 60.032959555098586\n",
      "Best vector: [-6.62498895 -1.01358923 -3.8878166 ]\n",
      "Average of Generation Fitness: 110.50814870214019\n",
      "Worst of Generation Fitness: 141.0908759748453\n",
      "Worst vector: [-6.74453995 -6.84051559 -6.98637269]\n",
      "\n",
      "######################################################################################\n",
      "\n",
      "Best of run fitness: 1.3423063368836143 \n",
      "Best of run vector: [ 0.90998398  0.62835906 -0.34554362]\n",
      "\n",
      "######################################################################################\n",
      "\n"
     ]
    }
   ],
   "source": [
    "genetic_algorithm_50_runs(N, pc, pm, max_generations, num_genes)"
   ]
  },
  {
   "cell_type": "code",
   "execution_count": 11,
   "id": "17529505",
   "metadata": {},
   "outputs": [],
   "source": [
    "def genetic_algorithm_30_runs(N, pc, pm, num_genes):\n",
    "    \n",
    "    # Initialize population\n",
    "    population = initialize_population(N, num_genes)\n",
    "    \n",
    "    best_of_gen_fitness_all_runs = []\n",
    "    avg_of_gen_fitness_all_runs = []\n",
    "    best_of_run_fitness_all_runs = []\n",
    "    \n",
    "    best_of_run = None\n",
    "    best_of_run_fitness = float(\"inf\")\n",
    "    \n",
    "    for generation in range(1,31):\n",
    "    \n",
    "        fitness_values = np.array([evaluate_fitness(x) for x in population])\n",
    "        \n",
    "        best_of_gen_fitness = np.min(fitness_values) # best value\n",
    "        \n",
    "        if best_of_gen_fitness < best_of_run_fitness:\n",
    "            best_of_run_fitness = best_of_gen_fitness\n",
    "        \n",
    "        avg_of_gen_fitness = np.mean(fitness_values) # average value\n",
    "        \n",
    "        best_of_gen_fitness_all_runs.append(best_of_gen_fitness)\n",
    "        avg_of_gen_fitness_all_runs.append(avg_of_gen_fitness)\n",
    "        best_of_run_fitness_all_runs.append(best_of_run_fitness)\n",
    "        \n",
    "        # Calculate the average and standard deviation of the best-of-generation fitness over 30 runs\n",
    "        best_of_gen_avg = np.mean(best_of_gen_fitness_all_runs, axis=0)\n",
    "        best_of_gen_std = np.std(best_of_gen_fitness_all_runs, axis=0)\n",
    "\n",
    "        # Calculate the average and standard deviation of the average-of-generation fitness over 30 runs\n",
    "        avg_of_gen_avg = np.mean(avg_of_gen_fitness_all_runs, axis=0)\n",
    "        avg_of_gen_std = np.std(avg_of_gen_fitness_all_runs, axis=0)\n",
    "        \n",
    "        if generation % 10 == 0:\n",
    "            print(f\"----------------------------------- Generation: {generation} -----------------------------------\\n\")\n",
    "            print(f\"Best of Generation Fitness Average: {best_of_gen_avg}\")\n",
    "            print(f\"Best of Generation Fitness Standard Deviation: {best_of_gen_std}\")\n",
    "            print(f\"Average of Generation Fitness Average: {avg_of_gen_avg}\")\n",
    "            print(f\"Average of Generation Fitness Standard Deviation: {avg_of_gen_std}\\n\")\n",
    "        \n",
    "        selected_individuals = select_candidates(population, fitness_values, N)\n",
    "        candidates = crossover(selected_individuals, pc)\n",
    "        candidates = mutation(candidates, pm)\n",
    "        population = candidates\n",
    "    \n",
    "    best_of_run_avg = np.mean(best_of_run_fitness_all_runs)\n",
    "    best_of_run_std = np.std(best_of_run_fitness_all_runs)\n",
    "\n",
    "    print(\"######################################################################################\\n\")\n",
    "    print(f\"Best-of-run average:{best_of_run_avg} \\nStandard deviation: {best_of_run_std}\")\n",
    "    print(\"\\n######################################################################################\")"
   ]
  },
  {
   "cell_type": "code",
   "execution_count": 12,
   "id": "4472749e",
   "metadata": {},
   "outputs": [
    {
     "name": "stdout",
     "output_type": "stream",
     "text": [
      "----------------------------------- Generation: 10 -----------------------------------\n",
      "\n",
      "Best of Generation Fitness Average: 29.116450023067777\n",
      "Best of Generation Fitness Standard Deviation: 16.960972766567476\n",
      "Average of Generation Fitness Average: 82.8082448520473\n",
      "Average of Generation Fitness Standard Deviation: 17.277445955389233\n",
      "\n",
      "----------------------------------- Generation: 20 -----------------------------------\n",
      "\n",
      "Best of Generation Fitness Average: 31.68153763676161\n",
      "Best of Generation Fitness Standard Deviation: 14.387682910033524\n",
      "Average of Generation Fitness Average: 88.15076591296051\n",
      "Average of Generation Fitness Standard Deviation: 13.729758984475788\n",
      "\n",
      "----------------------------------- Generation: 30 -----------------------------------\n",
      "\n",
      "Best of Generation Fitness Average: 31.58879799419436\n",
      "Best of Generation Fitness Standard Deviation: 13.375333334001343\n",
      "Average of Generation Fitness Average: 89.03549798594076\n",
      "Average of Generation Fitness Standard Deviation: 11.460813959001978\n",
      "\n",
      "######################################################################################\n",
      "\n",
      "Best-of-run average:0.9198758329245817 \n",
      "Standard deviation: 1.1102230246251565e-16\n",
      "\n",
      "######################################################################################\n"
     ]
    }
   ],
   "source": [
    "genetic_algorithm_30_runs(N,pc, pm, num_genes)"
   ]
  },
  {
   "cell_type": "code",
   "execution_count": null,
   "id": "acd67c76",
   "metadata": {},
   "outputs": [],
   "source": []
  }
 ],
 "metadata": {
  "kernelspec": {
   "display_name": "Python 3 (ipykernel)",
   "language": "python",
   "name": "python3"
  },
  "language_info": {
   "codemirror_mode": {
    "name": "ipython",
    "version": 3
   },
   "file_extension": ".py",
   "mimetype": "text/x-python",
   "name": "python",
   "nbconvert_exporter": "python",
   "pygments_lexer": "ipython3",
   "version": "3.10.0"
  }
 },
 "nbformat": 4,
 "nbformat_minor": 5
}
