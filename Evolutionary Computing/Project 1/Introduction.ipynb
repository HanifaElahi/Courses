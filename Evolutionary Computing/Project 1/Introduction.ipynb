{
 "cells": [
  {
   "cell_type": "markdown",
   "id": "2d5e041b",
   "metadata": {},
   "source": [
    "## What is Optimization \n",
    "\n",
    "---\n",
    "\n",
    "Optimization is the process of finding the best solution to a problem. For example, finding the shortest route to the destination, scheduling the hospital staff in the most efficient manner possible, or planning the day's activities to best utilize the available time. In order to solve the real-world optimization problems, the problems are formulated as mathematical functions and optimization deals with minimizing/maximizing the output of that function to find the best solution. Once the problem is formulated mathematically, an optimization algorithm such as GA is used to find the best solution (optimal solution) to that problem. The optimization process using GA is depicted in the following diagram."
   ]
  },
  {
   "cell_type": "markdown",
   "id": "169bfa2a",
   "metadata": {},
   "source": [
    "## What is a Genetic Algorithm?\n",
    "\n",
    "---\n",
    "\n",
    "- Genetic algorithms (GA) are optimization algorithms.\n",
    "- They are inspired by the process of natural selection and evolution. \n",
    "- They are used to solve problems by mimicking the process of evolution in nature.\n",
    "- Biological Evolution : a selection of parents, reproduction, and mutation of offsprings. The main aim of evolution is to reproduce offsprings that are biologically better than their parents.\n",
    "\n",
    "- The genetic algorithm is a search-based optimization technique. It is frequently used to find the optimal or nearest optimal solution. \n",
    "- It was introduced by John Holland. \n",
    "- It is based on Darwins Natural Selection Theory. \n",
    "- In Darwin’s theory on natural selection theory, he defined natural selection as the “principle by which each slight variation of a trait, if useful, is preserved”. \n",
    "- The concept was simple but powerful: individuals best adapted to their environments are more likely to survive and reproduce.\n",
    "- Sometimes this theory is described as“ survival of the fittest”. \n",
    "- Those who are fittest than others have the chance to survive in this evolution. \n",
    "- The genetic algorithm is all about this. It mimics the process of natural selection to find the best solution\n",
    "\n",
    "### Working of GA :\n",
    "\n",
    "The basic intuition is selecting the best individuals as parents from the population, asking them to extend their generation by reproducing and having their children during the reproduction process where genes of both the parent’s crossover there occurs an error known as mutation. \n",
    "\n",
    "These children are again asked to reproduce their offsprings, and the process goes on, leading to healthier generations. \n",
    "\n",
    "This theory has inspired evolutionary computation to solve optimization problems, feature selection, classic knapsack problem, and many more.\n",
    "\n",
    "### Example to Simplify:\n",
    "\n",
    "Suppose we are on a treasure hunt, and after all the efforts and hard work, we finally find the treasure in a deep-down cave full of gold and diamond ornaments. \n",
    "\n",
    "- The first thing we desire to do is fill our backpack with as many ornaments as possible. \n",
    "- However, a few parameters have to be taken care of in our problem, and our backpack has limited space. It cannot carry a weight of more than 35 kilograms.\n",
    "\n",
    "- Next, we have to choose the ornaments optimally such that the backpack is not overloaded, all the ornaments we choose must be highly valued, and one ornament should not damage the other within the backpack — this where a genetic algorithm comes into play to optimize our problem by taking care of all the parameters."
   ]
  },
  {
   "cell_type": "markdown",
   "id": "d09b82cc",
   "metadata": {},
   "source": [
    "# Population, Chromosome, Gene\n"
   ]
  },
  {
   "cell_type": "markdown",
   "id": "d0abca01",
   "metadata": {},
   "source": [
    "## Population \n",
    "\n",
    "---\n",
    "\n",
    "- At the beginning of this process, we need to initialize some possible solutions to this problem. \n",
    "- The population is a subset of all possible solutions to the given problem. \n",
    "- In another way, we can say that the population is a set of chromosomes."
   ]
  },
  {
   "cell_type": "markdown",
   "id": "7054be1c",
   "metadata": {},
   "source": [
    "## Chromosome \n",
    "\n",
    "---\n",
    "\n",
    "-  A chromosome is one of that solution to that current problem."
   ]
  },
  {
   "cell_type": "markdown",
   "id": "7863e9e7",
   "metadata": {},
   "source": [
    "## Gene\n",
    "\n",
    "---\n",
    "\n",
    "-  And each chromosome is a set of genes.\n",
    "- Individual unit of chromosome is known as gene."
   ]
  },
  {
   "cell_type": "markdown",
   "id": "d0ed0435",
   "metadata": {},
   "source": [
    "For simplicity, We can describe a chromosome as a string. So, we can say that a population is a collection of some string(each character is a binary value, either 0 or 1 ). And each character of the string is a gene.\n",
    "\n",
    "<img src = \"https://miro.medium.com/v2/resize:fit:640/format:webp/1*wDiDa61xUo-LfGdqaZPIbA.png\">"
   ]
  },
  {
   "cell_type": "markdown",
   "id": "fb4786e0",
   "metadata": {},
   "source": [
    "# Parent Selection\n",
    "\n",
    "---\n",
    "\n",
    "Parent selection is done by using the fitness values of the chromosomes calculated by the fitness function. Based on these fitness values we need to select a pair chromosomes with the highest fitness value.\n",
    "\n",
    "There are many ways for fitness calculation like Roulette wheel selection, rank selection.\n",
    "\n",
    "In rank selection, chromosomes are ranked based on their fitness values from higher to lower. As an example, According to those fitness values calculated above, we can rank those chromosomes from higher to lower like 3rd>1st>2nd>4th. So, in the selection phase, 3rd and 1st chromosomes will be selected based on the fitness valued calculated from the fitness function."
   ]
  },
  {
   "cell_type": "markdown",
   "id": "3f404572",
   "metadata": {},
   "source": [
    "# Cross Over\n",
    "\n",
    "--- \n",
    "\n",
    "Crossover is used to vary the programming of the chromosomes from one generation to another by creating children or offsprings. Parent chromosomes are used to create these offsprings(generated chromosomes).\n",
    "\n",
    "To create offsprings, there are some ways like a single-point crossover, two or multi-point crossover.\n",
    "\n",
    "For a single point crossover, first, we need to select a point and then exchange these portions divided by this point between parent chromosomes to create offsprings. You can use the color combination for easy understanding.\n",
    "\n",
    "<img src = \"https://miro.medium.com/v2/resize:fit:720/format:webp/1*-H-g_w9dfGqsP42EL4I1jw.png\">\n",
    "\n",
    "For a two-point crossover, we need to select two points and then exchange the bits.\n",
    "\n",
    "<img src = \"https://miro.medium.com/v2/resize:fit:720/format:webp/1*xVKuqSz0bCn4wC-kF3eYvA.png\">\n",
    "\n",
    "Finally, these new offsprings are added to the population."
   ]
  },
  {
   "cell_type": "markdown",
   "id": "c4b3742a",
   "metadata": {},
   "source": [
    "# Mutation\n",
    "\n",
    "---\n",
    "\n",
    "Mutation brings diversity to the population. There are different kinds of mutations like Bit Flip mutation, Swap mutation, Inversion mutation, etc. These are so so simple.\n",
    "\n",
    "In Bit Flip mutation, Just select one or more bits and then flip them. If the selected bit is 0 then turn it to 1 and if the selected bit is 1 then turn it to 0.\n",
    "\n",
    "<img src=\"https://miro.medium.com/v2/resize:fit:596/format:webp/1*-Hc6azOBEhxtUaxvJVDhGw.png\">\n",
    "\n",
    "In Swap Bit mutation, select two bits and just swap them\n",
    "\n",
    "<img src=\"https://miro.medium.com/v2/resize:fit:720/format:webp/1*dW693DhVKbBSClyHUSNVcg.png\">\n",
    "\n",
    "In inverse mutation, just inverse the bits.\n",
    "\n",
    "<img src=\"https://miro.medium.com/v2/resize:fit:720/format:webp/1*U22K8cNVf4v3d1vP7g1K4g.png\">"
   ]
  }
 ],
 "metadata": {
  "kernelspec": {
   "display_name": "Python 3 (ipykernel)",
   "language": "python",
   "name": "python3"
  },
  "language_info": {
   "codemirror_mode": {
    "name": "ipython",
    "version": 3
   },
   "file_extension": ".py",
   "mimetype": "text/x-python",
   "name": "python",
   "nbconvert_exporter": "python",
   "pygments_lexer": "ipython3",
   "version": "3.10.0"
  }
 },
 "nbformat": 4,
 "nbformat_minor": 5
}
