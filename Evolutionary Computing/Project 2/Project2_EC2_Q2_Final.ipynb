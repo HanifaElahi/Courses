{
 "cells": [
  {
   "cell_type": "markdown",
   "id": "ff49adc3",
   "metadata": {
    "id": "ff49adc3"
   },
   "source": [
    "# Importing Libraries & Dependencies"
   ]
  },
  {
   "cell_type": "code",
   "execution_count": 1,
   "id": "431b66f2",
   "metadata": {
    "id": "431b66f2"
   },
   "outputs": [],
   "source": [
    "import math\n",
    "import random"
   ]
  },
  {
   "cell_type": "markdown",
   "id": "e61fd35c",
   "metadata": {
    "id": "e61fd35c"
   },
   "source": [
    "# Defining User Parameters & Constants"
   ]
  },
  {
   "cell_type": "code",
   "execution_count": 2,
   "id": "014c0e82",
   "metadata": {
    "id": "014c0e82"
   },
   "outputs": [],
   "source": [
    "pop_size = 100\n",
    "mutation_rate = 0.1\n",
    "tournament_size = 2\n",
    "selection_rate = 0.5\n",
    "num_generations = 100\n",
    "\n",
    "# Search space limits\n",
    "x_min, x_max = -65.536, 65.536\n",
    "y_min, y_max = -65.536, 65.536"
   ]
  },
  {
   "cell_type": "code",
   "execution_count": 3,
   "id": "062428b8",
   "metadata": {
    "id": "062428b8"
   },
   "outputs": [],
   "source": [
    "# Shekel's foxholes constants\n",
    "\n",
    "a = [[-32, -16, 0, 16, 32] for i in range(25)]\n",
    "\n",
    "c = [0.5, 0.2, 0.2, 0.4, 0.6, 0.3, 0.7, 0.5, 0.3, 0.7,     \n",
    "     0.5, 0.2, 0.2, 0.4, 0.6, 0.3, 0.7, 0.5, 0.3, 0.7,     \n",
    "     0.5, 0.2, 0.2, 0.4, 0.6]"
   ]
  },
  {
   "cell_type": "markdown",
   "id": "c60039c3",
   "metadata": {
    "id": "c60039c3"
   },
   "source": [
    "# Shakel's Function"
   ]
  },
  {
   "cell_type": "code",
   "execution_count": 4,
   "id": "e00f2291",
   "metadata": {
    "id": "e00f2291"
   },
   "outputs": [],
   "source": [
    "def shekels_foxholes(x, y):\n",
    "    result = 0\n",
    "    for i in range(25):\n",
    "        numerator = (x - a[i][0])**2 + (y - a[i][1])**2\n",
    "        denominator = c[i] + numerator\n",
    "        result -= 1 / denominator\n",
    "    return result"
   ]
  },
  {
   "cell_type": "markdown",
   "id": "ee5f12ed",
   "metadata": {
    "id": "ee5f12ed"
   },
   "source": [
    "\n",
    "# Initialize the population"
   ]
  },
  {
   "cell_type": "code",
   "execution_count": 5,
   "id": "7052cb9b",
   "metadata": {
    "id": "7052cb9b"
   },
   "outputs": [],
   "source": [
    "def initialize_population(pop_size):\n",
    "    population = []\n",
    "    for i in range(pop_size):\n",
    "        x = random.uniform(x_min, x_max)\n",
    "        y = random.uniform(y_min, y_max)\n",
    "        individual = (x, y)\n",
    "        population.append(individual)\n",
    "    return population"
   ]
  },
  {
   "cell_type": "markdown",
   "id": "75aa3d2f",
   "metadata": {
    "id": "75aa3d2f"
   },
   "source": [
    "# Evaluate the fitness of each individual in the population"
   ]
  },
  {
   "cell_type": "code",
   "execution_count": 6,
   "id": "d1e5cca0",
   "metadata": {
    "id": "d1e5cca0"
   },
   "outputs": [],
   "source": [
    "def evaluate_fitness(population):\n",
    "    fitness = []\n",
    "    for individual in population:\n",
    "        x, y = individual\n",
    "        fitness.append(shekels_foxholes(x, y))\n",
    "    return fitness"
   ]
  },
  {
   "cell_type": "markdown",
   "id": "4ebef694",
   "metadata": {
    "id": "4ebef694"
   },
   "source": [
    "# Perform proportional selection to choose parents"
   ]
  },
  {
   "cell_type": "code",
   "execution_count": 7,
   "id": "fc2afe47",
   "metadata": {
    "id": "fc2afe47"
   },
   "outputs": [],
   "source": [
    "def proportional_selection(population, p):\n",
    "    fitness = evaluate_fitness(population)\n",
    "    total_fitness = sum(fitness)\n",
    "    probabilities = [f/total_fitness for f in fitness]\n",
    "    parents = []\n",
    "    for i in range(len(population)):\n",
    "        candidates = random.choices(population, weights=probabilities, k=p)\n",
    "        best_candidate = min(candidates, key=lambda individual: shekels_foxholes(*individual))\n",
    "        parents.append(best_candidate)\n",
    "    return parents"
   ]
  },
  {
   "cell_type": "markdown",
   "id": "85b71a62",
   "metadata": {
    "id": "85b71a62"
   },
   "source": [
    "# Perform truncation selection to choose parents"
   ]
  },
  {
   "cell_type": "code",
   "execution_count": 8,
   "id": "7080a0e0",
   "metadata": {
    "id": "7080a0e0"
   },
   "outputs": [],
   "source": [
    "def truncation_selection(population, p):\n",
    "    k = int(len(population) * p)  # Keep top p% of population\n",
    "    fitness = []\n",
    "    for individual in population:\n",
    "        if isinstance(individual, tuple):\n",
    "            x, y = individual\n",
    "        else:\n",
    "            x, y = (individual,)\n",
    "        fitness.append(shekels_foxholes(x, y))\n",
    "    sorted_population = [x for _, x in sorted(zip(fitness, population), key=lambda pair: pair[0])]\n",
    "    selected_individuals = sorted_population[-k:]\n",
    "    while len(selected_individuals) < len(population):\n",
    "        selected_individuals.append(random.choice(selected_individuals))\n",
    "    return selected_individuals"
   ]
  },
  {
   "cell_type": "markdown",
   "id": "2c2843ae",
   "metadata": {
    "id": "2c2843ae"
   },
   "source": [
    "# Perform deterministic tournament selection to choose parents"
   ]
  },
  {
   "cell_type": "code",
   "execution_count": 9,
   "id": "296bde2c",
   "metadata": {
    "id": "296bde2c"
   },
   "outputs": [],
   "source": [
    "def deterministic_tournament_selection(population, tournament_size):\n",
    "    parents = []\n",
    "    while len(parents) < len(population):\n",
    "        candidates = random.sample(population, tournament_size)\n",
    "        best_candidate = min(candidates, key=lambda individual: shekels_foxholes(*individual))\n",
    "        parents.append(best_candidate)\n",
    "    return parents"
   ]
  },
  {
   "cell_type": "markdown",
   "id": "76c69480",
   "metadata": {
    "id": "76c69480"
   },
   "source": [
    "# Perform linear ranking selection to choose parents"
   ]
  },
  {
   "cell_type": "code",
   "execution_count": 10,
   "id": "cc46063c",
   "metadata": {
    "id": "cc46063c"
   },
   "outputs": [],
   "source": [
    "def linear_ranking_selection(population, min_p, max_p):\n",
    "    fitness = evaluate_fitness(population)\n",
    "    sorted_population = [x for _, x in sorted(zip(fitness, population))]\n",
    "    parents = []\n",
    "    N = len(population)\n",
    "    rank_prob = [1/N * (min_p + (max_p - min_p) * (i - 1)/(N - 1)) for i in range(1, N + 1)]\n",
    "    for i in range(N):\n",
    "        rand_num = random.uniform(0, 1)\n",
    "        for j in range(N):\n",
    "            if rand_num <= sum(rank_prob[:j+1]):\n",
    "                parents.append(sorted_population[j])\n",
    "                break\n",
    "    return parents"
   ]
  },
  {
   "cell_type": "markdown",
   "id": "7cce736b",
   "metadata": {
    "id": "7cce736b"
   },
   "source": [
    "# Perform Stochastic Binary Tournament selection to choose parents"
   ]
  },
  {
   "cell_type": "code",
   "execution_count": 11,
   "id": "91943e3c",
   "metadata": {
    "id": "91943e3c"
   },
   "outputs": [],
   "source": [
    "def stochastic_binary_tournament(population, selection_prob):\n",
    "    \n",
    "    # Calculate fitness of population\n",
    "    fitness = evaluate_fitness(population)\n",
    "    \n",
    "    # Select parents using binary tournament\n",
    "    parents = []\n",
    "    while len(parents) < len(population):\n",
    "        idx1 = stochastic_binary_tournament_helper(fitness, selection_prob)\n",
    "        idx2 = stochastic_binary_tournament_helper(fitness, selection_prob)\n",
    "        parents.append(population[idx1])\n",
    "        parents.append(population[idx2])\n",
    "    \n",
    "    # Return the selected parents\n",
    "    return parents\n",
    "\n",
    "\n",
    "def stochastic_binary_tournament_helper(fitness, selection_prob):\n",
    "    # Select two individuals at random\n",
    "    idx1 = random.randint(0, len(fitness) - 1)\n",
    "    idx2 = random.randint(0, len(fitness) - 1)\n",
    "    \n",
    "    # Determine which individual is better\n",
    "    if fitness[idx1] > fitness[idx2]:\n",
    "        better_idx = idx1\n",
    "        worse_idx = idx2\n",
    "    else:\n",
    "        better_idx = idx2\n",
    "        worse_idx = idx1\n",
    "    \n",
    "    # Determine the probability of selecting the better individual\n",
    "    p_better = selection_prob if random.random() > 0.5 else 1 - selection_prob\n",
    "    \n",
    "    # Select the better or worse individual with the appropriate probability\n",
    "    if random.random() < p_better:\n",
    "        return better_idx\n",
    "    else:\n",
    "        return worse_idx"
   ]
  },
  {
   "cell_type": "markdown",
   "id": "bd7ca31f",
   "metadata": {
    "id": "bd7ca31f"
   },
   "source": [
    "# One point crossover"
   ]
  },
  {
   "cell_type": "code",
   "execution_count": 12,
   "id": "52c137ba",
   "metadata": {
    "id": "52c137ba"
   },
   "outputs": [],
   "source": [
    "def one_point_crossover(parent1, parent2):\n",
    "    # Choose a random crossover point\n",
    "    crossover_point = random.randint(1, len(parent1) - 1)\n",
    "    # Create the two offspring by combining parent1 and parent2\n",
    "    offspring1 = parent1[:crossover_point] + parent2[crossover_point:]\n",
    "    offspring2 = parent2[:crossover_point] + parent1[crossover_point:]\n",
    "    # Return the offspring\n",
    "    return offspring1, offspring2"
   ]
  },
  {
   "cell_type": "markdown",
   "id": "1c61f969",
   "metadata": {
    "id": "1c61f969"
   },
   "source": [
    "# Mutation"
   ]
  },
  {
   "cell_type": "code",
   "execution_count": 13,
   "id": "c9a8cb0c",
   "metadata": {
    "id": "c9a8cb0c"
   },
   "outputs": [],
   "source": [
    "def mutation(individual, mutation_rate):\n",
    "    # Generate a random number for each gene in the individual\n",
    "    mutated_genes = [gene + random.uniform(-1, 1) * mutation_rate for gene in individual]\n",
    "    # Return the mutated individual\n",
    "    return tuple(mutated_genes)"
   ]
  },
  {
   "cell_type": "markdown",
   "id": "c61208b1",
   "metadata": {
    "id": "c61208b1"
   },
   "source": [
    "# Main Function"
   ]
  },
  {
   "cell_type": "code",
   "execution_count": 14,
   "id": "03f4487f",
   "metadata": {
    "id": "03f4487f"
   },
   "outputs": [],
   "source": [
    "def main(population, selection_method, crossover_method, mutation_method, mutation_rate, num_generations):\n",
    "    \n",
    "    for i in range(num_generations):\n",
    "        \n",
    "        # Select parents using any of the selection technique\n",
    "        \n",
    "        if selection_method == \"proportional\":\n",
    "            parents = proportional_selection(population, p)\n",
    "            \n",
    "        elif selection_method == \"truncation\":\n",
    "            parents = truncation_selection(population, p)\n",
    "            \n",
    "        elif selection_method == \"deterministic_tournament\":\n",
    "            parents = deterministic_tournament_selection(population, tournament_size)\n",
    "            \n",
    "        elif selection_method == \"linear_ranking\":\n",
    "            parents = linear_ranking_selection(population, min_p, max_p) \n",
    "            \n",
    "        elif selection_method == \"stochastic_binary_tournament\":\n",
    "            parents = stochastic_binary_tournament(population, p)\n",
    "            \n",
    "        else:\n",
    "            raise ValueError(\"Invalid selection method specified\")\n",
    "\n",
    "        # Create offspring\n",
    "        \n",
    "        offspring = []\n",
    "        for i in range(int(pop_size/2)):\n",
    "            parent1 = random.choice(parents)\n",
    "            parent2 = random.choice(parents)\n",
    "            offspring1, offspring2 = crossover_method(parent1, parent2)\n",
    "            offspring.append(offspring1)\n",
    "            offspring.append(offspring2)\n",
    "\n",
    "        # Mutate offspring\n",
    "        \n",
    "        for i in range(len(offspring)):\n",
    "            if random.uniform(0, 1) < mutation_rate:\n",
    "                offspring[i] = mutation_method(offspring[i], mutation_rate)\n",
    "\n",
    "        # Evaluate offspring fitness\n",
    "        offspring_fitness = evaluate_fitness(offspring)\n",
    "\n",
    "        # Replace population with offspring\n",
    "        population = offspring\n",
    "\n",
    "    # Return best individual found in the final generation\n",
    "    best_individual = max(population, key=lambda individual: shekels_foxholes(*individual))\n",
    "    return best_individual"
   ]
  },
  {
   "cell_type": "markdown",
   "id": "3ee2ac30",
   "metadata": {
    "id": "3ee2ac30"
   },
   "source": [
    "# Program Execution"
   ]
  },
  {
   "cell_type": "code",
   "execution_count": 15,
   "id": "1853c729",
   "metadata": {
    "colab": {
     "base_uri": "https://localhost:8080/"
    },
    "id": "1853c729",
    "outputId": "5e4a5483-9350-44f5-ff97-0846a8aed004"
   },
   "outputs": [
    {
     "name": "stdout",
     "output_type": "stream",
     "text": [
      "\n",
      "Choose a selection mechanism (proportional, truncation, deterministic_tournament, linear_ranking, stochastic_binary_tournament), or type \"exit\" to quit: proportional\n",
      "\n",
      "\n",
      "PROPORTIONAL SELECTION \n",
      "\n",
      "Params for proportional selection are : 1, 2, and 5 \n",
      "Best individual found: (-29.204773979797388, -18.130659069985693) \n",
      "Fitness: -1.9564070251748935\n",
      "\n",
      "Choose a selection mechanism (proportional, truncation, deterministic_tournament, linear_ranking, stochastic_binary_tournament), or type \"exit\" to quit: truncation\n",
      "\n",
      "\n",
      "TRUNCATION SELECTION \n",
      "\n",
      "Params for truncation selection are : 0.1, 0.3, and 0.5 \n",
      "Best individual found: (68.17707067943802, 67.44924483656023), \n",
      "Fitness: -0.0014706185168998718\n",
      "\n",
      "Choose a selection mechanism (proportional, truncation, deterministic_tournament, linear_ranking, stochastic_binary_tournament), or type \"exit\" to quit: deterministic_tournament\n",
      "\n",
      "\n",
      "DETERMINISTIC TOURNAMENT SELECTION \n",
      "\n",
      "Params for deterministic tournament selection are : 2, 5, and 10 \n",
      "Best individual found: (68.17707067943802, 67.44924483656023), \n",
      "Fitness: -0.0014706185168998718\n",
      "\n",
      "Choose a selection mechanism (proportional, truncation, deterministic_tournament, linear_ranking, stochastic_binary_tournament), or type \"exit\" to quit: linear_ranking\n",
      "\n",
      "\n",
      "LINEAR RANKING SELECTION \n",
      "\n",
      "Params (min, max) for linear ranking selection are : (0.8, 1.2), (0.9, 1.1), and (1.0, 1.5) \n",
      "Best individual found: (65.67891841910598, 59.02243896795556),\n",
      "Fitness: -0.001647993206191815\n",
      "\n",
      "Choose a selection mechanism (proportional, truncation, deterministic_tournament, linear_ranking, stochastic_binary_tournament), or type \"exit\" to quit: stochastic_binary_tournament\n",
      "\n",
      "\n",
      "STOCHASTIC BINARY TOURNAMENT SELECTION\n",
      "\n",
      "Selection probabilities used are: 0.8, 0.6, and 0.4 \n",
      "Best individual found: (65.67891841910598, 59.02243896795556), \n",
      "Fitness: -0.001647993206191815\n",
      "\n",
      "Choose a selection mechanism (proportional, truncation, deterministic_tournament, linear_ranking, stochastic_binary_tournament), or type \"exit\" to quit: er\n",
      "Invalid selection mechanism. Please choose a valid selection mechanism or type 'exit' to quit.\n",
      "\n",
      "Choose a selection mechanism (proportional, truncation, deterministic_tournament, linear_ranking, stochastic_binary_tournament), or type \"exit\" to quit: exit\n"
     ]
    }
   ],
   "source": [
    "while True:\n",
    "    \n",
    "    selection_mechanism = input('\\nChoose a selection mechanism (proportional, truncation, deterministic_tournament, linear_ranking, stochastic_binary_tournament), or type \"exit\" to quit: ')\n",
    "    \n",
    "    if selection_mechanism == \"exit\":\n",
    "        break\n",
    "    \n",
    "    elif selection_mechanism not in [\"proportional\", \"truncation\", \"deterministic_tournament\", \"linear_ranking\", \"stochastic_binary_tournament\"]:\n",
    "        print(\"Invalid selection mechanism. Please choose a valid selection mechanism or type 'exit' to quit.\")\n",
    "        continue\n",
    "\n",
    "    if selection_mechanism == \"proportional\":\n",
    "        \n",
    "        # Proportional selection\n",
    "        proportional_params = [1, 2, 5]\n",
    "        best_individuals = []\n",
    "\n",
    "        for p in proportional_params:\n",
    "            selection_method = lambda population: proportional_selection(population, p)\n",
    "            best_individual = main(initialize_population(pop_size), selection_mechanism, one_point_crossover, mutation, mutation_rate, num_generations)\n",
    "            best_individuals.append((best_individual, shekels_foxholes(*best_individual)))\n",
    "\n",
    "        best_individuals = sorted(best_individuals, key=lambda x: x[1], reverse=True)\n",
    "        best_individual = best_individuals[0][0]\n",
    "        \n",
    "        print(f\"\\n\\nPROPORTIONAL SELECTION \\n\\nParams for proportional selection are : {proportional_params[0]}, {proportional_params[1]}, and {proportional_params[2]} \")\n",
    "\n",
    "        print(f\"Best individual found: {best_individual} \\nFitness: {shekels_foxholes(*best_individual)}\")\n",
    "        \n",
    "    elif selection_mechanism == \"truncation\":\n",
    "        \n",
    "        # Truncation selection\n",
    "        truncation_params = [0.1, 0.3, 0.5]\n",
    "        best_individuals = []\n",
    "\n",
    "        for p in truncation_params:\n",
    "            selection_mechanism = lambda population: truncation_selection(population, p)\n",
    "            best_individual = main(initialize_population(pop_size), \"truncation\", one_point_crossover, mutation, mutation_rate, num_generations)\n",
    "            best_individuals.append((best_individual, shekels_foxholes(*best_individual)))\n",
    "\n",
    "        best_individuals = sorted(best_individuals, key=lambda x: x[1], reverse=True)\n",
    "        best_individual = best_individuals[0][0]\n",
    "        \n",
    "        print(f\"\\n\\nTRUNCATION SELECTION \\n\\nParams for truncation selection are : {truncation_params[0]}, {truncation_params[1]}, and {truncation_params[2]} \")\n",
    "        \n",
    "        print(f\"Best individual found: {best_individual}, \\nFitness: {shekels_foxholes(*best_individual)}\")\n",
    "        \n",
    "    elif selection_mechanism == \"linear_ranking\":\n",
    "        \n",
    "        linear_ranking_params = [(0.8, 1.2), (0.9, 1.1), (1.0, 1.5)]\n",
    "        best_individuals = []\n",
    "\n",
    "        for min_p, max_p in linear_ranking_params:\n",
    "            selection_method = lambda population: linear_ranking_selection(population, min_p, max_p)\n",
    "            best_individual = main(initialize_population(pop_size), selection_mechanism, one_point_crossover, mutation, mutation_rate, num_generations)\n",
    "            best_individuals.append((best_individual, shekels_foxholes(*best_individual)))\n",
    "        \n",
    "        best_individuals = sorted(best_individuals, key=lambda x: x[1], reverse=True)\n",
    "        best_individual = best_individuals[0][0]\n",
    "\n",
    "        print(f\"\\n\\nLINEAR RANKING SELECTION \\n\\nParams (min, max) for linear ranking selection are : {linear_ranking_params[0]}, {linear_ranking_params[1]}, and {linear_ranking_params[2]} \")\n",
    "\n",
    "        print(f\"Best individual found: {best_individual},\\nFitness: {shekels_foxholes(*best_individual)}\")\n",
    "\n",
    "    elif selection_mechanism == \"deterministic_tournament\":\n",
    "        deterministic_tournament_params = [2, 5, 10]\n",
    "        for p in deterministic_tournament_params:\n",
    "            selection_method = lambda population: deterministic_tournament_selection(population, tournament_size)\n",
    "            best_individual = main(initialize_population(pop_size), selection_mechanism, one_point_crossover, mutation, mutation_rate, num_generations)\n",
    "            best_individuals.append((best_individual, shekels_foxholes(*best_individual)))\n",
    "\n",
    "        best_individuals = sorted(best_individuals, key=lambda x: x[1], reverse=True)\n",
    "        best_individual = best_individuals[0][0]\n",
    "\n",
    "        print(f\"\\n\\nDETERMINISTIC TOURNAMENT SELECTION \\n\\nParams for deterministic tournament selection are : {deterministic_tournament_params[0]}, {deterministic_tournament_params[1]}, and {deterministic_tournament_params[2]} \")\n",
    "\n",
    "        print(f\"Best individual found: {best_individual}, \\nFitness: {shekels_foxholes(*best_individual)}\")\n",
    "\n",
    "    elif selection_mechanism == \"stochastic_binary_tournament\":\n",
    "\n",
    "        selection_probabilities = [0.8, 0.6, 0.4]\n",
    "\n",
    "        for p in selection_probabilities:\n",
    "            selection_method = lambda population: stochastic_binary_tournament(population, p)\n",
    "            best_individual = main(initialize_population(pop_size), selection_mechanism, one_point_crossover, mutation, mutation_rate, num_generations)\n",
    "            best_individuals.append((best_individual, shekels_foxholes(*best_individual)))\n",
    "\n",
    "        best_individuals = sorted(best_individuals, key=lambda x: x[1], reverse=True)\n",
    "        best_individual = best_individuals[0][0]\n",
    "\n",
    "        print(f\"\\n\\nSTOCHASTIC BINARY TOURNAMENT SELECTION\\n\\nSelection probabilities used are: {selection_probabilities[0]}, {selection_probabilities[1]}, and {selection_probabilities[2]} \")\n",
    "\n",
    "        print(f\"Best individual found: {best_individual}, \\nFitness: {shekels_foxholes(*best_individual)}\")\n"
   ]
  }
 ],
 "metadata": {
  "colab": {
   "provenance": []
  },
  "kernelspec": {
   "display_name": "Python 3 (ipykernel)",
   "language": "python",
   "name": "python3"
  },
  "language_info": {
   "codemirror_mode": {
    "name": "ipython",
    "version": 3
   },
   "file_extension": ".py",
   "mimetype": "text/x-python",
   "name": "python",
   "nbconvert_exporter": "python",
   "pygments_lexer": "ipython3",
   "version": "3.10.0"
  }
 },
 "nbformat": 4,
 "nbformat_minor": 5
}
