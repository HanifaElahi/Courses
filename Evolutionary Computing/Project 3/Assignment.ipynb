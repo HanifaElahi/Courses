{
 "cells": [
  {
   "cell_type": "markdown",
   "id": "eeff6fc5",
   "metadata": {},
   "source": [
    "# Import Libraries & Dependencies"
   ]
  },
  {
   "cell_type": "code",
   "execution_count": 1,
   "id": "140a4dc9",
   "metadata": {},
   "outputs": [],
   "source": [
    "import math\n",
    "import random\n",
    "import pickle\n",
    "import statistics\n",
    "import numpy as np"
   ]
  },
  {
   "cell_type": "markdown",
   "id": "ce8fb41c",
   "metadata": {},
   "source": [
    "# Reading Data"
   ]
  },
  {
   "cell_type": "code",
   "execution_count": 2,
   "id": "8ee47e2b",
   "metadata": {},
   "outputs": [],
   "source": [
    "# Read variables from file\n",
    "with open(\"params.pkl\", \"rb\") as f:\n",
    "    \n",
    "    variable_ranges = pickle.load(f)\n",
    "    bits_per_variable = pickle.load(f)\n",
    "    num_variables = pickle.load(f)\n",
    "    pop_size = pickle.load(f)\n",
    "    pc = pickle.load(f)\n",
    "    pm = pickle.load(f)\n",
    "    max_generations = pickle.load(f)\n",
    "    num_runs = pickle.load(f)"
   ]
  },
  {
   "cell_type": "code",
   "execution_count": 3,
   "id": "fa7f305e",
   "metadata": {},
   "outputs": [
    {
     "name": "stdout",
     "output_type": "stream",
     "text": [
      "variable_range: [[-7.0, 4.0], [-7.0, 4.0], [-7.0, 4.0]]\n",
      "bits_per_variable: [15, 20, 25]\n",
      "num_variables: 3\n",
      "pop_size: 50\n",
      "pc: 0.9\n",
      "pm: 0.05\n",
      "max_generations: 100\n",
      "num_runs: 50\n"
     ]
    }
   ],
   "source": [
    "print(\"variable_range:\", variable_ranges)\n",
    "print(\"bits_per_variable:\", bits_per_variable)\n",
    "print(\"num_variables:\", num_variables)\n",
    "print(\"pop_size:\", pop_size)\n",
    "print(\"pc:\", pc)\n",
    "print(\"pm:\", pm)\n",
    "print(\"max_generations:\", max_generations)\n",
    "print(\"num_runs:\", num_runs)"
   ]
  },
  {
   "cell_type": "markdown",
   "id": "04039f6e",
   "metadata": {},
   "source": [
    "# Population Initialization"
   ]
  },
  {
   "cell_type": "code",
   "execution_count": 5,
   "id": "6131a1f6",
   "metadata": {},
   "outputs": [],
   "source": [
    "def initialize_population():\n",
    "    # Initialize the population with random bit-strings for each variable\n",
    "    population = []\n",
    "    for i in range(pop_size):\n",
    "        x1_bitstring = ''.join(random.choices(['0', '1'], k=bits_per_variable[0]))\n",
    "        x2_bitstring = ''.join(random.choices(['0', '1'], k=bits_per_variable[1]))\n",
    "        x3_bitstring = ''.join(random.choices(['0', '1'], k=bits_per_variable[2]))\n",
    "        individual = x1_bitstring + x2_bitstring + x3_bitstring\n",
    "        population.append(individual)\n",
    "    return population"
   ]
  },
  {
   "cell_type": "markdown",
   "id": "87cfb335",
   "metadata": {},
   "source": [
    "# Decoding Individuals"
   ]
  },
  {
   "cell_type": "code",
   "execution_count": 6,
   "id": "f883a09c",
   "metadata": {},
   "outputs": [],
   "source": [
    "def decode_individual(individual):\n",
    "    # Convert bit-strings to floating point values\n",
    "    x1 = variable_ranges[0][0] + (int(individual[:bits_per_variable[0]], 2) / (2**bits_per_variable[0]-1)) * (variable_ranges[0][1] - variable_ranges[0][0])\n",
    "    x2 = variable_ranges[1][0] + (int(individual[bits_per_variable[0]:bits_per_variable[0]+bits_per_variable[1]], 2) / (2**bits_per_variable[1]-1)) * (variable_ranges[1][1] - variable_ranges[1][0])\n",
    "    x3 = variable_ranges[2][0] + (int(individual[-bits_per_variable[2]:], 2) / (2**bits_per_variable[2]-1)) * (variable_ranges[2][1] - variable_ranges[2][0])\n",
    "    return [x1, x2, x3]"
   ]
  },
  {
   "cell_type": "markdown",
   "id": "38cd673d",
   "metadata": {},
   "source": [
    "# Evaluating Population"
   ]
  },
  {
   "cell_type": "code",
   "execution_count": 7,
   "id": "5e0560e3",
   "metadata": {},
   "outputs": [],
   "source": [
    "def evaluate_population(population):\n",
    "    # Evaluate the fitness of each individual in the population\n",
    "    fitness_values = []\n",
    "    for individual in population:\n",
    "        [x1, x2, x3] = decode_individual(individual)\n",
    "        fitness = x1**2 + x2**2 + x3**2\n",
    "        fitness_values.append(fitness)\n",
    "    return fitness_values"
   ]
  },
  {
   "cell_type": "markdown",
   "id": "589e8d29",
   "metadata": {},
   "source": [
    "# Proportional Selection"
   ]
  },
  {
   "cell_type": "code",
   "execution_count": 8,
   "id": "a70487fc",
   "metadata": {},
   "outputs": [],
   "source": [
    "def proportional_selection(population, fitness_values):\n",
    "    # Perform proportional selection\n",
    "    total_fitness = sum(fitness_values)\n",
    "    probabilities = [fitness / total_fitness for fitness in fitness_values]\n",
    "    selected_indices = random.choices(range(pop_size), weights=probabilities, k=pop_size)\n",
    "    selected_population = [population[i] for i in selected_indices]\n",
    "    return selected_population"
   ]
  },
  {
   "cell_type": "markdown",
   "id": "b0563f59",
   "metadata": {},
   "source": [
    "# Single - Point Crossover"
   ]
  },
  {
   "cell_type": "code",
   "execution_count": 9,
   "id": "fd2e105e",
   "metadata": {},
   "outputs": [],
   "source": [
    "def single_point_crossover(parent1, parent2):\n",
    "    # Perform single-point crossover\n",
    "    crossover_point = random.randint(0, len(parent1))\n",
    "    child1 = parent1[:crossover_point] + parent2[crossover_point:]\n",
    "    child2 = parent2[:crossover_point] + parent1[crossover_point:]\n",
    "    return child1, child2"
   ]
  },
  {
   "cell_type": "markdown",
   "id": "13ad52cc",
   "metadata": {},
   "source": [
    "# Mutation"
   ]
  },
  {
   "cell_type": "code",
   "execution_count": 10,
   "id": "9949da46",
   "metadata": {},
   "outputs": [],
   "source": [
    "# Define the mutation function\n",
    "def mutation(individual):\n",
    "    # Perform gene-wise mutation\n",
    "    x1_list = list(individual[:bits_per_variable[0]])\n",
    "    x2_list = list(individual[bits_per_variable[0]:bits_per_variable[0]+bits_per_variable[1]])\n",
    "    x3_list = list(individual[-bits_per_variable[2]:])\n",
    "    for i in range(len(x1_list)):\n",
    "        if random.random() < pm:\n",
    "            x1_list[i] = '1' if x1_list[i] == '0' else '0'\n",
    "    for i in range(len(x2_list)):\n",
    "        if random.random() < pm:\n",
    "            x2_list[i] = '1' if x2_list[i] == '0' else '0'\n",
    "    for i in range(len(x3_list)):\n",
    "        if random.random() < pm:\n",
    "            x3_list[i] = '1' if x3_list[i] == '0' else '0'\n",
    "    individual = ''.join(x1_list + x2_list + x3_list)\n",
    "    return individual\n"
   ]
  },
  {
   "cell_type": "markdown",
   "id": "04ec535a",
   "metadata": {},
   "source": [
    "# # Defining the GA function"
   ]
  },
  {
   "cell_type": "code",
   "execution_count": 11,
   "id": "a6e711d3",
   "metadata": {},
   "outputs": [],
   "source": [
    "def run_ga():\n",
    "    # Initialize the best solution and its fitness value\n",
    "    best_of_run_solution = None\n",
    "    best_of_run_fitness = float(\"inf\")\n",
    "\n",
    "    # Run the GA for 30 independent runs\n",
    "    best_fitnesses = []\n",
    "    \n",
    "    for run in range(num_runs):\n",
    "        # Initialize the population\n",
    "        population = initialize_population()\n",
    "\n",
    "        # Run the GA for the specified number of generations\n",
    "        for gen in range(max_generations):\n",
    "            # Evaluate the fitness of the population\n",
    "            fitness_values = evaluate_population(population)\n",
    "\n",
    "            # Select the parents for the next generation\n",
    "            selected_population = proportional_selection(population, fitness_values)\n",
    "\n",
    "            # Create a new population through crossover and mutation\n",
    "            new_population = []\n",
    "            \n",
    "            for i in range(int(pop_size / 2)):\n",
    "                # Select two parents at random from the selected population\n",
    "                [parent1, parent2] = random.sample(selected_population, k=2)\n",
    "\n",
    "                # Perform crossover with probability pc\n",
    "                if random.random() < pc:\n",
    "                    [child1, child2] = single_point_crossover(parent1, parent2)\n",
    "                else:\n",
    "                    child1, child2 = parent1, parent2\n",
    "\n",
    "                # Perform mutation with probability pm\n",
    "                child1 = mutation(child1)\n",
    "                child2 = mutation(child2)\n",
    "\n",
    "                # Add the new children to the new population\n",
    "                new_population.append(child1)\n",
    "                new_population.append(child2)\n",
    "\n",
    "            # Replace the old population with the new populationa\n",
    "            population = new_population\n",
    "\n",
    "            # Track the best fitness of the population\n",
    "            best_fitness = min(fitness_values)\n",
    "            best_solution = population[np.argmin(fitness_values)]\n",
    "\n",
    "            # Update the best solution and fitness value if a better solution is found\n",
    "            if best_fitness < best_of_run_fitness:\n",
    "                best_of_run_solution = best_solution\n",
    "                best_of_run_fitness = best_fitness\n",
    "\n",
    "        # Record the best fitness of the run\n",
    "        best_fitnesses.append(best_fitness)\n",
    "        \n",
    "    return best_of_run_solution, best_of_run_fitness, best_fitnesses"
   ]
  },
  {
   "cell_type": "code",
   "execution_count": 12,
   "id": "fdbc3096",
   "metadata": {},
   "outputs": [],
   "source": [
    "# Run the GA for the specified number of independent runs\n",
    "best_solution, best_fitness , best_fitnesses = run_ga()"
   ]
  },
  {
   "cell_type": "code",
   "execution_count": 13,
   "id": "767bf14d",
   "metadata": {},
   "outputs": [
    {
     "name": "stdout",
     "output_type": "stream",
     "text": [
      "\n",
      "Average best fitness over 50 runs: 26.1582\n",
      "Standard deviation of best fitness over 50 runs: 12.8224\n",
      "\n",
      "Best-of-run solution:\n",
      "Bit-string representation: 001010010001111110010001001100100100000000010110001100010111\n",
      "Floating-point values: x1 = -5.2332, x2 = 1.6195, x3 = -6.9702\n",
      "Fitness value: 0.0815\n"
     ]
    }
   ],
   "source": [
    "# Print the average and standard deviation of the best fitness over all runs\n",
    "avg_best_fitness = statistics.mean(best_fitnesses)\n",
    "std_best_fitness = statistics.stdev(best_fitnesses)\n",
    "print(f\"\\nAverage best fitness over {num_runs} runs: {avg_best_fitness:.4f}\")\n",
    "print(f\"Standard deviation of best fitness over {num_runs} runs: {std_best_fitness:.4f}\")\n",
    "\n",
    "# Print the vector of the best-of-run solution\n",
    "print(f\"\\nBest-of-run solution:\")\n",
    "print(f\"Bit-string representation: {best_solution}\")\n",
    "x, y, z = decode_individual(best_solution)\n",
    "print(f\"Floating-point values: x1 = {x:.4f}, x2 = {y:.4f}, x3 = {z:.4f}\")\n",
    "print(f\"Fitness value: {best_fitness:.4f}\")"
   ]
  }
 ],
 "metadata": {
  "kernelspec": {
   "display_name": "Python 3 (ipykernel)",
   "language": "python",
   "name": "python3"
  },
  "language_info": {
   "codemirror_mode": {
    "name": "ipython",
    "version": 3
   },
   "file_extension": ".py",
   "mimetype": "text/x-python",
   "name": "python",
   "nbconvert_exporter": "python",
   "pygments_lexer": "ipython3",
   "version": "3.10.0"
  }
 },
 "nbformat": 4,
 "nbformat_minor": 5
}
