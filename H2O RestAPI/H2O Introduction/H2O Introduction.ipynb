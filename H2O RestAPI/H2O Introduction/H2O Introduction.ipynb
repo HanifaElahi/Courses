{
 "cells": [
  {
   "cell_type": "markdown",
   "id": "fe163e6c",
   "metadata": {},
   "source": [
    "* H2O is an in-memory platform for distributed, scalable machine learning.\n",
    "\n",
    "* H2O uses familiar interfaces like R, Python, Scala, Java, JSON and the Flow notebook/web interface, and works seamlessly with big data technologies like Hadoop and Spark. \n",
    "\n",
    "* H2O provides implementations of many popular algorithms such as Generalized Linear Models (GLM), Gradient Boosting Machines (including XGBoost), Random Forests, Deep Neural Networks, Stacked Ensembles, Naive Bayes, Generalized Additive Models (GAM), Cox Proportional Hazards, K-Means, PCA, Word2Vec, as well as a fully automatic machine learning algorithm (H2O AutoML).\n",
    "\n",
    "* H2O is extensible so that developers can add data transformations and custom algorithms of their choice and access them through all of those clients.\n"
   ]
  },
  {
   "cell_type": "markdown",
   "id": "8a9ce6dc",
   "metadata": {},
   "source": [
    "#### H2O Python Module"
   ]
  },
  {
   "cell_type": "markdown",
   "id": "ba534daa",
   "metadata": {},
   "source": [
    "* H2O Python module provides access to the H2O JVM, as well as its extensions, objects, machine-learning algorithms, and modeling support capabilities, such as basic munging and feature generation.\n",
    "\n",
    "* The H2O JVM provides a web server so that all communication occurs on a socket (specified by an IP address and a port) via a series of REST calls.\n",
    "\n",
    "* The H2O Python module is not intended as a replacement for other popular machine learning frameworks such as scikit-learn, pylearn2, and their ilk, but is intended to bring H2O to a wider audience of data and machine learning devotees who work exclusively with Python.\n",
    "\n",
    "* H2O from Python is a tool for rapidly turning over models, doing data munging, and building applications in a fast, scalable environment without any of the mental anguish about parallelism and distribution of work.\n"
   ]
  },
  {
   "cell_type": "markdown",
   "id": "df1ae0d8",
   "metadata": {},
   "source": [
    "#### H2O "
   ]
  },
  {
   "cell_type": "markdown",
   "id": "0e4661c1",
   "metadata": {},
   "source": [
    "* H2O is a Java-based software for data modeling and general computing. \n",
    "\n",
    "* The primary purpose of H2O is as a distributed (many machines), parallel (many CPUs), in memory (several hundred GBs Xmx) processing engine.\n",
    "\n",
    "\n",
    "* There are two levels of parallelism:\n",
    "1. within node\n",
    "2. across (or between) nodes\n",
    "\n",
    "* The goal of H2O is to allow simple horizontal scaling to a given problem in order to produce a solution faster. The conceptual paradigm MapReduce (AKA “divide and conquer and combine”), along with a good concurrent application structure, enable this type of scaling in H2O.\n",
    "\n",
    "* For application developers and data scientists, the gritty details of thread-safety, algorithm parallelism, and node coherence on a network are concealed by simple-to-use REST calls.\n"
   ]
  },
  {
   "cell_type": "markdown",
   "id": "063ef43e",
   "metadata": {},
   "source": [
    "#### H2O Object System"
   ]
  },
  {
   "cell_type": "markdown",
   "id": "729bd87e",
   "metadata": {},
   "source": [
    "* H2O uses a distributed key-value store (the “DKV”) that contains pointers to the various objects of the H2O ecosystem. \n",
    "\n",
    "* Some shared objects are mutable by the client\n",
    "\n",
    "* Some shared objects are read-only by the client, but are mutable by H2O (e.g. a model being constructed will change over time) and actions by the client may have side-effects on other clients (multi-tenancy is not a supported model of use, but it is possible for multiple clients to attach to a single H2O cluster).\n",
    "\n",
    "These objects are:\n",
    "\n",
    "* Key: A key is an entry in the DKV that maps to an object in H2O.\n",
    "\n",
    "* Frame: A Frame is a collection of Vec objects. It is a 2D array of elements.\n",
    "\n",
    "* Vec: A Vec is a collection of Chunk objects. It is a 1D array of elements.\n",
    "\n",
    "* Chunk: A Chunk holds a fraction of the BigData. It is a 1D array of elements.\n",
    "\n",
    "* ModelMetrics: A collection of metrics for a given category of model.\n",
    "\n",
    "* Model: A model is an immutable object having predict and metrics methods.\n",
    "\n",
    "* Job: A Job is a non-blocking task that performs a finite amount of work"
   ]
  },
  {
   "cell_type": "markdown",
   "id": "5ebf5c76",
   "metadata": {},
   "source": [
    "### Installation"
   ]
  },
  {
   "cell_type": "code",
   "execution_count": 1,
   "id": "5b07c992",
   "metadata": {},
   "outputs": [
    {
     "name": "stdout",
     "output_type": "stream",
     "text": [
      "Requirement already satisfied: requests in c:\\users\\dell\\anaconda3\\lib\\site-packages (2.25.1)\n",
      "Requirement already satisfied: idna<3,>=2.5 in c:\\users\\dell\\anaconda3\\lib\\site-packages (from requests) (2.10)\n",
      "Requirement already satisfied: chardet<5,>=3.0.2 in c:\\users\\dell\\anaconda3\\lib\\site-packages (from requests) (4.0.0)\n",
      "Requirement already satisfied: urllib3<1.27,>=1.21.1 in c:\\users\\dell\\anaconda3\\lib\\site-packages (from requests) (1.26.4)\n",
      "Requirement already satisfied: certifi>=2017.4.17 in c:\\users\\dell\\anaconda3\\lib\\site-packages (from requests) (2020.12.5)\n",
      "Collecting tabulate\n",
      "  Downloading tabulate-0.8.9-py3-none-any.whl (25 kB)\n",
      "Installing collected packages: tabulate\n",
      "Successfully installed tabulate-0.8.9\n",
      "Requirement already satisfied: colorama>=0.3.8 in c:\\users\\dell\\anaconda3\\lib\\site-packages (0.4.4)\n",
      "Requirement already satisfied: future in c:\\users\\dell\\anaconda3\\lib\\site-packages (0.18.2)\n"
     ]
    }
   ],
   "source": [
    "#dependencies needed to be installed\n",
    "!pip install requests\n",
    "!pip install tabulate\n",
    "!pip install \"colorama>=0.3.8\"\n",
    "!pip install future"
   ]
  },
  {
   "cell_type": "code",
   "execution_count": 2,
   "id": "3f15c750",
   "metadata": {},
   "outputs": [
    {
     "name": "stdout",
     "output_type": "stream",
     "text": [
      "Collecting h2o\n",
      "  Downloading h2o-3.32.1.3.tar.gz (164.8 MB)\n",
      "Requirement already satisfied: requests in c:\\users\\dell\\anaconda3\\lib\\site-packages (from h2o) (2.25.1)\n",
      "Requirement already satisfied: tabulate in c:\\users\\dell\\anaconda3\\lib\\site-packages (from h2o) (0.8.9)\n",
      "Requirement already satisfied: future in c:\\users\\dell\\anaconda3\\lib\\site-packages (from h2o) (0.18.2)\n",
      "Requirement already satisfied: colorama>=0.3.8 in c:\\users\\dell\\anaconda3\\lib\\site-packages (from h2o) (0.4.4)\n",
      "Requirement already satisfied: chardet<5,>=3.0.2 in c:\\users\\dell\\anaconda3\\lib\\site-packages (from requests->h2o) (4.0.0)\n",
      "Requirement already satisfied: idna<3,>=2.5 in c:\\users\\dell\\anaconda3\\lib\\site-packages (from requests->h2o) (2.10)\n",
      "Requirement already satisfied: certifi>=2017.4.17 in c:\\users\\dell\\anaconda3\\lib\\site-packages (from requests->h2o) (2020.12.5)\n",
      "Requirement already satisfied: urllib3<1.27,>=1.21.1 in c:\\users\\dell\\anaconda3\\lib\\site-packages (from requests->h2o) (1.26.4)\n",
      "Building wheels for collected packages: h2o\n",
      "  Building wheel for h2o (setup.py): started\n",
      "  Building wheel for h2o (setup.py): finished with status 'done'\n",
      "  Created wheel for h2o: filename=h2o-3.32.1.3-py2.py3-none-any.whl size=164854343 sha256=c8ef263ff628a2c52589cf15c7d0af9095d827e5a179964a3e38b04bc29e7052\n",
      "  Stored in directory: c:\\users\\dell\\appdata\\local\\pip\\cache\\wheels\\94\\de\\98\\a3badf41ac2c2b02dc1a21c9b8f8d435b5eb68a52f9df8d3c1\n",
      "Successfully built h2o\n",
      "Installing collected packages: h2o\n",
      "Successfully installed h2o-3.32.1.3\n"
     ]
    }
   ],
   "source": [
    "!pip install h2o"
   ]
  },
  {
   "cell_type": "markdown",
   "id": "c37a2e04",
   "metadata": {},
   "source": [
    "http://www.oracle.com/technetwork/java/javase/downloads/index.html\n",
    "    \n",
    "H2O supprts Java SDK version 8-15"
   ]
  },
  {
   "cell_type": "markdown",
   "id": "89de3449",
   "metadata": {},
   "source": [
    "# Supported File Formats\n",
    "\n",
    "H2O currently supports the following file types:\n",
    "\n",
    "* CSV (delimited, UTF-8 only) files (including GZipped CSV)\n",
    "\n",
    "* ORC\n",
    "\n",
    "* SVMLight\n",
    "\n",
    "* ARFF\n",
    "\n",
    "* XLS (BIFF 8 only)\n",
    "\n",
    "* XLSX (BIFF 8 only)\n",
    "\n",
    "* Avro version 1.8.0 (without multifile parsing or column type modification)\n",
    "\n",
    "* Parquet"
   ]
  },
  {
   "cell_type": "code",
   "execution_count": null,
   "id": "e6584c22",
   "metadata": {},
   "outputs": [],
   "source": []
  },
  {
   "cell_type": "code",
   "execution_count": 5,
   "id": "44c36e9e",
   "metadata": {},
   "outputs": [],
   "source": [
    "import h2o"
   ]
  },
  {
   "cell_type": "code",
   "execution_count": 9,
   "id": "9c07b217",
   "metadata": {},
   "outputs": [
    {
     "name": "stdout",
     "output_type": "stream",
     "text": [
      "Checking whether there is an H2O instance running at http://localhost:54321 ..... not found.\n",
      "Attempting to start a local H2O server...\n",
      "; Java HotSpot(TM) 64-Bit Server VM (build 25.291-b10, mixed mode)\n",
      "  Starting server from C:\\Users\\Dell\\anaconda3\\Lib\\site-packages\\h2o\\backend\\bin\\h2o.jar\n",
      "  Ice root: C:\\Users\\Dell\\AppData\\Local\\Temp\\tmp9gm19t1o\n",
      "  JVM stdout: C:\\Users\\Dell\\AppData\\Local\\Temp\\tmp9gm19t1o\\h2o_Dell_started_from_python.out\n",
      "  JVM stderr: C:\\Users\\Dell\\AppData\\Local\\Temp\\tmp9gm19t1o\\h2o_Dell_started_from_python.err\n",
      "  Server is running at http://127.0.0.1:54321\n",
      "Connecting to H2O server at http://127.0.0.1:54321 ... successful.\n"
     ]
    },
    {
     "data": {
      "text/html": [
       "<div style=\"overflow:auto\"><table style=\"width:50%\"><tr><td>H2O_cluster_uptime:</td>\n",
       "<td>05 secs</td></tr>\n",
       "<tr><td>H2O_cluster_timezone:</td>\n",
       "<td>America/Los_Angeles</td></tr>\n",
       "<tr><td>H2O_data_parsing_timezone:</td>\n",
       "<td>UTC</td></tr>\n",
       "<tr><td>H2O_cluster_version:</td>\n",
       "<td>3.32.1.3</td></tr>\n",
       "<tr><td>H2O_cluster_version_age:</td>\n",
       "<td>26 days </td></tr>\n",
       "<tr><td>H2O_cluster_name:</td>\n",
       "<td>H2O_from_python_Dell_z81239</td></tr>\n",
       "<tr><td>H2O_cluster_total_nodes:</td>\n",
       "<td>1</td></tr>\n",
       "<tr><td>H2O_cluster_free_memory:</td>\n",
       "<td>864 Mb</td></tr>\n",
       "<tr><td>H2O_cluster_total_cores:</td>\n",
       "<td>4</td></tr>\n",
       "<tr><td>H2O_cluster_allowed_cores:</td>\n",
       "<td>4</td></tr>\n",
       "<tr><td>H2O_cluster_status:</td>\n",
       "<td>accepting new members, healthy</td></tr>\n",
       "<tr><td>H2O_connection_url:</td>\n",
       "<td>http://127.0.0.1:54321</td></tr>\n",
       "<tr><td>H2O_connection_proxy:</td>\n",
       "<td>{\"http\": null, \"https\": null}</td></tr>\n",
       "<tr><td>H2O_internal_security:</td>\n",
       "<td>False</td></tr>\n",
       "<tr><td>H2O_API_Extensions:</td>\n",
       "<td>Amazon S3, Algos, AutoML, Core V3, TargetEncoder, Core V4</td></tr>\n",
       "<tr><td>Python_version:</td>\n",
       "<td>3.8.8 final</td></tr></table></div>"
      ],
      "text/plain": [
       "--------------------------  ---------------------------------------------------------\n",
       "H2O_cluster_uptime:         05 secs\n",
       "H2O_cluster_timezone:       America/Los_Angeles\n",
       "H2O_data_parsing_timezone:  UTC\n",
       "H2O_cluster_version:        3.32.1.3\n",
       "H2O_cluster_version_age:    26 days\n",
       "H2O_cluster_name:           H2O_from_python_Dell_z81239\n",
       "H2O_cluster_total_nodes:    1\n",
       "H2O_cluster_free_memory:    864 Mb\n",
       "H2O_cluster_total_cores:    4\n",
       "H2O_cluster_allowed_cores:  4\n",
       "H2O_cluster_status:         accepting new members, healthy\n",
       "H2O_connection_url:         http://127.0.0.1:54321\n",
       "H2O_connection_proxy:       {\"http\": null, \"https\": null}\n",
       "H2O_internal_security:      False\n",
       "H2O_API_Extensions:         Amazon S3, Algos, AutoML, Core V3, TargetEncoder, Core V4\n",
       "Python_version:             3.8.8 final\n",
       "--------------------------  ---------------------------------------------------------"
      ]
     },
     "metadata": {},
     "output_type": "display_data"
    }
   ],
   "source": [
    "h2o.init()"
   ]
  },
  {
   "cell_type": "markdown",
   "id": "e82a01cb",
   "metadata": {},
   "source": [
    "## Basics"
   ]
  },
  {
   "cell_type": "markdown",
   "id": "76f0b479",
   "metadata": {},
   "source": [
    "**Importing files**"
   ]
  },
  {
   "cell_type": "code",
   "execution_count": 10,
   "id": "c9fe4c0b",
   "metadata": {},
   "outputs": [
    {
     "name": "stdout",
     "output_type": "stream",
     "text": [
      "Checking whether there is an H2O instance running at http://localhost:54321 . connected.\n"
     ]
    },
    {
     "data": {
      "text/html": [
       "<div style=\"overflow:auto\"><table style=\"width:50%\"><tr><td>H2O_cluster_uptime:</td>\n",
       "<td>26 secs</td></tr>\n",
       "<tr><td>H2O_cluster_timezone:</td>\n",
       "<td>America/Los_Angeles</td></tr>\n",
       "<tr><td>H2O_data_parsing_timezone:</td>\n",
       "<td>UTC</td></tr>\n",
       "<tr><td>H2O_cluster_version:</td>\n",
       "<td>3.32.1.3</td></tr>\n",
       "<tr><td>H2O_cluster_version_age:</td>\n",
       "<td>26 days </td></tr>\n",
       "<tr><td>H2O_cluster_name:</td>\n",
       "<td>H2O_from_python_Dell_z81239</td></tr>\n",
       "<tr><td>H2O_cluster_total_nodes:</td>\n",
       "<td>1</td></tr>\n",
       "<tr><td>H2O_cluster_free_memory:</td>\n",
       "<td>855 Mb</td></tr>\n",
       "<tr><td>H2O_cluster_total_cores:</td>\n",
       "<td>4</td></tr>\n",
       "<tr><td>H2O_cluster_allowed_cores:</td>\n",
       "<td>4</td></tr>\n",
       "<tr><td>H2O_cluster_status:</td>\n",
       "<td>locked, healthy</td></tr>\n",
       "<tr><td>H2O_connection_url:</td>\n",
       "<td>http://localhost:54321</td></tr>\n",
       "<tr><td>H2O_connection_proxy:</td>\n",
       "<td>{\"http\": null, \"https\": null}</td></tr>\n",
       "<tr><td>H2O_internal_security:</td>\n",
       "<td>False</td></tr>\n",
       "<tr><td>H2O_API_Extensions:</td>\n",
       "<td>Amazon S3, Algos, AutoML, Core V3, TargetEncoder, Core V4</td></tr>\n",
       "<tr><td>Python_version:</td>\n",
       "<td>3.8.8 final</td></tr></table></div>"
      ],
      "text/plain": [
       "--------------------------  ---------------------------------------------------------\n",
       "H2O_cluster_uptime:         26 secs\n",
       "H2O_cluster_timezone:       America/Los_Angeles\n",
       "H2O_data_parsing_timezone:  UTC\n",
       "H2O_cluster_version:        3.32.1.3\n",
       "H2O_cluster_version_age:    26 days\n",
       "H2O_cluster_name:           H2O_from_python_Dell_z81239\n",
       "H2O_cluster_total_nodes:    1\n",
       "H2O_cluster_free_memory:    855 Mb\n",
       "H2O_cluster_total_cores:    4\n",
       "H2O_cluster_allowed_cores:  4\n",
       "H2O_cluster_status:         locked, healthy\n",
       "H2O_connection_url:         http://localhost:54321\n",
       "H2O_connection_proxy:       {\"http\": null, \"https\": null}\n",
       "H2O_internal_security:      False\n",
       "H2O_API_Extensions:         Amazon S3, Algos, AutoML, Core V3, TargetEncoder, Core V4\n",
       "Python_version:             3.8.8 final\n",
       "--------------------------  ---------------------------------------------------------"
      ]
     },
     "metadata": {},
     "output_type": "display_data"
    },
    {
     "name": "stdout",
     "output_type": "stream",
     "text": [
      "Parse progress: |█████████████████████████████████████████████████████████| 100%\n",
      "Checking whether there is an H2O instance running at http://localhost:54321 . connected.\n"
     ]
    },
    {
     "data": {
      "text/html": [
       "<div style=\"overflow:auto\"><table style=\"width:50%\"><tr><td>H2O_cluster_uptime:</td>\n",
       "<td>57 secs</td></tr>\n",
       "<tr><td>H2O_cluster_timezone:</td>\n",
       "<td>America/Los_Angeles</td></tr>\n",
       "<tr><td>H2O_data_parsing_timezone:</td>\n",
       "<td>UTC</td></tr>\n",
       "<tr><td>H2O_cluster_version:</td>\n",
       "<td>3.32.1.3</td></tr>\n",
       "<tr><td>H2O_cluster_version_age:</td>\n",
       "<td>26 days </td></tr>\n",
       "<tr><td>H2O_cluster_name:</td>\n",
       "<td>H2O_from_python_Dell_z81239</td></tr>\n",
       "<tr><td>H2O_cluster_total_nodes:</td>\n",
       "<td>1</td></tr>\n",
       "<tr><td>H2O_cluster_free_memory:</td>\n",
       "<td>832 Mb</td></tr>\n",
       "<tr><td>H2O_cluster_total_cores:</td>\n",
       "<td>4</td></tr>\n",
       "<tr><td>H2O_cluster_allowed_cores:</td>\n",
       "<td>4</td></tr>\n",
       "<tr><td>H2O_cluster_status:</td>\n",
       "<td>locked, healthy</td></tr>\n",
       "<tr><td>H2O_connection_url:</td>\n",
       "<td>http://localhost:54321</td></tr>\n",
       "<tr><td>H2O_connection_proxy:</td>\n",
       "<td>{\"http\": null, \"https\": null}</td></tr>\n",
       "<tr><td>H2O_internal_security:</td>\n",
       "<td>False</td></tr>\n",
       "<tr><td>H2O_API_Extensions:</td>\n",
       "<td>Amazon S3, Algos, AutoML, Core V3, TargetEncoder, Core V4</td></tr>\n",
       "<tr><td>Python_version:</td>\n",
       "<td>3.8.8 final</td></tr></table></div>"
      ],
      "text/plain": [
       "--------------------------  ---------------------------------------------------------\n",
       "H2O_cluster_uptime:         57 secs\n",
       "H2O_cluster_timezone:       America/Los_Angeles\n",
       "H2O_data_parsing_timezone:  UTC\n",
       "H2O_cluster_version:        3.32.1.3\n",
       "H2O_cluster_version_age:    26 days\n",
       "H2O_cluster_name:           H2O_from_python_Dell_z81239\n",
       "H2O_cluster_total_nodes:    1\n",
       "H2O_cluster_free_memory:    832 Mb\n",
       "H2O_cluster_total_cores:    4\n",
       "H2O_cluster_allowed_cores:  4\n",
       "H2O_cluster_status:         locked, healthy\n",
       "H2O_connection_url:         http://localhost:54321\n",
       "H2O_connection_proxy:       {\"http\": null, \"https\": null}\n",
       "H2O_internal_security:      False\n",
       "H2O_API_Extensions:         Amazon S3, Algos, AutoML, Core V3, TargetEncoder, Core V4\n",
       "Python_version:             3.8.8 final\n",
       "--------------------------  ---------------------------------------------------------"
      ]
     },
     "metadata": {},
     "output_type": "display_data"
    },
    {
     "ename": "H2OResponseError",
     "evalue": "Server error java.lang.IllegalArgumentException:\n  Error: java.net.UnknownHostException: node-1\n  Request: POST /3/ImportFilesMulti\n    data: {'paths': '[hdfs://node-1:/user/smalldata/airlines/allyears2k_headers.zip]'}\n",
     "output_type": "error",
     "traceback": [
      "\u001b[1;31m---------------------------------------------------------------------------\u001b[0m",
      "\u001b[1;31mH2OResponseError\u001b[0m                          Traceback (most recent call last)",
      "\u001b[1;32m<ipython-input-10-eb133b526c8f>\u001b[0m in \u001b[0;36m<module>\u001b[1;34m\u001b[0m\n\u001b[0;32m      9\u001b[0m \u001b[0mh2o\u001b[0m\u001b[1;33m.\u001b[0m\u001b[0minit\u001b[0m\u001b[1;33m(\u001b[0m\u001b[1;33m)\u001b[0m\u001b[1;33m\u001b[0m\u001b[1;33m\u001b[0m\u001b[0m\n\u001b[0;32m     10\u001b[0m \u001b[0mairlines\u001b[0m \u001b[1;33m=\u001b[0m \u001b[1;34m\"hdfs://node-1:/user/smalldata/airlines/allyears2k_headers.zip\"\u001b[0m\u001b[1;33m\u001b[0m\u001b[1;33m\u001b[0m\u001b[0m\n\u001b[1;32m---> 11\u001b[1;33m \u001b[0mairlines_df\u001b[0m \u001b[1;33m=\u001b[0m \u001b[0mh2o\u001b[0m\u001b[1;33m.\u001b[0m\u001b[0mimport_file\u001b[0m\u001b[1;33m(\u001b[0m\u001b[0mpath\u001b[0m\u001b[1;33m=\u001b[0m\u001b[0mairlines\u001b[0m\u001b[1;33m)\u001b[0m\u001b[1;33m\u001b[0m\u001b[1;33m\u001b[0m\u001b[0m\n\u001b[0m",
      "\u001b[1;32m~\\anaconda3\\lib\\site-packages\\h2o\\h2o.py\u001b[0m in \u001b[0;36mimport_file\u001b[1;34m(path, destination_frame, parse, header, sep, col_names, col_types, na_strings, pattern, skipped_columns, custom_non_data_line_markers, partition_by, quotechar, escapechar)\u001b[0m\n\u001b[0;32m    491\u001b[0m         \u001b[1;32mreturn\u001b[0m \u001b[0mlazy_import\u001b[0m\u001b[1;33m(\u001b[0m\u001b[0mpath\u001b[0m\u001b[1;33m,\u001b[0m \u001b[0mpattern\u001b[0m\u001b[1;33m)\u001b[0m\u001b[1;33m\u001b[0m\u001b[1;33m\u001b[0m\u001b[0m\n\u001b[0;32m    492\u001b[0m     \u001b[1;32melse\u001b[0m\u001b[1;33m:\u001b[0m\u001b[1;33m\u001b[0m\u001b[1;33m\u001b[0m\u001b[0m\n\u001b[1;32m--> 493\u001b[1;33m         return H2OFrame()._import_parse(path, pattern, destination_frame, header, sep, col_names, col_types, na_strings,\n\u001b[0m\u001b[0;32m    494\u001b[0m                                         skipped_columns, custom_non_data_line_markers, partition_by, quotechar, escapechar)\n\u001b[0;32m    495\u001b[0m \u001b[1;33m\u001b[0m\u001b[0m\n",
      "\u001b[1;32m~\\anaconda3\\lib\\site-packages\\h2o\\frame.py\u001b[0m in \u001b[0;36m_import_parse\u001b[1;34m(self, path, pattern, destination_frame, header, separator, column_names, column_types, na_strings, skipped_columns, custom_non_data_line_markers, partition_by, quotechar, escapechar)\u001b[0m\n\u001b[0;32m    449\u001b[0m         \u001b[1;32mif\u001b[0m \u001b[0mH2OFrame\u001b[0m\u001b[1;33m.\u001b[0m\u001b[0m__LOCAL_EXPANSION_ON_SINGLE_IMPORT__\u001b[0m \u001b[1;32mand\u001b[0m \u001b[0mis_type\u001b[0m\u001b[1;33m(\u001b[0m\u001b[0mpath\u001b[0m\u001b[1;33m,\u001b[0m \u001b[0mstr\u001b[0m\u001b[1;33m)\u001b[0m \u001b[1;32mand\u001b[0m \u001b[1;34m\"://\"\u001b[0m \u001b[1;32mnot\u001b[0m \u001b[1;32min\u001b[0m \u001b[0mpath\u001b[0m\u001b[1;33m:\u001b[0m  \u001b[1;31m# fixme: delete those 2 lines, cf. PUBDEV-5717\u001b[0m\u001b[1;33m\u001b[0m\u001b[1;33m\u001b[0m\u001b[0m\n\u001b[0;32m    450\u001b[0m             \u001b[0mpath\u001b[0m \u001b[1;33m=\u001b[0m \u001b[0mos\u001b[0m\u001b[1;33m.\u001b[0m\u001b[0mpath\u001b[0m\u001b[1;33m.\u001b[0m\u001b[0mabspath\u001b[0m\u001b[1;33m(\u001b[0m\u001b[0mpath\u001b[0m\u001b[1;33m)\u001b[0m\u001b[1;33m\u001b[0m\u001b[1;33m\u001b[0m\u001b[0m\n\u001b[1;32m--> 451\u001b[1;33m         \u001b[0mrawkey\u001b[0m \u001b[1;33m=\u001b[0m \u001b[0mh2o\u001b[0m\u001b[1;33m.\u001b[0m\u001b[0mlazy_import\u001b[0m\u001b[1;33m(\u001b[0m\u001b[0mpath\u001b[0m\u001b[1;33m,\u001b[0m \u001b[0mpattern\u001b[0m\u001b[1;33m)\u001b[0m\u001b[1;33m\u001b[0m\u001b[1;33m\u001b[0m\u001b[0m\n\u001b[0m\u001b[0;32m    452\u001b[0m         self._parse(rawkey, destination_frame, header, separator, column_names, column_types, na_strings,\n\u001b[0;32m    453\u001b[0m                     skipped_columns, custom_non_data_line_markers, partition_by, quotechar, escapechar)\n",
      "\u001b[1;32m~\\anaconda3\\lib\\site-packages\\h2o\\h2o.py\u001b[0m in \u001b[0;36mlazy_import\u001b[1;34m(path, pattern)\u001b[0m\n\u001b[0;32m    343\u001b[0m     \u001b[0massert_is_type\u001b[0m\u001b[1;33m(\u001b[0m\u001b[0mpattern\u001b[0m\u001b[1;33m,\u001b[0m \u001b[0mstr\u001b[0m\u001b[1;33m,\u001b[0m \u001b[1;32mNone\u001b[0m\u001b[1;33m)\u001b[0m\u001b[1;33m\u001b[0m\u001b[1;33m\u001b[0m\u001b[0m\n\u001b[0;32m    344\u001b[0m     \u001b[0mpaths\u001b[0m \u001b[1;33m=\u001b[0m \u001b[1;33m[\u001b[0m\u001b[0mpath\u001b[0m\u001b[1;33m]\u001b[0m \u001b[1;32mif\u001b[0m \u001b[0mis_type\u001b[0m\u001b[1;33m(\u001b[0m\u001b[0mpath\u001b[0m\u001b[1;33m,\u001b[0m \u001b[0mstr\u001b[0m\u001b[1;33m)\u001b[0m \u001b[1;32melse\u001b[0m \u001b[0mpath\u001b[0m\u001b[1;33m\u001b[0m\u001b[1;33m\u001b[0m\u001b[0m\n\u001b[1;32m--> 345\u001b[1;33m     \u001b[1;32mreturn\u001b[0m \u001b[0m_import_multi\u001b[0m\u001b[1;33m(\u001b[0m\u001b[0mpaths\u001b[0m\u001b[1;33m,\u001b[0m \u001b[0mpattern\u001b[0m\u001b[1;33m)\u001b[0m\u001b[1;33m\u001b[0m\u001b[1;33m\u001b[0m\u001b[0m\n\u001b[0m\u001b[0;32m    346\u001b[0m \u001b[1;33m\u001b[0m\u001b[0m\n\u001b[0;32m    347\u001b[0m \u001b[1;33m\u001b[0m\u001b[0m\n",
      "\u001b[1;32m~\\anaconda3\\lib\\site-packages\\h2o\\h2o.py\u001b[0m in \u001b[0;36m_import_multi\u001b[1;34m(paths, pattern)\u001b[0m\n\u001b[0;32m    349\u001b[0m     \u001b[0massert_is_type\u001b[0m\u001b[1;33m(\u001b[0m\u001b[0mpaths\u001b[0m\u001b[1;33m,\u001b[0m \u001b[1;33m[\u001b[0m\u001b[0mstr\u001b[0m\u001b[1;33m]\u001b[0m\u001b[1;33m)\u001b[0m\u001b[1;33m\u001b[0m\u001b[1;33m\u001b[0m\u001b[0m\n\u001b[0;32m    350\u001b[0m     \u001b[0massert_is_type\u001b[0m\u001b[1;33m(\u001b[0m\u001b[0mpattern\u001b[0m\u001b[1;33m,\u001b[0m \u001b[0mstr\u001b[0m\u001b[1;33m,\u001b[0m \u001b[1;32mNone\u001b[0m\u001b[1;33m)\u001b[0m\u001b[1;33m\u001b[0m\u001b[1;33m\u001b[0m\u001b[0m\n\u001b[1;32m--> 351\u001b[1;33m     \u001b[0mj\u001b[0m \u001b[1;33m=\u001b[0m \u001b[0mapi\u001b[0m\u001b[1;33m(\u001b[0m\u001b[1;34m\"POST /3/ImportFilesMulti\"\u001b[0m\u001b[1;33m,\u001b[0m \u001b[1;33m{\u001b[0m\u001b[1;34m\"paths\"\u001b[0m\u001b[1;33m:\u001b[0m \u001b[0mpaths\u001b[0m\u001b[1;33m,\u001b[0m \u001b[1;34m\"pattern\"\u001b[0m\u001b[1;33m:\u001b[0m \u001b[0mpattern\u001b[0m\u001b[1;33m}\u001b[0m\u001b[1;33m)\u001b[0m\u001b[1;33m\u001b[0m\u001b[1;33m\u001b[0m\u001b[0m\n\u001b[0m\u001b[0;32m    352\u001b[0m     \u001b[1;32mif\u001b[0m \u001b[0mj\u001b[0m\u001b[1;33m[\u001b[0m\u001b[1;34m\"fails\"\u001b[0m\u001b[1;33m]\u001b[0m\u001b[1;33m:\u001b[0m \u001b[1;32mraise\u001b[0m \u001b[0mValueError\u001b[0m\u001b[1;33m(\u001b[0m\u001b[1;34m\"ImportFiles of '\"\u001b[0m \u001b[1;33m+\u001b[0m \u001b[1;34m\".\"\u001b[0m\u001b[1;33m.\u001b[0m\u001b[0mjoin\u001b[0m\u001b[1;33m(\u001b[0m\u001b[0mpaths\u001b[0m\u001b[1;33m)\u001b[0m \u001b[1;33m+\u001b[0m \u001b[1;34m\"' failed on \"\u001b[0m \u001b[1;33m+\u001b[0m \u001b[0mstr\u001b[0m\u001b[1;33m(\u001b[0m\u001b[0mj\u001b[0m\u001b[1;33m[\u001b[0m\u001b[1;34m\"fails\"\u001b[0m\u001b[1;33m]\u001b[0m\u001b[1;33m)\u001b[0m\u001b[1;33m)\u001b[0m\u001b[1;33m\u001b[0m\u001b[1;33m\u001b[0m\u001b[0m\n\u001b[0;32m    353\u001b[0m     \u001b[1;32mreturn\u001b[0m \u001b[0mj\u001b[0m\u001b[1;33m[\u001b[0m\u001b[1;34m\"destination_frames\"\u001b[0m\u001b[1;33m]\u001b[0m\u001b[1;33m\u001b[0m\u001b[1;33m\u001b[0m\u001b[0m\n",
      "\u001b[1;32m~\\anaconda3\\lib\\site-packages\\h2o\\h2o.py\u001b[0m in \u001b[0;36mapi\u001b[1;34m(endpoint, data, json, filename, save_to)\u001b[0m\n\u001b[0;32m    105\u001b[0m     \u001b[1;31m# type checks are performed in H2OConnection class\u001b[0m\u001b[1;33m\u001b[0m\u001b[1;33m\u001b[0m\u001b[1;33m\u001b[0m\u001b[0m\n\u001b[0;32m    106\u001b[0m     \u001b[0m_check_connection\u001b[0m\u001b[1;33m(\u001b[0m\u001b[1;33m)\u001b[0m\u001b[1;33m\u001b[0m\u001b[1;33m\u001b[0m\u001b[0m\n\u001b[1;32m--> 107\u001b[1;33m     \u001b[1;32mreturn\u001b[0m \u001b[0mh2oconn\u001b[0m\u001b[1;33m.\u001b[0m\u001b[0mrequest\u001b[0m\u001b[1;33m(\u001b[0m\u001b[0mendpoint\u001b[0m\u001b[1;33m,\u001b[0m \u001b[0mdata\u001b[0m\u001b[1;33m=\u001b[0m\u001b[0mdata\u001b[0m\u001b[1;33m,\u001b[0m \u001b[0mjson\u001b[0m\u001b[1;33m=\u001b[0m\u001b[0mjson\u001b[0m\u001b[1;33m,\u001b[0m \u001b[0mfilename\u001b[0m\u001b[1;33m=\u001b[0m\u001b[0mfilename\u001b[0m\u001b[1;33m,\u001b[0m \u001b[0msave_to\u001b[0m\u001b[1;33m=\u001b[0m\u001b[0msave_to\u001b[0m\u001b[1;33m)\u001b[0m\u001b[1;33m\u001b[0m\u001b[1;33m\u001b[0m\u001b[0m\n\u001b[0m\u001b[0;32m    108\u001b[0m \u001b[1;33m\u001b[0m\u001b[0m\n\u001b[0;32m    109\u001b[0m \u001b[1;33m\u001b[0m\u001b[0m\n",
      "\u001b[1;32m~\\anaconda3\\lib\\site-packages\\h2o\\backend\\connection.py\u001b[0m in \u001b[0;36mrequest\u001b[1;34m(self, endpoint, data, json, filename, save_to)\u001b[0m\n\u001b[0;32m    476\u001b[0m                 \u001b[0msave_to\u001b[0m \u001b[1;33m=\u001b[0m \u001b[0msave_to\u001b[0m\u001b[1;33m(\u001b[0m\u001b[0mresp\u001b[0m\u001b[1;33m)\u001b[0m\u001b[1;33m\u001b[0m\u001b[1;33m\u001b[0m\u001b[0m\n\u001b[0;32m    477\u001b[0m             \u001b[0mself\u001b[0m\u001b[1;33m.\u001b[0m\u001b[0m_log_end_transaction\u001b[0m\u001b[1;33m(\u001b[0m\u001b[0mstart_time\u001b[0m\u001b[1;33m,\u001b[0m \u001b[0mresp\u001b[0m\u001b[1;33m)\u001b[0m\u001b[1;33m\u001b[0m\u001b[1;33m\u001b[0m\u001b[0m\n\u001b[1;32m--> 478\u001b[1;33m             \u001b[1;32mreturn\u001b[0m \u001b[0mself\u001b[0m\u001b[1;33m.\u001b[0m\u001b[0m_process_response\u001b[0m\u001b[1;33m(\u001b[0m\u001b[0mresp\u001b[0m\u001b[1;33m,\u001b[0m \u001b[0msave_to\u001b[0m\u001b[1;33m)\u001b[0m\u001b[1;33m\u001b[0m\u001b[1;33m\u001b[0m\u001b[0m\n\u001b[0m\u001b[0;32m    479\u001b[0m \u001b[1;33m\u001b[0m\u001b[0m\n\u001b[0;32m    480\u001b[0m         \u001b[1;32mexcept\u001b[0m \u001b[1;33m(\u001b[0m\u001b[0mrequests\u001b[0m\u001b[1;33m.\u001b[0m\u001b[0mexceptions\u001b[0m\u001b[1;33m.\u001b[0m\u001b[0mConnectionError\u001b[0m\u001b[1;33m,\u001b[0m \u001b[0mrequests\u001b[0m\u001b[1;33m.\u001b[0m\u001b[0mexceptions\u001b[0m\u001b[1;33m.\u001b[0m\u001b[0mHTTPError\u001b[0m\u001b[1;33m)\u001b[0m \u001b[1;32mas\u001b[0m \u001b[0me\u001b[0m\u001b[1;33m:\u001b[0m\u001b[1;33m\u001b[0m\u001b[1;33m\u001b[0m\u001b[0m\n",
      "\u001b[1;32m~\\anaconda3\\lib\\site-packages\\h2o\\backend\\connection.py\u001b[0m in \u001b[0;36m_process_response\u001b[1;34m(response, save_to)\u001b[0m\n\u001b[0;32m    822\u001b[0m         \u001b[1;31m# Client errors (400 = \"Bad Request\", 404 = \"Not Found\", 412 = \"Precondition Failed\")\u001b[0m\u001b[1;33m\u001b[0m\u001b[1;33m\u001b[0m\u001b[1;33m\u001b[0m\u001b[0m\n\u001b[0;32m    823\u001b[0m         \u001b[1;32mif\u001b[0m \u001b[0mstatus_code\u001b[0m \u001b[1;32min\u001b[0m \u001b[1;33m{\u001b[0m\u001b[1;36m400\u001b[0m\u001b[1;33m,\u001b[0m \u001b[1;36m404\u001b[0m\u001b[1;33m,\u001b[0m \u001b[1;36m412\u001b[0m\u001b[1;33m}\u001b[0m \u001b[1;32mand\u001b[0m \u001b[0misinstance\u001b[0m\u001b[1;33m(\u001b[0m\u001b[0mdata\u001b[0m\u001b[1;33m,\u001b[0m \u001b[1;33m(\u001b[0m\u001b[0mH2OErrorV3\u001b[0m\u001b[1;33m,\u001b[0m \u001b[0mH2OModelBuilderErrorV3\u001b[0m\u001b[1;33m)\u001b[0m\u001b[1;33m)\u001b[0m\u001b[1;33m:\u001b[0m\u001b[1;33m\u001b[0m\u001b[1;33m\u001b[0m\u001b[0m\n\u001b[1;32m--> 824\u001b[1;33m             \u001b[1;32mraise\u001b[0m \u001b[0mH2OResponseError\u001b[0m\u001b[1;33m(\u001b[0m\u001b[0mdata\u001b[0m\u001b[1;33m)\u001b[0m\u001b[1;33m\u001b[0m\u001b[1;33m\u001b[0m\u001b[0m\n\u001b[0m\u001b[0;32m    825\u001b[0m \u001b[1;33m\u001b[0m\u001b[0m\n\u001b[0;32m    826\u001b[0m         \u001b[1;31m# Server errors (notably 500 = \"Server Error\")\u001b[0m\u001b[1;33m\u001b[0m\u001b[1;33m\u001b[0m\u001b[1;33m\u001b[0m\u001b[0m\n",
      "\u001b[1;31mH2OResponseError\u001b[0m: Server error java.lang.IllegalArgumentException:\n  Error: java.net.UnknownHostException: node-1\n  Request: POST /3/ImportFilesMulti\n    data: {'paths': '[hdfs://node-1:/user/smalldata/airlines/allyears2k_headers.zip]'}\n"
     ]
    }
   ],
   "source": [
    "# Import a file from S3:\n",
    "import h2o\n",
    "h2o.init()\n",
    "airlines = \"http://s3.amazonaws.com/h2o-public-test-data/smalldata/airlines/allyears2k_headers.zip\"\n",
    "airlines_df = h2o.import_file(path=airlines)\n",
    "\n",
    "# Import a file from HDFS, you must include the node name:\n",
    "import h2o\n",
    "h2o.init()\n",
    "airlines = \"hdfs://node-1:/user/smalldata/airlines/allyears2k_headers.zip\"\n",
    "airlines_df = h2o.import_file(path=airlines)\n"
   ]
  },
  {
   "cell_type": "markdown",
   "id": "7a45eca9",
   "metadata": {},
   "source": [
    "**Combining Columns from Two Dataset**\n",
    "\n",
    "The cbind function allows you to combine datasets by adding columns from one dataset into another. Note that when using cbind, the two datasets must have the same number of rows. In addition, if the datasets contain common column names, H2O will append the joined column with 0."
   ]
  },
  {
   "cell_type": "code",
   "execution_count": 12,
   "id": "2aef78e9",
   "metadata": {},
   "outputs": [
    {
     "name": "stdout",
     "output_type": "stream",
     "text": [
      "Parse progress: |█████████████████████████████████████████████████████████| 100%\n"
     ]
    },
    {
     "data": {
      "text/html": [
       "<table>\n",
       "<thead>\n",
       "<tr><th style=\"text-align: right;\">        A</th><th style=\"text-align: right;\">        B</th><th style=\"text-align: right;\">         C</th><th style=\"text-align: right;\">         D</th></tr>\n",
       "</thead>\n",
       "<tbody>\n",
       "<tr><td style=\"text-align: right;\">-0.769678</td><td style=\"text-align: right;\">-1.04686 </td><td style=\"text-align: right;\"> 1.93747  </td><td style=\"text-align: right;\">-0.528779 </td></tr>\n",
       "<tr><td style=\"text-align: right;\">-0.323689</td><td style=\"text-align: right;\">-0.245458</td><td style=\"text-align: right;\">-0.451048 </td><td style=\"text-align: right;\"> 1.05777  </td></tr>\n",
       "<tr><td style=\"text-align: right;\">-0.550506</td><td style=\"text-align: right;\">-1.17546 </td><td style=\"text-align: right;\"> 0.363695 </td><td style=\"text-align: right;\"> 0.728127 </td></tr>\n",
       "<tr><td style=\"text-align: right;\"> 0.400188</td><td style=\"text-align: right;\">-1.14307 </td><td style=\"text-align: right;\">-0.0635538</td><td style=\"text-align: right;\">-0.846182 </td></tr>\n",
       "<tr><td style=\"text-align: right;\">-1.21806 </td><td style=\"text-align: right;\">-1.4712  </td><td style=\"text-align: right;\">-0.794863 </td><td style=\"text-align: right;\"> 0.261055 </td></tr>\n",
       "<tr><td style=\"text-align: right;\">-0.457715</td><td style=\"text-align: right;\">-0.350138</td><td style=\"text-align: right;\"> 1.08414  </td><td style=\"text-align: right;\">-0.0554972</td></tr>\n",
       "<tr><td style=\"text-align: right;\">-1.28459 </td><td style=\"text-align: right;\">-0.162088</td><td style=\"text-align: right;\"> 0.607858 </td><td style=\"text-align: right;\"> 1.04999  </td></tr>\n",
       "<tr><td style=\"text-align: right;\">-1.57106 </td><td style=\"text-align: right;\"> 0.67514 </td><td style=\"text-align: right;\"> 1.10133  </td><td style=\"text-align: right;\"> 0.715775 </td></tr>\n",
       "<tr><td style=\"text-align: right;\"> 1.59937 </td><td style=\"text-align: right;\"> 0.217726</td><td style=\"text-align: right;\">-0.414989 </td><td style=\"text-align: right;\">-0.180219 </td></tr>\n",
       "<tr><td style=\"text-align: right;\">-0.145931</td><td style=\"text-align: right;\"> 0.4119  </td><td style=\"text-align: right;\">-0.630669 </td><td style=\"text-align: right;\">-1.72855  </td></tr>\n",
       "</tbody>\n",
       "</table>"
      ]
     },
     "metadata": {},
     "output_type": "display_data"
    },
    {
     "data": {
      "text/plain": [
       "<bound method H2OFrame.describe of >"
      ]
     },
     "execution_count": 12,
     "metadata": {},
     "output_type": "execute_result"
    }
   ],
   "source": [
    "import numpy as np\n",
    "\n",
    "# Generate a random dataset with 10 rows 4 columns.\n",
    "# Label the columns A, B, C, and D.\n",
    "cols1_df = h2o.H2OFrame.from_python(np.random.randn(10,4).tolist(), column_names=list('ABCD'))\n",
    "cols1_df.describe"
   ]
  },
  {
   "cell_type": "code",
   "execution_count": 13,
   "id": "dce8b3fa",
   "metadata": {},
   "outputs": [
    {
     "name": "stdout",
     "output_type": "stream",
     "text": [
      "Parse progress: |█████████████████████████████████████████████████████████| 100%\n"
     ]
    },
    {
     "data": {
      "text/html": [
       "<table>\n",
       "<thead>\n",
       "<tr><th style=\"text-align: right;\">        Y</th><th style=\"text-align: right;\">         Z</th></tr>\n",
       "</thead>\n",
       "<tbody>\n",
       "<tr><td style=\"text-align: right;\"> 1.23577 </td><td style=\"text-align: right;\">-0.569096 </td></tr>\n",
       "<tr><td style=\"text-align: right;\">-1.32025 </td><td style=\"text-align: right;\"> 0.9988   </td></tr>\n",
       "<tr><td style=\"text-align: right;\">-0.297733</td><td style=\"text-align: right;\">-1.61445  </td></tr>\n",
       "<tr><td style=\"text-align: right;\"> 1.22773 </td><td style=\"text-align: right;\">-1.34383  </td></tr>\n",
       "<tr><td style=\"text-align: right;\"> 1.21408 </td><td style=\"text-align: right;\"> 0.0146905</td></tr>\n",
       "<tr><td style=\"text-align: right;\"> 0.677902</td><td style=\"text-align: right;\">-0.554999 </td></tr>\n",
       "<tr><td style=\"text-align: right;\">-0.8872  </td><td style=\"text-align: right;\">-0.408345 </td></tr>\n",
       "<tr><td style=\"text-align: right;\">-0.382518</td><td style=\"text-align: right;\"> 0.355944 </td></tr>\n",
       "<tr><td style=\"text-align: right;\">-1.26705 </td><td style=\"text-align: right;\"> 1.78747  </td></tr>\n",
       "<tr><td style=\"text-align: right;\"> 0.184916</td><td style=\"text-align: right;\">-0.0350165</td></tr>\n",
       "</tbody>\n",
       "</table>"
      ]
     },
     "metadata": {},
     "output_type": "display_data"
    },
    {
     "data": {
      "text/plain": [
       "<bound method H2OFrame.describe of >"
      ]
     },
     "execution_count": 13,
     "metadata": {},
     "output_type": "execute_result"
    }
   ],
   "source": [
    "# Generate a second random dataset with 10 rows and 2 columns.\n",
    "# Label the columns, Y and Z.\n",
    "cols2_df = h2o.H2OFrame.from_python(np.random.randn(10,2).tolist(), column_names=list('YZ'))\n",
    "cols2_df.describe"
   ]
  },
  {
   "cell_type": "code",
   "execution_count": 14,
   "id": "91f0cbb1",
   "metadata": {},
   "outputs": [
    {
     "data": {
      "text/html": [
       "<table>\n",
       "<thead>\n",
       "<tr><th style=\"text-align: right;\">        A</th><th style=\"text-align: right;\">        B</th><th style=\"text-align: right;\">         C</th><th style=\"text-align: right;\">         D</th><th style=\"text-align: right;\">        Y</th><th style=\"text-align: right;\">         Z</th></tr>\n",
       "</thead>\n",
       "<tbody>\n",
       "<tr><td style=\"text-align: right;\">-0.769678</td><td style=\"text-align: right;\">-1.04686 </td><td style=\"text-align: right;\"> 1.93747  </td><td style=\"text-align: right;\">-0.528779 </td><td style=\"text-align: right;\"> 1.23577 </td><td style=\"text-align: right;\">-0.569096 </td></tr>\n",
       "<tr><td style=\"text-align: right;\">-0.323689</td><td style=\"text-align: right;\">-0.245458</td><td style=\"text-align: right;\">-0.451048 </td><td style=\"text-align: right;\"> 1.05777  </td><td style=\"text-align: right;\">-1.32025 </td><td style=\"text-align: right;\"> 0.9988   </td></tr>\n",
       "<tr><td style=\"text-align: right;\">-0.550506</td><td style=\"text-align: right;\">-1.17546 </td><td style=\"text-align: right;\"> 0.363695 </td><td style=\"text-align: right;\"> 0.728127 </td><td style=\"text-align: right;\">-0.297733</td><td style=\"text-align: right;\">-1.61445  </td></tr>\n",
       "<tr><td style=\"text-align: right;\"> 0.400188</td><td style=\"text-align: right;\">-1.14307 </td><td style=\"text-align: right;\">-0.0635538</td><td style=\"text-align: right;\">-0.846182 </td><td style=\"text-align: right;\"> 1.22773 </td><td style=\"text-align: right;\">-1.34383  </td></tr>\n",
       "<tr><td style=\"text-align: right;\">-1.21806 </td><td style=\"text-align: right;\">-1.4712  </td><td style=\"text-align: right;\">-0.794863 </td><td style=\"text-align: right;\"> 0.261055 </td><td style=\"text-align: right;\"> 1.21408 </td><td style=\"text-align: right;\"> 0.0146905</td></tr>\n",
       "<tr><td style=\"text-align: right;\">-0.457715</td><td style=\"text-align: right;\">-0.350138</td><td style=\"text-align: right;\"> 1.08414  </td><td style=\"text-align: right;\">-0.0554972</td><td style=\"text-align: right;\"> 0.677902</td><td style=\"text-align: right;\">-0.554999 </td></tr>\n",
       "<tr><td style=\"text-align: right;\">-1.28459 </td><td style=\"text-align: right;\">-0.162088</td><td style=\"text-align: right;\"> 0.607858 </td><td style=\"text-align: right;\"> 1.04999  </td><td style=\"text-align: right;\">-0.8872  </td><td style=\"text-align: right;\">-0.408345 </td></tr>\n",
       "<tr><td style=\"text-align: right;\">-1.57106 </td><td style=\"text-align: right;\"> 0.67514 </td><td style=\"text-align: right;\"> 1.10133  </td><td style=\"text-align: right;\"> 0.715775 </td><td style=\"text-align: right;\">-0.382518</td><td style=\"text-align: right;\"> 0.355944 </td></tr>\n",
       "<tr><td style=\"text-align: right;\"> 1.59937 </td><td style=\"text-align: right;\"> 0.217726</td><td style=\"text-align: right;\">-0.414989 </td><td style=\"text-align: right;\">-0.180219 </td><td style=\"text-align: right;\">-1.26705 </td><td style=\"text-align: right;\"> 1.78747  </td></tr>\n",
       "<tr><td style=\"text-align: right;\">-0.145931</td><td style=\"text-align: right;\"> 0.4119  </td><td style=\"text-align: right;\">-0.630669 </td><td style=\"text-align: right;\">-1.72855  </td><td style=\"text-align: right;\"> 0.184916</td><td style=\"text-align: right;\">-0.0350165</td></tr>\n",
       "</tbody>\n",
       "</table>"
      ]
     },
     "metadata": {},
     "output_type": "display_data"
    },
    {
     "data": {
      "text/plain": [
       "<bound method H2OFrame.describe of >"
      ]
     },
     "execution_count": 14,
     "metadata": {},
     "output_type": "execute_result"
    }
   ],
   "source": [
    "\n",
    "# Add the columns from the second dataset into the first.\n",
    "# H2O will append these as the right-most columns.\n",
    "colsCombine_df = cols1_df.cbind(cols2_df)\n",
    "colsCombine_df.describe"
   ]
  },
  {
   "cell_type": "markdown",
   "id": "29232b3b",
   "metadata": {},
   "source": [
    "\n",
    "**Combining Rows from Two Datasets**\n",
    "\n",
    "\n",
    "The rbind function to combine two similar datasets into a single large dataset. \n",
    "This can be used, for example, to create a larger dataset by combining data from a validation dataset with its training or testing dataset.\n",
    "\n",
    "Note that when using rbind, the two datasets must have the same set of columns.\n",
    "\n",
    "\n",
    "\n"
   ]
  },
  {
   "cell_type": "code",
   "execution_count": 15,
   "id": "842b5446",
   "metadata": {},
   "outputs": [
    {
     "name": "stdout",
     "output_type": "stream",
     "text": [
      "Parse progress: |█████████████████████████████████████████████████████████| 100%\n"
     ]
    },
    {
     "data": {
      "text/html": [
       "<table>\n",
       "<thead>\n",
       "<tr><th style=\"text-align: right;\">          A</th><th style=\"text-align: right;\">        B</th><th style=\"text-align: right;\">        C</th><th style=\"text-align: right;\">         D</th></tr>\n",
       "</thead>\n",
       "<tbody>\n",
       "<tr><td style=\"text-align: right;\">-0.181347  </td><td style=\"text-align: right;\">-0.108001</td><td style=\"text-align: right;\">-0.750324</td><td style=\"text-align: right;\">-0.378007 </td></tr>\n",
       "<tr><td style=\"text-align: right;\"> 0.487416  </td><td style=\"text-align: right;\">-2.28845 </td><td style=\"text-align: right;\">-0.113211</td><td style=\"text-align: right;\">-0.21489  </td></tr>\n",
       "<tr><td style=\"text-align: right;\"> 0.376845  </td><td style=\"text-align: right;\"> 0.883027</td><td style=\"text-align: right;\">-0.338396</td><td style=\"text-align: right;\">-0.0671125</td></tr>\n",
       "<tr><td style=\"text-align: right;\">-1.40542   </td><td style=\"text-align: right;\"> 0.446497</td><td style=\"text-align: right;\"> 0.272481</td><td style=\"text-align: right;\">-0.908014 </td></tr>\n",
       "<tr><td style=\"text-align: right;\"> 0.00609763</td><td style=\"text-align: right;\">-1.28933 </td><td style=\"text-align: right;\">-0.639123</td><td style=\"text-align: right;\"> 0.580837 </td></tr>\n",
       "<tr><td style=\"text-align: right;\">-1.70974   </td><td style=\"text-align: right;\"> 0.360339</td><td style=\"text-align: right;\">-1.366   </td><td style=\"text-align: right;\"> 1.18906  </td></tr>\n",
       "<tr><td style=\"text-align: right;\"> 0.317223  </td><td style=\"text-align: right;\"> 0.819715</td><td style=\"text-align: right;\"> 0.608502</td><td style=\"text-align: right;\">-0.825593 </td></tr>\n",
       "<tr><td style=\"text-align: right;\">-2.13074   </td><td style=\"text-align: right;\"> 0.241734</td><td style=\"text-align: right;\">-0.430647</td><td style=\"text-align: right;\"> 2.10417  </td></tr>\n",
       "<tr><td style=\"text-align: right;\">-1.47938   </td><td style=\"text-align: right;\"> 0.122659</td><td style=\"text-align: right;\"> 0.709468</td><td style=\"text-align: right;\">-1.14868  </td></tr>\n",
       "<tr><td style=\"text-align: right;\"> 2.37946   </td><td style=\"text-align: right;\"> 0.95932 </td><td style=\"text-align: right;\">-0.738864</td><td style=\"text-align: right;\">-0.827964 </td></tr>\n",
       "</tbody>\n",
       "</table>"
      ]
     },
     "metadata": {},
     "output_type": "display_data"
    },
    {
     "data": {
      "text/plain": [
       "<bound method H2OFrame.describe of >"
      ]
     },
     "execution_count": 15,
     "metadata": {},
     "output_type": "execute_result"
    }
   ],
   "source": [
    "# Generate a random dataset with 100 rows 4 columns.\n",
    "# Label the columns A, B, C, and D.\n",
    "df1 = h2o.H2OFrame.from_python(np.random.randn(100,4).tolist(), column_names=list('ABCD'))\n",
    "df1.describe"
   ]
  },
  {
   "cell_type": "code",
   "execution_count": 16,
   "id": "878b5a9d",
   "metadata": {},
   "outputs": [
    {
     "name": "stdout",
     "output_type": "stream",
     "text": [
      "Parse progress: |█████████████████████████████████████████████████████████| 100%\n"
     ]
    },
    {
     "data": {
      "text/html": [
       "<table>\n",
       "<thead>\n",
       "<tr><th style=\"text-align: right;\">         A</th><th style=\"text-align: right;\">        B</th><th style=\"text-align: right;\">        C</th><th style=\"text-align: right;\">         D</th></tr>\n",
       "</thead>\n",
       "<tbody>\n",
       "<tr><td style=\"text-align: right;\"> 1.29338  </td><td style=\"text-align: right;\">-1.95029 </td><td style=\"text-align: right;\">-0.910084</td><td style=\"text-align: right;\"> 0.464277 </td></tr>\n",
       "<tr><td style=\"text-align: right;\"> 0.198808 </td><td style=\"text-align: right;\">-0.482703</td><td style=\"text-align: right;\"> 0.68196 </td><td style=\"text-align: right;\">-0.10153  </td></tr>\n",
       "<tr><td style=\"text-align: right;\"> 0.553279 </td><td style=\"text-align: right;\">-0.723882</td><td style=\"text-align: right;\">-1.7414  </td><td style=\"text-align: right;\"> 0.717428 </td></tr>\n",
       "<tr><td style=\"text-align: right;\">-0.989289 </td><td style=\"text-align: right;\"> 0.263803</td><td style=\"text-align: right;\"> 2.95993 </td><td style=\"text-align: right;\">-0.241498 </td></tr>\n",
       "<tr><td style=\"text-align: right;\">-0.995339 </td><td style=\"text-align: right;\"> 0.164363</td><td style=\"text-align: right;\">-0.952606</td><td style=\"text-align: right;\"> 0.987327 </td></tr>\n",
       "<tr><td style=\"text-align: right;\">-0.317996 </td><td style=\"text-align: right;\">-0.831171</td><td style=\"text-align: right;\">-2.02828 </td><td style=\"text-align: right;\">-0.0352861</td></tr>\n",
       "<tr><td style=\"text-align: right;\"> 0.0970458</td><td style=\"text-align: right;\"> 0.584402</td><td style=\"text-align: right;\"> 0.3517  </td><td style=\"text-align: right;\">-0.573392 </td></tr>\n",
       "<tr><td style=\"text-align: right;\">-0.832019 </td><td style=\"text-align: right;\"> 1.44989 </td><td style=\"text-align: right;\">-0.36712 </td><td style=\"text-align: right;\">-1.49503  </td></tr>\n",
       "<tr><td style=\"text-align: right;\"> 0.314752 </td><td style=\"text-align: right;\"> 1.03289 </td><td style=\"text-align: right;\"> 0.746285</td><td style=\"text-align: right;\"> 0.906769 </td></tr>\n",
       "<tr><td style=\"text-align: right;\">-0.595265 </td><td style=\"text-align: right;\"> 1.26811 </td><td style=\"text-align: right;\"> 0.103703</td><td style=\"text-align: right;\"> 0.593597 </td></tr>\n",
       "</tbody>\n",
       "</table>"
      ]
     },
     "metadata": {},
     "output_type": "display_data"
    },
    {
     "data": {
      "text/plain": [
       "<bound method H2OFrame.describe of >"
      ]
     },
     "execution_count": 16,
     "metadata": {},
     "output_type": "execute_result"
    }
   ],
   "source": [
    "# Generate a second random dataset with 100 rows and 4 columns.\n",
    "# Again, label the columns, A, B, C, and D.\n",
    "df2 = h2o.H2OFrame.from_python(np.random.randn(100,4).tolist(), column_names=list('ABCD'))\n",
    "df2.describe"
   ]
  },
  {
   "cell_type": "code",
   "execution_count": 17,
   "id": "f4d5f92d",
   "metadata": {},
   "outputs": [
    {
     "data": {
      "text/html": [
       "<table>\n",
       "<thead>\n",
       "<tr><th style=\"text-align: right;\">          A</th><th style=\"text-align: right;\">        B</th><th style=\"text-align: right;\">        C</th><th style=\"text-align: right;\">         D</th></tr>\n",
       "</thead>\n",
       "<tbody>\n",
       "<tr><td style=\"text-align: right;\">-0.181347  </td><td style=\"text-align: right;\">-0.108001</td><td style=\"text-align: right;\">-0.750324</td><td style=\"text-align: right;\">-0.378007 </td></tr>\n",
       "<tr><td style=\"text-align: right;\"> 0.487416  </td><td style=\"text-align: right;\">-2.28845 </td><td style=\"text-align: right;\">-0.113211</td><td style=\"text-align: right;\">-0.21489  </td></tr>\n",
       "<tr><td style=\"text-align: right;\"> 0.376845  </td><td style=\"text-align: right;\"> 0.883027</td><td style=\"text-align: right;\">-0.338396</td><td style=\"text-align: right;\">-0.0671125</td></tr>\n",
       "<tr><td style=\"text-align: right;\">-1.40542   </td><td style=\"text-align: right;\"> 0.446497</td><td style=\"text-align: right;\"> 0.272481</td><td style=\"text-align: right;\">-0.908014 </td></tr>\n",
       "<tr><td style=\"text-align: right;\"> 0.00609763</td><td style=\"text-align: right;\">-1.28933 </td><td style=\"text-align: right;\">-0.639123</td><td style=\"text-align: right;\"> 0.580837 </td></tr>\n",
       "<tr><td style=\"text-align: right;\">-1.70974   </td><td style=\"text-align: right;\"> 0.360339</td><td style=\"text-align: right;\">-1.366   </td><td style=\"text-align: right;\"> 1.18906  </td></tr>\n",
       "<tr><td style=\"text-align: right;\"> 0.317223  </td><td style=\"text-align: right;\"> 0.819715</td><td style=\"text-align: right;\"> 0.608502</td><td style=\"text-align: right;\">-0.825593 </td></tr>\n",
       "<tr><td style=\"text-align: right;\">-2.13074   </td><td style=\"text-align: right;\"> 0.241734</td><td style=\"text-align: right;\">-0.430647</td><td style=\"text-align: right;\"> 2.10417  </td></tr>\n",
       "<tr><td style=\"text-align: right;\">-1.47938   </td><td style=\"text-align: right;\"> 0.122659</td><td style=\"text-align: right;\"> 0.709468</td><td style=\"text-align: right;\">-1.14868  </td></tr>\n",
       "<tr><td style=\"text-align: right;\"> 2.37946   </td><td style=\"text-align: right;\"> 0.95932 </td><td style=\"text-align: right;\">-0.738864</td><td style=\"text-align: right;\">-0.827964 </td></tr>\n",
       "</tbody>\n",
       "</table>"
      ]
     },
     "metadata": {},
     "output_type": "display_data"
    },
    {
     "data": {
      "text/plain": []
     },
     "execution_count": 17,
     "metadata": {},
     "output_type": "execute_result"
    }
   ],
   "source": [
    "\n",
    "# Bind the rows from the second dataset into the first dataset.\n",
    "df1.rbind(df2)"
   ]
  },
  {
   "cell_type": "markdown",
   "id": "c1244a5f",
   "metadata": {},
   "source": [
    "**Fill NAs**\n",
    "\n",
    "Use this function to fill in NA values in a sequential manner up to a specified limit. When using this function, you will specify whether the method to fill the NAs should go forward (default) or backward, whether the NAs should be filled along rows (default) or columns, and the maximum number of consecutive NAs to fill (defaults to 1)."
   ]
  },
  {
   "cell_type": "code",
   "execution_count": 18,
   "id": "420a3cba",
   "metadata": {},
   "outputs": [
    {
     "name": "stdout",
     "output_type": "stream",
     "text": [
      "Create Frame progress: |██████████████████████████████████████████████████| 100%\n"
     ]
    }
   ],
   "source": [
    "df = h2o.create_frame(rows=10,\n",
    "                      cols=5,\n",
    "                      real_fraction=1.0,\n",
    "                      real_range=100,\n",
    "                      missing_fraction=0.3,\n",
    "                      seed=123)"
   ]
  },
  {
   "cell_type": "code",
   "execution_count": 19,
   "id": "1afbb1b6",
   "metadata": {},
   "outputs": [
    {
     "data": {
      "text/html": [
       "<table>\n",
       "<thead>\n",
       "<tr><th style=\"text-align: right;\">       C1</th><th style=\"text-align: right;\">      C2</th><th style=\"text-align: right;\">      C3</th><th style=\"text-align: right;\">      C4</th><th style=\"text-align: right;\">      C5</th></tr>\n",
       "</thead>\n",
       "<tbody>\n",
       "<tr><td style=\"text-align: right;\">nan      </td><td style=\"text-align: right;\">nan     </td><td style=\"text-align: right;\">nan     </td><td style=\"text-align: right;\">-93.6409</td><td style=\"text-align: right;\">-13.6593</td></tr>\n",
       "<tr><td style=\"text-align: right;\"> 57.4439 </td><td style=\"text-align: right;\">-93.71  </td><td style=\"text-align: right;\"> 25.4342</td><td style=\"text-align: right;\">-93.6409</td><td style=\"text-align: right;\">-13.6593</td></tr>\n",
       "<tr><td style=\"text-align: right;\">-92.4271 </td><td style=\"text-align: right;\"> 55.4314</td><td style=\"text-align: right;\"> 84.6372</td><td style=\"text-align: right;\">-43.4759</td><td style=\"text-align: right;\"> 53.1715</td></tr>\n",
       "<tr><td style=\"text-align: right;\">-57.9583 </td><td style=\"text-align: right;\"> 27.4148</td><td style=\"text-align: right;\">-26.9013</td><td style=\"text-align: right;\"> 83.0921</td><td style=\"text-align: right;\">-62.7819</td></tr>\n",
       "<tr><td style=\"text-align: right;\">-91.9426 </td><td style=\"text-align: right;\">-77.9814</td><td style=\"text-align: right;\">-26.9013</td><td style=\"text-align: right;\"> 83.0921</td><td style=\"text-align: right;\"> 83.3661</td></tr>\n",
       "<tr><td style=\"text-align: right;\">-80.6142 </td><td style=\"text-align: right;\"> 12.5466</td><td style=\"text-align: right;\"> 27.1672</td><td style=\"text-align: right;\"> 60.5492</td><td style=\"text-align: right;\">-13.2275</td></tr>\n",
       "<tr><td style=\"text-align: right;\">-80.6142 </td><td style=\"text-align: right;\">-47.3792</td><td style=\"text-align: right;\"> 23.881 </td><td style=\"text-align: right;\"> 60.5492</td><td style=\"text-align: right;\">-13.2275</td></tr>\n",
       "<tr><td style=\"text-align: right;\"> -3.90288</td><td style=\"text-align: right;\"> 31.2924</td><td style=\"text-align: right;\">-96.4446</td><td style=\"text-align: right;\">nan     </td><td style=\"text-align: right;\">nan     </td></tr>\n",
       "<tr><td style=\"text-align: right;\"> -3.90288</td><td style=\"text-align: right;\"> 25.5683</td><td style=\"text-align: right;\">-96.4446</td><td style=\"text-align: right;\"> 37.7971</td><td style=\"text-align: right;\"> 74.6371</td></tr>\n",
       "<tr><td style=\"text-align: right;\">-21.0949 </td><td style=\"text-align: right;\"> 15.0779</td><td style=\"text-align: right;\">-96.6207</td><td style=\"text-align: right;\"> 37.7971</td><td style=\"text-align: right;\">-64.7896</td></tr>\n",
       "</tbody>\n",
       "</table>"
      ]
     },
     "metadata": {},
     "output_type": "display_data"
    },
    {
     "data": {
      "text/plain": []
     },
     "execution_count": 19,
     "metadata": {},
     "output_type": "execute_result"
    }
   ],
   "source": [
    "#Forward fill a row. In Python, the values for axis are 0 (row-wise) and 1 (column-wise)\n",
    "filled = df.fillna(method=\"forward\",axis=0,maxlen=1)\n",
    "filled"
   ]
  },
  {
   "cell_type": "markdown",
   "id": "f98b1df1",
   "metadata": {},
   "source": [
    "**Groupby**\n",
    "\n",
    "The group_by function allows you to group one or more columns and apply a function to the result. Specifically, the group_by function performs the following actions on an H2O Frame:\n",
    "\n",
    "splits the data into groups based on some criteria\n",
    "\n",
    "applies a function to each group independently\n",
    "\n",
    "combines the results into an H2OFrame\n",
    "\n",
    "The result is a new H2OFrame with columns equivalent to the number of groups created. The returned groups are sorted by the natural group-by column sort."
   ]
  },
  {
   "cell_type": "code",
   "execution_count": 44,
   "id": "8fe6e276",
   "metadata": {},
   "outputs": [
    {
     "name": "stdout",
     "output_type": "stream",
     "text": [
      "Parse progress: |█████████████████████████████████████████████████████████| 100%\n"
     ]
    },
    {
     "data": {
      "text/plain": [
       "[43978, 31]"
      ]
     },
     "execution_count": 44,
     "metadata": {},
     "output_type": "execute_result"
    }
   ],
   "source": [
    "# Upload the airlines dataset\n",
    "air = h2o.import_file(\"https://s3.amazonaws.com/h2o-airlines-unpacked/allyears2k.csv\")\n",
    "air.dim"
   ]
  },
  {
   "cell_type": "code",
   "execution_count": 45,
   "id": "300038d8",
   "metadata": {},
   "outputs": [
    {
     "ename": "NameError",
     "evalue": "name 'origin_fights' is not defined",
     "output_type": "error",
     "traceback": [
      "\u001b[1;31m---------------------------------------------------------------------------\u001b[0m",
      "\u001b[1;31mNameError\u001b[0m                                 Traceback (most recent call last)",
      "\u001b[1;32m<ipython-input-45-69cc8f3b99be>\u001b[0m in \u001b[0;36m<module>\u001b[1;34m\u001b[0m\n\u001b[0;32m      1\u001b[0m \u001b[1;31m# Find number of flights by airport\u001b[0m\u001b[1;33m\u001b[0m\u001b[1;33m\u001b[0m\u001b[1;33m\u001b[0m\u001b[0m\n\u001b[0;32m      2\u001b[0m \u001b[0morigin_flights\u001b[0m \u001b[1;33m=\u001b[0m \u001b[0mair\u001b[0m\u001b[1;33m.\u001b[0m\u001b[0mgroup_by\u001b[0m\u001b[1;33m(\u001b[0m\u001b[1;34m\"Origin\"\u001b[0m\u001b[1;33m)\u001b[0m\u001b[1;33m\u001b[0m\u001b[1;33m\u001b[0m\u001b[0m\n\u001b[1;32m----> 3\u001b[1;33m \u001b[0morigin_fights\u001b[0m\u001b[1;33m.\u001b[0m\u001b[0mcount\u001b[0m\u001b[1;33m(\u001b[0m\u001b[1;33m)\u001b[0m\u001b[1;33m\u001b[0m\u001b[1;33m\u001b[0m\u001b[0m\n\u001b[0m\u001b[0;32m      4\u001b[0m \u001b[0morigin_fights\u001b[0m\u001b[1;33m.\u001b[0m\u001b[0mget_frame\u001b[0m\u001b[1;33m(\u001b[0m\u001b[1;33m)\u001b[0m\u001b[1;33m\u001b[0m\u001b[1;33m\u001b[0m\u001b[0m\n",
      "\u001b[1;31mNameError\u001b[0m: name 'origin_fights' is not defined"
     ]
    }
   ],
   "source": [
    "# Find number of flights by airport\n",
    "origin_flights = air.group_by(\"Origin\")\n",
    "origin_fights.count()\n",
    "origin_fights.get_frame()"
   ]
  },
  {
   "cell_type": "code",
   "execution_count": null,
   "id": "e0f07c02",
   "metadata": {},
   "outputs": [],
   "source": [
    "# Find number of flights per month based on the origin\n",
    "cols = [\"Origin\",\"Month\"]\n",
    "flights_by_origin_month = air.group_by(by=cols).count(na =\"all\")\n",
    "flights_by_origin_month.get_frame()"
   ]
  },
  {
   "cell_type": "code",
   "execution_count": null,
   "id": "7e3de209",
   "metadata": {},
   "outputs": [],
   "source": [
    "# Find months with the highest cancellation ratio\n",
    "cancellation_by_month = air.group_by(by='Month').sum('Cancelled', na=\"all\")\n",
    "flights_by_month = air.group_by('Month').count(na=\"all\")\n",
    "cancelled = cancellation_by_month.get_frame()['sum_Cancelled']\n",
    "flights = flights_by_month.get_frame()['nrow']\n",
    "month_count = flights_by_month.get_frame()['Month']\n",
    "ratio = cancelled/flights\n",
    "month_count.cbind(ratio)"
   ]
  },
  {
   "cell_type": "code",
   "execution_count": null,
   "id": "b97f4ca1",
   "metadata": {},
   "outputs": [],
   "source": [
    "# Use group_by with multiple columns. Summarize the destination,\n",
    "# arrival delays, and departure delays for an origin\n",
    "cols_1 = ['Origin', 'Dest', 'IsArrDelayed', 'IsDepDelayed']\n",
    "cols_2 = [\"Dest\", \"IsArrDelayed\", \"IsDepDelayed\"]\n",
    "air[cols_1].group_by(by='Origin').sum(cols_2, na=\"ignore\").get_frame()"
   ]
  },
  {
   "cell_type": "markdown",
   "id": "818c82aa",
   "metadata": {},
   "source": [
    "**Imputing Data**\n",
    "\n",
    "The impute function allows you to perform in-place imputation by filling missing values with aggregates computed on the “na.rm’d” vector. Additionally, you can also perform imputation based on groupings of columns from within the dataset. These columns can be passed by index or by column name to the by parameter. Note that if a factor column is supplied, then the method must be mode."
   ]
  },
  {
   "cell_type": "code",
   "execution_count": null,
   "id": "5c2ce588",
   "metadata": {},
   "outputs": [],
   "source": [
    "# Import the airlines dataset\n",
    "air_path = \"https://s3.amazonaws.com/h2o-airlines-unpacked/allyears2k.csv\"\n",
    "air = h2o.import_file(path=air_path)\n",
    "air.dim\n",
    "[43978, 31]\n",
    "\n",
    "# Mean impute the DepTime column based on the Origin and Distance columns\n",
    "DeptTime_impute = air.impute(\"DepTime\", method = \"mean\", by = [\"Origin\", \"Distance\"])\n",
    "DeptTime_impute"
   ]
  },
  {
   "cell_type": "code",
   "execution_count": null,
   "id": "0a7017ab",
   "metadata": {},
   "outputs": [],
   "source": [
    "# Revert imputations\n",
    "air = h2o.import_file(path=air_path)\n",
    "\n",
    "# Mode impute the TailNum column based on the Month and Year columns\n",
    "mode_impute = air.impute(\"TailNum\", method = \"mode\", by=[\"Month\", \"Year\"])\n",
    "mode_impute"
   ]
  },
  {
   "cell_type": "markdown",
   "id": "1fa1b0a1",
   "metadata": {},
   "source": [
    "**Merging two datasets**"
   ]
  },
  {
   "cell_type": "code",
   "execution_count": 35,
   "id": "c0863ca0",
   "metadata": {},
   "outputs": [
    {
     "name": "stdout",
     "output_type": "stream",
     "text": [
      "Parse progress: |█████████████████████████████████████████████████████████| 100%\n"
     ]
    },
    {
     "data": {
      "text/html": [
       "<table>\n",
       "<thead>\n",
       "<tr><th>A      </th><th style=\"text-align: right;\">  n</th></tr>\n",
       "</thead>\n",
       "<tbody>\n",
       "<tr><td>Hello  </td><td style=\"text-align: right;\">  0</td></tr>\n",
       "<tr><td>World  </td><td style=\"text-align: right;\">  1</td></tr>\n",
       "<tr><td>Welcome</td><td style=\"text-align: right;\">  2</td></tr>\n",
       "<tr><td>To     </td><td style=\"text-align: right;\">  3</td></tr>\n",
       "<tr><td>H2O    </td><td style=\"text-align: right;\">  4</td></tr>\n",
       "<tr><td>World  </td><td style=\"text-align: right;\">  5</td></tr>\n",
       "</tbody>\n",
       "</table>"
      ]
     },
     "metadata": {},
     "output_type": "display_data"
    },
    {
     "data": {
      "text/plain": [
       "<bound method H2OFrame.describe of >"
      ]
     },
     "execution_count": 35,
     "metadata": {},
     "output_type": "execute_result"
    }
   ],
   "source": [
    "# Create a dataset by inputting raw data.\n",
    "df1 = h2o.H2OFrame.from_python({'A':['Hello', 'World', 'Welcome', 'To', 'H2O', 'World'],\n",
    "                                'n': [0,1,2,3,4,5]})\n",
    "df1.describe"
   ]
  },
  {
   "cell_type": "code",
   "execution_count": 36,
   "id": "943be3e6",
   "metadata": {},
   "outputs": [
    {
     "name": "stdout",
     "output_type": "stream",
     "text": [
      "Parse progress: |█████████████████████████████████████████████████████████| 100%\n"
     ]
    },
    {
     "data": {
      "text/html": [
       "<table>\n",
       "<thead>\n",
       "<tr><th style=\"text-align: right;\">  n</th></tr>\n",
       "</thead>\n",
       "<tbody>\n",
       "<tr><td style=\"text-align: right;\">  1</td></tr>\n",
       "<tr><td style=\"text-align: right;\">  9</td></tr>\n",
       "<tr><td style=\"text-align: right;\">  2</td></tr>\n",
       "<tr><td style=\"text-align: right;\">  3</td></tr>\n",
       "<tr><td style=\"text-align: right;\">  8</td></tr>\n",
       "<tr><td style=\"text-align: right;\">  2</td></tr>\n",
       "<tr><td style=\"text-align: right;\">  7</td></tr>\n",
       "<tr><td style=\"text-align: right;\">  0</td></tr>\n",
       "<tr><td style=\"text-align: right;\">  1</td></tr>\n",
       "<tr><td style=\"text-align: right;\">  8</td></tr>\n",
       "</tbody>\n",
       "</table>"
      ]
     },
     "metadata": {},
     "output_type": "display_data"
    },
    {
     "data": {
      "text/plain": [
       "<bound method H2OFrame.describe of >"
      ]
     },
     "execution_count": 36,
     "metadata": {},
     "output_type": "execute_result"
    }
   ],
   "source": [
    "# Generate a random dataset from python.\n",
    "df2 = h2o.H2OFrame.from_python([[x] for x in np.random.randint(0, 10, size=20).tolist()], column_names=['n'])\n",
    "df2.describe"
   ]
  },
  {
   "cell_type": "code",
   "execution_count": 37,
   "id": "2e40e78f",
   "metadata": {},
   "outputs": [
    {
     "data": {
      "text/html": [
       "<table>\n",
       "<thead>\n",
       "<tr><th style=\"text-align: right;\">  n</th><th>A      </th></tr>\n",
       "</thead>\n",
       "<tbody>\n",
       "<tr><td style=\"text-align: right;\">  0</td><td>Hello  </td></tr>\n",
       "<tr><td style=\"text-align: right;\">  1</td><td>World  </td></tr>\n",
       "<tr><td style=\"text-align: right;\">  1</td><td>World  </td></tr>\n",
       "<tr><td style=\"text-align: right;\">  1</td><td>World  </td></tr>\n",
       "<tr><td style=\"text-align: right;\">  1</td><td>World  </td></tr>\n",
       "<tr><td style=\"text-align: right;\">  2</td><td>Welcome</td></tr>\n",
       "<tr><td style=\"text-align: right;\">  2</td><td>Welcome</td></tr>\n",
       "<tr><td style=\"text-align: right;\">  3</td><td>To     </td></tr>\n",
       "<tr><td style=\"text-align: right;\">  3</td><td>To     </td></tr>\n",
       "<tr><td style=\"text-align: right;\">  4</td><td>H2O    </td></tr>\n",
       "</tbody>\n",
       "</table>"
      ]
     },
     "metadata": {},
     "output_type": "display_data"
    },
    {
     "data": {
      "text/plain": [
       "<bound method H2OFrame.describe of >"
      ]
     },
     "execution_count": 37,
     "metadata": {},
     "output_type": "execute_result"
    }
   ],
   "source": [
    "# Merge the first dataset into the second dataset. Note that only columns\n",
    "# in common are merged (i.e, values in df2 greater than 5 will not be merged).\n",
    "df3 = df2.merge(df1)\n",
    "df3.describe"
   ]
  },
  {
   "cell_type": "code",
   "execution_count": 38,
   "id": "6066ee49",
   "metadata": {},
   "outputs": [
    {
     "data": {
      "text/html": [
       "<table>\n",
       "<thead>\n",
       "<tr><th style=\"text-align: right;\">  n</th><th>A      </th></tr>\n",
       "</thead>\n",
       "<tbody>\n",
       "<tr><td style=\"text-align: right;\">  0</td><td>Hello  </td></tr>\n",
       "<tr><td style=\"text-align: right;\">  1</td><td>World  </td></tr>\n",
       "<tr><td style=\"text-align: right;\">  1</td><td>World  </td></tr>\n",
       "<tr><td style=\"text-align: right;\">  1</td><td>World  </td></tr>\n",
       "<tr><td style=\"text-align: right;\">  1</td><td>World  </td></tr>\n",
       "<tr><td style=\"text-align: right;\">  2</td><td>Welcome</td></tr>\n",
       "<tr><td style=\"text-align: right;\">  2</td><td>Welcome</td></tr>\n",
       "<tr><td style=\"text-align: right;\">  3</td><td>To     </td></tr>\n",
       "<tr><td style=\"text-align: right;\">  3</td><td>To     </td></tr>\n",
       "<tr><td style=\"text-align: right;\">  4</td><td>H2O    </td></tr>\n",
       "</tbody>\n",
       "</table>"
      ]
     },
     "metadata": {},
     "output_type": "display_data"
    },
    {
     "data": {
      "text/plain": [
       "<bound method H2OFrame.describe of >"
      ]
     },
     "execution_count": 38,
     "metadata": {},
     "output_type": "execute_result"
    }
   ],
   "source": [
    "# Merge all of df2 into df1. Note that this will result in missing values for\n",
    "# column A, which does not include values greater than 5.\n",
    "df4 = df2.merge(df1, all_x=True)\n",
    "df4.describe"
   ]
  },
  {
   "cell_type": "markdown",
   "id": "d37b3a9e",
   "metadata": {},
   "source": [
    "**Pivoting Tables**"
   ]
  },
  {
   "cell_type": "code",
   "execution_count": 20,
   "id": "40c49956",
   "metadata": {},
   "outputs": [
    {
     "name": "stdout",
     "output_type": "stream",
     "text": [
      "Parse progress: |█████████████████████████████████████████████████████████| 100%\n"
     ]
    },
    {
     "data": {
      "text/html": [
       "<table>\n",
       "<thead>\n",
       "<tr><th style=\"text-align: right;\">  colorID</th><th>value  </th><th style=\"text-align: right;\">  amount</th></tr>\n",
       "</thead>\n",
       "<tbody>\n",
       "<tr><td style=\"text-align: right;\">        1</td><td>red    </td><td style=\"text-align: right;\">       4</td></tr>\n",
       "<tr><td style=\"text-align: right;\">        2</td><td>orange </td><td style=\"text-align: right;\">       2</td></tr>\n",
       "<tr><td style=\"text-align: right;\">        3</td><td>yellow </td><td style=\"text-align: right;\">       4</td></tr>\n",
       "<tr><td style=\"text-align: right;\">        3</td><td>yellow </td><td style=\"text-align: right;\">       3</td></tr>\n",
       "<tr><td style=\"text-align: right;\">        1</td><td>red    </td><td style=\"text-align: right;\">       6</td></tr>\n",
       "<tr><td style=\"text-align: right;\">        4</td><td>blue   </td><td style=\"text-align: right;\">       3</td></tr>\n",
       "</tbody>\n",
       "</table>"
      ]
     },
     "metadata": {},
     "output_type": "display_data"
    },
    {
     "data": {
      "text/plain": []
     },
     "execution_count": 20,
     "metadata": {},
     "output_type": "execute_result"
    }
   ],
   "source": [
    "# Create a simple data frame by inputting values\n",
    "df = h2o.H2OFrame({'colorID': ['1','2','3','3','1','4'],\n",
    "                   'value': ['red','orange','yellow','yellow','red','blue'],\n",
    "                   'amount': ['4','2','4','3','6','3']})\n",
    "\n",
    "df"
   ]
  },
  {
   "cell_type": "code",
   "execution_count": 21,
   "id": "7639f9e0",
   "metadata": {},
   "outputs": [
    {
     "data": {
      "text/html": [
       "<table>\n",
       "<thead>\n",
       "<tr><th style=\"text-align: right;\">  amount</th><th style=\"text-align: right;\">  1</th><th style=\"text-align: right;\">  2</th><th style=\"text-align: right;\">  3</th><th style=\"text-align: right;\">  4</th></tr>\n",
       "</thead>\n",
       "<tbody>\n",
       "<tr><td style=\"text-align: right;\">       2</td><td style=\"text-align: right;\">nan</td><td style=\"text-align: right;\">  1</td><td style=\"text-align: right;\">nan</td><td style=\"text-align: right;\">nan</td></tr>\n",
       "<tr><td style=\"text-align: right;\">       3</td><td style=\"text-align: right;\">nan</td><td style=\"text-align: right;\">nan</td><td style=\"text-align: right;\">  3</td><td style=\"text-align: right;\">  0</td></tr>\n",
       "<tr><td style=\"text-align: right;\">       4</td><td style=\"text-align: right;\">  2</td><td style=\"text-align: right;\">nan</td><td style=\"text-align: right;\">  3</td><td style=\"text-align: right;\">nan</td></tr>\n",
       "<tr><td style=\"text-align: right;\">       6</td><td style=\"text-align: right;\">  2</td><td style=\"text-align: right;\">nan</td><td style=\"text-align: right;\">nan</td><td style=\"text-align: right;\">nan</td></tr>\n",
       "</tbody>\n",
       "</table>"
      ]
     },
     "metadata": {},
     "output_type": "display_data"
    },
    {
     "data": {
      "text/plain": []
     },
     "execution_count": 21,
     "metadata": {},
     "output_type": "execute_result"
    }
   ],
   "source": [
    "# Pivot the table on the colorID column and aligned on the amount column\n",
    "df2 = df.pivot(index=\"amount\",column=\"colorID\",value=\"value\")\n",
    "df2"
   ]
  },
  {
   "cell_type": "markdown",
   "id": "98d93d45",
   "metadata": {},
   "source": [
    "**Replacing values in a frame**"
   ]
  },
  {
   "cell_type": "code",
   "execution_count": 22,
   "id": "af13779f",
   "metadata": {},
   "outputs": [
    {
     "name": "stdout",
     "output_type": "stream",
     "text": [
      "Parse progress: |█████████████████████████████████████████████████████████| 100%\n"
     ]
    }
   ],
   "source": [
    "path = \"http://h2o-public-test-data.s3.amazonaws.com/smalldata/iris/iris_wheader.csv\"\n",
    "df = h2o.import_file(path=path)\n",
    "\n",
    "# Replace a single numerical datum. Note that columns and rows start at 0.\n",
    "# so in the example below, the value in the 15th row and 3rd column will be set to 2.0.\n",
    "df[14,2] = 2.0\n",
    "\n",
    "# Replace a whole column. The example below multiplies all values in the first column by 3.\n",
    "df[0] = 3*df[0]\n",
    "\n",
    "# Replace by row mask. The example below searches for value less than 4.6 in the\n",
    "# sepal_len column and replaces those values with 4.6.\n",
    "df[df[\"sepal_len\"] < 4.6, \"sepal_len\"] = 4.6\n",
    "\n",
    "# Replace using ifelse. Similar to the previous example, this replaces values less than 4.6 with 4.6.\n",
    "df[\"sepal_len\"] = (df[\"sepal_len\"] < 4.6).ifelse(4.6, df[\"sepal_len\"])\n",
    "\n",
    "# Replace missing values with 0.\n",
    "df[df[\"sepal_len\"].isna(), \"sepal_len\"] = 0\n",
    "\n",
    "# Alternative with ifelse. Note the parantheses.\n",
    "df[\"sepal_len\"] = (df[\"sepal_len\"].isna()).ifelse(0, df[\"sepal_len\"])"
   ]
  },
  {
   "cell_type": "markdown",
   "id": "4ce855c6",
   "metadata": {},
   "source": [
    "**Slicing Rows**"
   ]
  },
  {
   "cell_type": "code",
   "execution_count": 23,
   "id": "dec00552",
   "metadata": {},
   "outputs": [
    {
     "name": "stdout",
     "output_type": "stream",
     "text": [
      "Parse progress: |█████████████████████████████████████████████████████████| 100%\n"
     ]
    },
    {
     "data": {
      "text/html": [
       "<table>\n",
       "<thead>\n",
       "<tr><th style=\"text-align: right;\">  sepal_len</th></tr>\n",
       "</thead>\n",
       "<tbody>\n",
       "<tr><td style=\"text-align: right;\">        5.1</td></tr>\n",
       "<tr><td style=\"text-align: right;\">        4.9</td></tr>\n",
       "<tr><td style=\"text-align: right;\">        4.7</td></tr>\n",
       "<tr><td style=\"text-align: right;\">        4.6</td></tr>\n",
       "<tr><td style=\"text-align: right;\">        5  </td></tr>\n",
       "<tr><td style=\"text-align: right;\">        5.4</td></tr>\n",
       "<tr><td style=\"text-align: right;\">        4.6</td></tr>\n",
       "<tr><td style=\"text-align: right;\">        5  </td></tr>\n",
       "<tr><td style=\"text-align: right;\">        4.4</td></tr>\n",
       "<tr><td style=\"text-align: right;\">        4.9</td></tr>\n",
       "</tbody>\n",
       "</table>"
      ]
     },
     "metadata": {},
     "output_type": "display_data"
    },
    {
     "data": {
      "text/plain": [
       "<bound method H2OFrame.describe of >"
      ]
     },
     "execution_count": 23,
     "metadata": {},
     "output_type": "execute_result"
    }
   ],
   "source": [
    "# Import the iris with headers dataset\n",
    "path = \"http://h2o-public-test-data.s3.amazonaws.com/smalldata/iris/iris_wheader.csv\"\n",
    "df = h2o.import_file(path=path)\n",
    "\n",
    "c1 = df[:,0]\n",
    "c1.describe"
   ]
  },
  {
   "cell_type": "code",
   "execution_count": 24,
   "id": "19bacbd5",
   "metadata": {},
   "outputs": [
    {
     "data": {
      "text/html": [
       "<table>\n",
       "<thead>\n",
       "<tr><th style=\"text-align: right;\">  sepal_len</th></tr>\n",
       "</thead>\n",
       "<tbody>\n",
       "<tr><td style=\"text-align: right;\">        5.1</td></tr>\n",
       "<tr><td style=\"text-align: right;\">        4.9</td></tr>\n",
       "<tr><td style=\"text-align: right;\">        4.7</td></tr>\n",
       "<tr><td style=\"text-align: right;\">        4.6</td></tr>\n",
       "<tr><td style=\"text-align: right;\">        5  </td></tr>\n",
       "<tr><td style=\"text-align: right;\">        5.4</td></tr>\n",
       "<tr><td style=\"text-align: right;\">        4.6</td></tr>\n",
       "<tr><td style=\"text-align: right;\">        5  </td></tr>\n",
       "<tr><td style=\"text-align: right;\">        4.4</td></tr>\n",
       "<tr><td style=\"text-align: right;\">        4.9</td></tr>\n",
       "</tbody>\n",
       "</table>"
      ]
     },
     "metadata": {},
     "output_type": "display_data"
    },
    {
     "data": {
      "text/plain": [
       "<bound method H2OFrame.describe of >"
      ]
     },
     "execution_count": 24,
     "metadata": {},
     "output_type": "execute_result"
    }
   ],
   "source": [
    "# Slice 1 column by name. The resulting dataset will include only the sepal_len column\n",
    "# from the original dataset.\n",
    "c1_1 = df[:, \"sepal_len\"]\n",
    "c1_1.describe"
   ]
  },
  {
   "cell_type": "markdown",
   "id": "68676779",
   "metadata": {},
   "source": [
    "**Slicing Columns**"
   ]
  },
  {
   "cell_type": "code",
   "execution_count": 25,
   "id": "0e62fa74",
   "metadata": {},
   "outputs": [
    {
     "name": "stdout",
     "output_type": "stream",
     "text": [
      "Parse progress: |█████████████████████████████████████████████████████████| 100%\n"
     ]
    },
    {
     "data": {
      "text/html": [
       "<table>\n",
       "<thead>\n",
       "<tr><th style=\"text-align: right;\">  sepal_len</th><th style=\"text-align: right;\">  sepal_wid</th><th style=\"text-align: right;\">  petal_len</th><th style=\"text-align: right;\">  petal_wid</th><th>class      </th></tr>\n",
       "</thead>\n",
       "<tbody>\n",
       "<tr><td style=\"text-align: right;\">        5  </td><td style=\"text-align: right;\">        3  </td><td style=\"text-align: right;\">        1.6</td><td style=\"text-align: right;\">        0.2</td><td>Iris-setosa</td></tr>\n",
       "<tr><td style=\"text-align: right;\">        5  </td><td style=\"text-align: right;\">        3.4</td><td style=\"text-align: right;\">        1.6</td><td style=\"text-align: right;\">        0.4</td><td>Iris-setosa</td></tr>\n",
       "<tr><td style=\"text-align: right;\">        5.2</td><td style=\"text-align: right;\">        3.5</td><td style=\"text-align: right;\">        1.5</td><td style=\"text-align: right;\">        0.2</td><td>Iris-setosa</td></tr>\n",
       "<tr><td style=\"text-align: right;\">        5.2</td><td style=\"text-align: right;\">        3.4</td><td style=\"text-align: right;\">        1.4</td><td style=\"text-align: right;\">        0.2</td><td>Iris-setosa</td></tr>\n",
       "<tr><td style=\"text-align: right;\">        4.7</td><td style=\"text-align: right;\">        3.2</td><td style=\"text-align: right;\">        1.6</td><td style=\"text-align: right;\">        0.2</td><td>Iris-setosa</td></tr>\n",
       "<tr><td style=\"text-align: right;\">        4.8</td><td style=\"text-align: right;\">        3.1</td><td style=\"text-align: right;\">        1.6</td><td style=\"text-align: right;\">        0.2</td><td>Iris-setosa</td></tr>\n",
       "<tr><td style=\"text-align: right;\">        5.4</td><td style=\"text-align: right;\">        3.4</td><td style=\"text-align: right;\">        1.5</td><td style=\"text-align: right;\">        0.4</td><td>Iris-setosa</td></tr>\n",
       "<tr><td style=\"text-align: right;\">        5.2</td><td style=\"text-align: right;\">        4.1</td><td style=\"text-align: right;\">        1.5</td><td style=\"text-align: right;\">        0.1</td><td>Iris-setosa</td></tr>\n",
       "<tr><td style=\"text-align: right;\">        5.5</td><td style=\"text-align: right;\">        4.2</td><td style=\"text-align: right;\">        1.4</td><td style=\"text-align: right;\">        0.2</td><td>Iris-setosa</td></tr>\n",
       "<tr><td style=\"text-align: right;\">        4.9</td><td style=\"text-align: right;\">        3.1</td><td style=\"text-align: right;\">        1.5</td><td style=\"text-align: right;\">        0.1</td><td>Iris-setosa</td></tr>\n",
       "</tbody>\n",
       "</table>"
      ]
     },
     "metadata": {},
     "output_type": "display_data"
    },
    {
     "data": {
      "text/plain": [
       "<bound method H2OFrame.describe of >"
      ]
     },
     "execution_count": 25,
     "metadata": {},
     "output_type": "execute_result"
    }
   ],
   "source": [
    "# Import the iris with headers dataset\n",
    "path = \"http://h2o-public-test-data.s3.amazonaws.com/smalldata/iris/iris_wheader.csv\"\n",
    "df = h2o.import_file(path=path)\n",
    "\n",
    "# Slice 1 row by index\n",
    "c1 = df[15,:]\n",
    "c1.describe\n",
    "\n",
    "# Slice a range of rows\n",
    "c1_1 = df[range(25,50,1),:]\n",
    "c1_1.describe"
   ]
  },
  {
   "cell_type": "markdown",
   "id": "bc284dce",
   "metadata": {},
   "source": [
    "**Sorting Columns**\n",
    "\n",
    "Use the sort function in Python or the arrange function in R to create a new frame that is sorted by column(s) in ascending (default) or descending order. Note that when using sort, the original frame cannot contain any string columns.\n",
    "\n",
    "If only one column is specified in the sort, then the final results are sorted according to that one single column either in ascending (default) or in descending order. However, if you specify more than one column in the sort, then H2O performs as described below:\n",
    "\n",
    "Assuming two columns, X (first column) and Y (second column):\n",
    "\n",
    "H2O will sort on the first specified column, so in the case of [0,1], the X column will be sorted first. Similarly, in the case of [1,0], the Y column will be sorted first.\n",
    "\n",
    "H2O will sort on subsequent columns in the order they are specified, but only on those rows that have the same values as the first sorted column. No sorting will be done on subsequent columns if the values are not also duplicated in the first sorted column."
   ]
  },
  {
   "cell_type": "code",
   "execution_count": 40,
   "id": "c2df52ba",
   "metadata": {},
   "outputs": [
    {
     "name": "stdout",
     "output_type": "stream",
     "text": [
      "Parse progress: |█████████████████████████████████████████████████████████| 100%\n"
     ]
    },
    {
     "data": {
      "text/html": [
       "<table>\n",
       "<thead>\n",
       "<tr><th style=\"text-align: right;\">              C1</th><th style=\"text-align: right;\">             C10</th></tr>\n",
       "</thead>\n",
       "<tbody>\n",
       "<tr><td style=\"text-align: right;\"> 68379          </td><td style=\"text-align: right;\">    -1.61867e+07</td></tr>\n",
       "<tr><td style=\"text-align: right;\">     6.71089e+07</td><td style=\"text-align: right;\"> 32768          </td></tr>\n",
       "<tr><td style=\"text-align: right;\"> 32768          </td><td style=\"text-align: right;\">    -8.70946e+08</td></tr>\n",
       "<tr><td style=\"text-align: right;\">    32          </td><td style=\"text-align: right;\">131072          </td></tr>\n",
       "<tr><td style=\"text-align: right;\">     2.68435e+08</td><td style=\"text-align: right;\">   -29.1003     </td></tr>\n",
       "<tr><td style=\"text-align: right;\">     1.05383e+08</td><td style=\"text-align: right;\">    -2.39721e+08</td></tr>\n",
       "<tr><td style=\"text-align: right;\">350191          </td><td style=\"text-align: right;\"> 21551.4        </td></tr>\n",
       "<tr><td style=\"text-align: right;\">  -188          </td><td style=\"text-align: right;\">     2.39872e+07</td></tr>\n",
       "<tr><td style=\"text-align: right;\">   493          </td><td style=\"text-align: right;\">   525.825      </td></tr>\n",
       "<tr><td style=\"text-align: right;\">     9.31041e+07</td><td style=\"text-align: right;\">    -1.63828e+08</td></tr>\n",
       "</tbody>\n",
       "</table>"
      ]
     },
     "metadata": {},
     "output_type": "display_data"
    },
    {
     "data": {
      "text/plain": []
     },
     "execution_count": 40,
     "metadata": {},
     "output_type": "execute_result"
    }
   ],
   "source": [
    "df1 = h2o.import_file(\"https://s3.amazonaws.com/h2o-public-test-data/smalldata/synthetic/smallIntFloats.csv.zip\")\n",
    "df1"
   ]
  },
  {
   "cell_type": "code",
   "execution_count": 41,
   "id": "647e711b",
   "metadata": {},
   "outputs": [
    {
     "data": {
      "text/html": [
       "<table>\n",
       "<thead>\n",
       "<tr><th style=\"text-align: right;\">          C1</th><th style=\"text-align: right;\">             C10</th></tr>\n",
       "</thead>\n",
       "<tbody>\n",
       "<tr><td style=\"text-align: right;\">-1.07359e+09</td><td style=\"text-align: right;\">747438          </td></tr>\n",
       "<tr><td style=\"text-align: right;\">-1.07356e+09</td><td style=\"text-align: right;\">    -2.09715e+06</td></tr>\n",
       "<tr><td style=\"text-align: right;\">-1.07352e+09</td><td style=\"text-align: right;\">     5.11077e+06</td></tr>\n",
       "<tr><td style=\"text-align: right;\">-1.07342e+09</td><td style=\"text-align: right;\">     2.22094e+06</td></tr>\n",
       "<tr><td style=\"text-align: right;\">-1.07336e+09</td><td style=\"text-align: right;\">    -5.7076     </td></tr>\n",
       "<tr><td style=\"text-align: right;\">-1.07336e+09</td><td style=\"text-align: right;\"> -4650.33       </td></tr>\n",
       "<tr><td style=\"text-align: right;\">-1.07326e+09</td><td style=\"text-align: right;\">    -1.04858e+06</td></tr>\n",
       "<tr><td style=\"text-align: right;\">-1.07307e+09</td><td style=\"text-align: right;\">  8192          </td></tr>\n",
       "<tr><td style=\"text-align: right;\">-1.07291e+09</td><td style=\"text-align: right;\">    -1.49017    </td></tr>\n",
       "<tr><td style=\"text-align: right;\">-1.07291e+09</td><td style=\"text-align: right;\"> -9337.5        </td></tr>\n",
       "</tbody>\n",
       "</table>"
      ]
     },
     "metadata": {},
     "output_type": "display_data"
    },
    {
     "data": {
      "text/plain": []
     },
     "execution_count": 41,
     "metadata": {},
     "output_type": "execute_result"
    }
   ],
   "source": [
    "# Sort on the first column only in ascending order (default)\n",
    "sorted_column_indices=[0]\n",
    "df2 = df1.sort(0)\n",
    "df2"
   ]
  },
  {
   "cell_type": "code",
   "execution_count": 42,
   "id": "764b94cb",
   "metadata": {},
   "outputs": [
    {
     "data": {
      "text/html": [
       "<table>\n",
       "<thead>\n",
       "<tr><th style=\"text-align: right;\">          C1</th><th style=\"text-align: right;\">             C10</th></tr>\n",
       "</thead>\n",
       "<tbody>\n",
       "<tr><td style=\"text-align: right;\">-1.07359e+09</td><td style=\"text-align: right;\">747438          </td></tr>\n",
       "<tr><td style=\"text-align: right;\">-1.07356e+09</td><td style=\"text-align: right;\">    -2.09715e+06</td></tr>\n",
       "<tr><td style=\"text-align: right;\">-1.07352e+09</td><td style=\"text-align: right;\">     5.11077e+06</td></tr>\n",
       "<tr><td style=\"text-align: right;\">-1.07342e+09</td><td style=\"text-align: right;\">     2.22094e+06</td></tr>\n",
       "<tr><td style=\"text-align: right;\">-1.07336e+09</td><td style=\"text-align: right;\">    -5.7076     </td></tr>\n",
       "<tr><td style=\"text-align: right;\">-1.07336e+09</td><td style=\"text-align: right;\"> -4650.33       </td></tr>\n",
       "<tr><td style=\"text-align: right;\">-1.07326e+09</td><td style=\"text-align: right;\">    -1.04858e+06</td></tr>\n",
       "<tr><td style=\"text-align: right;\">-1.07307e+09</td><td style=\"text-align: right;\">  8192          </td></tr>\n",
       "<tr><td style=\"text-align: right;\">-1.07291e+09</td><td style=\"text-align: right;\">    -1.49017    </td></tr>\n",
       "<tr><td style=\"text-align: right;\">-1.07291e+09</td><td style=\"text-align: right;\"> -9337.5        </td></tr>\n",
       "</tbody>\n",
       "</table>"
      ]
     },
     "metadata": {},
     "output_type": "display_data"
    },
    {
     "data": {
      "text/plain": []
     },
     "execution_count": 42,
     "metadata": {},
     "output_type": "execute_result"
    }
   ],
   "source": [
    "# Sort on the first column only in ascending order (default)\n",
    "sorted_column_indices=[0]\n",
    "df2 = df1.sort(0)\n",
    "df2"
   ]
  },
  {
   "cell_type": "code",
   "execution_count": 43,
   "id": "51700192",
   "metadata": {},
   "outputs": [
    {
     "data": {
      "text/html": [
       "<table>\n",
       "<thead>\n",
       "<tr><th style=\"text-align: right;\">               C1</th><th style=\"text-align: right;\">        C10</th></tr>\n",
       "</thead>\n",
       "<tbody>\n",
       "<tr><td style=\"text-align: right;\">      3.21418e+08</td><td style=\"text-align: right;\">1.07366e+09</td></tr>\n",
       "<tr><td style=\"text-align: right;\">    448          </td><td style=\"text-align: right;\">1.07357e+09</td></tr>\n",
       "<tr><td style=\"text-align: right;\">     85          </td><td style=\"text-align: right;\">1.07329e+09</td></tr>\n",
       "<tr><td style=\"text-align: right;\">  -4096          </td><td style=\"text-align: right;\">1.07291e+09</td></tr>\n",
       "<tr><td style=\"text-align: right;\">     28          </td><td style=\"text-align: right;\">1.07289e+09</td></tr>\n",
       "<tr><td style=\"text-align: right;\">     -4.1943e+06 </td><td style=\"text-align: right;\">1.07275e+09</td></tr>\n",
       "<tr><td style=\"text-align: right;\">      6.61688e+06</td><td style=\"text-align: right;\">1.07254e+09</td></tr>\n",
       "<tr><td style=\"text-align: right;\"> -50127          </td><td style=\"text-align: right;\">1.07235e+09</td></tr>\n",
       "<tr><td style=\"text-align: right;\">-262144          </td><td style=\"text-align: right;\">1.07207e+09</td></tr>\n",
       "<tr><td style=\"text-align: right;\">     55          </td><td style=\"text-align: right;\">1.07175e+09</td></tr>\n",
       "</tbody>\n",
       "</table>"
      ]
     },
     "metadata": {},
     "output_type": "display_data"
    },
    {
     "data": {
      "text/plain": []
     },
     "execution_count": 43,
     "metadata": {},
     "output_type": "execute_result"
    }
   ],
   "source": [
    "# Sort on the second column in descending order\n",
    "df4 = df1.sort(1, ascending=False)\n",
    "df4\n"
   ]
  },
  {
   "cell_type": "markdown",
   "id": "60603f9c",
   "metadata": {},
   "source": [
    "**Splitting dataset into Training/Testing/Validating**\n",
    "\n",
    "when splitting frames, H2O does not give an exact split. It’s designed to be efficient on big data using a probabilistic splitting method rather than an exact split. For example, when specifying a 0.75/0.25 split, H2O will produce a test/train split with an expected value of 0.75/0.25 rather than exactly 0.75/0.25. On small datasets, the sizes of the resulting splits will deviate from the expected value more than on big data, where they will be very close to exact."
   ]
  },
  {
   "cell_type": "code",
   "execution_count": 29,
   "id": "2318f80a",
   "metadata": {},
   "outputs": [
    {
     "name": "stdout",
     "output_type": "stream",
     "text": [
      "Parse progress: |█████████████████████████████████████████████████████████| 100%\n"
     ]
    }
   ],
   "source": [
    "# Import the prostate dataset\n",
    "prostate = \"http://h2o-public-test-data.s3.amazonaws.com/smalldata/prostate/prostate.csv\"\n",
    "prostate_df = h2o.import_file(path=prostate)\n",
    "\n",
    "# Split the data into Train/Test/Validation with Train having 70% and test and validation 15% each\n",
    "train,test,valid = prostate_df.split_frame(ratios=[.7, .15])"
   ]
  },
  {
   "cell_type": "code",
   "execution_count": 30,
   "id": "7010f9a1",
   "metadata": {},
   "outputs": [
    {
     "data": {
      "text/html": [
       "<table>\n",
       "<thead>\n",
       "<tr><th style=\"text-align: right;\">  ID</th><th style=\"text-align: right;\">  CAPSULE</th><th style=\"text-align: right;\">  AGE</th><th style=\"text-align: right;\">  RACE</th><th style=\"text-align: right;\">  DPROS</th><th style=\"text-align: right;\">  DCAPS</th><th style=\"text-align: right;\">  PSA</th><th style=\"text-align: right;\">  VOL</th><th style=\"text-align: right;\">  GLEASON</th></tr>\n",
       "</thead>\n",
       "<tbody>\n",
       "<tr><td style=\"text-align: right;\">   2</td><td style=\"text-align: right;\">        0</td><td style=\"text-align: right;\">   72</td><td style=\"text-align: right;\">     1</td><td style=\"text-align: right;\">      3</td><td style=\"text-align: right;\">      2</td><td style=\"text-align: right;\">  6.7</td><td style=\"text-align: right;\">  0  </td><td style=\"text-align: right;\">        7</td></tr>\n",
       "<tr><td style=\"text-align: right;\">   4</td><td style=\"text-align: right;\">        0</td><td style=\"text-align: right;\">   76</td><td style=\"text-align: right;\">     2</td><td style=\"text-align: right;\">      2</td><td style=\"text-align: right;\">      1</td><td style=\"text-align: right;\"> 51.2</td><td style=\"text-align: right;\"> 20  </td><td style=\"text-align: right;\">        7</td></tr>\n",
       "<tr><td style=\"text-align: right;\">   5</td><td style=\"text-align: right;\">        0</td><td style=\"text-align: right;\">   69</td><td style=\"text-align: right;\">     1</td><td style=\"text-align: right;\">      1</td><td style=\"text-align: right;\">      1</td><td style=\"text-align: right;\"> 12.3</td><td style=\"text-align: right;\"> 55.9</td><td style=\"text-align: right;\">        6</td></tr>\n",
       "<tr><td style=\"text-align: right;\">   6</td><td style=\"text-align: right;\">        1</td><td style=\"text-align: right;\">   71</td><td style=\"text-align: right;\">     1</td><td style=\"text-align: right;\">      3</td><td style=\"text-align: right;\">      2</td><td style=\"text-align: right;\">  3.3</td><td style=\"text-align: right;\">  0  </td><td style=\"text-align: right;\">        8</td></tr>\n",
       "<tr><td style=\"text-align: right;\">   7</td><td style=\"text-align: right;\">        0</td><td style=\"text-align: right;\">   68</td><td style=\"text-align: right;\">     2</td><td style=\"text-align: right;\">      4</td><td style=\"text-align: right;\">      2</td><td style=\"text-align: right;\"> 31.9</td><td style=\"text-align: right;\">  0  </td><td style=\"text-align: right;\">        7</td></tr>\n",
       "<tr><td style=\"text-align: right;\">   8</td><td style=\"text-align: right;\">        0</td><td style=\"text-align: right;\">   61</td><td style=\"text-align: right;\">     2</td><td style=\"text-align: right;\">      4</td><td style=\"text-align: right;\">      2</td><td style=\"text-align: right;\"> 66.7</td><td style=\"text-align: right;\"> 27.2</td><td style=\"text-align: right;\">        7</td></tr>\n",
       "<tr><td style=\"text-align: right;\">   9</td><td style=\"text-align: right;\">        0</td><td style=\"text-align: right;\">   69</td><td style=\"text-align: right;\">     1</td><td style=\"text-align: right;\">      1</td><td style=\"text-align: right;\">      1</td><td style=\"text-align: right;\">  3.9</td><td style=\"text-align: right;\"> 24  </td><td style=\"text-align: right;\">        7</td></tr>\n",
       "<tr><td style=\"text-align: right;\">  11</td><td style=\"text-align: right;\">        1</td><td style=\"text-align: right;\">   68</td><td style=\"text-align: right;\">     2</td><td style=\"text-align: right;\">      4</td><td style=\"text-align: right;\">      2</td><td style=\"text-align: right;\">  4  </td><td style=\"text-align: right;\">  0  </td><td style=\"text-align: right;\">        7</td></tr>\n",
       "<tr><td style=\"text-align: right;\">  12</td><td style=\"text-align: right;\">        1</td><td style=\"text-align: right;\">   72</td><td style=\"text-align: right;\">     1</td><td style=\"text-align: right;\">      2</td><td style=\"text-align: right;\">      2</td><td style=\"text-align: right;\"> 21.2</td><td style=\"text-align: right;\">  0  </td><td style=\"text-align: right;\">        7</td></tr>\n",
       "<tr><td style=\"text-align: right;\">  14</td><td style=\"text-align: right;\">        1</td><td style=\"text-align: right;\">   65</td><td style=\"text-align: right;\">     1</td><td style=\"text-align: right;\">      4</td><td style=\"text-align: right;\">      2</td><td style=\"text-align: right;\"> 39  </td><td style=\"text-align: right;\">  0  </td><td style=\"text-align: right;\">        7</td></tr>\n",
       "</tbody>\n",
       "</table>"
      ]
     },
     "metadata": {},
     "output_type": "display_data"
    },
    {
     "data": {
      "text/plain": []
     },
     "execution_count": 30,
     "metadata": {},
     "output_type": "execute_result"
    }
   ],
   "source": [
    "train"
   ]
  },
  {
   "cell_type": "code",
   "execution_count": 31,
   "id": "1b368078",
   "metadata": {},
   "outputs": [
    {
     "data": {
      "text/html": [
       "<table>\n",
       "<thead>\n",
       "<tr><th style=\"text-align: right;\">  ID</th><th style=\"text-align: right;\">  CAPSULE</th><th style=\"text-align: right;\">  AGE</th><th style=\"text-align: right;\">  RACE</th><th style=\"text-align: right;\">  DPROS</th><th style=\"text-align: right;\">  DCAPS</th><th style=\"text-align: right;\">  PSA</th><th style=\"text-align: right;\">  VOL</th><th style=\"text-align: right;\">  GLEASON</th></tr>\n",
       "</thead>\n",
       "<tbody>\n",
       "<tr><td style=\"text-align: right;\">  15</td><td style=\"text-align: right;\">        0</td><td style=\"text-align: right;\">   75</td><td style=\"text-align: right;\">     1</td><td style=\"text-align: right;\">      1</td><td style=\"text-align: right;\">      1</td><td style=\"text-align: right;\">  7.5</td><td style=\"text-align: right;\">  0  </td><td style=\"text-align: right;\">        5</td></tr>\n",
       "<tr><td style=\"text-align: right;\">  31</td><td style=\"text-align: right;\">        1</td><td style=\"text-align: right;\">   54</td><td style=\"text-align: right;\">     1</td><td style=\"text-align: right;\">      3</td><td style=\"text-align: right;\">      1</td><td style=\"text-align: right;\">  8.4</td><td style=\"text-align: right;\"> 18.3</td><td style=\"text-align: right;\">        6</td></tr>\n",
       "<tr><td style=\"text-align: right;\">  32</td><td style=\"text-align: right;\">        0</td><td style=\"text-align: right;\">   72</td><td style=\"text-align: right;\">     1</td><td style=\"text-align: right;\">      2</td><td style=\"text-align: right;\">      1</td><td style=\"text-align: right;\">  6.5</td><td style=\"text-align: right;\"> 22.5</td><td style=\"text-align: right;\">        7</td></tr>\n",
       "<tr><td style=\"text-align: right;\">  34</td><td style=\"text-align: right;\">        1</td><td style=\"text-align: right;\">   60</td><td style=\"text-align: right;\">     1</td><td style=\"text-align: right;\">      3</td><td style=\"text-align: right;\">      2</td><td style=\"text-align: right;\">  9.5</td><td style=\"text-align: right;\">  0  </td><td style=\"text-align: right;\">        7</td></tr>\n",
       "<tr><td style=\"text-align: right;\">  35</td><td style=\"text-align: right;\">        0</td><td style=\"text-align: right;\">   65</td><td style=\"text-align: right;\">     1</td><td style=\"text-align: right;\">      2</td><td style=\"text-align: right;\">      1</td><td style=\"text-align: right;\"> 11.1</td><td style=\"text-align: right;\"> 17.7</td><td style=\"text-align: right;\">        6</td></tr>\n",
       "<tr><td style=\"text-align: right;\">  53</td><td style=\"text-align: right;\">        0</td><td style=\"text-align: right;\">   66</td><td style=\"text-align: right;\">     1</td><td style=\"text-align: right;\">      3</td><td style=\"text-align: right;\">      1</td><td style=\"text-align: right;\">  8.8</td><td style=\"text-align: right;\"> 39.9</td><td style=\"text-align: right;\">        6</td></tr>\n",
       "<tr><td style=\"text-align: right;\">  65</td><td style=\"text-align: right;\">        1</td><td style=\"text-align: right;\">   59</td><td style=\"text-align: right;\">     1</td><td style=\"text-align: right;\">      4</td><td style=\"text-align: right;\">      1</td><td style=\"text-align: right;\"> 30.7</td><td style=\"text-align: right;\">  0  </td><td style=\"text-align: right;\">        7</td></tr>\n",
       "<tr><td style=\"text-align: right;\">  69</td><td style=\"text-align: right;\">        0</td><td style=\"text-align: right;\">   65</td><td style=\"text-align: right;\">     1</td><td style=\"text-align: right;\">      2</td><td style=\"text-align: right;\">      1</td><td style=\"text-align: right;\">  1.3</td><td style=\"text-align: right;\">  6.8</td><td style=\"text-align: right;\">        5</td></tr>\n",
       "<tr><td style=\"text-align: right;\">  70</td><td style=\"text-align: right;\">        1</td><td style=\"text-align: right;\">   68</td><td style=\"text-align: right;\">     2</td><td style=\"text-align: right;\">      3</td><td style=\"text-align: right;\">      1</td><td style=\"text-align: right;\">  9.6</td><td style=\"text-align: right;\"> 32  </td><td style=\"text-align: right;\">        6</td></tr>\n",
       "<tr><td style=\"text-align: right;\">  78</td><td style=\"text-align: right;\">        1</td><td style=\"text-align: right;\">   62</td><td style=\"text-align: right;\">     1</td><td style=\"text-align: right;\">      2</td><td style=\"text-align: right;\">      1</td><td style=\"text-align: right;\">  1.9</td><td style=\"text-align: right;\">  0  </td><td style=\"text-align: right;\">        6</td></tr>\n",
       "</tbody>\n",
       "</table>"
      ]
     },
     "metadata": {},
     "output_type": "display_data"
    },
    {
     "data": {
      "text/plain": []
     },
     "execution_count": 31,
     "metadata": {},
     "output_type": "execute_result"
    }
   ],
   "source": [
    "test"
   ]
  },
  {
   "cell_type": "code",
   "execution_count": 32,
   "id": "2deea79c",
   "metadata": {},
   "outputs": [
    {
     "data": {
      "text/html": [
       "<table>\n",
       "<thead>\n",
       "<tr><th style=\"text-align: right;\">  ID</th><th style=\"text-align: right;\">  CAPSULE</th><th style=\"text-align: right;\">  AGE</th><th style=\"text-align: right;\">  RACE</th><th style=\"text-align: right;\">  DPROS</th><th style=\"text-align: right;\">  DCAPS</th><th style=\"text-align: right;\">  PSA</th><th style=\"text-align: right;\">  VOL</th><th style=\"text-align: right;\">  GLEASON</th></tr>\n",
       "</thead>\n",
       "<tbody>\n",
       "<tr><td style=\"text-align: right;\">   1</td><td style=\"text-align: right;\">        0</td><td style=\"text-align: right;\">   65</td><td style=\"text-align: right;\">     1</td><td style=\"text-align: right;\">      2</td><td style=\"text-align: right;\">      1</td><td style=\"text-align: right;\">  1.4</td><td style=\"text-align: right;\">  0  </td><td style=\"text-align: right;\">        6</td></tr>\n",
       "<tr><td style=\"text-align: right;\">   3</td><td style=\"text-align: right;\">        0</td><td style=\"text-align: right;\">   70</td><td style=\"text-align: right;\">     1</td><td style=\"text-align: right;\">      1</td><td style=\"text-align: right;\">      2</td><td style=\"text-align: right;\">  4.9</td><td style=\"text-align: right;\">  0  </td><td style=\"text-align: right;\">        6</td></tr>\n",
       "<tr><td style=\"text-align: right;\">  10</td><td style=\"text-align: right;\">        0</td><td style=\"text-align: right;\">   68</td><td style=\"text-align: right;\">     2</td><td style=\"text-align: right;\">      1</td><td style=\"text-align: right;\">      2</td><td style=\"text-align: right;\"> 13  </td><td style=\"text-align: right;\">  0  </td><td style=\"text-align: right;\">        6</td></tr>\n",
       "<tr><td style=\"text-align: right;\">  13</td><td style=\"text-align: right;\">        1</td><td style=\"text-align: right;\">   72</td><td style=\"text-align: right;\">     1</td><td style=\"text-align: right;\">      4</td><td style=\"text-align: right;\">      2</td><td style=\"text-align: right;\"> 22.7</td><td style=\"text-align: right;\">  0  </td><td style=\"text-align: right;\">        9</td></tr>\n",
       "<tr><td style=\"text-align: right;\">  21</td><td style=\"text-align: right;\">        1</td><td style=\"text-align: right;\">   58</td><td style=\"text-align: right;\">     1</td><td style=\"text-align: right;\">      2</td><td style=\"text-align: right;\">      1</td><td style=\"text-align: right;\">  3.1</td><td style=\"text-align: right;\">  0  </td><td style=\"text-align: right;\">        7</td></tr>\n",
       "<tr><td style=\"text-align: right;\">  26</td><td style=\"text-align: right;\">        0</td><td style=\"text-align: right;\">   77</td><td style=\"text-align: right;\">     1</td><td style=\"text-align: right;\">      1</td><td style=\"text-align: right;\">      1</td><td style=\"text-align: right;\">  8.8</td><td style=\"text-align: right;\">  0  </td><td style=\"text-align: right;\">        5</td></tr>\n",
       "<tr><td style=\"text-align: right;\">  37</td><td style=\"text-align: right;\">        0</td><td style=\"text-align: right;\">   54</td><td style=\"text-align: right;\">     1</td><td style=\"text-align: right;\">      2</td><td style=\"text-align: right;\">      1</td><td style=\"text-align: right;\">  1  </td><td style=\"text-align: right;\">  0  </td><td style=\"text-align: right;\">        6</td></tr>\n",
       "<tr><td style=\"text-align: right;\">  45</td><td style=\"text-align: right;\">        1</td><td style=\"text-align: right;\">   65</td><td style=\"text-align: right;\">     2</td><td style=\"text-align: right;\">      3</td><td style=\"text-align: right;\">      1</td><td style=\"text-align: right;\"> 83.7</td><td style=\"text-align: right;\"> 32  </td><td style=\"text-align: right;\">        9</td></tr>\n",
       "<tr><td style=\"text-align: right;\">  56</td><td style=\"text-align: right;\">        1</td><td style=\"text-align: right;\">   57</td><td style=\"text-align: right;\">     1</td><td style=\"text-align: right;\">      3</td><td style=\"text-align: right;\">      1</td><td style=\"text-align: right;\">  7.4</td><td style=\"text-align: right;\"> 18.3</td><td style=\"text-align: right;\">        7</td></tr>\n",
       "<tr><td style=\"text-align: right;\">  63</td><td style=\"text-align: right;\">        0</td><td style=\"text-align: right;\">   76</td><td style=\"text-align: right;\">     1</td><td style=\"text-align: right;\">      2</td><td style=\"text-align: right;\">      1</td><td style=\"text-align: right;\">  9.5</td><td style=\"text-align: right;\"> 14.4</td><td style=\"text-align: right;\">        7</td></tr>\n",
       "</tbody>\n",
       "</table>"
      ]
     },
     "metadata": {},
     "output_type": "display_data"
    },
    {
     "data": {
      "text/plain": []
     },
     "execution_count": 32,
     "metadata": {},
     "output_type": "execute_result"
    }
   ],
   "source": [
    "valid"
   ]
  },
  {
   "cell_type": "code",
   "execution_count": 34,
   "id": "e6abea17",
   "metadata": {},
   "outputs": [
    {
     "name": "stdout",
     "output_type": "stream",
     "text": [
      "glm Model Build progress: |███████████████████████████████████████████████| 100%\n",
      "glm prediction progress: |████████████████████████████████████████████████| 100%\n"
     ]
    },
    {
     "data": {
      "text/html": [
       "<table>\n",
       "<thead>\n",
       "<tr><th style=\"text-align: right;\">  predict</th><th style=\"text-align: right;\">      p0</th><th style=\"text-align: right;\">      p1</th></tr>\n",
       "</thead>\n",
       "<tbody>\n",
       "<tr><td style=\"text-align: right;\">        0</td><td style=\"text-align: right;\">0.702567</td><td style=\"text-align: right;\">0.297433</td></tr>\n",
       "<tr><td style=\"text-align: right;\">        0</td><td style=\"text-align: right;\">0.697912</td><td style=\"text-align: right;\">0.302088</td></tr>\n",
       "<tr><td style=\"text-align: right;\">        0</td><td style=\"text-align: right;\">0.712578</td><td style=\"text-align: right;\">0.287422</td></tr>\n",
       "<tr><td style=\"text-align: right;\">        1</td><td style=\"text-align: right;\">0.320262</td><td style=\"text-align: right;\">0.679738</td></tr>\n",
       "<tr><td style=\"text-align: right;\">        0</td><td style=\"text-align: right;\">0.669101</td><td style=\"text-align: right;\">0.330899</td></tr>\n",
       "<tr><td style=\"text-align: right;\">        0</td><td style=\"text-align: right;\">0.691744</td><td style=\"text-align: right;\">0.308256</td></tr>\n",
       "<tr><td style=\"text-align: right;\">        1</td><td style=\"text-align: right;\">0.453686</td><td style=\"text-align: right;\">0.546314</td></tr>\n",
       "<tr><td style=\"text-align: right;\">        0</td><td style=\"text-align: right;\">0.759836</td><td style=\"text-align: right;\">0.240164</td></tr>\n",
       "<tr><td style=\"text-align: right;\">        0</td><td style=\"text-align: right;\">0.788344</td><td style=\"text-align: right;\">0.211656</td></tr>\n",
       "<tr><td style=\"text-align: right;\">        0</td><td style=\"text-align: right;\">0.755299</td><td style=\"text-align: right;\">0.244701</td></tr>\n",
       "</tbody>\n",
       "</table>"
      ]
     },
     "metadata": {},
     "output_type": "display_data"
    },
    {
     "data": {
      "text/plain": []
     },
     "execution_count": 34,
     "metadata": {},
     "output_type": "execute_result"
    }
   ],
   "source": [
    "\n",
    "from h2o.estimators.glm import H2OGeneralizedLinearEstimator\n",
    "\n",
    "# Generate a GLM model using the training dataset\n",
    "glm_classifier = H2OGeneralizedLinearEstimator(family=\"binomial\", nfolds=10, alpha=0.5)\n",
    "glm_classifier.train(y=\"CAPSULE\", x=[\"AGE\", \"RACE\", \"PSA\", \"DCAPS\"], training_frame=train)\n",
    "\n",
    "# Predict using the GLM model and the testing dataset\n",
    "predict = glm_classifier.predict(test)\n",
    "\n",
    "# View a summary of the prediction\n",
    "predict.head()"
   ]
  },
  {
   "cell_type": "markdown",
   "id": "cb84dab1",
   "metadata": {},
   "source": [
    "**Tokenize Strings**"
   ]
  },
  {
   "cell_type": "code",
   "execution_count": 26,
   "id": "787ee805",
   "metadata": {},
   "outputs": [
    {
     "name": "stdout",
     "output_type": "stream",
     "text": [
      "Parse progress: |█████████████████████████████████████████████████████████| 100%\n",
      "Parse progress: |█████████████████████████████████████████████████████████| 100%\n",
      "Parse progress: |█████████████████████████████████████████████████████████| 100%\n",
      "Parse progress: |█████████████████████████████████████████████████████████| 100%\n"
     ]
    }
   ],
   "source": [
    "# Create four simple, single-column Python data frames by inputting values\n",
    "df1 = h2o.H2OFrame.from_python({'String':[' this is a string ']})\n",
    "df1 = df1.ascharacter()\n",
    "df2 = h2o.H2OFrame.from_python({'String':['this is another string']})\n",
    "df2 = df2.ascharacter()\n",
    "df3 = h2o.H2OFrame.from_python({'String':['this is a longer string']})\n",
    "df3 = df3.ascharacter()\n",
    "df4 = h2o.H2OFrame.from_python({'String':['this is tall, this is taller']})\n",
    "df4 = df4.ascharacter()\n"
   ]
  },
  {
   "cell_type": "code",
   "execution_count": 27,
   "id": "12f14f4c",
   "metadata": {},
   "outputs": [
    {
     "data": {
      "text/html": [
       "<table>\n",
       "<thead>\n",
       "<tr><th>String                      </th></tr>\n",
       "</thead>\n",
       "<tbody>\n",
       "<tr><td>this is a string            </td></tr>\n",
       "<tr><td>this is another string      </td></tr>\n",
       "<tr><td>this is a longer string     </td></tr>\n",
       "<tr><td>this is tall, this is taller</td></tr>\n",
       "</tbody>\n",
       "</table>"
      ]
     },
     "metadata": {},
     "output_type": "display_data"
    },
    {
     "data": {
      "text/plain": []
     },
     "execution_count": 27,
     "metadata": {},
     "output_type": "execute_result"
    }
   ],
   "source": [
    "# Combine the datasets into a single dataset.\n",
    "combined = df1.rbind([df2, df3, df4])\n",
    "combined\n",
    "\n"
   ]
  },
  {
   "cell_type": "code",
   "execution_count": 28,
   "id": "403891a9",
   "metadata": {},
   "outputs": [
    {
     "data": {
      "text/html": [
       "<table>\n",
       "<thead>\n",
       "<tr><th>C1     </th></tr>\n",
       "</thead>\n",
       "<tbody>\n",
       "<tr><td>       </td></tr>\n",
       "<tr><td>this   </td></tr>\n",
       "<tr><td>is     </td></tr>\n",
       "<tr><td>a      </td></tr>\n",
       "<tr><td>string </td></tr>\n",
       "<tr><td>       </td></tr>\n",
       "<tr><td>this   </td></tr>\n",
       "<tr><td>is     </td></tr>\n",
       "<tr><td>another</td></tr>\n",
       "<tr><td>string </td></tr>\n",
       "</tbody>\n",
       "</table>"
      ]
     },
     "metadata": {},
     "output_type": "display_data"
    },
    {
     "data": {
      "text/plain": [
       "<bound method H2OFrame.describe of >"
      ]
     },
     "execution_count": 28,
     "metadata": {},
     "output_type": "execute_result"
    }
   ],
   "source": [
    "# Tokenize the dataset.\n",
    "# Notice that tokenized sentences are separated by empty rows.\n",
    "\n",
    "tokenized = combined.tokenize(\" \")\n",
    "tokenized.describe"
   ]
  }
 ],
 "metadata": {
  "kernelspec": {
   "display_name": "Python 3",
   "language": "python",
   "name": "python3"
  },
  "language_info": {
   "codemirror_mode": {
    "name": "ipython",
    "version": 3
   },
   "file_extension": ".py",
   "mimetype": "text/x-python",
   "name": "python",
   "nbconvert_exporter": "python",
   "pygments_lexer": "ipython3",
   "version": "3.8.8"
  }
 },
 "nbformat": 4,
 "nbformat_minor": 5
}
