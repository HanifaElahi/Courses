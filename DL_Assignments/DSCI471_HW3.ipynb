{
  "cells": [
    {
      "cell_type": "markdown",
      "id": "5abbbe63",
      "metadata": {
        "id": "5abbbe63"
      },
      "source": [
        "# 　　Build your `Recurrent Neural Network (RNN)` for Deep Learning\n",
        "# 　　　　　　on Stock Price `Time-Series Forecasting` Task"
      ]
    },
    {
      "cell_type": "markdown",
      "id": "e07a8095",
      "metadata": {
        "id": "e07a8095"
      },
      "source": [
        " "
      ]
    },
    {
      "cell_type": "markdown",
      "id": "6c095e34",
      "metadata": {
        "id": "6c095e34"
      },
      "source": [
        "## Annotations in cell of this Notebook: \n",
        " \n",
        "<font color='red'>Read CAREFULLY the Annotations below to understand what to write in the Notebook and what to answer in the Course Shell.</font>\n",
        " \n",
        " `##` is the python comments for assignment requirements and/or descriptions to the code below.\n",
        "\n",
        "`???` is the marker of the place that you should REPLACE with your own python code (either name of function[s], name of variable[s], expression[s], or a whole code line etc.), which should be able to be executed without errors. <strong>You may also find some inspirations from previous HomeWork assignment to write desired code for similar purpose/functionality </strong>\n",
        "\n",
        "`##-Qx: ` is the numbered identifier to indicate the question you should answer in the Course Shell for this homework. For example    `##-Q1: ` and `##-Q6: ` .   \n",
        "\n",
        "[`clickable link`]() is some tip/hint resources you many refer to in addition to your learning resources from this course or your self explorations.  \n",
        "    \n",
        "\n",
        " "
      ]
    },
    {
      "cell_type": "markdown",
      "id": "30b44078",
      "metadata": {
        "id": "30b44078"
      },
      "source": [
        "  "
      ]
    },
    {
      "cell_type": "markdown",
      "id": "4ddb5b74",
      "metadata": {
        "id": "4ddb5b74"
      },
      "source": [
        "  "
      ]
    },
    {
      "cell_type": "markdown",
      "id": "8cedb437",
      "metadata": {
        "id": "8cedb437"
      },
      "source": [
        "   "
      ]
    },
    {
      "cell_type": "markdown",
      "id": "1c78a92d",
      "metadata": {
        "id": "1c78a92d"
      },
      "source": [
        " "
      ]
    },
    {
      "cell_type": "markdown",
      "id": "90c3cbb9",
      "metadata": {
        "id": "90c3cbb9"
      },
      "source": [
        "## Task Overview \n",
        "<img src=\"https://svencarlin.com/wp-content/uploads/2020/02/bac-stock.png\" width=\"500\">\n",
        "　　　　　　　　　　　　　　　　　　　　　　　　　　　　　<strong>An Example Stock Chart</strong>\n",
        "                                              \n",
        "The Recurrent Neural Networks (RNNs) are in form of advanced neural networks which have internal memories that are capable of processing long sequences. This makes RNN very suitable for forecasting or predicting an outcome that relies on some form of historical context. The Time-series forecasting is to predict future values based on previously observed values in the time sequence. These all make the Stock Price Forecasting a fascinating application for RNN to work with its long historical data in the form of sequence of time.   \n",
        "\n",
        "You will resolve a `Stock Price Forecasting` task, which is to predict the future value based on a sequence of previously observed values, by building an architecture of a `Recurrent Neural Network`(`RNN`), `implementing` with Python, and `training` your model on a set of time-series stock price data as a supervised learning procedure. Finally, you will `evaluate` your model's accuracy using test dataset.\n",
        "\n",
        "The `TensorFlow 2.x` platform and its integrated version of `Keras API` (versus the traditional Keras Package) should be the handy tools for you to complete this task. Please take advantage of the official well supported TensorFlow & Keras [`Help Documentations`](https://www.tensorflow.org/api_docs/python/tf/keras) for correct usages of the API and functions. \n"
      ]
    },
    {
      "cell_type": "markdown",
      "id": "0cec2fc9",
      "metadata": {
        "id": "0cec2fc9"
      },
      "source": [
        "  "
      ]
    },
    {
      "cell_type": "markdown",
      "id": "f5a172d5",
      "metadata": {
        "id": "f5a172d5"
      },
      "source": [
        "   "
      ]
    },
    {
      "cell_type": "markdown",
      "id": "e6e8b7b4",
      "metadata": {
        "id": "e6e8b7b4"
      },
      "source": [
        "  "
      ]
    },
    {
      "cell_type": "markdown",
      "id": "9883b4ba",
      "metadata": {
        "id": "9883b4ba"
      },
      "source": [
        "## Setup Development Environment"
      ]
    },
    {
      "cell_type": "markdown",
      "id": "eb07433e",
      "metadata": {
        "id": "eb07433e"
      },
      "source": [
        "##### Import Modules/Packages "
      ]
    },
    {
      "cell_type": "code",
      "execution_count": null,
      "id": "7bfc083e",
      "metadata": {
        "id": "7bfc083e"
      },
      "outputs": [],
      "source": [
        "## Import related Modules for TensorFlow framework and Keras API\n",
        "\n",
        "import tensorflow as tf\n",
        "\n",
        "from tensorflow import keras \n",
        "\n",
        "## import the namespace \"layers\" and \"optimizer\" of Keras from Tensorflow    \n",
        "##-Q1: copy your correct code in the line below to answer corresponding question in the Course Shell\n",
        "\n",
        "from tensorflow.keras import layers, optimizers\n",
        "\n",
        "import numpy as np\n",
        "\n",
        "import pandas as pd\n",
        "from sklearn.preprocessing import MinMaxScaler\n",
        "import matplotlib.pyplot as plt   "
      ]
    },
    {
      "cell_type": "markdown",
      "id": "12c2561c",
      "metadata": {
        "id": "12c2561c"
      },
      "source": [
        "##### Module/Package **installation**\n",
        "\n",
        " `scikit-learn` is an open source Machine Learning Python package that offers many useful functionalities.\n",
        " \n",
        " **If** it shows `sklearn` Module is `not found` after executing the previous notebook cell\n",
        " \n",
        " - Execute the following code in the Python commend to install the sklearn package \n",
        " \n",
        " - If any other Modules are indicated as `not found`, also install them\n",
        "\n",
        " - After installation, select from menu `Kernel > Restart & Clear Output` to start over this notebook"
      ]
    },
    {
      "cell_type": "code",
      "execution_count": null,
      "id": "78e3192a",
      "metadata": {
        "id": "78e3192a"
      },
      "outputs": [],
      "source": [
        "# pip install scikit-learn"
      ]
    },
    {
      "cell_type": "markdown",
      "id": "d76341e5",
      "metadata": {
        "id": "d76341e5"
      },
      "source": [
        "##### **Check the version** of TensorFlow and Numpy package \n",
        "\n",
        "Print to see version information of Numpy and Tensorflow.\n",
        "\n",
        "- **If** your `Numpy` version > 1.19, while the `Tensorflow` version < 2.5.               \n",
        "Then you may need to execute the following code in the python comment to install Numpy 1.19, in order to be compatible with the Tensorflow       \n",
        "     \n",
        "     \n",
        "\n",
        "- **Otherwise**, you could keep on for now, and no need to install Numpy 1.19 until you really encounter the error message like below, which could happen during the `model fitting/training` procedure           \n",
        "```\n",
        "Cannot convert a symbolic Tensor to a numpy array. This error may indicate that you're trying to pass a Tensor to a NumPy call, which is not supported\n",
        "```\n",
        "This issue is caused by uncompatible versions among Numpy and Tensorflow.\n",
        "So if the error message shows up, you can execute the following code in commend to install Numpy 1.19 \n",
        "     \n",
        "     \n",
        "     \n",
        "- **If** you installed the lower version of Numpy, after installation, you need to select from menu `Kernel > Restart & Clear Output`, and then start over this notebook"
      ]
    },
    {
      "cell_type": "code",
      "execution_count": null,
      "id": "a47d22f8",
      "metadata": {
        "scrolled": true,
        "colab": {
          "base_uri": "https://localhost:8080/"
        },
        "id": "a47d22f8",
        "outputId": "98c07dbd-4e0f-43be-9a35-ef47121a059f"
      },
      "outputs": [
        {
          "output_type": "stream",
          "name": "stdout",
          "text": [
            "Using TensorFlow version = 2.12.0\n",
            "Using Numpy version= 1.22.4\n"
          ]
        }
      ],
      "source": [
        "print(\"Using TensorFlow version = %s\" % tf.__version__)\n",
        "print(\"Using Numpy version= %s\" % np.__version__)"
      ]
    },
    {
      "cell_type": "code",
      "execution_count": null,
      "id": "7c43f20f",
      "metadata": {
        "id": "7c43f20f"
      },
      "outputs": [],
      "source": [
        "# !pip install numpy==1.19.5 --no-warn-script-location --user"
      ]
    },
    {
      "cell_type": "markdown",
      "id": "25236641",
      "metadata": {
        "id": "25236641"
      },
      "source": [
        "  "
      ]
    },
    {
      "cell_type": "markdown",
      "id": "347203b3",
      "metadata": {
        "id": "347203b3"
      },
      "source": [
        "  "
      ]
    },
    {
      "cell_type": "markdown",
      "id": "7d5d360d",
      "metadata": {
        "id": "7d5d360d"
      },
      "source": [
        "   "
      ]
    },
    {
      "cell_type": "markdown",
      "id": "5ec08005",
      "metadata": {
        "id": "5ec08005"
      },
      "source": [
        "## Prepare Data\n",
        "\n",
        "### The Stock Price data composition - Introduction "
      ]
    },
    {
      "cell_type": "markdown",
      "id": "15a9523a",
      "metadata": {
        "id": "15a9523a"
      },
      "source": [
        "Stock price data come in several different [flavors](https://analyzingalpha.com/open-high-low-close-stocks). They are:\n",
        "\n",
        "- `Open`: Opening stock price at the beginning of the trading day\n",
        "- `Close`: Closing stock price at the end of the trading day\n",
        "- `High`: Highest stock price among the trading day\n",
        "- `Low`: Lowest stock price among the trading day\n",
        "- `Volume`: Total amount of trading activity \n",
        "\n",
        "The provided stock price data file contains the stock price data for **ONE** stock,             \n",
        "It has a record **each trading day**, for **10 years** from `2011-05-18` until `2021-05-18`           \n",
        "Erach record has these above mentioned attributes         .\n",
        " \n",
        "\n",
        "***   *NOTE: weekends and holidays are not trading days.*\n",
        "\n",
        "\n"
      ]
    },
    {
      "cell_type": "markdown",
      "id": "dc4cd7fb",
      "metadata": {
        "id": "dc4cd7fb"
      },
      "source": [
        "  "
      ]
    },
    {
      "cell_type": "markdown",
      "id": "7cca8177",
      "metadata": {
        "id": "7cca8177"
      },
      "source": [
        "### Load Data\n",
        "\n",
        "Load the provided stock price data\n",
        "\n",
        "  "
      ]
    },
    {
      "cell_type": "code",
      "execution_count": null,
      "id": "4e25cd68",
      "metadata": {
        "scrolled": false,
        "id": "4e25cd68"
      },
      "outputs": [],
      "source": [
        "## The URL of provided data\n",
        "DATA_URL = \"https://tinyurl.com/StockDataCSV\"\n",
        "\n",
        "## `Pandas` is a popular tool to validate, visualize, and analyze financial market data \n",
        "## Load the data from online using function `read_csv` from `Pandas` Module\n",
        "data = pd.read_csv(DATA_URL) "
      ]
    },
    {
      "cell_type": "markdown",
      "id": "3ec6ff99",
      "metadata": {
        "id": "3ec6ff99"
      },
      "source": [
        "  "
      ]
    },
    {
      "cell_type": "markdown",
      "id": "a4fb690f",
      "metadata": {
        "id": "a4fb690f"
      },
      "source": [
        "###  Explore Data"
      ]
    },
    {
      "cell_type": "markdown",
      "id": "3fc96015",
      "metadata": {
        "id": "3fc96015"
      },
      "source": [
        "The function `read_csv` will load a CSV file into a tabular datatype called `DataFrame`, and afterwards you would be able to easily manipulate the data in a DataFrame with various functions from `Pandas`.\n",
        "\n",
        "The following quick introductory resources are highly recommended if you are new to `Pandas`.\n",
        "\n",
        "- [Tutorial: 10 Popular Questions for DataFrame](https://blog.jetbrains.com/datalore/2021/02/25/pandas-tutorial-10-popular-questions-for-python-data-frames/) \n",
        "- [10 minutes to pandas](https://pandas.pydata.org/pandas-docs/stable/user_guide/10min.html) \n",
        "\n",
        " "
      ]
    },
    {
      "cell_type": "markdown",
      "id": "2f7093ad",
      "metadata": {
        "id": "2f7093ad"
      },
      "source": [
        "##### Find out dimensions of the `data`  \n",
        "The variable `data` is now assigned with the stock price data in the form of `DataFrame`.     \n",
        "\n",
        "Please use DataFrame's Attribute \n",
        "- [shape](https://pandas.pydata.org/docs/reference/api/pandas.DataFrame.html#Attributes)          \n",
        "to find out the dimension of the `data`"
      ]
    },
    {
      "cell_type": "code",
      "execution_count": null,
      "id": "aeac9f00",
      "metadata": {
        "scrolled": true,
        "colab": {
          "base_uri": "https://localhost:8080/"
        },
        "id": "aeac9f00",
        "outputId": "df0ac45d-90ad-4575-f244-00a351b8e9f0"
      },
      "outputs": [
        {
          "output_type": "stream",
          "name": "stdout",
          "text": [
            "(2428, 8)\n",
            "Total number of records/samples in the data:  2428\n"
          ]
        }
      ],
      "source": [
        "## develop your code below:\n",
        "print(data.shape)\n",
        "\n",
        "##-Q2: According to the dimension you obtained, \n",
        "##     what is the total number of records/samples in this data? -- In another word, how many days' records did you obtain? 2428\n",
        "print(\"Total number of records/samples in the data: \", data.shape[0])"
      ]
    },
    {
      "cell_type": "markdown",
      "id": "1e04cd62",
      "metadata": {
        "id": "1e04cd62"
      },
      "source": [
        "##### Display pieces of the `data`\n",
        "\n",
        "Please use DataFrame's Methods \n",
        "- [head](https://pandas.pydata.org/docs/reference/api/pandas.DataFrame.html#Methods) and \n",
        "- [tail](https://pandas.pydata.org/docs/reference/api/pandas.DataFrame.html#Methods)         \n",
        "\n",
        "to explore and get your first impression from pieces of the data\n"
      ]
    },
    {
      "cell_type": "code",
      "execution_count": null,
      "id": "35ac868e",
      "metadata": {
        "scrolled": true,
        "colab": {
          "base_uri": "https://localhost:8080/",
          "height": 206
        },
        "id": "35ac868e",
        "outputId": "c38b3ff7-1217-4f24-f815-13474c64aee4"
      },
      "outputs": [
        {
          "output_type": "execute_result",
          "data": {
            "text/plain": [
              "   Unnamed: 0        date     open    close     high      low   volume    code\n",
              "0          88  2011-05-18  120.646  125.574  127.178  120.646  62165.0  600519\n",
              "1          89  2011-05-19  126.250  128.749  129.889  126.250  85738.0  600519\n",
              "2          90  2011-05-20  129.277  129.361  129.896  128.060  40043.0  600519\n",
              "3          91  2011-05-23  128.827  126.913  130.598  126.894  39420.0  600519\n",
              "4          92  2011-05-24  125.934  125.355  127.216  125.284  23997.0  600519"
            ],
            "text/html": [
              "\n",
              "  <div id=\"df-d4574223-b780-4ca6-bf1b-c28edd4c9ef0\">\n",
              "    <div class=\"colab-df-container\">\n",
              "      <div>\n",
              "<style scoped>\n",
              "    .dataframe tbody tr th:only-of-type {\n",
              "        vertical-align: middle;\n",
              "    }\n",
              "\n",
              "    .dataframe tbody tr th {\n",
              "        vertical-align: top;\n",
              "    }\n",
              "\n",
              "    .dataframe thead th {\n",
              "        text-align: right;\n",
              "    }\n",
              "</style>\n",
              "<table border=\"1\" class=\"dataframe\">\n",
              "  <thead>\n",
              "    <tr style=\"text-align: right;\">\n",
              "      <th></th>\n",
              "      <th>Unnamed: 0</th>\n",
              "      <th>date</th>\n",
              "      <th>open</th>\n",
              "      <th>close</th>\n",
              "      <th>high</th>\n",
              "      <th>low</th>\n",
              "      <th>volume</th>\n",
              "      <th>code</th>\n",
              "    </tr>\n",
              "  </thead>\n",
              "  <tbody>\n",
              "    <tr>\n",
              "      <th>0</th>\n",
              "      <td>88</td>\n",
              "      <td>2011-05-18</td>\n",
              "      <td>120.646</td>\n",
              "      <td>125.574</td>\n",
              "      <td>127.178</td>\n",
              "      <td>120.646</td>\n",
              "      <td>62165.0</td>\n",
              "      <td>600519</td>\n",
              "    </tr>\n",
              "    <tr>\n",
              "      <th>1</th>\n",
              "      <td>89</td>\n",
              "      <td>2011-05-19</td>\n",
              "      <td>126.250</td>\n",
              "      <td>128.749</td>\n",
              "      <td>129.889</td>\n",
              "      <td>126.250</td>\n",
              "      <td>85738.0</td>\n",
              "      <td>600519</td>\n",
              "    </tr>\n",
              "    <tr>\n",
              "      <th>2</th>\n",
              "      <td>90</td>\n",
              "      <td>2011-05-20</td>\n",
              "      <td>129.277</td>\n",
              "      <td>129.361</td>\n",
              "      <td>129.896</td>\n",
              "      <td>128.060</td>\n",
              "      <td>40043.0</td>\n",
              "      <td>600519</td>\n",
              "    </tr>\n",
              "    <tr>\n",
              "      <th>3</th>\n",
              "      <td>91</td>\n",
              "      <td>2011-05-23</td>\n",
              "      <td>128.827</td>\n",
              "      <td>126.913</td>\n",
              "      <td>130.598</td>\n",
              "      <td>126.894</td>\n",
              "      <td>39420.0</td>\n",
              "      <td>600519</td>\n",
              "    </tr>\n",
              "    <tr>\n",
              "      <th>4</th>\n",
              "      <td>92</td>\n",
              "      <td>2011-05-24</td>\n",
              "      <td>125.934</td>\n",
              "      <td>125.355</td>\n",
              "      <td>127.216</td>\n",
              "      <td>125.284</td>\n",
              "      <td>23997.0</td>\n",
              "      <td>600519</td>\n",
              "    </tr>\n",
              "  </tbody>\n",
              "</table>\n",
              "</div>\n",
              "      <button class=\"colab-df-convert\" onclick=\"convertToInteractive('df-d4574223-b780-4ca6-bf1b-c28edd4c9ef0')\"\n",
              "              title=\"Convert this dataframe to an interactive table.\"\n",
              "              style=\"display:none;\">\n",
              "        \n",
              "  <svg xmlns=\"http://www.w3.org/2000/svg\" height=\"24px\"viewBox=\"0 0 24 24\"\n",
              "       width=\"24px\">\n",
              "    <path d=\"M0 0h24v24H0V0z\" fill=\"none\"/>\n",
              "    <path d=\"M18.56 5.44l.94 2.06.94-2.06 2.06-.94-2.06-.94-.94-2.06-.94 2.06-2.06.94zm-11 1L8.5 8.5l.94-2.06 2.06-.94-2.06-.94L8.5 2.5l-.94 2.06-2.06.94zm10 10l.94 2.06.94-2.06 2.06-.94-2.06-.94-.94-2.06-.94 2.06-2.06.94z\"/><path d=\"M17.41 7.96l-1.37-1.37c-.4-.4-.92-.59-1.43-.59-.52 0-1.04.2-1.43.59L10.3 9.45l-7.72 7.72c-.78.78-.78 2.05 0 2.83L4 21.41c.39.39.9.59 1.41.59.51 0 1.02-.2 1.41-.59l7.78-7.78 2.81-2.81c.8-.78.8-2.07 0-2.86zM5.41 20L4 18.59l7.72-7.72 1.47 1.35L5.41 20z\"/>\n",
              "  </svg>\n",
              "      </button>\n",
              "      \n",
              "  <style>\n",
              "    .colab-df-container {\n",
              "      display:flex;\n",
              "      flex-wrap:wrap;\n",
              "      gap: 12px;\n",
              "    }\n",
              "\n",
              "    .colab-df-convert {\n",
              "      background-color: #E8F0FE;\n",
              "      border: none;\n",
              "      border-radius: 50%;\n",
              "      cursor: pointer;\n",
              "      display: none;\n",
              "      fill: #1967D2;\n",
              "      height: 32px;\n",
              "      padding: 0 0 0 0;\n",
              "      width: 32px;\n",
              "    }\n",
              "\n",
              "    .colab-df-convert:hover {\n",
              "      background-color: #E2EBFA;\n",
              "      box-shadow: 0px 1px 2px rgba(60, 64, 67, 0.3), 0px 1px 3px 1px rgba(60, 64, 67, 0.15);\n",
              "      fill: #174EA6;\n",
              "    }\n",
              "\n",
              "    [theme=dark] .colab-df-convert {\n",
              "      background-color: #3B4455;\n",
              "      fill: #D2E3FC;\n",
              "    }\n",
              "\n",
              "    [theme=dark] .colab-df-convert:hover {\n",
              "      background-color: #434B5C;\n",
              "      box-shadow: 0px 1px 3px 1px rgba(0, 0, 0, 0.15);\n",
              "      filter: drop-shadow(0px 1px 2px rgba(0, 0, 0, 0.3));\n",
              "      fill: #FFFFFF;\n",
              "    }\n",
              "  </style>\n",
              "\n",
              "      <script>\n",
              "        const buttonEl =\n",
              "          document.querySelector('#df-d4574223-b780-4ca6-bf1b-c28edd4c9ef0 button.colab-df-convert');\n",
              "        buttonEl.style.display =\n",
              "          google.colab.kernel.accessAllowed ? 'block' : 'none';\n",
              "\n",
              "        async function convertToInteractive(key) {\n",
              "          const element = document.querySelector('#df-d4574223-b780-4ca6-bf1b-c28edd4c9ef0');\n",
              "          const dataTable =\n",
              "            await google.colab.kernel.invokeFunction('convertToInteractive',\n",
              "                                                     [key], {});\n",
              "          if (!dataTable) return;\n",
              "\n",
              "          const docLinkHtml = 'Like what you see? Visit the ' +\n",
              "            '<a target=\"_blank\" href=https://colab.research.google.com/notebooks/data_table.ipynb>data table notebook</a>'\n",
              "            + ' to learn more about interactive tables.';\n",
              "          element.innerHTML = '';\n",
              "          dataTable['output_type'] = 'display_data';\n",
              "          await google.colab.output.renderOutput(dataTable, element);\n",
              "          const docLink = document.createElement('div');\n",
              "          docLink.innerHTML = docLinkHtml;\n",
              "          element.appendChild(docLink);\n",
              "        }\n",
              "      </script>\n",
              "    </div>\n",
              "  </div>\n",
              "  "
            ]
          },
          "metadata": {},
          "execution_count": 7
        }
      ],
      "source": [
        "## Display first five rows in the `data` \n",
        "data.head()"
      ]
    },
    {
      "cell_type": "code",
      "execution_count": null,
      "id": "c110ecc4",
      "metadata": {
        "scrolled": false,
        "colab": {
          "base_uri": "https://localhost:8080/",
          "height": 206
        },
        "id": "c110ecc4",
        "outputId": "8accd85d-25c1-479b-86aa-a992d2361850"
      },
      "outputs": [
        {
          "output_type": "execute_result",
          "data": {
            "text/plain": [
              "      Unnamed: 0        date     open    close     high      low   volume  \\\n",
              "2423        2511  2021-05-12  1949.08  1984.00  1999.00  1949.00  32699.0   \n",
              "2424        2512  2021-05-13  1965.75  1971.50  1985.05  1953.00  25078.0   \n",
              "2425        2513  2021-05-14  1982.00  2009.85  2030.50  1976.00  35611.0   \n",
              "2426        2514  2021-05-17  2025.10  2057.96  2085.20  2025.10  44524.0   \n",
              "2427        2515  2021-05-18  2065.00  2059.31  2077.00  2045.06  17504.0   \n",
              "\n",
              "        code  \n",
              "2423  600519  \n",
              "2424  600519  \n",
              "2425  600519  \n",
              "2426  600519  \n",
              "2427  600519  "
            ],
            "text/html": [
              "\n",
              "  <div id=\"df-eca6fbff-97c5-4e64-a1fd-0e555973313f\">\n",
              "    <div class=\"colab-df-container\">\n",
              "      <div>\n",
              "<style scoped>\n",
              "    .dataframe tbody tr th:only-of-type {\n",
              "        vertical-align: middle;\n",
              "    }\n",
              "\n",
              "    .dataframe tbody tr th {\n",
              "        vertical-align: top;\n",
              "    }\n",
              "\n",
              "    .dataframe thead th {\n",
              "        text-align: right;\n",
              "    }\n",
              "</style>\n",
              "<table border=\"1\" class=\"dataframe\">\n",
              "  <thead>\n",
              "    <tr style=\"text-align: right;\">\n",
              "      <th></th>\n",
              "      <th>Unnamed: 0</th>\n",
              "      <th>date</th>\n",
              "      <th>open</th>\n",
              "      <th>close</th>\n",
              "      <th>high</th>\n",
              "      <th>low</th>\n",
              "      <th>volume</th>\n",
              "      <th>code</th>\n",
              "    </tr>\n",
              "  </thead>\n",
              "  <tbody>\n",
              "    <tr>\n",
              "      <th>2423</th>\n",
              "      <td>2511</td>\n",
              "      <td>2021-05-12</td>\n",
              "      <td>1949.08</td>\n",
              "      <td>1984.00</td>\n",
              "      <td>1999.00</td>\n",
              "      <td>1949.00</td>\n",
              "      <td>32699.0</td>\n",
              "      <td>600519</td>\n",
              "    </tr>\n",
              "    <tr>\n",
              "      <th>2424</th>\n",
              "      <td>2512</td>\n",
              "      <td>2021-05-13</td>\n",
              "      <td>1965.75</td>\n",
              "      <td>1971.50</td>\n",
              "      <td>1985.05</td>\n",
              "      <td>1953.00</td>\n",
              "      <td>25078.0</td>\n",
              "      <td>600519</td>\n",
              "    </tr>\n",
              "    <tr>\n",
              "      <th>2425</th>\n",
              "      <td>2513</td>\n",
              "      <td>2021-05-14</td>\n",
              "      <td>1982.00</td>\n",
              "      <td>2009.85</td>\n",
              "      <td>2030.50</td>\n",
              "      <td>1976.00</td>\n",
              "      <td>35611.0</td>\n",
              "      <td>600519</td>\n",
              "    </tr>\n",
              "    <tr>\n",
              "      <th>2426</th>\n",
              "      <td>2514</td>\n",
              "      <td>2021-05-17</td>\n",
              "      <td>2025.10</td>\n",
              "      <td>2057.96</td>\n",
              "      <td>2085.20</td>\n",
              "      <td>2025.10</td>\n",
              "      <td>44524.0</td>\n",
              "      <td>600519</td>\n",
              "    </tr>\n",
              "    <tr>\n",
              "      <th>2427</th>\n",
              "      <td>2515</td>\n",
              "      <td>2021-05-18</td>\n",
              "      <td>2065.00</td>\n",
              "      <td>2059.31</td>\n",
              "      <td>2077.00</td>\n",
              "      <td>2045.06</td>\n",
              "      <td>17504.0</td>\n",
              "      <td>600519</td>\n",
              "    </tr>\n",
              "  </tbody>\n",
              "</table>\n",
              "</div>\n",
              "      <button class=\"colab-df-convert\" onclick=\"convertToInteractive('df-eca6fbff-97c5-4e64-a1fd-0e555973313f')\"\n",
              "              title=\"Convert this dataframe to an interactive table.\"\n",
              "              style=\"display:none;\">\n",
              "        \n",
              "  <svg xmlns=\"http://www.w3.org/2000/svg\" height=\"24px\"viewBox=\"0 0 24 24\"\n",
              "       width=\"24px\">\n",
              "    <path d=\"M0 0h24v24H0V0z\" fill=\"none\"/>\n",
              "    <path d=\"M18.56 5.44l.94 2.06.94-2.06 2.06-.94-2.06-.94-.94-2.06-.94 2.06-2.06.94zm-11 1L8.5 8.5l.94-2.06 2.06-.94-2.06-.94L8.5 2.5l-.94 2.06-2.06.94zm10 10l.94 2.06.94-2.06 2.06-.94-2.06-.94-.94-2.06-.94 2.06-2.06.94z\"/><path d=\"M17.41 7.96l-1.37-1.37c-.4-.4-.92-.59-1.43-.59-.52 0-1.04.2-1.43.59L10.3 9.45l-7.72 7.72c-.78.78-.78 2.05 0 2.83L4 21.41c.39.39.9.59 1.41.59.51 0 1.02-.2 1.41-.59l7.78-7.78 2.81-2.81c.8-.78.8-2.07 0-2.86zM5.41 20L4 18.59l7.72-7.72 1.47 1.35L5.41 20z\"/>\n",
              "  </svg>\n",
              "      </button>\n",
              "      \n",
              "  <style>\n",
              "    .colab-df-container {\n",
              "      display:flex;\n",
              "      flex-wrap:wrap;\n",
              "      gap: 12px;\n",
              "    }\n",
              "\n",
              "    .colab-df-convert {\n",
              "      background-color: #E8F0FE;\n",
              "      border: none;\n",
              "      border-radius: 50%;\n",
              "      cursor: pointer;\n",
              "      display: none;\n",
              "      fill: #1967D2;\n",
              "      height: 32px;\n",
              "      padding: 0 0 0 0;\n",
              "      width: 32px;\n",
              "    }\n",
              "\n",
              "    .colab-df-convert:hover {\n",
              "      background-color: #E2EBFA;\n",
              "      box-shadow: 0px 1px 2px rgba(60, 64, 67, 0.3), 0px 1px 3px 1px rgba(60, 64, 67, 0.15);\n",
              "      fill: #174EA6;\n",
              "    }\n",
              "\n",
              "    [theme=dark] .colab-df-convert {\n",
              "      background-color: #3B4455;\n",
              "      fill: #D2E3FC;\n",
              "    }\n",
              "\n",
              "    [theme=dark] .colab-df-convert:hover {\n",
              "      background-color: #434B5C;\n",
              "      box-shadow: 0px 1px 3px 1px rgba(0, 0, 0, 0.15);\n",
              "      filter: drop-shadow(0px 1px 2px rgba(0, 0, 0, 0.3));\n",
              "      fill: #FFFFFF;\n",
              "    }\n",
              "  </style>\n",
              "\n",
              "      <script>\n",
              "        const buttonEl =\n",
              "          document.querySelector('#df-eca6fbff-97c5-4e64-a1fd-0e555973313f button.colab-df-convert');\n",
              "        buttonEl.style.display =\n",
              "          google.colab.kernel.accessAllowed ? 'block' : 'none';\n",
              "\n",
              "        async function convertToInteractive(key) {\n",
              "          const element = document.querySelector('#df-eca6fbff-97c5-4e64-a1fd-0e555973313f');\n",
              "          const dataTable =\n",
              "            await google.colab.kernel.invokeFunction('convertToInteractive',\n",
              "                                                     [key], {});\n",
              "          if (!dataTable) return;\n",
              "\n",
              "          const docLinkHtml = 'Like what you see? Visit the ' +\n",
              "            '<a target=\"_blank\" href=https://colab.research.google.com/notebooks/data_table.ipynb>data table notebook</a>'\n",
              "            + ' to learn more about interactive tables.';\n",
              "          element.innerHTML = '';\n",
              "          dataTable['output_type'] = 'display_data';\n",
              "          await google.colab.output.renderOutput(dataTable, element);\n",
              "          const docLink = document.createElement('div');\n",
              "          docLink.innerHTML = docLinkHtml;\n",
              "          element.appendChild(docLink);\n",
              "        }\n",
              "      </script>\n",
              "    </div>\n",
              "  </div>\n",
              "  "
            ]
          },
          "metadata": {},
          "execution_count": 8
        }
      ],
      "source": [
        "## Display last five rows in the `data` \n",
        "data.tail()"
      ]
    },
    {
      "cell_type": "code",
      "execution_count": null,
      "id": "ee50e3fb",
      "metadata": {
        "scrolled": true,
        "id": "ee50e3fb"
      },
      "outputs": [],
      "source": [
        "\n",
        "##-Q3: What is the stock price of the `closing stock price` on `2021-05-18`?    2059.31  \n"
      ]
    },
    {
      "cell_type": "markdown",
      "id": "ae6d06c0",
      "metadata": {
        "id": "ae6d06c0"
      },
      "source": [
        "##### Display the chart of close price of this stock in 10 years span\n",
        "\n",
        "Executing the below code to gain a whole picture of all cloding stock price from all records."
      ]
    },
    {
      "cell_type": "code",
      "execution_count": null,
      "id": "b0c5f4ac",
      "metadata": {
        "colab": {
          "base_uri": "https://localhost:8080/",
          "height": 472
        },
        "id": "b0c5f4ac",
        "outputId": "adbc795f-74e8-40c8-fb6a-e764b0b972c8"
      },
      "outputs": [
        {
          "output_type": "display_data",
          "data": {
            "text/plain": [
              "<Figure size 640x480 with 1 Axes>"
            ],
            "image/png": "[encoded data removed]"
          },
          "metadata": {}
        }
      ],
      "source": [
        "plt.plot(data['close'], color='green') \n",
        "plt.title('Prices of a stock from 2011-05-18 to 2021-05-18')\n",
        "plt.xlabel('# Trading Days')\n",
        "plt.ylabel('Stock Price') \n",
        "plt.show()"
      ]
    },
    {
      "cell_type": "markdown",
      "id": "01c93856",
      "metadata": {
        "id": "01c93856"
      },
      "source": [
        "  "
      ]
    },
    {
      "cell_type": "markdown",
      "id": "c81f0a9e",
      "metadata": {
        "id": "c81f0a9e"
      },
      "source": [
        "  "
      ]
    },
    {
      "cell_type": "markdown",
      "id": "04bbc8b5",
      "metadata": {
        "id": "04bbc8b5"
      },
      "source": [
        "### Preprocess the data"
      ]
    },
    {
      "cell_type": "markdown",
      "id": "0ebb7dae",
      "metadata": {
        "id": "0ebb7dae"
      },
      "source": [
        "##### Compose training data and test data by splitting the loaded data"
      ]
    },
    {
      "cell_type": "markdown",
      "id": "69f084a6",
      "metadata": {
        "id": "69f084a6"
      },
      "source": [
        "Let's use data of 9 yeas of trading days  for training, and 1 year of trading days' data for testing.\n",
        "\n",
        "Assume we have an average of **22 trading days per month**.\n",
        "\n",
        "Split the `data` variable into `data_train` and `data_test` using Pandas function `iloc` [ [1](https://blog.jetbrains.com/datalore/2021/02/25/pandas-tutorial-10-popular-questions-for-python-data-frames/), [2](https://pandas.pydata.org/docs/reference/api/pandas.DataFrame.iloc.html) ]. \n",
        "   \n",
        "   \n",
        "We will target the `Close` stock price value for training and prediction.\n",
        "   "
      ]
    },
    {
      "cell_type": "code",
      "execution_count": null,
      "id": "71f05798",
      "metadata": {
        "id": "71f05798"
      },
      "outputs": [],
      "source": [
        "## Assign the number of records (i.e. trading days) available in the data, to the variable below: \n",
        "days_total = data.shape[0]   # 2428\n",
        "\n",
        "\n",
        "## Assign the number of trading days of 1 year based on the assumption mentioned above (avg. 22 trading days per month), \n",
        "##   to the variable below: \n",
        "days_oneYear = 264\n",
        "\n",
        "\n",
        "##-Q4: According to the assumption, how many trading days/records we assume be in 1 year?   264\n",
        "##     We will use that amount of data as test data\n",
        " \n",
        " \n",
        "## The `close` price is located in the 4th column in the DataFrame `data` \n",
        "## Assign the column index to the variable below:\n",
        "idx = 3\n",
        "\n",
        "       \n",
        "##-Q5: What is the value assigned to variable `idx`, \n",
        "##     to indicate the `close` price column in the DataFrame `data`? 3\n",
        "\n",
        "\n",
        "## Complete the code line below to slice out, using `iloc` function, only the column that contains the close prices\n",
        "##   and its 9 years of trading days' record to be the training data, the rest to be the test data\n",
        "\n",
        "## data splitted for training\n",
        "data_train = data.iloc[0 : days_total-days_oneYear, idx:idx+1].values  \n",
        "\n",
        "## data splitted for test\n",
        "data_test  = data.iloc[days_total-days_oneYear: , idx:idx+1].values    \n",
        "\n",
        "\n",
        "##-Q6: What is the code you write to replace the first ??? in the above code line?  data.iloc[days_total-days_oneYear: , idx:idx+1].values \n",
        "##     i.e. in the code line:  data_test = data.iloc[??? : , ???:???].values\n"
      ]
    },
    {
      "cell_type": "markdown",
      "id": "8b1d6df3",
      "metadata": {
        "id": "8b1d6df3"
      },
      "source": [
        "**Explore** the **splitted** data `data_train` and `data_test`\n",
        "\n",
        "For example:\n",
        "\n",
        "What is the data type of the `data_train` and `data_test`?               \n",
        "- tips: use Python built-in function `type()` to expolore the datatype \n",
        "\n",
        "What is the dimensions of the `data_train` and `data_test`?       \n",
        "- tips: use proper way, according to their datatype, to find out the dimensions\n",
        " "
      ]
    },
    {
      "cell_type": "code",
      "execution_count": null,
      "id": "94f51b3b",
      "metadata": {
        "colab": {
          "base_uri": "https://localhost:8080/"
        },
        "id": "94f51b3b",
        "outputId": "daf00c69-79bf-4781-b4c6-b2441e637bfa"
      },
      "outputs": [
        {
          "output_type": "stream",
          "name": "stdout",
          "text": [
            "<class 'numpy.ndarray'>\n",
            "<class 'numpy.ndarray'>\n"
          ]
        }
      ],
      "source": [
        "## Datatype of `data_train` and `data_test`\n",
        "print(type(data_train))\n",
        "print(type(data_test))"
      ]
    },
    {
      "cell_type": "code",
      "execution_count": null,
      "id": "71f3abf2",
      "metadata": {
        "colab": {
          "base_uri": "https://localhost:8080/"
        },
        "id": "71f3abf2",
        "outputId": "d8ecac6c-1729-435d-b070-670a9dbdf64a"
      },
      "outputs": [
        {
          "output_type": "stream",
          "name": "stdout",
          "text": [
            "Dimensions of data_train: (2164, 1)\n",
            "Dimensions of data_test: (264, 1)\n"
          ]
        }
      ],
      "source": [
        "## Dimensions of the `data_train` and `data_test`\n",
        "print(\"Dimensions of data_train:\", data_train.shape)\n",
        "print(\"Dimensions of data_test:\", data_test.shape)"
      ]
    },
    {
      "cell_type": "markdown",
      "id": "d501e1a6",
      "metadata": {
        "id": "d501e1a6"
      },
      "source": [
        "##### Normalizing the data\n",
        "\n",
        "Now we need to define a scaler to normalize the data for boosting the model performance.\n",
        "\n",
        "The function [MinMaxScalar](https://scikit-learn.org/stable/modules/generated/sklearn.preprocessing.MinMaxScaler.html) that we imported from `sklearn` package can assist us conveniently `scale` all the data to be in the range of 0 and 1, \n",
        "\n",
        "and can also be used to `scale back` the scaled data to their original scale when they need to be presented."
      ]
    },
    {
      "cell_type": "code",
      "execution_count": null,
      "id": "8d1fcb9f",
      "metadata": {
        "id": "8d1fcb9f"
      },
      "outputs": [],
      "source": [
        "## Create a `scaler` for scaling the data to be between 0 and 1\n",
        "scaler = MinMaxScaler(feature_range=(0, 1))\n",
        "\n",
        "## calculate the `scaler` based on the training data     \n",
        "scaler.fit(data_train)  \n",
        "\n",
        "## Apply the `scaler` upon the training data to normalize the values of `data_train` being between 0 and 1  \n",
        "data_train_scaled = scaler.transform(data_train) "
      ]
    },
    {
      "cell_type": "markdown",
      "id": "392c96c8",
      "metadata": {
        "id": "392c96c8"
      },
      "source": [
        "  "
      ]
    },
    {
      "cell_type": "markdown",
      "id": "e3bc05a2",
      "metadata": {
        "id": "e3bc05a2"
      },
      "source": [
        "  "
      ]
    },
    {
      "cell_type": "markdown",
      "id": "712362c5",
      "metadata": {
        "id": "712362c5"
      },
      "source": [
        "  "
      ]
    },
    {
      "cell_type": "markdown",
      "id": "cdaeb97b",
      "metadata": {
        "id": "cdaeb97b"
      },
      "source": [
        "## Build architecture of your RNN model"
      ]
    },
    {
      "cell_type": "markdown",
      "id": "72b8acab",
      "metadata": {
        "id": "72b8acab"
      },
      "source": [
        "The basic building block of a neural network is the layer.\n",
        "\n",
        "You will configure each layer of your model, then compile the model.\n",
        "\n",
        "<br>\n",
        "<br>\n",
        "\n",
        "For this task you are required to chain together layers as the architecture of the RNN:\n",
        "\n",
        "  [3 types of `RNN layers`](https://www.tensorflow.org/guide/keras/rnn) can be implemented in Keras   \n",
        "\n",
        "   - [SimpleRNN](https://www.tensorflow.org/api_docs/python/tf/keras/layers/SimpleRNN)\n",
        "   - [LSTM](https://www.tensorflow.org/api_docs/python/tf/keras/layers/LSTM)\n",
        "   - [GRU](https://www.tensorflow.org/api_docs/python/tf/keras/layers/GRU)\n",
        " \n",
        "\n",
        "  [the `Dropout` layer](https://www.tensorflow.org/api_docs/python/tf/keras/layers/Dropout) can be used to improve model performance\n",
        "\n",
        "<br>\n",
        "<br>\n",
        "In the end, you will get one output from your model, representing the stock price of the following day, which is predicted based on the sequencial stock prices from the previous days.\n",
        "\n"
      ]
    },
    {
      "cell_type": "markdown",
      "id": "2bef49ed",
      "metadata": {
        "id": "2bef49ed"
      },
      "source": [
        "##### Stack and Configure layers"
      ]
    },
    {
      "cell_type": "code",
      "execution_count": null,
      "id": "361e5770",
      "metadata": {
        "id": "361e5770"
      },
      "outputs": [],
      "source": [
        "# Build a tf.keras.Sequential model by stacking layers as your RNN model\n",
        "\n",
        "model = keras.Sequential([\n",
        "    \n",
        "    ## Construct a First `basic simple RNN` layer that has 80 hidden unit, \n",
        "    ##   using `tanh` as activation function, \n",
        "    ##   set True for parameter `return_sequences` in order to stack to the next RNN layer \n",
        "    layers.SimpleRNN(units=80, activation='tanh', return_sequences=True),\n",
        "\n",
        "    \n",
        "    ##-Q7: copy your correct code in the line above to answer corresponding question in the Course Shell\n",
        "    #      What is the code line you developed to construct the first RNN layer according to the requirements in the comment?\n",
        "        \n",
        "    \n",
        "    ## Apply a Droupout layer only to the non-recurrent connections to reduce overfitting     \n",
        "    ##   and set the rate to be 0.2 of the input units for dropping out        \n",
        "\n",
        "   layers.Dropout(rate=0.2),\n",
        "    \n",
        "    ##    ============= be CAREFULL to follow the Different requirements in the COMMENTS  =============\n",
        "    \n",
        "    \n",
        "    ## Construct a Second basic simple RNN layer that has    100    hidden unit, \n",
        "    ##   using tanh as activation function, \n",
        "    ##   set True for `return_sequences` to stack to the next RNN layer \n",
        "    layers.SimpleRNN(units=100, activation='tanh', return_sequences=True),\n",
        "\n",
        "    \n",
        "    ## Apply a Droupout layer with a rate    0.5    for dropping out\n",
        "    layers.Dropout(rate=0.5),\n",
        "    \n",
        "    ## Construct a Last basic simple RNN layer that has    120    hidden unit, \n",
        "    ##   using tanh as activation function, \n",
        "    ##   set     False     for `return_sequences` as no more stacking RNN layer \n",
        "    layers.SimpleRNN(units=120, activation='tanh', return_sequences=False),\n",
        "  \n",
        "    \n",
        "    ## Apply a Droupout layer with a rate    0.5    for dropping out   \n",
        "    layers.Dropout(rate=0.5),\n",
        "\n",
        "    \n",
        "    ## Apply a `full-connected` output layer with a unit that can predict the price of next day            \n",
        "    layers.Dense(units=1)     \n",
        "    \n",
        "    ##-Q8: What are the code you should put in place of the ??? in the above code line (i.e.: ???.???(units=???) ),\n",
        "    ##     to fulfill its purpose of design (requirements in the comment)? layers.Dense(units=1)\n",
        "    \n",
        "])\n",
        "\n"
      ]
    },
    {
      "cell_type": "markdown",
      "id": "783e6851",
      "metadata": {
        "id": "783e6851"
      },
      "source": [
        "##### Compile the model\n",
        "\n",
        "Before the model is ready for training, it needs a few more settings. These are to be added during the [model's compiling](https://www.tensorflow.org/api_docs/python/tf/keras/Model) step:\n",
        "\n",
        "- [Optimizer](https://www.tensorflow.org/api_docs/python/tf/keras/optimizers) : This is how the model is updated based on the data it sees and its loss function.\n",
        "- [Loss function](https://www.tensorflow.org/api_docs/python/tf/keras/losses) : This measures how accurate the model is during training. You want to minimize this function to \"steer\" the model in the right direction.\n",
        "- [Metrics](https://www.tensorflow.org/api_docs/python/tf/keras/metrics) : Used to monitor the training and testing steps.  "
      ]
    },
    {
      "cell_type": "code",
      "execution_count": null,
      "id": "b6fb8782",
      "metadata": {
        "id": "b6fb8782"
      },
      "outputs": [],
      "source": [
        "## Select an optimizer that implements the Adam algorithm, \n",
        "##   and validate to update a proper learning rate for your model during the model tunning step\n",
        "my_learn_rate = 0.001\n",
        "my_optimizer = optimizers.Adam(learning_rate=my_learn_rate)  ## utilize existed variable when available\n",
        " \n",
        "##-Q9: What is the code you fill in the 1st and 2nd ??? in the above code line (to fulfill its requirements in the comment)? Adam\n",
        "## (hint: for the 3rd ??? guess a value for now, and tune later together with the   batch size   and   epochs value   in later code blocks) \n",
        "\n",
        "\n",
        "\n",
        "## Compile your model with the chosen optimizer, \n",
        "##   mean of squares of errors as losses (since it is a regression task), and/or your choice of metric(s)\n",
        "model.compile(optimizer=my_optimizer,\n",
        "              loss=keras.losses.mean_squared_error\n",
        "             ) \n",
        "\n",
        "##-Q10: What is the code you fill in the ???s in the above code line (to fulfill its requirements in the comment)? model.compile(optimizer=my_optimizer,loss=keras.losses.mean_squared_error) "
      ]
    },
    {
      "cell_type": "markdown",
      "id": "e31cfa1b",
      "metadata": {
        "id": "e31cfa1b"
      },
      "source": [
        "  "
      ]
    },
    {
      "cell_type": "markdown",
      "id": "1a089f0b",
      "metadata": {
        "id": "1a089f0b"
      },
      "source": [
        "  "
      ]
    },
    {
      "cell_type": "markdown",
      "id": "55010226",
      "metadata": {
        "id": "55010226"
      },
      "source": [
        "  "
      ]
    },
    {
      "cell_type": "markdown",
      "id": "567e3703",
      "metadata": {
        "id": "567e3703"
      },
      "source": [
        "## Fit/Train the model\n",
        "\n",
        "Train the model to fit the training dataset"
      ]
    },
    {
      "cell_type": "markdown",
      "id": "4acaaf8e",
      "metadata": {
        "id": "4acaaf8e"
      },
      "source": [
        "#### Compose traning dataset out of the data_train\n",
        "\n",
        "We design and apply **this schema** for stock price forcasting:             \n",
        "```\n",
        "Use the stock price of trading days in the past month to predict the stock price of next 1 day.\n",
        "```      \n",
        "\n",
        "* In another word, every `22 days` as `timesteps` to be 1 training record/sample, to train for the `1 next day` which serves as the corresponding label.     \n",
        "\n",
        "The training dataset will be composed by extracting all the qualified records/samples and their corresponding labels, accoridng to the above designed schema, from the previous splitted and processed training data `data_train_scaled`"
      ]
    },
    {
      "cell_type": "code",
      "execution_count": null,
      "id": "ec6afce4",
      "metadata": {
        "id": "ec6afce4"
      },
      "outputs": [],
      "source": [
        "## Create lists to store extracted training record set and traning label set.\n",
        "pastDays_trainSet = []\n",
        "label_trainSet = []\n",
        "\n",
        "## Assign the number of days used in one training record \n",
        "pastDaysRange = 22\n",
        "\n",
        "## Loop to Extract all records/samples from `data_train_scaled` to form a training record set,\n",
        "##   do the same for all corresponding labels to form training label set,\n",
        "##   Each extraction has `pastDaysRange` days as one record, and 1 next day as label \n",
        "for nextDay in range(pastDaysRange, data_train_scaled.size):\n",
        "    pastDays_trainSet.append(data_train_scaled[nextDay-pastDaysRange : nextDay, 0])\n",
        "    label_trainSet.append(data_train_scaled[nextDay, 0])\n",
        "\n",
        "## Convert the set lists to numpy array in order to work with model built in Keras \n",
        "pastDays_trainSet, label_trainSet = np.array(pastDays_trainSet), np.array(label_trainSet) \n",
        "\n",
        "##-Q11: What is function name of Numpy you use to convert a list ot a numpy array?  array\n"
      ]
    },
    {
      "cell_type": "markdown",
      "id": "10675a81",
      "metadata": {
        "id": "10675a81"
      },
      "source": [
        "Check the shape of the extracted record set and label set for traning, according to their data type:"
      ]
    },
    {
      "cell_type": "code",
      "execution_count": null,
      "id": "c594b701",
      "metadata": {
        "colab": {
          "base_uri": "https://localhost:8080/"
        },
        "id": "c594b701",
        "outputId": "a8ecf602-8c09-4ac9-fedd-48dccced66b0"
      },
      "outputs": [
        {
          "output_type": "stream",
          "name": "stdout",
          "text": [
            "Training record set dimension: (2142, 22)\n",
            "Training label set dimension: (2142,)\n"
          ]
        }
      ],
      "source": [
        "## Check the dimensions of the training record set `pastDays_trainSet` and traning label set `nextDay_trainSet`\n",
        "print(\"Training record set dimension:\", pastDays_trainSet.shape)\n",
        "print(\"Training label set dimension:\", label_trainSet.shape)\n",
        "\n",
        "##-Q12: how many records/samples you have generated in the training record set \n",
        "##      to form (together with the label set) a training dataset later? 2134"
      ]
    },
    {
      "cell_type": "markdown",
      "id": "f3d996c0",
      "metadata": {
        "id": "f3d996c0"
      },
      "source": [
        "##### Reshape the dimension of training record set\n",
        "\n",
        "Use a function of Numpy to reshape the training record set to satisfy the model accepted format `[#sample, #timesteps, #feature]` \n",
        "\n",
        "    * we are using only closing stock price as the training feature"
      ]
    },
    {
      "cell_type": "code",
      "execution_count": null,
      "id": "36066a00",
      "metadata": {
        "id": "36066a00"
      },
      "outputs": [],
      "source": [
        "## Reshape `pastDays_trainSet`\n",
        " \n",
        "pastDays_trainSet = np.reshape(pastDays_trainSet, (pastDays_trainSet.shape[0], pastDaysRange, 1))\n",
        "\n",
        "##-Q13: What is the code you write to replace the 1st and 3rd ??? in the above code line? np.reshape(pastDays_trainSet, (pastDays_trainSet.shape[0], pastDaysRange, 1))"
      ]
    },
    {
      "cell_type": "markdown",
      "id": "21f568d7",
      "metadata": {
        "id": "21f568d7"
      },
      "source": [
        "##### Construct the training dataset \n",
        "\n",
        "Create the training dataset `dataset_train` from both the training record set `pastDays_trainSet` and traning label set `nextDay_trainSet`         \n",
        "Then, Shuffle and Batch the `dataset_train` for the model"
      ]
    },
    {
      "cell_type": "code",
      "execution_count": null,
      "id": "23d684bc",
      "metadata": {
        "id": "23d684bc"
      },
      "outputs": [],
      "source": [
        "## Construct a Tensorflow Dataset as training dataset composed by training record set and training label set. \n",
        "dataset_train = tf.data.Dataset.from_tensor_slices((pastDays_trainSet, label_trainSet))  \n",
        "   \n",
        "## Set number of records for the shuffle (you will shuffle all records in the training record set)\n",
        "train_record_count = len(pastDays_trainSet)\n",
        "\n",
        "## Decide a proper value of batch size for your model training \n",
        "train_batch_size = 32  \n",
        "## (hint: decide a value for now, and tune later together with the   learning rate value (in the previous code block) and   epochs value  (in next code block) ) \n",
        "\n",
        "## Randomly shuffle and batch the dataset\n",
        "dataset_train = dataset_train.shuffle(train_record_count).batch(train_batch_size)"
      ]
    },
    {
      "cell_type": "markdown",
      "id": "7e7b4593",
      "metadata": {
        "id": "7e7b4593"
      },
      "source": [
        "   "
      ]
    },
    {
      "cell_type": "markdown",
      "id": "06d78e0f",
      "metadata": {
        "id": "06d78e0f"
      },
      "source": [
        "   "
      ]
    },
    {
      "cell_type": "markdown",
      "id": "10273401",
      "metadata": {
        "id": "10273401"
      },
      "source": [
        "#### Train your model\n",
        "Feed the train dataset to the model and let it  [fit to associate ](https://www.tensorflow.org/api_docs/python/tf/keras/Model)  stock prices of past days and stock price of next day"
      ]
    },
    {
      "cell_type": "code",
      "execution_count": null,
      "id": "3f0d2fa6",
      "metadata": {
        "scrolled": false,
        "colab": {
          "base_uri": "https://localhost:8080/"
        },
        "id": "3f0d2fa6",
        "outputId": "c943f6f1-1dde-424e-cad1-40a5a7dcd5e1"
      },
      "outputs": [
        {
          "output_type": "stream",
          "name": "stdout",
          "text": [
            "Epoch 1/20\n",
            "67/67 [==============================] - 10s 57ms/step - loss: 0.4122\n",
            "Epoch 2/20\n",
            "67/67 [==============================] - 5s 72ms/step - loss: 0.1273\n",
            "Epoch 3/20\n",
            "67/67 [==============================] - 4s 56ms/step - loss: 0.0756\n",
            "Epoch 4/20\n",
            "67/67 [==============================] - 4s 53ms/step - loss: 0.0524\n",
            "Epoch 5/20\n",
            "67/67 [==============================] - 2s 27ms/step - loss: 0.0381\n",
            "Epoch 6/20\n",
            "67/67 [==============================] - 2s 27ms/step - loss: 0.0286\n",
            "Epoch 7/20\n",
            "67/67 [==============================] - 2s 26ms/step - loss: 0.0230\n",
            "Epoch 8/20\n",
            "67/67 [==============================] - 2s 27ms/step - loss: 0.0193\n",
            "Epoch 9/20\n",
            "67/67 [==============================] - 2s 33ms/step - loss: 0.0161\n",
            "Epoch 10/20\n",
            "67/67 [==============================] - 2s 35ms/step - loss: 0.0131\n",
            "Epoch 11/20\n",
            "67/67 [==============================] - 2s 27ms/step - loss: 0.0126\n",
            "Epoch 12/20\n",
            "67/67 [==============================] - 2s 27ms/step - loss: 0.0114\n",
            "Epoch 13/20\n",
            "67/67 [==============================] - 2s 27ms/step - loss: 0.0091\n",
            "Epoch 14/20\n",
            "67/67 [==============================] - 2s 26ms/step - loss: 0.0084\n",
            "Epoch 15/20\n",
            "67/67 [==============================] - 3s 40ms/step - loss: 0.0086\n",
            "Epoch 16/20\n",
            "67/67 [==============================] - 2s 27ms/step - loss: 0.0077\n",
            "Epoch 17/20\n",
            "67/67 [==============================] - 2s 26ms/step - loss: 0.0069\n",
            "Epoch 18/20\n",
            "67/67 [==============================] - 2s 27ms/step - loss: 0.0058\n",
            "Epoch 19/20\n",
            "67/67 [==============================] - 3s 37ms/step - loss: 0.0061\n",
            "Epoch 20/20\n",
            "67/67 [==============================] - 2s 27ms/step - loss: 0.0051\n"
          ]
        },
        {
          "output_type": "execute_result",
          "data": {
            "text/plain": [
              "<keras.callbacks.History at 0x7f259b9b1cc0>"
            ]
          },
          "metadata": {},
          "execution_count": 21
        }
      ],
      "source": [
        "## Decide a proper value of epoch for your model training \n",
        "epochs_count = 20\n",
        "## (hint: guess a proper value for now, and tune later together with the   learning rate value   and   batch size value  (in the later code blocks) ) \n",
        "\n",
        " \n",
        "## Feed in the training dataset to train model\n",
        "model.fit(dataset_train, epochs=epochs_count)\n",
        "## If you encounter error \"Cannot convert a symbolic Tensor to a numpy array.\" at this step when executing your developed code above,\n",
        "##    go to the beginning of this notebook in the Setup Enviroment section to install lower version of Numpy \n",
        "\n",
        "##-Q14: What is the code you write to replace the 2nd and 4th ???s in the above code line? model.fit(dataset_train, epochs=epochs_count)\n",
        " "
      ]
    },
    {
      "cell_type": "markdown",
      "id": "bf3499b5",
      "metadata": {
        "id": "bf3499b5"
      },
      "source": [
        " "
      ]
    },
    {
      "cell_type": "markdown",
      "id": "0addcabb",
      "metadata": {
        "id": "0addcabb"
      },
      "source": [
        "  "
      ]
    },
    {
      "cell_type": "markdown",
      "id": "832515a4",
      "metadata": {
        "id": "832515a4"
      },
      "source": [
        "## Tuning your Model\n",
        "\n",
        "Adjust the values of hyperparameters such as `learning rate`, `batch size`, and `epochs` in your above codes, together with the help of model evaluation on the test dataset in the later procedure, to improve and achieve a training result that has **loss at least less than 0.01**"
      ]
    },
    {
      "cell_type": "markdown",
      "id": "09b2fcb3",
      "metadata": {
        "id": "09b2fcb3"
      },
      "source": [
        "##### Display the architecture of your model "
      ]
    },
    {
      "cell_type": "code",
      "execution_count": null,
      "id": "f99b7808",
      "metadata": {
        "scrolled": false,
        "colab": {
          "base_uri": "https://localhost:8080/"
        },
        "id": "f99b7808",
        "outputId": "d7dea491-8566-46aa-a101-34d011d3038d"
      },
      "outputs": [
        {
          "output_type": "stream",
          "name": "stdout",
          "text": [
            "Model: \"sequential\"\n",
            "_________________________________________________________________\n",
            " Layer (type)                Output Shape              Param #   \n",
            "=================================================================\n",
            " simple_rnn (SimpleRNN)      (None, 22, 80)            6560      \n",
            "                                                                 \n",
            " dropout (Dropout)           (None, 22, 80)            0         \n",
            "                                                                 \n",
            " simple_rnn_1 (SimpleRNN)    (None, 22, 100)           18100     \n",
            "                                                                 \n",
            " dropout_1 (Dropout)         (None, 22, 100)           0         \n",
            "                                                                 \n",
            " simple_rnn_2 (SimpleRNN)    (None, 120)               26520     \n",
            "                                                                 \n",
            " dropout_2 (Dropout)         (None, 120)               0         \n",
            "                                                                 \n",
            " dense (Dense)               (None, 1)                 121       \n",
            "                                                                 \n",
            "=================================================================\n",
            "Total params: 51,301\n",
            "Trainable params: 51,301\n",
            "Non-trainable params: 0\n",
            "_________________________________________________________________\n"
          ]
        }
      ],
      "source": [
        "## You may run a summary description on the architecture of the RNN model you build.\n",
        "model.summary()\n",
        "\n",
        "##-Q15: How many parameters in total have been learned druing your model training : 51301"
      ]
    },
    {
      "cell_type": "markdown",
      "id": "fc58fb83",
      "metadata": {
        "id": "fc58fb83"
      },
      "source": [
        " "
      ]
    },
    {
      "cell_type": "markdown",
      "id": "40874051",
      "metadata": {
        "id": "40874051"
      },
      "source": [
        "## Evaluate/Test the trained model\n",
        "\n",
        "Evaluates your trained model based on the test dataset to see how the model performs, with your different tunning choices, to aim at reaching better performance"
      ]
    },
    {
      "cell_type": "markdown",
      "id": "accc735f",
      "metadata": {
        "id": "accc735f"
      },
      "source": [
        "#### Compose test dataset out of the `data_test`\n",
        "\n",
        "Apply the same data processing procedure (that has been applied in creating the `training dataset`) to generate `test dataset`\n",
        "\n",
        "The procedure would include some following steps:\n",
        "\n",
        "- You will need to **normalize** the test data by the same scaler calculated on the train data     \n",
        "\n",
        "- After then, **extract** test records and test labels from previously splitted test data, to get test record set and test label set           \n",
        "\n",
        "- You will also need to **reshape** the test record set to satisfy the model acceptable dimension, same as which has done for the training record set\n",
        "\n",
        "- Then **generate** the test dataset composed by test record set and test label set.\n",
        "\n",
        "- Have the test dataset **batched** for the model evaluation\n"
      ]
    },
    {
      "cell_type": "code",
      "execution_count": null,
      "id": "95c06076",
      "metadata": {
        "colab": {
          "base_uri": "https://localhost:8080/"
        },
        "id": "95c06076",
        "outputId": "3d839499-1b1a-4d56-f05c-dd96ac69a0e2"
      },
      "outputs": [
        {
          "output_type": "stream",
          "name": "stdout",
          "text": [
            "Number of test samples:  242\n"
          ]
        }
      ],
      "source": [
        "## Apply also the already calculated scaler to normalize the test data \n",
        "data_test_scaled = scaler.transform(data_test)\n",
        "\n",
        "\n",
        "## Create lists to store extracted test record set and test label set.\n",
        "pastDays_testSet = []\n",
        "labels_testSet = []\n",
        "\n",
        "## Loop according to the same schema, to Extract all records/samples from `data_test_scaled` to form a test record set,\n",
        "##   do the same for all corresponding labels to form test label set,\n",
        "##   Each extraction has the same `pastDaysRange` days as one record, and 1 next day as label  \n",
        "\n",
        "for i in range(pastDaysRange, len(data_test_scaled)):\n",
        "    pastDays_testSet.append(data_test_scaled[i-pastDaysRange:i, :])\n",
        "    labels_testSet.append(data_test_scaled[i, 0])\n",
        "\n",
        "\n",
        "## Convert the test record and label set from lists datatype to numpy array in order to work with model built in Keras \n",
        "\n",
        "pastDays_testSet = np.array(pastDays_testSet)\n",
        "labels_testSet = np.array(labels_testSet)\n",
        "\n",
        "##-Q16: how many records/samples you have generated in the test record set `pastDays_testSet`\n",
        "##      to form (together with the label set) a test dataset `pastDays_testSet` later? 234\n",
        "\n",
        "num_test_samples = len(pastDays_testSet)\n",
        "print(\"Number of test samples: \", num_test_samples)\n",
        "\n",
        "\n",
        "## Use a function of Numpy to reshape the test record set to satisfy the model accepted format `[#sample, #timesteps, #feature]` \n",
        "##   we are using only closing stock price as the training feature\n",
        "pastDays_testSet = np.reshape(pastDays_testSet, (pastDays_testSet.shape[0], pastDays_testSet.shape[1], 1))"
      ]
    },
    {
      "cell_type": "code",
      "execution_count": null,
      "id": "ec4c03cd",
      "metadata": {
        "id": "ec4c03cd"
      },
      "outputs": [],
      "source": [
        "## Construct a Tensorflow Dataset as `test dataset` composed by test record set and test label set.  \n",
        "dataset_test = tf.data.Dataset.from_tensor_slices((pastDays_testSet, labels_testSet))\n",
        "\n",
        "## Test dataset does not need shuffle, only need to have all in one batch\n",
        "## Decide a proper value of batch size to have all in one batch \n",
        "test_batch_size = len(labels_testSet) \n",
        "\n",
        "## Batch the test dataset \n",
        "dataset_test = dataset_test.batch(test_batch_size) \n",
        "\n",
        "##-Q17: What is the code you fill in the ???s in the above code line (to fulfill its requirements in the comments)? dataset_test.batch(test_batch_size)\n"
      ]
    },
    {
      "cell_type": "markdown",
      "id": "d2f3c728",
      "metadata": {
        "id": "d2f3c728"
      },
      "source": [
        "##### evaluate your trained model\n",
        "Feed the obtained test dataset to the model and   [evaluate](https://www.tensorflow.org/api_docs/python/tf/keras/Model) your model on the test dataset "
      ]
    },
    {
      "cell_type": "code",
      "execution_count": null,
      "id": "ce608f93",
      "metadata": {
        "scrolled": true,
        "colab": {
          "base_uri": "https://localhost:8080/"
        },
        "id": "ce608f93",
        "outputId": "30e26c8e-130e-4087-f16c-7a645a318dd6"
      },
      "outputs": [
        {
          "output_type": "stream",
          "name": "stdout",
          "text": [
            "1/1 [==============================] - 0s 452ms/step - loss: 0.0179\n"
          ]
        },
        {
          "output_type": "execute_result",
          "data": {
            "text/plain": [
              "0.017931902781128883"
            ]
          },
          "metadata": {},
          "execution_count": 25
        }
      ],
      "source": [
        "## Evaluate model\n",
        "model.evaluate(dataset_test)\n",
        "\n",
        "##-Q18: What is the function name to fill in the second ??? in the above code line? evaluate"
      ]
    },
    {
      "cell_type": "markdown",
      "id": "6e9c5f6f",
      "metadata": {
        "id": "6e9c5f6f"
      },
      "source": [
        "##### Predict stock price on test record data\n",
        "\n",
        "Feed the test record set to the trained model to   [predict](https://www.tensorflow.org/api_docs/python/tf/keras/Model) the stock price in last year (i.e. the 1 year prepared as the test dataset."
      ]
    },
    {
      "cell_type": "code",
      "execution_count": null,
      "id": "143a4002",
      "metadata": {
        "colab": {
          "base_uri": "https://localhost:8080/"
        },
        "id": "143a4002",
        "outputId": "ddbf204c-0cf1-496e-b418-fc55838d9691"
      },
      "outputs": [
        {
          "output_type": "stream",
          "name": "stdout",
          "text": [
            "8/8 [==============================] - 0s 11ms/step\n"
          ]
        }
      ],
      "source": [
        "## Predict on the test record set to compare with the test label set later \n",
        "predicted_stock_prices = model.predict(pastDays_testSet) \n",
        " \n",
        "##-Q19: What is the function name to fill in the second ??? in the above code line? predict\n",
        " "
      ]
    },
    {
      "cell_type": "markdown",
      "id": "3a71d25e",
      "metadata": {
        "id": "3a71d25e"
      },
      "source": [
        "##### inverse-scale the forcasted price\n",
        "\n",
        "Since the predicted prices are all scaled,      \n",
        "to obtain their values in the original scale for comparison with the real last year stock price,      \n",
        "we need to inverse scale them. \n"
      ]
    },
    {
      "cell_type": "code",
      "execution_count": null,
      "id": "ab9b0ff4",
      "metadata": {
        "id": "ab9b0ff4"
      },
      "outputs": [],
      "source": [
        "## Apply the calculated scaler to inverse-scale the predicted price back to the original actual price scale\n",
        "predicted_stock_prices = scaler.inverse_transform(predicted_stock_prices)"
      ]
    },
    {
      "cell_type": "code",
      "execution_count": null,
      "id": "a0a766d0",
      "metadata": {
        "id": "a0a766d0"
      },
      "outputs": [],
      "source": [
        "## Extract the original real stock price from splitted test data and slice to start at the same day of predicted prices\n",
        "real_stock_prices = data_test[pastDaysRange:]\n"
      ]
    },
    {
      "cell_type": "markdown",
      "id": "baa3860d",
      "metadata": {
        "id": "baa3860d"
      },
      "source": [
        "##### Comparative plot \n",
        "Plot the predicted results VS. the real label prices for comparison"
      ]
    },
    {
      "cell_type": "code",
      "execution_count": null,
      "id": "66b8fe02",
      "metadata": {
        "colab": {
          "base_uri": "https://localhost:8080/",
          "height": 472
        },
        "id": "66b8fe02",
        "outputId": "bb067913-1eed-461f-f3ad-c2a2bedaa556"
      },
      "outputs": [
        {
          "output_type": "display_data",
          "data": {
            "text/plain": [
              "<Figure size 640x480 with 1 Axes>"
            ],
            "image/png": "[encoded data removed]"
          },
          "metadata": {}
        }
      ],
      "source": [
        "## Plot the comparative chart\n",
        "plt.plot(real_stock_prices, color='green', label='Real Stock Price')\n",
        "plt.plot(predicted_stock_prices, color='blue', label='Forecasted Stock Price')\n",
        "plt.title('Stock Price Forecasted VS Real on test data')\n",
        "plt.xlabel('Time')\n",
        "plt.ylabel('Stock Price')\n",
        "plt.legend()\n",
        "plt.show()"
      ]
    }
  ],
  "metadata": {
    "kernelspec": {
      "display_name": "Python 3 (ipykernel)",
      "language": "python",
      "name": "python3"
    },
    "language_info": {
      "codemirror_mode": {
        "name": "ipython",
        "version": 3
      },
      "file_extension": ".py",
      "mimetype": "text/x-python",
      "name": "python",
      "nbconvert_exporter": "python",
      "pygments_lexer": "ipython3",
      "version": "3.8.12"
    },
    "colab": {
      "provenance": []
    }
  },
  "nbformat": 4,
  "nbformat_minor": 5
}