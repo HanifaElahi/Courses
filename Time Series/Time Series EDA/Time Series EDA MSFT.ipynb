{
 "cells": [
  {
   "cell_type": "markdown",
   "id": "91dd09ad",
   "metadata": {},
   "source": [
    "## Time Series EDA MSFT"
   ]
  },
  {
   "cell_type": "code",
   "execution_count": 1,
   "id": "5853335d",
   "metadata": {},
   "outputs": [],
   "source": [
    "import warnings\n",
    "warnings.filterwarnings('ignore')"
   ]
  },
  {
   "cell_type": "code",
   "execution_count": 2,
   "id": "70d30d19",
   "metadata": {},
   "outputs": [
    {
     "name": "stdout",
     "output_type": "stream",
     "text": [
      "Requirement already satisfied: pandas-datareader in c:\\users\\dell\\appdata\\local\\programs\\python\\python310\\lib\\site-packages (0.10.0)\n",
      "Requirement already satisfied: lxml in c:\\users\\dell\\appdata\\local\\programs\\python\\python310\\lib\\site-packages (from pandas-datareader) (4.6.4)\n",
      "Requirement already satisfied: requests>=2.19.0 in c:\\users\\dell\\appdata\\local\\programs\\python\\python310\\lib\\site-packages (from pandas-datareader) (2.26.0)\n",
      "Requirement already satisfied: pandas>=0.23 in c:\\users\\dell\\appdata\\local\\programs\\python\\python310\\lib\\site-packages (from pandas-datareader) (1.3.4)\n",
      "Requirement already satisfied: numpy>=1.21.0 in c:\\users\\dell\\appdata\\local\\programs\\python\\python310\\lib\\site-packages (from pandas>=0.23->pandas-datareader) (1.21.4)\n",
      "Requirement already satisfied: python-dateutil>=2.7.3 in c:\\users\\dell\\appdata\\local\\programs\\python\\python310\\lib\\site-packages (from pandas>=0.23->pandas-datareader) (2.8.2)\n",
      "Requirement already satisfied: pytz>=2017.3 in c:\\users\\dell\\appdata\\local\\programs\\python\\python310\\lib\\site-packages (from pandas>=0.23->pandas-datareader) (2021.3)\n",
      "Requirement already satisfied: urllib3<1.27,>=1.21.1 in c:\\users\\dell\\appdata\\local\\programs\\python\\python310\\lib\\site-packages (from requests>=2.19.0->pandas-datareader) (1.26.7)\n",
      "Requirement already satisfied: certifi>=2017.4.17 in c:\\users\\dell\\appdata\\local\\programs\\python\\python310\\lib\\site-packages (from requests>=2.19.0->pandas-datareader) (2021.10.8)\n",
      "Requirement already satisfied: charset-normalizer~=2.0.0 in c:\\users\\dell\\appdata\\local\\programs\\python\\python310\\lib\\site-packages (from requests>=2.19.0->pandas-datareader) (2.0.7)\n",
      "Requirement already satisfied: idna<4,>=2.5 in c:\\users\\dell\\appdata\\local\\programs\\python\\python310\\lib\\site-packages (from requests>=2.19.0->pandas-datareader) (2.10)\n",
      "Requirement already satisfied: six>=1.5 in c:\\users\\dell\\appdata\\local\\programs\\python\\python310\\lib\\site-packages (from python-dateutil>=2.7.3->pandas>=0.23->pandas-datareader) (1.16.0)\n"
     ]
    },
    {
     "name": "stderr",
     "output_type": "stream",
     "text": [
      "WARNING: There was an error checking the latest version of pip.\n"
     ]
    }
   ],
   "source": [
    "## Install Pandas Data Reader\n",
    "## It is a library for financial data\n",
    "!pip install pandas-datareader"
   ]
  },
  {
   "cell_type": "code",
   "execution_count": 3,
   "id": "a9aca849",
   "metadata": {},
   "outputs": [],
   "source": [
    "#Importing libraries and dependencies\n",
    "import pandas as pd\n",
    "from datetime import datetime\n",
    "import pandas_datareader as pdr"
   ]
  },
  {
   "cell_type": "code",
   "execution_count": 4,
   "id": "e044285a",
   "metadata": {},
   "outputs": [],
   "source": [
    "#Fetching Tesla Data from Yahoo\n",
    "df_msft = pdr.get_data_yahoo('MSFT')"
   ]
  },
  {
   "cell_type": "code",
   "execution_count": 6,
   "id": "cd43450a",
   "metadata": {},
   "outputs": [
    {
     "data": {
      "text/html": [
       "<div>\n",
       "<style scoped>\n",
       "    .dataframe tbody tr th:only-of-type {\n",
       "        vertical-align: middle;\n",
       "    }\n",
       "\n",
       "    .dataframe tbody tr th {\n",
       "        vertical-align: top;\n",
       "    }\n",
       "\n",
       "    .dataframe thead th {\n",
       "        text-align: right;\n",
       "    }\n",
       "</style>\n",
       "<table border=\"1\" class=\"dataframe\">\n",
       "  <thead>\n",
       "    <tr style=\"text-align: right;\">\n",
       "      <th></th>\n",
       "      <th>High</th>\n",
       "      <th>Low</th>\n",
       "      <th>Open</th>\n",
       "      <th>Close</th>\n",
       "      <th>Volume</th>\n",
       "      <th>Adj Close</th>\n",
       "    </tr>\n",
       "    <tr>\n",
       "      <th>Date</th>\n",
       "      <th></th>\n",
       "      <th></th>\n",
       "      <th></th>\n",
       "      <th></th>\n",
       "      <th></th>\n",
       "      <th></th>\n",
       "    </tr>\n",
       "  </thead>\n",
       "  <tbody>\n",
       "    <tr>\n",
       "      <th>2022-06-14</th>\n",
       "      <td>245.740005</td>\n",
       "      <td>241.509995</td>\n",
       "      <td>243.860001</td>\n",
       "      <td>244.490005</td>\n",
       "      <td>28651500.0</td>\n",
       "      <td>244.490005</td>\n",
       "    </tr>\n",
       "    <tr>\n",
       "      <th>2022-06-15</th>\n",
       "      <td>255.300003</td>\n",
       "      <td>246.419998</td>\n",
       "      <td>248.309998</td>\n",
       "      <td>251.759995</td>\n",
       "      <td>33111700.0</td>\n",
       "      <td>251.759995</td>\n",
       "    </tr>\n",
       "    <tr>\n",
       "      <th>2022-06-16</th>\n",
       "      <td>247.419998</td>\n",
       "      <td>243.020004</td>\n",
       "      <td>245.979996</td>\n",
       "      <td>244.970001</td>\n",
       "      <td>33169200.0</td>\n",
       "      <td>244.970001</td>\n",
       "    </tr>\n",
       "    <tr>\n",
       "      <th>2022-06-17</th>\n",
       "      <td>250.500000</td>\n",
       "      <td>244.029999</td>\n",
       "      <td>244.699997</td>\n",
       "      <td>247.649994</td>\n",
       "      <td>42800400.0</td>\n",
       "      <td>247.649994</td>\n",
       "    </tr>\n",
       "    <tr>\n",
       "      <th>2022-06-21</th>\n",
       "      <td>254.750000</td>\n",
       "      <td>249.509995</td>\n",
       "      <td>250.259995</td>\n",
       "      <td>253.740005</td>\n",
       "      <td>29913000.0</td>\n",
       "      <td>253.740005</td>\n",
       "    </tr>\n",
       "  </tbody>\n",
       "</table>\n",
       "</div>"
      ],
      "text/plain": [
       "                  High         Low        Open       Close      Volume  \\\n",
       "Date                                                                     \n",
       "2022-06-14  245.740005  241.509995  243.860001  244.490005  28651500.0   \n",
       "2022-06-15  255.300003  246.419998  248.309998  251.759995  33111700.0   \n",
       "2022-06-16  247.419998  243.020004  245.979996  244.970001  33169200.0   \n",
       "2022-06-17  250.500000  244.029999  244.699997  247.649994  42800400.0   \n",
       "2022-06-21  254.750000  249.509995  250.259995  253.740005  29913000.0   \n",
       "\n",
       "             Adj Close  \n",
       "Date                    \n",
       "2022-06-14  244.490005  \n",
       "2022-06-15  251.759995  \n",
       "2022-06-16  244.970001  \n",
       "2022-06-17  247.649994  \n",
       "2022-06-21  253.740005  "
      ]
     },
     "execution_count": 6,
     "metadata": {},
     "output_type": "execute_result"
    }
   ],
   "source": [
    "#Printing last 5 rows\n",
    "df_msft.tail()"
   ]
  },
  {
   "cell_type": "code",
   "execution_count": 7,
   "id": "167f6412",
   "metadata": {},
   "outputs": [
    {
     "data": {
      "text/plain": [
       "<AxesSubplot:xlabel='Date'>"
      ]
     },
     "execution_count": 7,
     "metadata": {},
     "output_type": "execute_result"
    },
    {
     "data": {
      "image/png": "[encoded data removed]",
      "text/plain": [
       "<Figure size 432x288 with 1 Axes>"
      ]
     },
     "metadata": {
      "needs_background": "light"
     },
     "output_type": "display_data"
    }
   ],
   "source": [
    "df_msft.drop(['Volume'],axis=1).plot()"
   ]
  },
  {
   "cell_type": "code",
   "execution_count": 8,
   "id": "42b2ed0e",
   "metadata": {},
   "outputs": [
    {
     "data": {
      "text/plain": [
       "<AxesSubplot:xlabel='Date'>"
      ]
     },
     "execution_count": 8,
     "metadata": {},
     "output_type": "execute_result"
    },
    {
     "data": {
      "image/png": "[encoded data removed]",
      "text/plain": [
       "<Figure size 864x288 with 1 Axes>"
      ]
     },
     "metadata": {
      "needs_background": "light"
     },
     "output_type": "display_data"
    }
   ],
   "source": [
    "#Plotting High column\n",
    "df_msft['High'].plot(figsize=(12,4))"
   ]
  },
  {
   "cell_type": "code",
   "execution_count": 9,
   "id": "2564b531",
   "metadata": {},
   "outputs": [
    {
     "data": {
      "text/plain": [
       "<AxesSubplot:xlabel='Date'>"
      ]
     },
     "execution_count": 9,
     "metadata": {},
     "output_type": "execute_result"
    },
    {
     "data": {
      "image/png": "[encoded data removed]",
      "text/plain": [
       "<Figure size 864x288 with 1 Axes>"
      ]
     },
     "metadata": {
      "needs_background": "light"
     },
     "output_type": "display_data"
    }
   ],
   "source": [
    "## x limit and y limit\n",
    "df_msft['High'].plot(xlim=['2020-01-01','2022-05-27'],figsize=(12,4))"
   ]
  },
  {
   "cell_type": "code",
   "execution_count": 10,
   "id": "8a927152",
   "metadata": {},
   "outputs": [
    {
     "data": {
      "text/plain": [
       "<AxesSubplot:xlabel='Date'>"
      ]
     },
     "execution_count": 10,
     "metadata": {},
     "output_type": "execute_result"
    },
    {
     "data": {
      "image/png": "[encoded data removed]",
      "text/plain": [
       "<Figure size 864x288 with 1 Axes>"
      ]
     },
     "metadata": {
      "needs_background": "light"
     },
     "output_type": "display_data"
    }
   ],
   "source": [
    "## x limit and y limit\n",
    "df_msft['High'].plot(xlim=['2020-01-01','2022-05-27'],ylim=[0,900],figsize=(12,4))"
   ]
  },
  {
   "cell_type": "code",
   "execution_count": 12,
   "id": "a1c26cc4",
   "metadata": {},
   "outputs": [
    {
     "data": {
      "text/plain": [
       "<AxesSubplot:xlabel='Date'>"
      ]
     },
     "execution_count": 12,
     "metadata": {},
     "output_type": "execute_result"
    },
    {
     "data": {
      "image/png": "[encoded data removed]",
      "text/plain": [
       "<Figure size 864x288 with 1 Axes>"
      ]
     },
     "metadata": {
      "needs_background": "light"
     },
     "output_type": "display_data"
    }
   ],
   "source": [
    "## x limit and y limit and coloring\n",
    "df_msft['High'].plot(xlim=['2020-01-01','2022-05-27'],figsize=(12,4),ls='--',c='green')"
   ]
  },
  {
   "cell_type": "code",
   "execution_count": 13,
   "id": "f5abbe0e",
   "metadata": {},
   "outputs": [
    {
     "data": {
      "text/plain": [
       "DatetimeIndex(['2017-06-22', '2017-06-23', '2017-06-26', '2017-06-27',\n",
       "               '2017-06-28', '2017-06-29', '2017-06-30', '2017-07-03',\n",
       "               '2017-07-05', '2017-07-06',\n",
       "               ...\n",
       "               '2022-06-07', '2022-06-08', '2022-06-09', '2022-06-10',\n",
       "               '2022-06-13', '2022-06-14', '2022-06-15', '2022-06-16',\n",
       "               '2022-06-17', '2022-06-21'],\n",
       "              dtype='datetime64[ns]', name='Date', length=1258, freq=None)"
      ]
     },
     "execution_count": 13,
     "metadata": {},
     "output_type": "execute_result"
    }
   ],
   "source": [
    "df_msft.index"
   ]
  },
  {
   "cell_type": "code",
   "execution_count": 14,
   "id": "7214bae7",
   "metadata": {},
   "outputs": [],
   "source": [
    "index = df_msft.loc['2017-01-01':'2022-05-27'].index\n",
    "share_open = df_msft.loc['2017-01-01':'2022-05-27']['Open']"
   ]
  },
  {
   "cell_type": "code",
   "execution_count": 15,
   "id": "7d29fec6",
   "metadata": {},
   "outputs": [
    {
     "data": {
      "text/plain": [
       "Date\n",
       "2017-06-22     70.540001\n",
       "2017-06-23     70.089996\n",
       "2017-06-26     71.400002\n",
       "2017-06-27     70.110001\n",
       "2017-06-28     69.209999\n",
       "                 ...    \n",
       "2022-05-23    255.490005\n",
       "2022-05-24    257.890015\n",
       "2022-05-25    258.140015\n",
       "2022-05-26    262.269989\n",
       "2022-05-27    268.480011\n",
       "Name: Open, Length: 1243, dtype: float64"
      ]
     },
     "execution_count": 15,
     "metadata": {},
     "output_type": "execute_result"
    }
   ],
   "source": [
    "share_open"
   ]
  },
  {
   "cell_type": "code",
   "execution_count": 16,
   "id": "a4c4cabb",
   "metadata": {},
   "outputs": [
    {
     "data": {
      "text/plain": [
       "DatetimeIndex(['2017-06-22', '2017-06-23', '2017-06-26', '2017-06-27',\n",
       "               '2017-06-28', '2017-06-29', '2017-06-30', '2017-07-03',\n",
       "               '2017-07-05', '2017-07-06',\n",
       "               ...\n",
       "               '2022-05-16', '2022-05-17', '2022-05-18', '2022-05-19',\n",
       "               '2022-05-20', '2022-05-23', '2022-05-24', '2022-05-25',\n",
       "               '2022-05-26', '2022-05-27'],\n",
       "              dtype='datetime64[ns]', name='Date', length=1243, freq=None)"
      ]
     },
     "execution_count": 16,
     "metadata": {},
     "output_type": "execute_result"
    }
   ],
   "source": [
    "index"
   ]
  },
  {
   "cell_type": "code",
   "execution_count": 20,
   "id": "dea1b66c",
   "metadata": {},
   "outputs": [],
   "source": [
    "import matplotlib.pyplot as plt\n",
    "%matplotlib inline"
   ]
  },
  {
   "cell_type": "code",
   "execution_count": 21,
   "id": "5da74d25",
   "metadata": {},
   "outputs": [
    {
     "data": {
      "text/plain": [
       "[<matplotlib.lines.Line2D at 0x2c5bebcad70>]"
      ]
     },
     "execution_count": 21,
     "metadata": {},
     "output_type": "execute_result"
    },
    {
     "data": {
      "image/png": "[encoded data removed]",
      "text/plain": [
       "<Figure size 432x288 with 1 Axes>"
      ]
     },
     "metadata": {
      "needs_background": "light"
     },
     "output_type": "display_data"
    }
   ],
   "source": [
    "figure,axis = plt.subplots()\n",
    "plt.tight_layout()\n",
    "## Preventing overlapping\n",
    "figure.autofmt_xdate()\n",
    "axis.plot(index,share_open)"
   ]
  },
  {
   "cell_type": "code",
   "execution_count": 22,
   "id": "83149bd0",
   "metadata": {},
   "outputs": [],
   "source": [
    "## Datetime Index"
   ]
  },
  {
   "cell_type": "code",
   "execution_count": 23,
   "id": "8350ca58",
   "metadata": {},
   "outputs": [],
   "source": [
    "df_msft = df_msft.reset_index()"
   ]
  },
  {
   "cell_type": "code",
   "execution_count": 24,
   "id": "6746d682",
   "metadata": {},
   "outputs": [
    {
     "name": "stdout",
     "output_type": "stream",
     "text": [
      "<class 'pandas.core.frame.DataFrame'>\n",
      "RangeIndex: 1258 entries, 0 to 1257\n",
      "Data columns (total 7 columns):\n",
      " #   Column     Non-Null Count  Dtype         \n",
      "---  ------     --------------  -----         \n",
      " 0   Date       1258 non-null   datetime64[ns]\n",
      " 1   High       1258 non-null   float64       \n",
      " 2   Low        1258 non-null   float64       \n",
      " 3   Open       1258 non-null   float64       \n",
      " 4   Close      1258 non-null   float64       \n",
      " 5   Volume     1258 non-null   float64       \n",
      " 6   Adj Close  1258 non-null   float64       \n",
      "dtypes: datetime64[ns](1), float64(6)\n",
      "memory usage: 68.9 KB\n"
     ]
    }
   ],
   "source": [
    "df_msft.info()"
   ]
  },
  {
   "cell_type": "code",
   "execution_count": 25,
   "id": "c02904f4",
   "metadata": {},
   "outputs": [
    {
     "data": {
      "text/html": [
       "<div>\n",
       "<style scoped>\n",
       "    .dataframe tbody tr th:only-of-type {\n",
       "        vertical-align: middle;\n",
       "    }\n",
       "\n",
       "    .dataframe tbody tr th {\n",
       "        vertical-align: top;\n",
       "    }\n",
       "\n",
       "    .dataframe thead th {\n",
       "        text-align: right;\n",
       "    }\n",
       "</style>\n",
       "<table border=\"1\" class=\"dataframe\">\n",
       "  <thead>\n",
       "    <tr style=\"text-align: right;\">\n",
       "      <th></th>\n",
       "      <th>Date</th>\n",
       "      <th>High</th>\n",
       "      <th>Low</th>\n",
       "      <th>Open</th>\n",
       "      <th>Close</th>\n",
       "      <th>Volume</th>\n",
       "      <th>Adj Close</th>\n",
       "    </tr>\n",
       "  </thead>\n",
       "  <tbody>\n",
       "    <tr>\n",
       "      <th>0</th>\n",
       "      <td>2017-06-22</td>\n",
       "      <td>70.589996</td>\n",
       "      <td>69.709999</td>\n",
       "      <td>70.540001</td>\n",
       "      <td>70.260002</td>\n",
       "      <td>22965700.0</td>\n",
       "      <td>65.809296</td>\n",
       "    </tr>\n",
       "    <tr>\n",
       "      <th>1</th>\n",
       "      <td>2017-06-23</td>\n",
       "      <td>71.250000</td>\n",
       "      <td>69.919998</td>\n",
       "      <td>70.089996</td>\n",
       "      <td>71.209999</td>\n",
       "      <td>27617300.0</td>\n",
       "      <td>66.699104</td>\n",
       "    </tr>\n",
       "    <tr>\n",
       "      <th>2</th>\n",
       "      <td>2017-06-26</td>\n",
       "      <td>71.709999</td>\n",
       "      <td>70.440002</td>\n",
       "      <td>71.400002</td>\n",
       "      <td>70.529999</td>\n",
       "      <td>19607000.0</td>\n",
       "      <td>66.062210</td>\n",
       "    </tr>\n",
       "    <tr>\n",
       "      <th>3</th>\n",
       "      <td>2017-06-27</td>\n",
       "      <td>70.180000</td>\n",
       "      <td>69.180000</td>\n",
       "      <td>70.110001</td>\n",
       "      <td>69.209999</td>\n",
       "      <td>25215100.0</td>\n",
       "      <td>64.825829</td>\n",
       "    </tr>\n",
       "    <tr>\n",
       "      <th>4</th>\n",
       "      <td>2017-06-28</td>\n",
       "      <td>69.839996</td>\n",
       "      <td>68.790001</td>\n",
       "      <td>69.209999</td>\n",
       "      <td>69.800003</td>\n",
       "      <td>25806200.0</td>\n",
       "      <td>65.378426</td>\n",
       "    </tr>\n",
       "    <tr>\n",
       "      <th>...</th>\n",
       "      <td>...</td>\n",
       "      <td>...</td>\n",
       "      <td>...</td>\n",
       "      <td>...</td>\n",
       "      <td>...</td>\n",
       "      <td>...</td>\n",
       "      <td>...</td>\n",
       "    </tr>\n",
       "    <tr>\n",
       "      <th>1253</th>\n",
       "      <td>2022-06-14</td>\n",
       "      <td>245.740005</td>\n",
       "      <td>241.509995</td>\n",
       "      <td>243.860001</td>\n",
       "      <td>244.490005</td>\n",
       "      <td>28651500.0</td>\n",
       "      <td>244.490005</td>\n",
       "    </tr>\n",
       "    <tr>\n",
       "      <th>1254</th>\n",
       "      <td>2022-06-15</td>\n",
       "      <td>255.300003</td>\n",
       "      <td>246.419998</td>\n",
       "      <td>248.309998</td>\n",
       "      <td>251.759995</td>\n",
       "      <td>33111700.0</td>\n",
       "      <td>251.759995</td>\n",
       "    </tr>\n",
       "    <tr>\n",
       "      <th>1255</th>\n",
       "      <td>2022-06-16</td>\n",
       "      <td>247.419998</td>\n",
       "      <td>243.020004</td>\n",
       "      <td>245.979996</td>\n",
       "      <td>244.970001</td>\n",
       "      <td>33169200.0</td>\n",
       "      <td>244.970001</td>\n",
       "    </tr>\n",
       "    <tr>\n",
       "      <th>1256</th>\n",
       "      <td>2022-06-17</td>\n",
       "      <td>250.500000</td>\n",
       "      <td>244.029999</td>\n",
       "      <td>244.699997</td>\n",
       "      <td>247.649994</td>\n",
       "      <td>42800400.0</td>\n",
       "      <td>247.649994</td>\n",
       "    </tr>\n",
       "    <tr>\n",
       "      <th>1257</th>\n",
       "      <td>2022-06-21</td>\n",
       "      <td>254.750000</td>\n",
       "      <td>249.509995</td>\n",
       "      <td>250.259995</td>\n",
       "      <td>253.740005</td>\n",
       "      <td>29913000.0</td>\n",
       "      <td>253.740005</td>\n",
       "    </tr>\n",
       "  </tbody>\n",
       "</table>\n",
       "<p>1258 rows × 7 columns</p>\n",
       "</div>"
      ],
      "text/plain": [
       "           Date        High         Low        Open       Close      Volume  \\\n",
       "0    2017-06-22   70.589996   69.709999   70.540001   70.260002  22965700.0   \n",
       "1    2017-06-23   71.250000   69.919998   70.089996   71.209999  27617300.0   \n",
       "2    2017-06-26   71.709999   70.440002   71.400002   70.529999  19607000.0   \n",
       "3    2017-06-27   70.180000   69.180000   70.110001   69.209999  25215100.0   \n",
       "4    2017-06-28   69.839996   68.790001   69.209999   69.800003  25806200.0   \n",
       "...         ...         ...         ...         ...         ...         ...   \n",
       "1253 2022-06-14  245.740005  241.509995  243.860001  244.490005  28651500.0   \n",
       "1254 2022-06-15  255.300003  246.419998  248.309998  251.759995  33111700.0   \n",
       "1255 2022-06-16  247.419998  243.020004  245.979996  244.970001  33169200.0   \n",
       "1256 2022-06-17  250.500000  244.029999  244.699997  247.649994  42800400.0   \n",
       "1257 2022-06-21  254.750000  249.509995  250.259995  253.740005  29913000.0   \n",
       "\n",
       "       Adj Close  \n",
       "0      65.809296  \n",
       "1      66.699104  \n",
       "2      66.062210  \n",
       "3      64.825829  \n",
       "4      65.378426  \n",
       "...          ...  \n",
       "1253  244.490005  \n",
       "1254  251.759995  \n",
       "1255  244.970001  \n",
       "1256  247.649994  \n",
       "1257  253.740005  \n",
       "\n",
       "[1258 rows x 7 columns]"
      ]
     },
     "execution_count": 25,
     "metadata": {},
     "output_type": "execute_result"
    }
   ],
   "source": [
    "df_msft"
   ]
  },
  {
   "cell_type": "code",
   "execution_count": 26,
   "id": "31c87e86",
   "metadata": {},
   "outputs": [],
   "source": [
    "df_msft = df_msft.set_index('Date',drop=True)"
   ]
  },
  {
   "cell_type": "code",
   "execution_count": 27,
   "id": "7423d545",
   "metadata": {},
   "outputs": [
    {
     "data": {
      "text/html": [
       "<div>\n",
       "<style scoped>\n",
       "    .dataframe tbody tr th:only-of-type {\n",
       "        vertical-align: middle;\n",
       "    }\n",
       "\n",
       "    .dataframe tbody tr th {\n",
       "        vertical-align: top;\n",
       "    }\n",
       "\n",
       "    .dataframe thead th {\n",
       "        text-align: right;\n",
       "    }\n",
       "</style>\n",
       "<table border=\"1\" class=\"dataframe\">\n",
       "  <thead>\n",
       "    <tr style=\"text-align: right;\">\n",
       "      <th></th>\n",
       "      <th>High</th>\n",
       "      <th>Low</th>\n",
       "      <th>Open</th>\n",
       "      <th>Close</th>\n",
       "      <th>Volume</th>\n",
       "      <th>Adj Close</th>\n",
       "    </tr>\n",
       "    <tr>\n",
       "      <th>Date</th>\n",
       "      <th></th>\n",
       "      <th></th>\n",
       "      <th></th>\n",
       "      <th></th>\n",
       "      <th></th>\n",
       "      <th></th>\n",
       "    </tr>\n",
       "  </thead>\n",
       "  <tbody>\n",
       "    <tr>\n",
       "      <th>2017-06-22</th>\n",
       "      <td>70.589996</td>\n",
       "      <td>69.709999</td>\n",
       "      <td>70.540001</td>\n",
       "      <td>70.260002</td>\n",
       "      <td>22965700.0</td>\n",
       "      <td>65.809296</td>\n",
       "    </tr>\n",
       "    <tr>\n",
       "      <th>2017-06-23</th>\n",
       "      <td>71.250000</td>\n",
       "      <td>69.919998</td>\n",
       "      <td>70.089996</td>\n",
       "      <td>71.209999</td>\n",
       "      <td>27617300.0</td>\n",
       "      <td>66.699104</td>\n",
       "    </tr>\n",
       "    <tr>\n",
       "      <th>2017-06-26</th>\n",
       "      <td>71.709999</td>\n",
       "      <td>70.440002</td>\n",
       "      <td>71.400002</td>\n",
       "      <td>70.529999</td>\n",
       "      <td>19607000.0</td>\n",
       "      <td>66.062210</td>\n",
       "    </tr>\n",
       "    <tr>\n",
       "      <th>2017-06-27</th>\n",
       "      <td>70.180000</td>\n",
       "      <td>69.180000</td>\n",
       "      <td>70.110001</td>\n",
       "      <td>69.209999</td>\n",
       "      <td>25215100.0</td>\n",
       "      <td>64.825829</td>\n",
       "    </tr>\n",
       "    <tr>\n",
       "      <th>2017-06-28</th>\n",
       "      <td>69.839996</td>\n",
       "      <td>68.790001</td>\n",
       "      <td>69.209999</td>\n",
       "      <td>69.800003</td>\n",
       "      <td>25806200.0</td>\n",
       "      <td>65.378426</td>\n",
       "    </tr>\n",
       "  </tbody>\n",
       "</table>\n",
       "</div>"
      ],
      "text/plain": [
       "                 High        Low       Open      Close      Volume  Adj Close\n",
       "Date                                                                         \n",
       "2017-06-22  70.589996  69.709999  70.540001  70.260002  22965700.0  65.809296\n",
       "2017-06-23  71.250000  69.919998  70.089996  71.209999  27617300.0  66.699104\n",
       "2017-06-26  71.709999  70.440002  71.400002  70.529999  19607000.0  66.062210\n",
       "2017-06-27  70.180000  69.180000  70.110001  69.209999  25215100.0  64.825829\n",
       "2017-06-28  69.839996  68.790001  69.209999  69.800003  25806200.0  65.378426"
      ]
     },
     "execution_count": 27,
     "metadata": {},
     "output_type": "execute_result"
    }
   ],
   "source": [
    "df_msft.head()"
   ]
  },
  {
   "cell_type": "code",
   "execution_count": 28,
   "id": "ed080582",
   "metadata": {},
   "outputs": [],
   "source": [
    "## datetime\n",
    "from datetime import datetime"
   ]
  },
  {
   "cell_type": "code",
   "execution_count": 29,
   "id": "8bdca59d",
   "metadata": {},
   "outputs": [
    {
     "data": {
      "text/plain": [
       "datetime.datetime(2022, 5, 1, 0, 0)"
      ]
     },
     "execution_count": 29,
     "metadata": {},
     "output_type": "execute_result"
    }
   ],
   "source": [
    "datetime(2022,5,1)"
   ]
  },
  {
   "cell_type": "code",
   "execution_count": 30,
   "id": "1f93e9a3",
   "metadata": {},
   "outputs": [
    {
     "data": {
      "text/plain": [
       "datetime.datetime(2022, 6, 22, 13, 39, 39, 430452)"
      ]
     },
     "execution_count": 30,
     "metadata": {},
     "output_type": "execute_result"
    }
   ],
   "source": [
    "datetime.now()"
   ]
  },
  {
   "cell_type": "code",
   "execution_count": 31,
   "id": "5069c363",
   "metadata": {},
   "outputs": [],
   "source": [
    "date = datetime(2022,5,1)"
   ]
  },
  {
   "cell_type": "code",
   "execution_count": 32,
   "id": "141a0f6c",
   "metadata": {},
   "outputs": [
    {
     "data": {
      "text/plain": [
       "datetime.datetime(2022, 5, 1, 0, 0)"
      ]
     },
     "execution_count": 32,
     "metadata": {},
     "output_type": "execute_result"
    }
   ],
   "source": [
    "date"
   ]
  },
  {
   "cell_type": "code",
   "execution_count": 33,
   "id": "10c90eef",
   "metadata": {},
   "outputs": [
    {
     "data": {
      "text/plain": [
       "datetime.date(2022, 5, 1)"
      ]
     },
     "execution_count": 33,
     "metadata": {},
     "output_type": "execute_result"
    }
   ],
   "source": [
    "date.date()"
   ]
  },
  {
   "cell_type": "code",
   "execution_count": 34,
   "id": "8d5c191c",
   "metadata": {},
   "outputs": [
    {
     "data": {
      "text/plain": [
       "1"
      ]
     },
     "execution_count": 34,
     "metadata": {},
     "output_type": "execute_result"
    }
   ],
   "source": [
    "date.day"
   ]
  },
  {
   "cell_type": "code",
   "execution_count": 35,
   "id": "bff30466",
   "metadata": {},
   "outputs": [
    {
     "data": {
      "text/plain": [
       "6"
      ]
     },
     "execution_count": 35,
     "metadata": {},
     "output_type": "execute_result"
    }
   ],
   "source": [
    "date.weekday()"
   ]
  },
  {
   "cell_type": "code",
   "execution_count": 36,
   "id": "602b8aea",
   "metadata": {},
   "outputs": [
    {
     "data": {
      "text/plain": [
       "2022"
      ]
     },
     "execution_count": 36,
     "metadata": {},
     "output_type": "execute_result"
    }
   ],
   "source": [
    "date.year"
   ]
  },
  {
   "cell_type": "code",
   "execution_count": 37,
   "id": "020b199c",
   "metadata": {},
   "outputs": [
    {
     "data": {
      "text/plain": [
       "5"
      ]
     },
     "execution_count": 37,
     "metadata": {},
     "output_type": "execute_result"
    }
   ],
   "source": [
    "date.month"
   ]
  },
  {
   "cell_type": "markdown",
   "id": "4bec9dbb",
   "metadata": {},
   "source": [
    "## Time Resampling"
   ]
  },
  {
   "cell_type": "code",
   "execution_count": 38,
   "id": "a1dc9a47",
   "metadata": {},
   "outputs": [
    {
     "data": {
      "text/html": [
       "<div>\n",
       "<style scoped>\n",
       "    .dataframe tbody tr th:only-of-type {\n",
       "        vertical-align: middle;\n",
       "    }\n",
       "\n",
       "    .dataframe tbody tr th {\n",
       "        vertical-align: top;\n",
       "    }\n",
       "\n",
       "    .dataframe thead th {\n",
       "        text-align: right;\n",
       "    }\n",
       "</style>\n",
       "<table border=\"1\" class=\"dataframe\">\n",
       "  <thead>\n",
       "    <tr style=\"text-align: right;\">\n",
       "      <th></th>\n",
       "      <th>High</th>\n",
       "      <th>Low</th>\n",
       "      <th>Open</th>\n",
       "      <th>Close</th>\n",
       "      <th>Volume</th>\n",
       "      <th>Adj Close</th>\n",
       "    </tr>\n",
       "    <tr>\n",
       "      <th>Date</th>\n",
       "      <th></th>\n",
       "      <th></th>\n",
       "      <th></th>\n",
       "      <th></th>\n",
       "      <th></th>\n",
       "      <th></th>\n",
       "    </tr>\n",
       "  </thead>\n",
       "  <tbody>\n",
       "    <tr>\n",
       "      <th>2017-06-22</th>\n",
       "      <td>70.589996</td>\n",
       "      <td>69.709999</td>\n",
       "      <td>70.540001</td>\n",
       "      <td>70.260002</td>\n",
       "      <td>22965700.0</td>\n",
       "      <td>65.809296</td>\n",
       "    </tr>\n",
       "    <tr>\n",
       "      <th>2017-06-23</th>\n",
       "      <td>71.250000</td>\n",
       "      <td>69.919998</td>\n",
       "      <td>70.089996</td>\n",
       "      <td>71.209999</td>\n",
       "      <td>27617300.0</td>\n",
       "      <td>66.699104</td>\n",
       "    </tr>\n",
       "    <tr>\n",
       "      <th>2017-06-26</th>\n",
       "      <td>71.709999</td>\n",
       "      <td>70.440002</td>\n",
       "      <td>71.400002</td>\n",
       "      <td>70.529999</td>\n",
       "      <td>19607000.0</td>\n",
       "      <td>66.062210</td>\n",
       "    </tr>\n",
       "    <tr>\n",
       "      <th>2017-06-27</th>\n",
       "      <td>70.180000</td>\n",
       "      <td>69.180000</td>\n",
       "      <td>70.110001</td>\n",
       "      <td>69.209999</td>\n",
       "      <td>25215100.0</td>\n",
       "      <td>64.825829</td>\n",
       "    </tr>\n",
       "    <tr>\n",
       "      <th>2017-06-28</th>\n",
       "      <td>69.839996</td>\n",
       "      <td>68.790001</td>\n",
       "      <td>69.209999</td>\n",
       "      <td>69.800003</td>\n",
       "      <td>25806200.0</td>\n",
       "      <td>65.378426</td>\n",
       "    </tr>\n",
       "  </tbody>\n",
       "</table>\n",
       "</div>"
      ],
      "text/plain": [
       "                 High        Low       Open      Close      Volume  Adj Close\n",
       "Date                                                                         \n",
       "2017-06-22  70.589996  69.709999  70.540001  70.260002  22965700.0  65.809296\n",
       "2017-06-23  71.250000  69.919998  70.089996  71.209999  27617300.0  66.699104\n",
       "2017-06-26  71.709999  70.440002  71.400002  70.529999  19607000.0  66.062210\n",
       "2017-06-27  70.180000  69.180000  70.110001  69.209999  25215100.0  64.825829\n",
       "2017-06-28  69.839996  68.790001  69.209999  69.800003  25806200.0  65.378426"
      ]
     },
     "execution_count": 38,
     "metadata": {},
     "output_type": "execute_result"
    }
   ],
   "source": [
    "df_msft.head()"
   ]
  },
  {
   "cell_type": "code",
   "execution_count": 44,
   "id": "3a52fae8",
   "metadata": {},
   "outputs": [
    {
     "data": {
      "text/html": [
       "<div>\n",
       "<style scoped>\n",
       "    .dataframe tbody tr th:only-of-type {\n",
       "        vertical-align: middle;\n",
       "    }\n",
       "\n",
       "    .dataframe tbody tr th {\n",
       "        vertical-align: top;\n",
       "    }\n",
       "\n",
       "    .dataframe thead th {\n",
       "        text-align: right;\n",
       "    }\n",
       "</style>\n",
       "<table border=\"1\" class=\"dataframe\">\n",
       "  <thead>\n",
       "    <tr style=\"text-align: right;\">\n",
       "      <th></th>\n",
       "      <th>High</th>\n",
       "      <th>Low</th>\n",
       "      <th>Open</th>\n",
       "      <th>Close</th>\n",
       "      <th>Volume</th>\n",
       "      <th>Adj Close</th>\n",
       "    </tr>\n",
       "    <tr>\n",
       "      <th>Date</th>\n",
       "      <th></th>\n",
       "      <th></th>\n",
       "      <th></th>\n",
       "      <th></th>\n",
       "      <th></th>\n",
       "      <th></th>\n",
       "    </tr>\n",
       "  </thead>\n",
       "  <tbody>\n",
       "    <tr>\n",
       "      <th>2017-12-31</th>\n",
       "      <td>68.779999</td>\n",
       "      <td>68.019997</td>\n",
       "      <td>68.260002</td>\n",
       "      <td>68.169998</td>\n",
       "      <td>7425600.0</td>\n",
       "      <td>63.851685</td>\n",
       "    </tr>\n",
       "    <tr>\n",
       "      <th>2018-12-31</th>\n",
       "      <td>86.309998</td>\n",
       "      <td>83.830002</td>\n",
       "      <td>86.059998</td>\n",
       "      <td>85.010002</td>\n",
       "      <td>13677200.0</td>\n",
       "      <td>80.451202</td>\n",
       "    </tr>\n",
       "    <tr>\n",
       "      <th>2019-12-31</th>\n",
       "      <td>100.190002</td>\n",
       "      <td>97.199997</td>\n",
       "      <td>99.550003</td>\n",
       "      <td>97.400002</td>\n",
       "      <td>8989200.0</td>\n",
       "      <td>93.772453</td>\n",
       "    </tr>\n",
       "    <tr>\n",
       "      <th>2020-12-31</th>\n",
       "      <td>140.570007</td>\n",
       "      <td>132.520004</td>\n",
       "      <td>137.009995</td>\n",
       "      <td>135.419998</td>\n",
       "      <td>10550600.0</td>\n",
       "      <td>132.665543</td>\n",
       "    </tr>\n",
       "    <tr>\n",
       "      <th>2021-12-31</th>\n",
       "      <td>214.509995</td>\n",
       "      <td>211.940002</td>\n",
       "      <td>212.169998</td>\n",
       "      <td>212.250000</td>\n",
       "      <td>13900200.0</td>\n",
       "      <td>209.563232</td>\n",
       "    </tr>\n",
       "    <tr>\n",
       "      <th>2022-12-31</th>\n",
       "      <td>245.740005</td>\n",
       "      <td>241.509995</td>\n",
       "      <td>243.860001</td>\n",
       "      <td>242.259995</td>\n",
       "      <td>17372300.0</td>\n",
       "      <td>242.259995</td>\n",
       "    </tr>\n",
       "  </tbody>\n",
       "</table>\n",
       "</div>"
      ],
      "text/plain": [
       "                  High         Low        Open       Close      Volume  \\\n",
       "Date                                                                     \n",
       "2017-12-31   68.779999   68.019997   68.260002   68.169998   7425600.0   \n",
       "2018-12-31   86.309998   83.830002   86.059998   85.010002  13677200.0   \n",
       "2019-12-31  100.190002   97.199997   99.550003   97.400002   8989200.0   \n",
       "2020-12-31  140.570007  132.520004  137.009995  135.419998  10550600.0   \n",
       "2021-12-31  214.509995  211.940002  212.169998  212.250000  13900200.0   \n",
       "2022-12-31  245.740005  241.509995  243.860001  242.259995  17372300.0   \n",
       "\n",
       "             Adj Close  \n",
       "Date                    \n",
       "2017-12-31   63.851685  \n",
       "2018-12-31   80.451202  \n",
       "2019-12-31   93.772453  \n",
       "2020-12-31  132.665543  \n",
       "2021-12-31  209.563232  \n",
       "2022-12-31  242.259995  "
      ]
     },
     "execution_count": 44,
     "metadata": {},
     "output_type": "execute_result"
    }
   ],
   "source": [
    "df_msft.resample(rule='A').min()"
   ]
  },
  {
   "cell_type": "code",
   "execution_count": 45,
   "id": "f6171bda",
   "metadata": {},
   "outputs": [
    {
     "data": {
      "text/html": [
       "<div>\n",
       "<style scoped>\n",
       "    .dataframe tbody tr th:only-of-type {\n",
       "        vertical-align: middle;\n",
       "    }\n",
       "\n",
       "    .dataframe tbody tr th {\n",
       "        vertical-align: top;\n",
       "    }\n",
       "\n",
       "    .dataframe thead th {\n",
       "        text-align: right;\n",
       "    }\n",
       "</style>\n",
       "<table border=\"1\" class=\"dataframe\">\n",
       "  <thead>\n",
       "    <tr style=\"text-align: right;\">\n",
       "      <th></th>\n",
       "      <th>High</th>\n",
       "      <th>Low</th>\n",
       "      <th>Open</th>\n",
       "      <th>Close</th>\n",
       "      <th>Volume</th>\n",
       "      <th>Adj Close</th>\n",
       "    </tr>\n",
       "    <tr>\n",
       "      <th>Date</th>\n",
       "      <th></th>\n",
       "      <th></th>\n",
       "      <th></th>\n",
       "      <th></th>\n",
       "      <th></th>\n",
       "      <th></th>\n",
       "    </tr>\n",
       "  </thead>\n",
       "  <tbody>\n",
       "    <tr>\n",
       "      <th>2017-12-31</th>\n",
       "      <td>87.500000</td>\n",
       "      <td>86.230003</td>\n",
       "      <td>87.120003</td>\n",
       "      <td>86.849998</td>\n",
       "      <td>71066700.0</td>\n",
       "      <td>82.192513</td>\n",
       "    </tr>\n",
       "    <tr>\n",
       "      <th>2018-12-31</th>\n",
       "      <td>116.180000</td>\n",
       "      <td>114.930000</td>\n",
       "      <td>115.419998</td>\n",
       "      <td>115.610001</td>\n",
       "      <td>111242100.0</td>\n",
       "      <td>110.825470</td>\n",
       "    </tr>\n",
       "    <tr>\n",
       "      <th>2019-12-31</th>\n",
       "      <td>159.550003</td>\n",
       "      <td>158.220001</td>\n",
       "      <td>159.449997</td>\n",
       "      <td>158.960007</td>\n",
       "      <td>55636400.0</td>\n",
       "      <td>155.302597</td>\n",
       "    </tr>\n",
       "    <tr>\n",
       "      <th>2020-12-31</th>\n",
       "      <td>232.860001</td>\n",
       "      <td>227.350006</td>\n",
       "      <td>229.270004</td>\n",
       "      <td>231.649994</td>\n",
       "      <td>97012700.0</td>\n",
       "      <td>228.120407</td>\n",
       "    </tr>\n",
       "    <tr>\n",
       "      <th>2021-12-31</th>\n",
       "      <td>349.670013</td>\n",
       "      <td>342.200012</td>\n",
       "      <td>344.619995</td>\n",
       "      <td>343.109985</td>\n",
       "      <td>69870600.0</td>\n",
       "      <td>341.606354</td>\n",
       "    </tr>\n",
       "    <tr>\n",
       "      <th>2022-12-31</th>\n",
       "      <td>338.000000</td>\n",
       "      <td>329.779999</td>\n",
       "      <td>335.350006</td>\n",
       "      <td>334.750000</td>\n",
       "      <td>90428900.0</td>\n",
       "      <td>333.282990</td>\n",
       "    </tr>\n",
       "  </tbody>\n",
       "</table>\n",
       "</div>"
      ],
      "text/plain": [
       "                  High         Low        Open       Close       Volume  \\\n",
       "Date                                                                      \n",
       "2017-12-31   87.500000   86.230003   87.120003   86.849998   71066700.0   \n",
       "2018-12-31  116.180000  114.930000  115.419998  115.610001  111242100.0   \n",
       "2019-12-31  159.550003  158.220001  159.449997  158.960007   55636400.0   \n",
       "2020-12-31  232.860001  227.350006  229.270004  231.649994   97012700.0   \n",
       "2021-12-31  349.670013  342.200012  344.619995  343.109985   69870600.0   \n",
       "2022-12-31  338.000000  329.779999  335.350006  334.750000   90428900.0   \n",
       "\n",
       "             Adj Close  \n",
       "Date                    \n",
       "2017-12-31   82.192513  \n",
       "2018-12-31  110.825470  \n",
       "2019-12-31  155.302597  \n",
       "2020-12-31  228.120407  \n",
       "2021-12-31  341.606354  \n",
       "2022-12-31  333.282990  "
      ]
     },
     "execution_count": 45,
     "metadata": {},
     "output_type": "execute_result"
    }
   ],
   "source": [
    "df_msft.resample(rule='A').max()"
   ]
  },
  {
   "cell_type": "code",
   "execution_count": 46,
   "id": "6d8f06e8",
   "metadata": {},
   "outputs": [
    {
     "data": {
      "text/plain": [
       "<AxesSubplot:xlabel='Date'>"
      ]
     },
     "execution_count": 46,
     "metadata": {},
     "output_type": "execute_result"
    },
    {
     "data": {
      "image/png": "[encoded data removed]",
      "text/plain": [
       "<Figure size 432x288 with 1 Axes>"
      ]
     },
     "metadata": {
      "needs_background": "light"
     },
     "output_type": "display_data"
    }
   ],
   "source": [
    "##year end frequency\n",
    "df_msft.resample(rule='A').max()['Open'].plot()"
   ]
  },
  {
   "cell_type": "code",
   "execution_count": 47,
   "id": "52eceae2",
   "metadata": {},
   "outputs": [
    {
     "data": {
      "text/plain": [
       "<AxesSubplot:xlabel='Date'>"
      ]
     },
     "execution_count": 47,
     "metadata": {},
     "output_type": "execute_result"
    },
    {
     "data": {
      "image/png": "[encoded data removed]",
      "text/plain": [
       "<Figure size 432x288 with 1 Axes>"
      ]
     },
     "metadata": {
      "needs_background": "light"
     },
     "output_type": "display_data"
    }
   ],
   "source": [
    "##quaterly start frequency\n",
    "##https://towardsdatascience.com/resample-function-of-pandas-79b17ec82a78\n",
    "df_msft.resample(rule='QS').max()['High'].plot()"
   ]
  },
  {
   "cell_type": "code",
   "execution_count": 48,
   "id": "384d6d83",
   "metadata": {},
   "outputs": [
    {
     "data": {
      "text/html": [
       "<div>\n",
       "<style scoped>\n",
       "    .dataframe tbody tr th:only-of-type {\n",
       "        vertical-align: middle;\n",
       "    }\n",
       "\n",
       "    .dataframe tbody tr th {\n",
       "        vertical-align: top;\n",
       "    }\n",
       "\n",
       "    .dataframe thead th {\n",
       "        text-align: right;\n",
       "    }\n",
       "</style>\n",
       "<table border=\"1\" class=\"dataframe\">\n",
       "  <thead>\n",
       "    <tr style=\"text-align: right;\">\n",
       "      <th></th>\n",
       "      <th>High</th>\n",
       "      <th>Low</th>\n",
       "      <th>Open</th>\n",
       "      <th>Close</th>\n",
       "      <th>Volume</th>\n",
       "      <th>Adj Close</th>\n",
       "    </tr>\n",
       "    <tr>\n",
       "      <th>Date</th>\n",
       "      <th></th>\n",
       "      <th></th>\n",
       "      <th></th>\n",
       "      <th></th>\n",
       "      <th></th>\n",
       "      <th></th>\n",
       "    </tr>\n",
       "  </thead>\n",
       "  <tbody>\n",
       "    <tr>\n",
       "      <th>2017-12-29</th>\n",
       "      <td>87.500000</td>\n",
       "      <td>86.230003</td>\n",
       "      <td>87.120003</td>\n",
       "      <td>86.849998</td>\n",
       "      <td>71066700.0</td>\n",
       "      <td>82.192513</td>\n",
       "    </tr>\n",
       "    <tr>\n",
       "      <th>2018-12-31</th>\n",
       "      <td>116.180000</td>\n",
       "      <td>114.930000</td>\n",
       "      <td>115.419998</td>\n",
       "      <td>115.610001</td>\n",
       "      <td>111242100.0</td>\n",
       "      <td>110.825470</td>\n",
       "    </tr>\n",
       "    <tr>\n",
       "      <th>2019-12-31</th>\n",
       "      <td>159.550003</td>\n",
       "      <td>158.220001</td>\n",
       "      <td>159.449997</td>\n",
       "      <td>158.960007</td>\n",
       "      <td>55636400.0</td>\n",
       "      <td>155.302597</td>\n",
       "    </tr>\n",
       "    <tr>\n",
       "      <th>2020-12-31</th>\n",
       "      <td>232.860001</td>\n",
       "      <td>227.350006</td>\n",
       "      <td>229.270004</td>\n",
       "      <td>231.649994</td>\n",
       "      <td>97012700.0</td>\n",
       "      <td>228.120407</td>\n",
       "    </tr>\n",
       "    <tr>\n",
       "      <th>2021-12-31</th>\n",
       "      <td>349.670013</td>\n",
       "      <td>342.200012</td>\n",
       "      <td>344.619995</td>\n",
       "      <td>343.109985</td>\n",
       "      <td>69870600.0</td>\n",
       "      <td>341.606354</td>\n",
       "    </tr>\n",
       "    <tr>\n",
       "      <th>2022-12-30</th>\n",
       "      <td>338.000000</td>\n",
       "      <td>329.779999</td>\n",
       "      <td>335.350006</td>\n",
       "      <td>334.750000</td>\n",
       "      <td>90428900.0</td>\n",
       "      <td>333.282990</td>\n",
       "    </tr>\n",
       "  </tbody>\n",
       "</table>\n",
       "</div>"
      ],
      "text/plain": [
       "                  High         Low        Open       Close       Volume  \\\n",
       "Date                                                                      \n",
       "2017-12-29   87.500000   86.230003   87.120003   86.849998   71066700.0   \n",
       "2018-12-31  116.180000  114.930000  115.419998  115.610001  111242100.0   \n",
       "2019-12-31  159.550003  158.220001  159.449997  158.960007   55636400.0   \n",
       "2020-12-31  232.860001  227.350006  229.270004  231.649994   97012700.0   \n",
       "2021-12-31  349.670013  342.200012  344.619995  343.109985   69870600.0   \n",
       "2022-12-30  338.000000  329.779999  335.350006  334.750000   90428900.0   \n",
       "\n",
       "             Adj Close  \n",
       "Date                    \n",
       "2017-12-29   82.192513  \n",
       "2018-12-31  110.825470  \n",
       "2019-12-31  155.302597  \n",
       "2020-12-31  228.120407  \n",
       "2021-12-31  341.606354  \n",
       "2022-12-30  333.282990  "
      ]
     },
     "execution_count": 48,
     "metadata": {},
     "output_type": "execute_result"
    }
   ],
   "source": [
    "##Business End Frequency\n",
    "##https://towardsdatascience.com/resample-function-of-pandas-79b17ec82a78\n",
    "df_msft.resample(rule='BA').max()"
   ]
  },
  {
   "cell_type": "code",
   "execution_count": 49,
   "id": "0820f1b7",
   "metadata": {},
   "outputs": [
    {
     "data": {
      "text/html": [
       "<div>\n",
       "<style scoped>\n",
       "    .dataframe tbody tr th:only-of-type {\n",
       "        vertical-align: middle;\n",
       "    }\n",
       "\n",
       "    .dataframe tbody tr th {\n",
       "        vertical-align: top;\n",
       "    }\n",
       "\n",
       "    .dataframe thead th {\n",
       "        text-align: right;\n",
       "    }\n",
       "</style>\n",
       "<table border=\"1\" class=\"dataframe\">\n",
       "  <thead>\n",
       "    <tr style=\"text-align: right;\">\n",
       "      <th></th>\n",
       "      <th>High</th>\n",
       "      <th>Low</th>\n",
       "      <th>Open</th>\n",
       "      <th>Close</th>\n",
       "      <th>Volume</th>\n",
       "      <th>Adj Close</th>\n",
       "    </tr>\n",
       "    <tr>\n",
       "      <th>Date</th>\n",
       "      <th></th>\n",
       "      <th></th>\n",
       "      <th></th>\n",
       "      <th></th>\n",
       "      <th></th>\n",
       "      <th></th>\n",
       "    </tr>\n",
       "  </thead>\n",
       "  <tbody>\n",
       "    <tr>\n",
       "      <th>2017-04-03</th>\n",
       "      <td>71.709999</td>\n",
       "      <td>70.440002</td>\n",
       "      <td>71.400002</td>\n",
       "      <td>71.209999</td>\n",
       "      <td>28918700.0</td>\n",
       "      <td>66.699104</td>\n",
       "    </tr>\n",
       "    <tr>\n",
       "      <th>2017-07-03</th>\n",
       "      <td>75.970001</td>\n",
       "      <td>75.040001</td>\n",
       "      <td>75.349998</td>\n",
       "      <td>75.440002</td>\n",
       "      <td>46717100.0</td>\n",
       "      <td>71.037651</td>\n",
       "    </tr>\n",
       "    <tr>\n",
       "      <th>2017-10-02</th>\n",
       "      <td>87.500000</td>\n",
       "      <td>86.230003</td>\n",
       "      <td>87.120003</td>\n",
       "      <td>86.849998</td>\n",
       "      <td>71066700.0</td>\n",
       "      <td>82.192513</td>\n",
       "    </tr>\n",
       "    <tr>\n",
       "      <th>2018-01-01</th>\n",
       "      <td>97.239998</td>\n",
       "      <td>96.040001</td>\n",
       "      <td>97.000000</td>\n",
       "      <td>96.769997</td>\n",
       "      <td>67998600.0</td>\n",
       "      <td>92.010742</td>\n",
       "    </tr>\n",
       "    <tr>\n",
       "      <th>2018-04-02</th>\n",
       "      <td>102.690002</td>\n",
       "      <td>101.900002</td>\n",
       "      <td>102.650002</td>\n",
       "      <td>102.489998</td>\n",
       "      <td>65738600.0</td>\n",
       "      <td>97.871803</td>\n",
       "    </tr>\n",
       "    <tr>\n",
       "      <th>2018-07-02</th>\n",
       "      <td>115.290001</td>\n",
       "      <td>114.199997</td>\n",
       "      <td>114.800003</td>\n",
       "      <td>114.669998</td>\n",
       "      <td>71229700.0</td>\n",
       "      <td>109.924362</td>\n",
       "    </tr>\n",
       "    <tr>\n",
       "      <th>2018-10-01</th>\n",
       "      <td>116.180000</td>\n",
       "      <td>114.930000</td>\n",
       "      <td>115.419998</td>\n",
       "      <td>115.610001</td>\n",
       "      <td>111242100.0</td>\n",
       "      <td>110.825470</td>\n",
       "    </tr>\n",
       "    <tr>\n",
       "      <th>2019-01-01</th>\n",
       "      <td>120.820000</td>\n",
       "      <td>117.089996</td>\n",
       "      <td>119.500000</td>\n",
       "      <td>120.220001</td>\n",
       "      <td>55636400.0</td>\n",
       "      <td>116.236855</td>\n",
       "    </tr>\n",
       "    <tr>\n",
       "      <th>2019-04-01</th>\n",
       "      <td>138.399994</td>\n",
       "      <td>137.000000</td>\n",
       "      <td>137.449997</td>\n",
       "      <td>137.779999</td>\n",
       "      <td>38033900.0</td>\n",
       "      <td>133.708160</td>\n",
       "    </tr>\n",
       "    <tr>\n",
       "      <th>2019-07-01</th>\n",
       "      <td>142.369995</td>\n",
       "      <td>140.300003</td>\n",
       "      <td>141.500000</td>\n",
       "      <td>141.339996</td>\n",
       "      <td>48992400.0</td>\n",
       "      <td>137.356812</td>\n",
       "    </tr>\n",
       "    <tr>\n",
       "      <th>2019-10-01</th>\n",
       "      <td>159.550003</td>\n",
       "      <td>158.220001</td>\n",
       "      <td>159.449997</td>\n",
       "      <td>158.960007</td>\n",
       "      <td>53477500.0</td>\n",
       "      <td>155.302597</td>\n",
       "    </tr>\n",
       "    <tr>\n",
       "      <th>2020-01-01</th>\n",
       "      <td>190.699997</td>\n",
       "      <td>186.470001</td>\n",
       "      <td>190.649994</td>\n",
       "      <td>188.699997</td>\n",
       "      <td>97012700.0</td>\n",
       "      <td>184.358307</td>\n",
       "    </tr>\n",
       "    <tr>\n",
       "      <th>2020-04-01</th>\n",
       "      <td>204.399994</td>\n",
       "      <td>201.429993</td>\n",
       "      <td>202.089996</td>\n",
       "      <td>203.509995</td>\n",
       "      <td>67111700.0</td>\n",
       "      <td>199.925903</td>\n",
       "    </tr>\n",
       "    <tr>\n",
       "      <th>2020-07-01</th>\n",
       "      <td>232.860001</td>\n",
       "      <td>227.350006</td>\n",
       "      <td>229.270004</td>\n",
       "      <td>231.649994</td>\n",
       "      <td>78983000.0</td>\n",
       "      <td>228.120407</td>\n",
       "    </tr>\n",
       "    <tr>\n",
       "      <th>2020-10-01</th>\n",
       "      <td>228.119995</td>\n",
       "      <td>223.580002</td>\n",
       "      <td>226.309998</td>\n",
       "      <td>224.960007</td>\n",
       "      <td>63354900.0</td>\n",
       "      <td>222.112350</td>\n",
       "    </tr>\n",
       "    <tr>\n",
       "      <th>2021-01-01</th>\n",
       "      <td>246.130005</td>\n",
       "      <td>242.919998</td>\n",
       "      <td>245.029999</td>\n",
       "      <td>244.990005</td>\n",
       "      <td>69870600.0</td>\n",
       "      <td>241.888794</td>\n",
       "    </tr>\n",
       "    <tr>\n",
       "      <th>2021-04-01</th>\n",
       "      <td>271.649994</td>\n",
       "      <td>269.600006</td>\n",
       "      <td>270.690002</td>\n",
       "      <td>271.399994</td>\n",
       "      <td>46903100.0</td>\n",
       "      <td>269.201782</td>\n",
       "    </tr>\n",
       "    <tr>\n",
       "      <th>2021-07-01</th>\n",
       "      <td>305.839996</td>\n",
       "      <td>302.000000</td>\n",
       "      <td>305.019989</td>\n",
       "      <td>305.220001</td>\n",
       "      <td>43186200.0</td>\n",
       "      <td>303.327484</td>\n",
       "    </tr>\n",
       "    <tr>\n",
       "      <th>2021-10-01</th>\n",
       "      <td>349.670013</td>\n",
       "      <td>342.200012</td>\n",
       "      <td>344.619995</td>\n",
       "      <td>343.109985</td>\n",
       "      <td>52588700.0</td>\n",
       "      <td>341.606354</td>\n",
       "    </tr>\n",
       "    <tr>\n",
       "      <th>2022-01-03</th>\n",
       "      <td>338.000000</td>\n",
       "      <td>329.779999</td>\n",
       "      <td>335.350006</td>\n",
       "      <td>334.750000</td>\n",
       "      <td>90428900.0</td>\n",
       "      <td>333.282990</td>\n",
       "    </tr>\n",
       "    <tr>\n",
       "      <th>2022-04-01</th>\n",
       "      <td>315.109985</td>\n",
       "      <td>309.869995</td>\n",
       "      <td>313.269989</td>\n",
       "      <td>314.970001</td>\n",
       "      <td>63477700.0</td>\n",
       "      <td>314.238098</td>\n",
       "    </tr>\n",
       "  </tbody>\n",
       "</table>\n",
       "</div>"
      ],
      "text/plain": [
       "                  High         Low        Open       Close       Volume  \\\n",
       "Date                                                                      \n",
       "2017-04-03   71.709999   70.440002   71.400002   71.209999   28918700.0   \n",
       "2017-07-03   75.970001   75.040001   75.349998   75.440002   46717100.0   \n",
       "2017-10-02   87.500000   86.230003   87.120003   86.849998   71066700.0   \n",
       "2018-01-01   97.239998   96.040001   97.000000   96.769997   67998600.0   \n",
       "2018-04-02  102.690002  101.900002  102.650002  102.489998   65738600.0   \n",
       "2018-07-02  115.290001  114.199997  114.800003  114.669998   71229700.0   \n",
       "2018-10-01  116.180000  114.930000  115.419998  115.610001  111242100.0   \n",
       "2019-01-01  120.820000  117.089996  119.500000  120.220001   55636400.0   \n",
       "2019-04-01  138.399994  137.000000  137.449997  137.779999   38033900.0   \n",
       "2019-07-01  142.369995  140.300003  141.500000  141.339996   48992400.0   \n",
       "2019-10-01  159.550003  158.220001  159.449997  158.960007   53477500.0   \n",
       "2020-01-01  190.699997  186.470001  190.649994  188.699997   97012700.0   \n",
       "2020-04-01  204.399994  201.429993  202.089996  203.509995   67111700.0   \n",
       "2020-07-01  232.860001  227.350006  229.270004  231.649994   78983000.0   \n",
       "2020-10-01  228.119995  223.580002  226.309998  224.960007   63354900.0   \n",
       "2021-01-01  246.130005  242.919998  245.029999  244.990005   69870600.0   \n",
       "2021-04-01  271.649994  269.600006  270.690002  271.399994   46903100.0   \n",
       "2021-07-01  305.839996  302.000000  305.019989  305.220001   43186200.0   \n",
       "2021-10-01  349.670013  342.200012  344.619995  343.109985   52588700.0   \n",
       "2022-01-03  338.000000  329.779999  335.350006  334.750000   90428900.0   \n",
       "2022-04-01  315.109985  309.869995  313.269989  314.970001   63477700.0   \n",
       "\n",
       "             Adj Close  \n",
       "Date                    \n",
       "2017-04-03   66.699104  \n",
       "2017-07-03   71.037651  \n",
       "2017-10-02   82.192513  \n",
       "2018-01-01   92.010742  \n",
       "2018-04-02   97.871803  \n",
       "2018-07-02  109.924362  \n",
       "2018-10-01  110.825470  \n",
       "2019-01-01  116.236855  \n",
       "2019-04-01  133.708160  \n",
       "2019-07-01  137.356812  \n",
       "2019-10-01  155.302597  \n",
       "2020-01-01  184.358307  \n",
       "2020-04-01  199.925903  \n",
       "2020-07-01  228.120407  \n",
       "2020-10-01  222.112350  \n",
       "2021-01-01  241.888794  \n",
       "2021-04-01  269.201782  \n",
       "2021-07-01  303.327484  \n",
       "2021-10-01  341.606354  \n",
       "2022-01-03  333.282990  \n",
       "2022-04-01  314.238098  "
      ]
     },
     "execution_count": 49,
     "metadata": {},
     "output_type": "execute_result"
    }
   ],
   "source": [
    "df_msft.resample(rule='BQS').max()"
   ]
  },
  {
   "cell_type": "code",
   "execution_count": 50,
   "id": "8b259548",
   "metadata": {},
   "outputs": [
    {
     "data": {
      "text/plain": [
       "<AxesSubplot:xlabel='Date'>"
      ]
     },
     "execution_count": 50,
     "metadata": {},
     "output_type": "execute_result"
    },
    {
     "data": {
      "image/png": "[encoded data removed]",
      "text/plain": [
       "<Figure size 432x288 with 1 Axes>"
      ]
     },
     "metadata": {
      "needs_background": "light"
     },
     "output_type": "display_data"
    }
   ],
   "source": [
    "##plotting\n",
    "df_msft['Open'].resample(rule='A').mean().plot(kind='bar')"
   ]
  },
  {
   "cell_type": "code",
   "execution_count": 51,
   "id": "843faaac",
   "metadata": {},
   "outputs": [
    {
     "data": {
      "text/plain": [
       "<AxesSubplot:xlabel='Date'>"
      ]
     },
     "execution_count": 51,
     "metadata": {},
     "output_type": "execute_result"
    },
    {
     "data": {
      "image/png": "[encoded data removed]",
      "text/plain": [
       "<Figure size 1080x432 with 1 Axes>"
      ]
     },
     "metadata": {
      "needs_background": "light"
     },
     "output_type": "display_data"
    }
   ],
   "source": [
    "df_msft['Open'].resample(rule='M').max().plot(kind='bar',figsize=(15,6))"
   ]
  },
  {
   "cell_type": "code",
   "execution_count": 52,
   "id": "ba11eeb4",
   "metadata": {},
   "outputs": [
    {
     "data": {
      "text/plain": [
       "Date\n",
       "2017-06-22          NaN\n",
       "2017-06-23          NaN\n",
       "2017-06-26          NaN\n",
       "2017-06-27          NaN\n",
       "2017-06-28          NaN\n",
       "2017-06-29          NaN\n",
       "2017-06-30          NaN\n",
       "2017-07-03          NaN\n",
       "2017-07-05          NaN\n",
       "2017-07-06          NaN\n",
       "2017-07-07    71.709999\n",
       "2017-07-10    71.709999\n",
       "2017-07-11    71.709999\n",
       "2017-07-12    71.279999\n",
       "2017-07-13    72.040001\n",
       "2017-07-14    73.269997\n",
       "2017-07-17    73.449997\n",
       "2017-07-18    73.449997\n",
       "2017-07-19    74.040001\n",
       "2017-07-20    74.300003\n",
       "Name: High, dtype: float64"
      ]
     },
     "execution_count": 52,
     "metadata": {},
     "output_type": "execute_result"
    }
   ],
   "source": [
    "df_msft['High'].rolling(11).max().head(20)"
   ]
  },
  {
   "cell_type": "code",
   "execution_count": 53,
   "id": "1507d710",
   "metadata": {},
   "outputs": [
    {
     "data": {
      "text/html": [
       "<div>\n",
       "<style scoped>\n",
       "    .dataframe tbody tr th:only-of-type {\n",
       "        vertical-align: middle;\n",
       "    }\n",
       "\n",
       "    .dataframe tbody tr th {\n",
       "        vertical-align: top;\n",
       "    }\n",
       "\n",
       "    .dataframe thead th {\n",
       "        text-align: right;\n",
       "    }\n",
       "</style>\n",
       "<table border=\"1\" class=\"dataframe\">\n",
       "  <thead>\n",
       "    <tr style=\"text-align: right;\">\n",
       "      <th></th>\n",
       "      <th>High</th>\n",
       "      <th>Low</th>\n",
       "      <th>Open</th>\n",
       "      <th>Close</th>\n",
       "      <th>Volume</th>\n",
       "      <th>Adj Close</th>\n",
       "    </tr>\n",
       "    <tr>\n",
       "      <th>Date</th>\n",
       "      <th></th>\n",
       "      <th></th>\n",
       "      <th></th>\n",
       "      <th></th>\n",
       "      <th></th>\n",
       "      <th></th>\n",
       "    </tr>\n",
       "  </thead>\n",
       "  <tbody>\n",
       "    <tr>\n",
       "      <th>2017-06-22</th>\n",
       "      <td>70.589996</td>\n",
       "      <td>69.709999</td>\n",
       "      <td>70.540001</td>\n",
       "      <td>70.260002</td>\n",
       "      <td>22965700.0</td>\n",
       "      <td>65.809296</td>\n",
       "    </tr>\n",
       "    <tr>\n",
       "      <th>2017-06-23</th>\n",
       "      <td>71.250000</td>\n",
       "      <td>69.919998</td>\n",
       "      <td>70.089996</td>\n",
       "      <td>71.209999</td>\n",
       "      <td>27617300.0</td>\n",
       "      <td>66.699104</td>\n",
       "    </tr>\n",
       "    <tr>\n",
       "      <th>2017-06-26</th>\n",
       "      <td>71.709999</td>\n",
       "      <td>70.440002</td>\n",
       "      <td>71.400002</td>\n",
       "      <td>70.529999</td>\n",
       "      <td>19607000.0</td>\n",
       "      <td>66.062210</td>\n",
       "    </tr>\n",
       "    <tr>\n",
       "      <th>2017-06-27</th>\n",
       "      <td>70.180000</td>\n",
       "      <td>69.180000</td>\n",
       "      <td>70.110001</td>\n",
       "      <td>69.209999</td>\n",
       "      <td>25215100.0</td>\n",
       "      <td>64.825829</td>\n",
       "    </tr>\n",
       "    <tr>\n",
       "      <th>2017-06-28</th>\n",
       "      <td>69.839996</td>\n",
       "      <td>68.790001</td>\n",
       "      <td>69.209999</td>\n",
       "      <td>69.800003</td>\n",
       "      <td>25806200.0</td>\n",
       "      <td>65.378426</td>\n",
       "    </tr>\n",
       "  </tbody>\n",
       "</table>\n",
       "</div>"
      ],
      "text/plain": [
       "                 High        Low       Open      Close      Volume  Adj Close\n",
       "Date                                                                         \n",
       "2017-06-22  70.589996  69.709999  70.540001  70.260002  22965700.0  65.809296\n",
       "2017-06-23  71.250000  69.919998  70.089996  71.209999  27617300.0  66.699104\n",
       "2017-06-26  71.709999  70.440002  71.400002  70.529999  19607000.0  66.062210\n",
       "2017-06-27  70.180000  69.180000  70.110001  69.209999  25215100.0  64.825829\n",
       "2017-06-28  69.839996  68.790001  69.209999  69.800003  25806200.0  65.378426"
      ]
     },
     "execution_count": 53,
     "metadata": {},
     "output_type": "execute_result"
    }
   ],
   "source": [
    "df_msft.head()"
   ]
  },
  {
   "cell_type": "code",
   "execution_count": 54,
   "id": "f51c43cc",
   "metadata": {},
   "outputs": [],
   "source": [
    "df_msft['Open:30 days rolling'] = df_msft['Open'].rolling(30).mean()"
   ]
  },
  {
   "cell_type": "code",
   "execution_count": 55,
   "id": "b8275481",
   "metadata": {},
   "outputs": [
    {
     "data": {
      "text/html": [
       "<div>\n",
       "<style scoped>\n",
       "    .dataframe tbody tr th:only-of-type {\n",
       "        vertical-align: middle;\n",
       "    }\n",
       "\n",
       "    .dataframe tbody tr th {\n",
       "        vertical-align: top;\n",
       "    }\n",
       "\n",
       "    .dataframe thead th {\n",
       "        text-align: right;\n",
       "    }\n",
       "</style>\n",
       "<table border=\"1\" class=\"dataframe\">\n",
       "  <thead>\n",
       "    <tr style=\"text-align: right;\">\n",
       "      <th></th>\n",
       "      <th>High</th>\n",
       "      <th>Low</th>\n",
       "      <th>Open</th>\n",
       "      <th>Close</th>\n",
       "      <th>Volume</th>\n",
       "      <th>Adj Close</th>\n",
       "      <th>Open:30 days rolling</th>\n",
       "    </tr>\n",
       "    <tr>\n",
       "      <th>Date</th>\n",
       "      <th></th>\n",
       "      <th></th>\n",
       "      <th></th>\n",
       "      <th></th>\n",
       "      <th></th>\n",
       "      <th></th>\n",
       "      <th></th>\n",
       "    </tr>\n",
       "  </thead>\n",
       "  <tbody>\n",
       "    <tr>\n",
       "      <th>2017-06-22</th>\n",
       "      <td>70.589996</td>\n",
       "      <td>69.709999</td>\n",
       "      <td>70.540001</td>\n",
       "      <td>70.260002</td>\n",
       "      <td>22965700.0</td>\n",
       "      <td>65.809296</td>\n",
       "      <td>NaN</td>\n",
       "    </tr>\n",
       "    <tr>\n",
       "      <th>2017-06-23</th>\n",
       "      <td>71.250000</td>\n",
       "      <td>69.919998</td>\n",
       "      <td>70.089996</td>\n",
       "      <td>71.209999</td>\n",
       "      <td>27617300.0</td>\n",
       "      <td>66.699104</td>\n",
       "      <td>NaN</td>\n",
       "    </tr>\n",
       "    <tr>\n",
       "      <th>2017-06-26</th>\n",
       "      <td>71.709999</td>\n",
       "      <td>70.440002</td>\n",
       "      <td>71.400002</td>\n",
       "      <td>70.529999</td>\n",
       "      <td>19607000.0</td>\n",
       "      <td>66.062210</td>\n",
       "      <td>NaN</td>\n",
       "    </tr>\n",
       "    <tr>\n",
       "      <th>2017-06-27</th>\n",
       "      <td>70.180000</td>\n",
       "      <td>69.180000</td>\n",
       "      <td>70.110001</td>\n",
       "      <td>69.209999</td>\n",
       "      <td>25215100.0</td>\n",
       "      <td>64.825829</td>\n",
       "      <td>NaN</td>\n",
       "    </tr>\n",
       "    <tr>\n",
       "      <th>2017-06-28</th>\n",
       "      <td>69.839996</td>\n",
       "      <td>68.790001</td>\n",
       "      <td>69.209999</td>\n",
       "      <td>69.800003</td>\n",
       "      <td>25806200.0</td>\n",
       "      <td>65.378426</td>\n",
       "      <td>NaN</td>\n",
       "    </tr>\n",
       "    <tr>\n",
       "      <th>2017-06-29</th>\n",
       "      <td>69.489998</td>\n",
       "      <td>68.089996</td>\n",
       "      <td>69.379997</td>\n",
       "      <td>68.489998</td>\n",
       "      <td>28918700.0</td>\n",
       "      <td>64.151421</td>\n",
       "      <td>NaN</td>\n",
       "    </tr>\n",
       "    <tr>\n",
       "      <th>2017-06-30</th>\n",
       "      <td>69.379997</td>\n",
       "      <td>68.739998</td>\n",
       "      <td>68.779999</td>\n",
       "      <td>68.930000</td>\n",
       "      <td>24161100.0</td>\n",
       "      <td>64.563545</td>\n",
       "      <td>NaN</td>\n",
       "    </tr>\n",
       "    <tr>\n",
       "      <th>2017-07-03</th>\n",
       "      <td>69.599998</td>\n",
       "      <td>68.019997</td>\n",
       "      <td>69.330002</td>\n",
       "      <td>68.169998</td>\n",
       "      <td>16165500.0</td>\n",
       "      <td>63.851685</td>\n",
       "      <td>NaN</td>\n",
       "    </tr>\n",
       "    <tr>\n",
       "      <th>2017-07-05</th>\n",
       "      <td>69.440002</td>\n",
       "      <td>68.220001</td>\n",
       "      <td>68.260002</td>\n",
       "      <td>69.080002</td>\n",
       "      <td>21176300.0</td>\n",
       "      <td>64.704063</td>\n",
       "      <td>NaN</td>\n",
       "    </tr>\n",
       "    <tr>\n",
       "      <th>2017-07-06</th>\n",
       "      <td>68.779999</td>\n",
       "      <td>68.120003</td>\n",
       "      <td>68.269997</td>\n",
       "      <td>68.570000</td>\n",
       "      <td>21117600.0</td>\n",
       "      <td>64.226349</td>\n",
       "      <td>NaN</td>\n",
       "    </tr>\n",
       "    <tr>\n",
       "      <th>2017-07-07</th>\n",
       "      <td>69.839996</td>\n",
       "      <td>68.699997</td>\n",
       "      <td>68.699997</td>\n",
       "      <td>69.459999</td>\n",
       "      <td>16878300.0</td>\n",
       "      <td>65.059990</td>\n",
       "      <td>NaN</td>\n",
       "    </tr>\n",
       "    <tr>\n",
       "      <th>2017-07-10</th>\n",
       "      <td>70.250000</td>\n",
       "      <td>69.199997</td>\n",
       "      <td>69.459999</td>\n",
       "      <td>69.980003</td>\n",
       "      <td>15014500.0</td>\n",
       "      <td>65.547028</td>\n",
       "      <td>NaN</td>\n",
       "    </tr>\n",
       "    <tr>\n",
       "      <th>2017-07-11</th>\n",
       "      <td>70.680000</td>\n",
       "      <td>69.750000</td>\n",
       "      <td>70.000000</td>\n",
       "      <td>69.989998</td>\n",
       "      <td>17460000.0</td>\n",
       "      <td>65.556404</td>\n",
       "      <td>NaN</td>\n",
       "    </tr>\n",
       "    <tr>\n",
       "      <th>2017-07-12</th>\n",
       "      <td>71.279999</td>\n",
       "      <td>70.550003</td>\n",
       "      <td>70.690002</td>\n",
       "      <td>71.150002</td>\n",
       "      <td>17750900.0</td>\n",
       "      <td>66.642944</td>\n",
       "      <td>NaN</td>\n",
       "    </tr>\n",
       "    <tr>\n",
       "      <th>2017-07-13</th>\n",
       "      <td>72.040001</td>\n",
       "      <td>71.309998</td>\n",
       "      <td>71.500000</td>\n",
       "      <td>71.769997</td>\n",
       "      <td>20269800.0</td>\n",
       "      <td>67.223648</td>\n",
       "      <td>NaN</td>\n",
       "    </tr>\n",
       "    <tr>\n",
       "      <th>2017-07-14</th>\n",
       "      <td>73.269997</td>\n",
       "      <td>71.959999</td>\n",
       "      <td>72.239998</td>\n",
       "      <td>72.779999</td>\n",
       "      <td>25868100.0</td>\n",
       "      <td>68.169678</td>\n",
       "      <td>NaN</td>\n",
       "    </tr>\n",
       "    <tr>\n",
       "      <th>2017-07-17</th>\n",
       "      <td>73.449997</td>\n",
       "      <td>72.720001</td>\n",
       "      <td>72.800003</td>\n",
       "      <td>73.349998</td>\n",
       "      <td>21803900.0</td>\n",
       "      <td>68.703552</td>\n",
       "      <td>NaN</td>\n",
       "    </tr>\n",
       "    <tr>\n",
       "      <th>2017-07-18</th>\n",
       "      <td>73.389999</td>\n",
       "      <td>72.660004</td>\n",
       "      <td>73.089996</td>\n",
       "      <td>73.300003</td>\n",
       "      <td>26435300.0</td>\n",
       "      <td>68.656731</td>\n",
       "      <td>NaN</td>\n",
       "    </tr>\n",
       "    <tr>\n",
       "      <th>2017-07-19</th>\n",
       "      <td>74.040001</td>\n",
       "      <td>73.449997</td>\n",
       "      <td>73.500000</td>\n",
       "      <td>73.860001</td>\n",
       "      <td>22416200.0</td>\n",
       "      <td>69.181244</td>\n",
       "      <td>NaN</td>\n",
       "    </tr>\n",
       "    <tr>\n",
       "      <th>2017-07-20</th>\n",
       "      <td>74.300003</td>\n",
       "      <td>73.279999</td>\n",
       "      <td>74.180000</td>\n",
       "      <td>74.220001</td>\n",
       "      <td>42361000.0</td>\n",
       "      <td>69.518448</td>\n",
       "      <td>NaN</td>\n",
       "    </tr>\n",
       "    <tr>\n",
       "      <th>2017-07-21</th>\n",
       "      <td>74.290001</td>\n",
       "      <td>73.169998</td>\n",
       "      <td>73.449997</td>\n",
       "      <td>73.790001</td>\n",
       "      <td>46717100.0</td>\n",
       "      <td>69.115692</td>\n",
       "      <td>NaN</td>\n",
       "    </tr>\n",
       "    <tr>\n",
       "      <th>2017-07-24</th>\n",
       "      <td>73.750000</td>\n",
       "      <td>73.129997</td>\n",
       "      <td>73.529999</td>\n",
       "      <td>73.599998</td>\n",
       "      <td>21394800.0</td>\n",
       "      <td>68.937729</td>\n",
       "      <td>NaN</td>\n",
       "    </tr>\n",
       "    <tr>\n",
       "      <th>2017-07-25</th>\n",
       "      <td>74.309998</td>\n",
       "      <td>73.500000</td>\n",
       "      <td>73.800003</td>\n",
       "      <td>74.190002</td>\n",
       "      <td>22018700.0</td>\n",
       "      <td>69.490349</td>\n",
       "      <td>NaN</td>\n",
       "    </tr>\n",
       "    <tr>\n",
       "      <th>2017-07-26</th>\n",
       "      <td>74.379997</td>\n",
       "      <td>73.809998</td>\n",
       "      <td>74.339996</td>\n",
       "      <td>74.050003</td>\n",
       "      <td>16252200.0</td>\n",
       "      <td>69.359215</td>\n",
       "      <td>NaN</td>\n",
       "    </tr>\n",
       "    <tr>\n",
       "      <th>2017-07-27</th>\n",
       "      <td>74.419998</td>\n",
       "      <td>72.320000</td>\n",
       "      <td>73.760002</td>\n",
       "      <td>73.160004</td>\n",
       "      <td>36844200.0</td>\n",
       "      <td>68.525604</td>\n",
       "      <td>NaN</td>\n",
       "    </tr>\n",
       "    <tr>\n",
       "      <th>2017-07-28</th>\n",
       "      <td>73.309998</td>\n",
       "      <td>72.540001</td>\n",
       "      <td>72.669998</td>\n",
       "      <td>73.040001</td>\n",
       "      <td>18306700.0</td>\n",
       "      <td>68.413200</td>\n",
       "      <td>NaN</td>\n",
       "    </tr>\n",
       "    <tr>\n",
       "      <th>2017-07-31</th>\n",
       "      <td>73.440002</td>\n",
       "      <td>72.410004</td>\n",
       "      <td>73.300003</td>\n",
       "      <td>72.699997</td>\n",
       "      <td>23600100.0</td>\n",
       "      <td>68.094734</td>\n",
       "      <td>NaN</td>\n",
       "    </tr>\n",
       "    <tr>\n",
       "      <th>2017-08-01</th>\n",
       "      <td>73.419998</td>\n",
       "      <td>72.489998</td>\n",
       "      <td>73.099998</td>\n",
       "      <td>72.580002</td>\n",
       "      <td>22132300.0</td>\n",
       "      <td>67.982353</td>\n",
       "      <td>NaN</td>\n",
       "    </tr>\n",
       "    <tr>\n",
       "      <th>2017-08-02</th>\n",
       "      <td>72.559998</td>\n",
       "      <td>71.440002</td>\n",
       "      <td>72.550003</td>\n",
       "      <td>72.260002</td>\n",
       "      <td>26499200.0</td>\n",
       "      <td>67.682602</td>\n",
       "      <td>NaN</td>\n",
       "    </tr>\n",
       "    <tr>\n",
       "      <th>2017-08-03</th>\n",
       "      <td>72.440002</td>\n",
       "      <td>71.849998</td>\n",
       "      <td>72.190002</td>\n",
       "      <td>72.150002</td>\n",
       "      <td>18214400.0</td>\n",
       "      <td>67.579567</td>\n",
       "      <td>71.474</td>\n",
       "    </tr>\n",
       "    <tr>\n",
       "      <th>2017-08-04</th>\n",
       "      <td>73.040001</td>\n",
       "      <td>72.239998</td>\n",
       "      <td>72.400002</td>\n",
       "      <td>72.680000</td>\n",
       "      <td>22579000.0</td>\n",
       "      <td>68.075989</td>\n",
       "      <td>71.536</td>\n",
       "    </tr>\n",
       "  </tbody>\n",
       "</table>\n",
       "</div>"
      ],
      "text/plain": [
       "                 High        Low       Open      Close      Volume  Adj Close  \\\n",
       "Date                                                                            \n",
       "2017-06-22  70.589996  69.709999  70.540001  70.260002  22965700.0  65.809296   \n",
       "2017-06-23  71.250000  69.919998  70.089996  71.209999  27617300.0  66.699104   \n",
       "2017-06-26  71.709999  70.440002  71.400002  70.529999  19607000.0  66.062210   \n",
       "2017-06-27  70.180000  69.180000  70.110001  69.209999  25215100.0  64.825829   \n",
       "2017-06-28  69.839996  68.790001  69.209999  69.800003  25806200.0  65.378426   \n",
       "2017-06-29  69.489998  68.089996  69.379997  68.489998  28918700.0  64.151421   \n",
       "2017-06-30  69.379997  68.739998  68.779999  68.930000  24161100.0  64.563545   \n",
       "2017-07-03  69.599998  68.019997  69.330002  68.169998  16165500.0  63.851685   \n",
       "2017-07-05  69.440002  68.220001  68.260002  69.080002  21176300.0  64.704063   \n",
       "2017-07-06  68.779999  68.120003  68.269997  68.570000  21117600.0  64.226349   \n",
       "2017-07-07  69.839996  68.699997  68.699997  69.459999  16878300.0  65.059990   \n",
       "2017-07-10  70.250000  69.199997  69.459999  69.980003  15014500.0  65.547028   \n",
       "2017-07-11  70.680000  69.750000  70.000000  69.989998  17460000.0  65.556404   \n",
       "2017-07-12  71.279999  70.550003  70.690002  71.150002  17750900.0  66.642944   \n",
       "2017-07-13  72.040001  71.309998  71.500000  71.769997  20269800.0  67.223648   \n",
       "2017-07-14  73.269997  71.959999  72.239998  72.779999  25868100.0  68.169678   \n",
       "2017-07-17  73.449997  72.720001  72.800003  73.349998  21803900.0  68.703552   \n",
       "2017-07-18  73.389999  72.660004  73.089996  73.300003  26435300.0  68.656731   \n",
       "2017-07-19  74.040001  73.449997  73.500000  73.860001  22416200.0  69.181244   \n",
       "2017-07-20  74.300003  73.279999  74.180000  74.220001  42361000.0  69.518448   \n",
       "2017-07-21  74.290001  73.169998  73.449997  73.790001  46717100.0  69.115692   \n",
       "2017-07-24  73.750000  73.129997  73.529999  73.599998  21394800.0  68.937729   \n",
       "2017-07-25  74.309998  73.500000  73.800003  74.190002  22018700.0  69.490349   \n",
       "2017-07-26  74.379997  73.809998  74.339996  74.050003  16252200.0  69.359215   \n",
       "2017-07-27  74.419998  72.320000  73.760002  73.160004  36844200.0  68.525604   \n",
       "2017-07-28  73.309998  72.540001  72.669998  73.040001  18306700.0  68.413200   \n",
       "2017-07-31  73.440002  72.410004  73.300003  72.699997  23600100.0  68.094734   \n",
       "2017-08-01  73.419998  72.489998  73.099998  72.580002  22132300.0  67.982353   \n",
       "2017-08-02  72.559998  71.440002  72.550003  72.260002  26499200.0  67.682602   \n",
       "2017-08-03  72.440002  71.849998  72.190002  72.150002  18214400.0  67.579567   \n",
       "2017-08-04  73.040001  72.239998  72.400002  72.680000  22579000.0  68.075989   \n",
       "\n",
       "            Open:30 days rolling  \n",
       "Date                              \n",
       "2017-06-22                   NaN  \n",
       "2017-06-23                   NaN  \n",
       "2017-06-26                   NaN  \n",
       "2017-06-27                   NaN  \n",
       "2017-06-28                   NaN  \n",
       "2017-06-29                   NaN  \n",
       "2017-06-30                   NaN  \n",
       "2017-07-03                   NaN  \n",
       "2017-07-05                   NaN  \n",
       "2017-07-06                   NaN  \n",
       "2017-07-07                   NaN  \n",
       "2017-07-10                   NaN  \n",
       "2017-07-11                   NaN  \n",
       "2017-07-12                   NaN  \n",
       "2017-07-13                   NaN  \n",
       "2017-07-14                   NaN  \n",
       "2017-07-17                   NaN  \n",
       "2017-07-18                   NaN  \n",
       "2017-07-19                   NaN  \n",
       "2017-07-20                   NaN  \n",
       "2017-07-21                   NaN  \n",
       "2017-07-24                   NaN  \n",
       "2017-07-25                   NaN  \n",
       "2017-07-26                   NaN  \n",
       "2017-07-27                   NaN  \n",
       "2017-07-28                   NaN  \n",
       "2017-07-31                   NaN  \n",
       "2017-08-01                   NaN  \n",
       "2017-08-02                   NaN  \n",
       "2017-08-03                71.474  \n",
       "2017-08-04                71.536  "
      ]
     },
     "execution_count": 55,
     "metadata": {},
     "output_type": "execute_result"
    }
   ],
   "source": [
    "df_msft.head(31)"
   ]
  },
  {
   "cell_type": "code",
   "execution_count": 56,
   "id": "ee4f2520",
   "metadata": {},
   "outputs": [
    {
     "data": {
      "text/plain": [
       "<AxesSubplot:xlabel='Date'>"
      ]
     },
     "execution_count": 56,
     "metadata": {},
     "output_type": "execute_result"
    },
    {
     "data": {
      "image/png": "[encoded data removed]",
      "text/plain": [
       "<Figure size 864x360 with 1 Axes>"
      ]
     },
     "metadata": {
      "needs_background": "light"
     },
     "output_type": "display_data"
    }
   ],
   "source": [
    "df_msft[['Open','Open:30 days rolling']].plot(figsize=(12,5))"
   ]
  }
 ],
 "metadata": {
  "kernelspec": {
   "display_name": "Python 3 (ipykernel)",
   "language": "python",
   "name": "python3"
  },
  "language_info": {
   "codemirror_mode": {
    "name": "ipython",
    "version": 3
   },
   "file_extension": ".py",
   "mimetype": "text/x-python",
   "name": "python",
   "nbconvert_exporter": "python",
   "pygments_lexer": "ipython3",
   "version": "3.10.0"
  }
 },
 "nbformat": 4,
 "nbformat_minor": 5
}
